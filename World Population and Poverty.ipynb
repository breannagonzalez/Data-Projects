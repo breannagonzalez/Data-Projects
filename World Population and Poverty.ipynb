{
 "cells": [
  {
   "cell_type": "code",
   "execution_count": 67,
   "id": "59210638",
   "metadata": {
    "deletable": false,
    "editable": false
   },
   "outputs": [],
   "source": [
    "# Initialize Otter\n",
    "import otter\n",
    "grader = otter.Notebook(\"project1.ipynb\")"
   ]
  },
  {
   "cell_type": "markdown",
   "id": "1a4e0a54",
   "metadata": {},
   "source": [
    "# Project 1: World Population and Poverty"
   ]
  },
  {
   "cell_type": "markdown",
   "id": "753f1b0f",
   "metadata": {},
   "source": [
    "\n",
    "In this project, you'll explore data from [Gapminder.org](http://gapminder.org), a website dedicated to providing a fact-based view of the world and how it has changed. That site includes several data visualizations and presentations, but also publishes the raw data that we will use in this project to recreate and extend some of their most famous visualizations.\n",
    "\n",
    "The Gapminder website collects data from many sources and compiles them into tables that describe many countries around the world. All of the data they aggregate are published in the [Systema Globalis](https://github.com/open-numbers/ddf--gapminder--systema_globalis/blob/master/README.md). Their goal is \"to compile all public statistics; Social, Economic and Environmental; into a comparable total dataset.\" All data sets in this project are copied directly from the Systema Globalis without any changes.\n",
    "\n",
    "This project is dedicated to [Hans Rosling](https://en.wikipedia.org/wiki/Hans_Rosling) (1948-2017), who championed the use of data to understand and prioritize global development challenges."
   ]
  },
  {
   "cell_type": "markdown",
   "id": "3b3eef78",
   "metadata": {},
   "source": [
    "### Logistics\n",
    "\n",
    "**Deadline.**  This project is due at **11:00pm PT on Friday 9/29**. Projects will be accepted up to 2 days (48 hours) late. Projects submitted fewer than 24 hours after the deadline will receive 2/3 credit, and projects submitted between 24 and 48 hours after the deadline will receive 1/3 credit. Projects submitted 48 hours or more after the deadline will receive no credit. It's **much** better to be early than late, so start working now.\n",
    "\n",
    "**Checkpoint.**  For full credit on the checkpoint, you must complete the questions up to the checkpoint, **pass all _public_ autograder tests** for those sections, and submit to the Gradescope Project 1 Checkpoint assignment by **11:00pm PT on Friday, 9/22**. <span style=\"color: #BC412B\">**The checkpoint is worth 5% of your entire project grade**</span>. After you've submitted the checkpoint, you may still change your project answers before the final project deadline - only your final submission, to the \"Project 1\" assignment, will be graded for correctness. You will have some lab time to work on these questions, but we recommend that you start the project before lab and leave time to finish the checkpoint afterward.\n",
    "\n",
    "**Partners.** You may work with one other partner; your partner must be from your assigned lab section. **<span style=\"color: #BC412B\">Only one partner should submit the project notebook to Gradescope.</span> If both partners submit, you will be docked 10% of your project grade. On Gradescope, the person who submits should also designate their partner so that both of you receive credit.** Once you submit, click into your submission, and there will be an option to Add Group Member in the top right corner. You may also reference [this walkthrough video](https://drive.google.com/file/d/1POtij6KECSBjCUeOC_F0Lt3ZmKN7LKIq/view?usp=sharing) on how to add partners on Gradescope.\n",
    "\n",
    "\n",
    "**Rules.** Don't share your code with anybody but your partner. You are welcome to discuss questions with other students, but don't share the answers. The experience of solving the problems in this project will prepare you for exams (and life). If someone asks you for the answer, resist! Instead, you can demonstrate how you would solve a similar problem.\n",
    "\n",
    "**Support.** You are not alone! Come to office hours, post on Ed, and talk to your classmates. If you want to ask about the details of your solution to a problem, make a private Ed post and the staff will respond. If you're ever feeling overwhelmed or don't know how to make progress, email your TA or tutor for help. You can find contact information for the staff on the [course website](https://www.data8.org/fa23/).\n",
    "\n",
    "**Tests.** <span style=\"color: #BC412B\">The tests that are given are **not comprehensive** and passing the tests for a question **does not** mean that you answered the question correctly.</span> Tests usually only check that your table has the correct column labels. However, more tests will be applied to verify the correctness of your submission in order to assign your final score, so be careful and check your work! You might want to create your own checks along the way to see if your answers make sense. Additionally, before you submit, make sure that none of your cells take a very long time to run (several minutes).\n",
    "\n",
    "**Free Response Questions:** Make sure that you put the answers to the written questions in the indicated cell we provide. **Every free response question should include an explanation** that adequately answers the question.\n",
    "\n",
    "**Tabular Thinking Guide:** Feel free to reference [Tabular Thinking Guide](https://drive.google.com/file/d/1NvbBECCBdI0Ku380oPcTUOcpjH3RI230/view) for extra guidance.\n",
    "\n",
    "**Advice.** Develop your answers incrementally. To perform a complicated table manipulation, break it up into steps, perform each step on a different line, give a new name to each result, and check that each intermediate result is what you expect. You can add any additional names or functions you want to the provided cells. Make sure that you are using distinct and meaningful variable names throughout the notebook. Along that line, **DO NOT** reuse the variable names that we use when we grade your answers. For example, in Question 1 of the Global Poverty section we ask you to assign an answer to `latest`. Do not reassign the variable name `latest` to anything else in your notebook, otherwise there is the chance that our tests grade against what `latest` was reassigned to.\n",
    "\n",
    "You are **never** restricted to using only one line of code to solve a question in this project or any others. Feel free to use intermediate variables and multiple lines as much as you would like!\n",
    "\n",
    "---\n",
    "\n",
    "To get started, load `datascience`, `numpy`, `plots`, and `otter`."
   ]
  },
  {
   "cell_type": "code",
   "execution_count": 68,
   "id": "03dbd27e",
   "metadata": {
    "deletable": false
   },
   "outputs": [],
   "source": [
    "# Run this cell to set up the notebook, but please don't change it.\n",
    "\n",
    "# These lines import the NumPy and Datascience modules.\n",
    "from datascience import *\n",
    "import numpy as np\n",
    "\n",
    "# These lines do some fancy plotting magic.\n",
    "%matplotlib inline\n",
    "import matplotlib.pyplot as plots\n",
    "plots.style.use('fivethirtyeight')\n",
    "\n",
    "from ipywidgets import interact, interactive, fixed, interact_manual\n",
    "import ipywidgets as widgets"
   ]
  },
  {
   "cell_type": "markdown",
   "id": "b48d81a7",
   "metadata": {
    "deletable": false,
    "editable": false
   },
   "source": [
    "## 1. Global Population Growth"
   ]
  },
  {
   "cell_type": "markdown",
   "id": "3efe953f",
   "metadata": {
    "deletable": false,
    "editable": false
   },
   "source": [
    "The global population of humans reached 1 billion around 1800, 3 billion around 1960, and 7 billion around 2011. The potential impact of exponential population growth has concerned scientists, economists, and politicians alike.\n",
    "\n",
    "The UN Population Division estimates that the world population will likely continue to grow throughout the 21st century, but at a slower rate, perhaps reaching 11 billion by 2100. However, the UN does not rule out scenarios of more extreme growth.\n",
    "\n",
    "<a href=\"http://www.pewresearch.org/fact-tank/2015/06/08/scientists-more-worried-than-public-about-worlds-growing-population/ft_15-06-04_popcount/\"> \n",
    " <img src=\"pew_population_projection.png\"/> \n",
    "</a>\n",
    "\n",
    "In this part of the project, we will examine some of the factors that influence population growth and how they have been changing over the years and around the world. There are two main sub-parts of this analysis.\n",
    "\n",
    "- First, we will examine the data for one country, Bangladesh. We will see how factors such as life expectancy, fertility rate, and child mortality have changed over time in Bangladesh, and how they are related to the rate of population growth.\n",
    "- Next, we will examine whether the changes we have observed for Bangladesh are particular to that country or whether they reflect general patterns observable in other countries too. We will study aspects of world population growth and see how they have been changing.\n",
    "\n",
    "The first table we will consider contains the total population of each country over time. Run the cell below."
   ]
  },
  {
   "cell_type": "code",
   "execution_count": 69,
   "id": "b42c9a59",
   "metadata": {
    "deletable": false,
    "scrolled": true
   },
   "outputs": [
    {
     "data": {
      "text/html": [
       "<table border=\"1\" class=\"dataframe\">\n",
       "    <thead>\n",
       "        <tr>\n",
       "            <th>geo</th> <th>time</th> <th>population_total</th>\n",
       "        </tr>\n",
       "    </thead>\n",
       "    <tbody>\n",
       "        <tr>\n",
       "            <td>afg </td> <td>1800</td> <td>3280000         </td>\n",
       "        </tr>\n",
       "        <tr>\n",
       "            <td>afg </td> <td>1801</td> <td>3280000         </td>\n",
       "        </tr>\n",
       "        <tr>\n",
       "            <td>afg </td> <td>1802</td> <td>3280000         </td>\n",
       "        </tr>\n",
       "    </tbody>\n",
       "</table>\n",
       "<p>... (43534 rows omitted)</p>"
      ],
      "text/plain": [
       "<IPython.core.display.HTML object>"
      ]
     },
     "metadata": {},
     "output_type": "display_data"
    }
   ],
   "source": [
    "population = Table.read_table('population.csv').where(\"time\", are.below(2021))\n",
    "population.show(3)"
   ]
  },
  {
   "cell_type": "markdown",
   "id": "5d858302",
   "metadata": {},
   "source": [
    "**Note:** The population csv file can also be found [here](https://github.com/open-numbers/ddf--gapminder--gapminder_world/blob/master/ddf--datapoints--population_total--by--geo--time.csv). The data for this project was downloaded in February 2017. "
   ]
  },
  {
   "cell_type": "markdown",
   "id": "4485588c",
   "metadata": {
    "deletable": false
   },
   "source": [
    "\n",
    "### Bangladesh\n",
    "\n",
    "The nation of [Bangladesh](https://en.wikipedia.org/wiki/Bangladesh#People's_Republic_of_Bangladesh) was established as a parliamentary democracy after the Bangladesh Liberation War ended in 1971. The war-ravaged fledgling nation was almost immediately faced with floods and famine. In this section of the project, we will examine aspects of the development of Bangladesh since that time.\n",
    "\n",
    "In the `population` table, the `geo` column contains three-letter codes established by the [International Organization for Standardization](https://en.wikipedia.org/wiki/International_Organization_for_Standardization) (ISO) in the [Alpha-3](https://en.wikipedia.org/wiki/ISO_3166-1_alpha-3#Current_codes) standard. We will begin by taking a close look at Bangladesh. Use the Alpha-3 link to find the 3-letter code for Bangladesh."
   ]
  },
  {
   "cell_type": "markdown",
   "id": "18bb8cdc",
   "metadata": {},
   "source": [
    "**Question 1.** Create a table called `b_pop` that has two columns labeled `time` and `population_total`. The first column should contain the years from 1970 through 2020 (including both 1970 and 2020) and the second should contain the population of Bangladesh in each of those years.\n"
   ]
  },
  {
   "cell_type": "code",
   "execution_count": 70,
   "id": "1932c7e2",
   "metadata": {
    "deletable": false,
    "tags": []
   },
   "outputs": [
    {
     "data": {
      "text/html": [
       "<table border=\"1\" class=\"dataframe\">\n",
       "    <thead>\n",
       "        <tr>\n",
       "            <th>time</th> <th>population_total</th>\n",
       "        </tr>\n",
       "    </thead>\n",
       "    <tbody>\n",
       "        <tr>\n",
       "            <td>1970</td> <td>64232486        </td>\n",
       "        </tr>\n",
       "        <tr>\n",
       "            <td>1971</td> <td>65531635        </td>\n",
       "        </tr>\n",
       "        <tr>\n",
       "            <td>1972</td> <td>66625706        </td>\n",
       "        </tr>\n",
       "        <tr>\n",
       "            <td>1973</td> <td>67637541        </td>\n",
       "        </tr>\n",
       "        <tr>\n",
       "            <td>1974</td> <td>68742222        </td>\n",
       "        </tr>\n",
       "        <tr>\n",
       "            <td>1975</td> <td>70066310        </td>\n",
       "        </tr>\n",
       "        <tr>\n",
       "            <td>1976</td> <td>71652386        </td>\n",
       "        </tr>\n",
       "        <tr>\n",
       "            <td>1977</td> <td>73463593        </td>\n",
       "        </tr>\n",
       "        <tr>\n",
       "            <td>1978</td> <td>75450033        </td>\n",
       "        </tr>\n",
       "        <tr>\n",
       "            <td>1979</td> <td>77529040        </td>\n",
       "        </tr>\n",
       "        <tr>\n",
       "            <td>1980</td> <td>79639498        </td>\n",
       "        </tr>\n",
       "        <tr>\n",
       "            <td>1981</td> <td>81767516        </td>\n",
       "        </tr>\n",
       "        <tr>\n",
       "            <td>1982</td> <td>83932132        </td>\n",
       "        </tr>\n",
       "        <tr>\n",
       "            <td>1983</td> <td>86142490        </td>\n",
       "        </tr>\n",
       "        <tr>\n",
       "            <td>1984</td> <td>88416529        </td>\n",
       "        </tr>\n",
       "        <tr>\n",
       "            <td>1985</td> <td>90764180        </td>\n",
       "        </tr>\n",
       "        <tr>\n",
       "            <td>1986</td> <td>93187593        </td>\n",
       "        </tr>\n",
       "        <tr>\n",
       "            <td>1987</td> <td>95671159        </td>\n",
       "        </tr>\n",
       "        <tr>\n",
       "            <td>1988</td> <td>98186350        </td>\n",
       "        </tr>\n",
       "        <tr>\n",
       "            <td>1989</td> <td>100695496       </td>\n",
       "        </tr>\n",
       "        <tr>\n",
       "            <td>1990</td> <td>103171957       </td>\n",
       "        </tr>\n",
       "        <tr>\n",
       "            <td>1991</td> <td>105599125       </td>\n",
       "        </tr>\n",
       "        <tr>\n",
       "            <td>1992</td> <td>107983708       </td>\n",
       "        </tr>\n",
       "        <tr>\n",
       "            <td>1993</td> <td>110350641       </td>\n",
       "        </tr>\n",
       "        <tr>\n",
       "            <td>1994</td> <td>112737684       </td>\n",
       "        </tr>\n",
       "        <tr>\n",
       "            <td>1995</td> <td>115169933       </td>\n",
       "        </tr>\n",
       "        <tr>\n",
       "            <td>1996</td> <td>117649927       </td>\n",
       "        </tr>\n",
       "        <tr>\n",
       "            <td>1997</td> <td>120160571       </td>\n",
       "        </tr>\n",
       "        <tr>\n",
       "            <td>1998</td> <td>122682818       </td>\n",
       "        </tr>\n",
       "        <tr>\n",
       "            <td>1999</td> <td>125189655       </td>\n",
       "        </tr>\n",
       "        <tr>\n",
       "            <td>2000</td> <td>127657862       </td>\n",
       "        </tr>\n",
       "        <tr>\n",
       "            <td>2001</td> <td>130088709       </td>\n",
       "        </tr>\n",
       "        <tr>\n",
       "            <td>2002</td> <td>132478077       </td>\n",
       "        </tr>\n",
       "        <tr>\n",
       "            <td>2003</td> <td>134791598       </td>\n",
       "        </tr>\n",
       "        <tr>\n",
       "            <td>2004</td> <td>136986429       </td>\n",
       "        </tr>\n",
       "        <tr>\n",
       "            <td>2005</td> <td>139035505       </td>\n",
       "        </tr>\n",
       "        <tr>\n",
       "            <td>2006</td> <td>140921154       </td>\n",
       "        </tr>\n",
       "        <tr>\n",
       "            <td>2007</td> <td>142660381       </td>\n",
       "        </tr>\n",
       "        <tr>\n",
       "            <td>2008</td> <td>144304164       </td>\n",
       "        </tr>\n",
       "        <tr>\n",
       "            <td>2009</td> <td>145924795       </td>\n",
       "        </tr>\n",
       "        <tr>\n",
       "            <td>2010</td> <td>147575433       </td>\n",
       "        </tr>\n",
       "        <tr>\n",
       "            <td>2011</td> <td>149273134       </td>\n",
       "        </tr>\n",
       "        <tr>\n",
       "            <td>2012</td> <td>151005733       </td>\n",
       "        </tr>\n",
       "        <tr>\n",
       "            <td>2013</td> <td>152761413       </td>\n",
       "        </tr>\n",
       "        <tr>\n",
       "            <td>2014</td> <td>154517385       </td>\n",
       "        </tr>\n",
       "        <tr>\n",
       "            <td>2015</td> <td>156256287       </td>\n",
       "        </tr>\n",
       "        <tr>\n",
       "            <td>2016</td> <td>157977151       </td>\n",
       "        </tr>\n",
       "        <tr>\n",
       "            <td>2017</td> <td>159685421       </td>\n",
       "        </tr>\n",
       "        <tr>\n",
       "            <td>2018</td> <td>161376713       </td>\n",
       "        </tr>\n",
       "        <tr>\n",
       "            <td>2019</td> <td>163046173       </td>\n",
       "        </tr>\n",
       "        <tr>\n",
       "            <td>2020</td> <td>164689383       </td>\n",
       "        </tr>\n",
       "    </tbody>\n",
       "</table>"
      ],
      "text/plain": [
       "<IPython.core.display.HTML object>"
      ]
     },
     "metadata": {},
     "output_type": "display_data"
    }
   ],
   "source": [
    "b_pop = population.where(\"geo\", are.equal_to(\"bgd\")).select(\"time\", \"population_total\").where(\"time\", are.between(1970, 2021))\n",
    "b_pop\n",
    "b_pop.show(51)"
   ]
  },
  {
   "cell_type": "code",
   "execution_count": 71,
   "id": "7c0a0f36",
   "metadata": {
    "deletable": false,
    "editable": false
   },
   "outputs": [
    {
     "data": {
      "text/html": [
       "<p><strong><pre style='display: inline;'>q1_1</pre></strong> passed! 🙌</p>"
      ],
      "text/plain": [
       "q1_1 results: All test cases passed!"
      ]
     },
     "execution_count": 71,
     "metadata": {},
     "output_type": "execute_result"
    }
   ],
   "source": [
    "grader.check(\"q1_1\")"
   ]
  },
  {
   "cell_type": "markdown",
   "id": "72e60c30",
   "metadata": {
    "deletable": false
   },
   "source": [
    "Run the following cell to create a table called `b_five` that has the population of Bangladesh every five years. At a glance, it appears that the population of Bangladesh has been growing quickly indeed!"
   ]
  },
  {
   "cell_type": "code",
   "execution_count": 72,
   "id": "e8627e05",
   "metadata": {
    "deletable": false
   },
   "outputs": [
    {
     "data": {
      "text/html": [
       "<table border=\"1\" class=\"dataframe\">\n",
       "    <thead>\n",
       "        <tr>\n",
       "            <th>time</th> <th>population_total</th>\n",
       "        </tr>\n",
       "    </thead>\n",
       "    <tbody>\n",
       "        <tr>\n",
       "            <td>1970</td> <td>64,232,486      </td>\n",
       "        </tr>\n",
       "        <tr>\n",
       "            <td>1975</td> <td>70,066,310      </td>\n",
       "        </tr>\n",
       "        <tr>\n",
       "            <td>1980</td> <td>79,639,498      </td>\n",
       "        </tr>\n",
       "        <tr>\n",
       "            <td>1985</td> <td>90,764,180      </td>\n",
       "        </tr>\n",
       "        <tr>\n",
       "            <td>1990</td> <td>103,171,957     </td>\n",
       "        </tr>\n",
       "        <tr>\n",
       "            <td>1995</td> <td>115,169,933     </td>\n",
       "        </tr>\n",
       "        <tr>\n",
       "            <td>2000</td> <td>127,657,862     </td>\n",
       "        </tr>\n",
       "        <tr>\n",
       "            <td>2005</td> <td>139,035,505     </td>\n",
       "        </tr>\n",
       "        <tr>\n",
       "            <td>2010</td> <td>147,575,433     </td>\n",
       "        </tr>\n",
       "        <tr>\n",
       "            <td>2015</td> <td>156,256,287     </td>\n",
       "        </tr>\n",
       "        <tr>\n",
       "            <td>2020</td> <td>164,689,383     </td>\n",
       "        </tr>\n",
       "    </tbody>\n",
       "</table>"
      ],
      "text/plain": [
       "<IPython.core.display.HTML object>"
      ]
     },
     "metadata": {},
     "output_type": "display_data"
    }
   ],
   "source": [
    "b_pop.set_format('population_total', NumberFormatter)\n",
    "\n",
    "fives = np.arange(1970, 2021, 5) # 1970, 1975, 1980, ...\n",
    "b_five = b_pop.sort('time').where('time', are.contained_in(fives))\n",
    "b_five.show()"
   ]
  },
  {
   "cell_type": "markdown",
   "id": "3430c087",
   "metadata": {},
   "source": [
    "**Question 2.** Assign `initial` to an array that contains the population for every five year interval from 1970 to 2015 (inclusive). Then, assign `changed` to an array that contains the population for every five year interval from 1975 to 2020 (inclusive). The first array should include both 1970 and 2015, and the second array should include both 1975 and 2020. You should use the `b_five` table to create both arrays, by first filtering the table to only contain the relevant years.\n",
    "\n",
    "The annual growth rate for a time period is equal to:\n",
    "\n",
    "$$\\left(\\left(\\frac{\\text{Population at end of period}}{\\text{Population at start of period}}\\right)^{\\displaystyle\\frac{1}{\\text{number of years}}}\\right) -1$$\n",
    "\n",
    "We have provided the code below that uses  `initial` and `changed` in order to add a column to `b_five` called `annual_growth`. Don't worry about the calculation of the growth rates; run the test below to test your solution.\n",
    "\n",
    "If you are interested in how we came up with the formula for growth rates, consult the [growth rates](https://inferentialthinking.com/chapters/03/2/1/Growth.html) section of the textbook.\n"
   ]
  },
  {
   "cell_type": "code",
   "execution_count": 73,
   "id": "876cd4c8",
   "metadata": {
    "tags": []
   },
   "outputs": [
    {
     "data": {
      "text/html": [
       "<table border=\"1\" class=\"dataframe\">\n",
       "    <thead>\n",
       "        <tr>\n",
       "            <th>time</th> <th>population_total</th> <th>annual_growth</th>\n",
       "        </tr>\n",
       "    </thead>\n",
       "    <tbody>\n",
       "        <tr>\n",
       "            <td>1970</td> <td>64,232,486      </td> <td>1.75%        </td>\n",
       "        </tr>\n",
       "        <tr>\n",
       "            <td>1975</td> <td>70,066,310      </td> <td>2.59%        </td>\n",
       "        </tr>\n",
       "        <tr>\n",
       "            <td>1980</td> <td>79,639,498      </td> <td>2.65%        </td>\n",
       "        </tr>\n",
       "        <tr>\n",
       "            <td>1985</td> <td>90,764,180      </td> <td>2.60%        </td>\n",
       "        </tr>\n",
       "        <tr>\n",
       "            <td>1990</td> <td>103,171,957     </td> <td>2.22%        </td>\n",
       "        </tr>\n",
       "        <tr>\n",
       "            <td>1995</td> <td>115,169,933     </td> <td>2.08%        </td>\n",
       "        </tr>\n",
       "        <tr>\n",
       "            <td>2000</td> <td>127,657,862     </td> <td>1.72%        </td>\n",
       "        </tr>\n",
       "        <tr>\n",
       "            <td>2005</td> <td>139,035,505     </td> <td>1.20%        </td>\n",
       "        </tr>\n",
       "        <tr>\n",
       "            <td>2010</td> <td>147,575,433     </td> <td>1.15%        </td>\n",
       "        </tr>\n",
       "        <tr>\n",
       "            <td>2015</td> <td>156,256,287     </td> <td>1.06%        </td>\n",
       "        </tr>\n",
       "    </tbody>\n",
       "</table>"
      ],
      "text/plain": [
       "time | population_total | annual_growth\n",
       "1970 | 64,232,486       | 1.75%\n",
       "1975 | 70,066,310       | 2.59%\n",
       "1980 | 79,639,498       | 2.65%\n",
       "1985 | 90,764,180       | 2.60%\n",
       "1990 | 103,171,957      | 2.22%\n",
       "1995 | 115,169,933      | 2.08%\n",
       "2000 | 127,657,862      | 1.72%\n",
       "2005 | 139,035,505      | 1.20%\n",
       "2010 | 147,575,433      | 1.15%\n",
       "2015 | 156,256,287      | 1.06%"
      ]
     },
     "execution_count": 73,
     "metadata": {},
     "output_type": "execute_result"
    }
   ],
   "source": [
    "initial = b_five.select('time', 'population_total').where('time', are.between_or_equal_to(1970,2015)).column('population_total')\n",
    "changed = b_five.select('time', 'population_total').where('time', are.between_or_equal_to(1975,2020)).column('population_total')\n",
    "\n",
    "b_1970_through_2015 = b_five.where('time', are.below_or_equal_to(2015)) \n",
    "b_five_growth = b_1970_through_2015.with_column('annual_growth', (changed/initial)**0.2-1)\n",
    "b_five_growth.set_format('annual_growth', PercentFormatter)"
   ]
  },
  {
   "cell_type": "code",
   "execution_count": 74,
   "id": "41442836",
   "metadata": {
    "deletable": false,
    "editable": false
   },
   "outputs": [
    {
     "data": {
      "text/html": [
       "<p><strong><pre style='display: inline;'>q1_2</pre></strong> passed! 🌈</p>"
      ],
      "text/plain": [
       "q1_2 results: All test cases passed!"
      ]
     },
     "execution_count": 74,
     "metadata": {},
     "output_type": "execute_result"
    }
   ],
   "source": [
    "grader.check(\"q1_2\")"
   ]
  },
  {
   "cell_type": "markdown",
   "id": "26530877",
   "metadata": {
    "deletable": false
   },
   "source": [
    "\n",
    "While the population has grown every five years since 1970, the annual growth rate decreased dramatically from 1985 to 2015. Let's look at some other information in order to develop a possible explanation. Run the next cell to load three additional tables of measurements about countries over time."
   ]
  },
  {
   "cell_type": "code",
   "execution_count": 75,
   "id": "c1cd7380",
   "metadata": {
    "deletable": false
   },
   "outputs": [],
   "source": [
    "life_expectancy = Table.read_table('life_expectancy.csv').where('time', are.below(2021))\n",
    "child_mortality = Table.read_table('child_mortality.csv').relabel(2, 'child_mortality_under_5_per_1000_born').where('time', are.below(2021))\n",
    "fertility = Table.read_table('fertility.csv').where('time', are.below(2021))"
   ]
  },
  {
   "cell_type": "markdown",
   "id": "39eac261",
   "metadata": {
    "deletable": false,
    "editable": false
   },
   "source": [
    "The `life_expectancy` table contains a statistic that is often used to measure how long people live, called *life expectancy at birth*. This number, for a country in a given year, [does not measure how long babies born in that year are expected to live](http://blogs.worldbank.org/opendata/what-does-life-expectancy-birth-really-mean). Instead, it measures how long someone would live, on average, if the *mortality conditions* in that year persisted throughout their lifetime. These \"mortality conditions\" describe what fraction of people at each age survived the year. So, it is a way of measuring the proportion of people that are staying alive, aggregated over different age groups in the population."
   ]
  },
  {
   "cell_type": "markdown",
   "id": "067918d9",
   "metadata": {},
   "source": [
    "Run the following cells below to see `life_expectancy`, `child_mortality`, and `fertility`. Refer back to these tables as they will be helpful for answering further questions!"
   ]
  },
  {
   "cell_type": "code",
   "execution_count": 76,
   "id": "21c17dd5",
   "metadata": {},
   "outputs": [
    {
     "data": {
      "text/html": [
       "<table border=\"1\" class=\"dataframe\">\n",
       "    <thead>\n",
       "        <tr>\n",
       "            <th>geo</th> <th>time</th> <th>life_expectancy_years</th>\n",
       "        </tr>\n",
       "    </thead>\n",
       "    <tbody>\n",
       "        <tr>\n",
       "            <td>afg </td> <td>1800</td> <td>28.21                </td>\n",
       "        </tr>\n",
       "        <tr>\n",
       "            <td>afg </td> <td>1801</td> <td>28.2                 </td>\n",
       "        </tr>\n",
       "        <tr>\n",
       "            <td>afg </td> <td>1802</td> <td>28.19                </td>\n",
       "        </tr>\n",
       "    </tbody>\n",
       "</table>\n",
       "<p>... (41247 rows omitted)</p>"
      ],
      "text/plain": [
       "<IPython.core.display.HTML object>"
      ]
     },
     "metadata": {},
     "output_type": "display_data"
    }
   ],
   "source": [
    "life_expectancy.show(3)"
   ]
  },
  {
   "cell_type": "code",
   "execution_count": 77,
   "id": "3e17f954",
   "metadata": {},
   "outputs": [
    {
     "data": {
      "text/html": [
       "<table border=\"1\" class=\"dataframe\">\n",
       "    <thead>\n",
       "        <tr>\n",
       "            <th>geo</th> <th>time</th> <th>child_mortality_under_5_per_1000_born</th>\n",
       "        </tr>\n",
       "    </thead>\n",
       "    <tbody>\n",
       "        <tr>\n",
       "            <td>afg </td> <td>1800</td> <td>468.58                               </td>\n",
       "        </tr>\n",
       "        <tr>\n",
       "            <td>afg </td> <td>1801</td> <td>468.58                               </td>\n",
       "        </tr>\n",
       "        <tr>\n",
       "            <td>afg </td> <td>1802</td> <td>468.58                               </td>\n",
       "        </tr>\n",
       "    </tbody>\n",
       "</table>\n",
       "<p>... (41734 rows omitted)</p>"
      ],
      "text/plain": [
       "<IPython.core.display.HTML object>"
      ]
     },
     "metadata": {},
     "output_type": "display_data"
    }
   ],
   "source": [
    "child_mortality.show(3)"
   ]
  },
  {
   "cell_type": "code",
   "execution_count": 78,
   "id": "6052d77f",
   "metadata": {},
   "outputs": [
    {
     "data": {
      "text/html": [
       "<table border=\"1\" class=\"dataframe\">\n",
       "    <thead>\n",
       "        <tr>\n",
       "            <th>geo</th> <th>time</th> <th>children_per_woman_total_fertility</th>\n",
       "        </tr>\n",
       "    </thead>\n",
       "    <tbody>\n",
       "        <tr>\n",
       "            <td>abw </td> <td>1800</td> <td>5.64                              </td>\n",
       "        </tr>\n",
       "        <tr>\n",
       "            <td>abw </td> <td>1801</td> <td>5.64                              </td>\n",
       "        </tr>\n",
       "        <tr>\n",
       "            <td>abw </td> <td>1802</td> <td>5.64                              </td>\n",
       "        </tr>\n",
       "    </tbody>\n",
       "</table>\n",
       "<p>... (44632 rows omitted)</p>"
      ],
      "text/plain": [
       "<IPython.core.display.HTML object>"
      ]
     },
     "metadata": {},
     "output_type": "display_data"
    }
   ],
   "source": [
    "fertility.show(3)"
   ]
  },
  {
   "cell_type": "markdown",
   "id": "33024c51",
   "metadata": {},
   "source": [
    "<!-- BEGIN QUESTION -->\n",
    "\n",
    "**Question 3.** Perhaps population is growing more slowly because people aren't living as long. Use the `life_expectancy` table to draw a line graph with the years 1970 and later on the horizontal axis that shows how the *life expectancy at birth* has changed in Bangladesh.\n"
   ]
  },
  {
   "cell_type": "code",
   "execution_count": 79,
   "id": "a815c9fa",
   "metadata": {
    "deletable": false,
    "manual_grade": true,
    "manual_problem_id": "global_pop_3",
    "tags": []
   },
   "outputs": [
    {
     "data": {
      "image/png": "[encoded data removed]",
      "text/plain": [
       "<Figure size 600x600 with 1 Axes>"
      ]
     },
     "metadata": {},
     "output_type": "display_data"
    }
   ],
   "source": [
    "#Fill in code here\n",
    "bgd_life_expectancy = life_expectancy.where(\"geo\", are.equal_to(\"bgd\")).where(\"time\", are.above_or_equal_to(1970)).plot(\"time\",\"life_expectancy_years\")\n",
    "bgd_life_expectancy \n"
   ]
  },
  {
   "cell_type": "markdown",
   "id": "102285bd",
   "metadata": {},
   "source": [
    "<!-- END QUESTION -->\n",
    "\n",
    "<!-- BEGIN QUESTION -->\n",
    "\n",
    "**Question 4.** Assuming everything else stays the same, do the trends in life expectancy in the graph above directly explain why the population growth rate decreased from 1985 to 2015 in Bangladesh? Why or why not? \n",
    "\n",
    "Hint: Assuming everything else stays the same, do the trends in life expectancy in the graph above from question 1.3 directly explain why the population growth rate decreased from 1985 to 2015 in Bangladesh? Why or why not? In synthesizing the answer for this specific problem, provide additional context to events occurring in Bangladesh in 1991. You are allowed to use external sources, like here. Please cite any other sources.\n"
   ]
  },
  {
   "cell_type": "markdown",
   "id": "0f514e64",
   "metadata": {},
   "source": [
    "The trends in life expectancy in the graph above doesn't directly explain why the population growth rate decreased from 1985 to 2015 in Bangladesh because we need to analyze various factors that impacted the population growth rate. Life expectancy can be one factor why the population growth decreased; if a woman's children can survive and live for a longer period of time, then the woman does not need to have so many children. For example, the Wikipedia article on \"Bangladesh\" displays that there has been lots of education around family health, more government restrictions around population control, and healthcare system improvements. Due to the fact that more families were becoming educated on these topics, it was less of a social norm to have a large family. In additionally, the article states that family planning programs started being introduced around the 1970 time period, which played a huge factor in influencing families to have children."
   ]
  },
  {
   "cell_type": "markdown",
   "id": "b757d462",
   "metadata": {
    "deletable": false,
    "editable": false
   },
   "source": [
    "<!-- END QUESTION -->\n",
    "\n",
    "The `fertility` table contains a statistic that is often used to measure how many babies are being born, the *total fertility rate*. This number describes the [number of children a woman would have in her lifetime](https://www.measureevaluation.org/prh/rh_indicators/specific/fertility/total-fertility-rate), on average, if the current rates of birth by age of the mother persisted throughout her child bearing years, assuming she survived through age 49. "
   ]
  },
  {
   "cell_type": "markdown",
   "id": "61c27a8f",
   "metadata": {},
   "source": [
    "**Question 5.** Complete the function `fertility_over_time`. It takes the Alpha-3 code of a country as `country_code` and a `start` year. It returns a two-column table with labels `Year` and `Children per woman` that can be used to generate a line chart of the country's fertility rate each year, starting at the `start` year. The plot should include the `start` year and all later years that appear in the `fertility` table. \n",
    "\n",
    "Then, determine the Alpha-3 code for Bangladesh. The code for Bangladesh and the year 1970 are used in the call to your `fertility_over_time` function in order to plot how Bangladesh's fertility rate has changed since 1970. Note that the function `fertility_over_time` should not return the plot itself. **The expression that draws the line plot is provided for you; please don't change it.**\n"
   ]
  },
  {
   "cell_type": "code",
   "execution_count": 80,
   "id": "4a5cf651",
   "metadata": {},
   "outputs": [
    {
     "data": {
      "text/html": [
       "<table border=\"1\" class=\"dataframe\">\n",
       "    <thead>\n",
       "        <tr>\n",
       "            <th>geo</th> <th>time</th> <th>children_per_woman_total_fertility</th>\n",
       "        </tr>\n",
       "    </thead>\n",
       "    <tbody>\n",
       "        <tr>\n",
       "            <td>abw </td> <td>1800</td> <td>5.64                              </td>\n",
       "        </tr>\n",
       "        <tr>\n",
       "            <td>abw </td> <td>1801</td> <td>5.64                              </td>\n",
       "        </tr>\n",
       "        <tr>\n",
       "            <td>abw </td> <td>1802</td> <td>5.64                              </td>\n",
       "        </tr>\n",
       "    </tbody>\n",
       "</table>\n",
       "<p>... (44632 rows omitted)</p>"
      ],
      "text/plain": [
       "<IPython.core.display.HTML object>"
      ]
     },
     "metadata": {},
     "output_type": "display_data"
    }
   ],
   "source": [
    "fertility.show(3)"
   ]
  },
  {
   "cell_type": "code",
   "execution_count": null,
   "id": "6b6717a6",
   "metadata": {},
   "outputs": [],
   "source": []
  },
  {
   "cell_type": "code",
   "execution_count": 81,
   "id": "7616b47e",
   "metadata": {
    "deletable": false,
    "tags": []
   },
   "outputs": [
    {
     "data": {
      "image/png": "[encoded data removed]",
      "text/plain": [
       "<Figure size 600x600 with 1 Axes>"
      ]
     },
     "metadata": {},
     "output_type": "display_data"
    }
   ],
   "source": [
    "def fertility_over_time(country_code, start):\n",
    "    \"\"\"Create a two-column table that describes a country's total fertility rate each year.\"\"\"\n",
    "    country_fertility = fertility.where('geo', are.containing(country_code)).drop(0)\n",
    "    country_fertility_after_start = country_fertility.where('time', are.above_or_equal_to(start))\n",
    "    cleaned_table = Table().with_columns('Year', country_fertility_after_start.column('time'),\n",
    "                                         'Children per woman', country_fertility_after_start.column('children_per_woman_total_fertility'))\n",
    "    return cleaned_table\n",
    "\n",
    "bangladesh_code = 'bgd'\n",
    "fertility_over_time(bangladesh_code, 1970).plot(0, 1) # You should *not* change this line."
   ]
  },
  {
   "cell_type": "code",
   "execution_count": 82,
   "id": "678bde75",
   "metadata": {
    "deletable": false,
    "editable": false
   },
   "outputs": [
    {
     "data": {
      "text/html": [
       "<p><strong><pre style='display: inline;'>q1_5</pre></strong> passed! 🍀</p>"
      ],
      "text/plain": [
       "q1_5 results: All test cases passed!"
      ]
     },
     "execution_count": 82,
     "metadata": {},
     "output_type": "execute_result"
    }
   ],
   "source": [
    "grader.check(\"q1_5\")"
   ]
  },
  {
   "cell_type": "markdown",
   "id": "a26a861c",
   "metadata": {},
   "source": [
    "<!-- BEGIN QUESTION -->\n",
    "\n",
    "**Question 6.** Assuming all other factors constant, do the trends in fertility in the graph above help directly explain why the population growth rate decreased from 1980 to 2020 in Bangladesh? Why or why not?\n"
   ]
  },
  {
   "cell_type": "markdown",
   "id": "d9e50d54",
   "metadata": {},
   "source": [
    "The trends in the fertility graph can provide an explanation to why the population growth decreased, but it does not directly explain the decrease. We still need to understand all of the factors that surround the overall result of children per women in Bangladesh. For instance, we can assume that the population growth decreased since a household generally had fewer children since a woman had fewer kids over the years. If there were less children born, then the population growth will eventually decrease. However, other factors that can lead to population growth rate decrease are environmental and social factors. In that time period, Bangladesh started growing economically and also many women at that time became educated, which can lead to a priority of pursuing higher education and being involved in the workforce. This could be a potential reason as to why women had less children, since they were pursuing education and other activities that required lots of time committment outside of the family."
   ]
  },
  {
   "cell_type": "markdown",
   "id": "9862abb0",
   "metadata": {
    "deletable": false
   },
   "source": [
    "<!-- END QUESTION -->\n",
    "\n",
    "It has been [observed](https://www.ageing.ox.ac.uk/download/143) that lower fertility rates are often associated with lower child mortality rates. The link has been attributed to family planning: if parents can expect that their children will all survive into adulthood, then they will choose to have fewer children. In the reverse direction, having fewer children may allow families to devote more resources to each child, reducing child mortality. We can see if this association is evident in Bangladesh by plotting the relationship between total fertility rate and [child mortality rate per 1000 children](https://en.wikipedia.org/wiki/Child_mortality)."
   ]
  },
  {
   "cell_type": "markdown",
   "id": "77f6ded0",
   "metadata": {},
   "source": [
    "**Question 7.** Using both the `fertility` and `child_mortality` tables, draw a scatter diagram that has Bangladesh's total fertility on the horizontal axis and its child mortality on the vertical axis with one point for each year, starting with 1970.\n",
    "\n",
    "**The code that draws the scatter diagram is provided for you; please don't change it.** Instead, create a table called `post_1969_fertility_and_child_mortality` with the appropriate column labels and data in order to generate the chart correctly. Use the label `Children per woman` to describe total fertility and the label `Child deaths per 1000 born` to describe child mortality.\n",
    "\n",
    "*Hint*: Do not drop the `time` column or you will get an error in the scatterplot in the next cell!\n"
   ]
  },
  {
   "cell_type": "code",
   "execution_count": 83,
   "id": "aa8274df",
   "metadata": {},
   "outputs": [
    {
     "data": {
      "text/html": [
       "<table border=\"1\" class=\"dataframe\">\n",
       "    <thead>\n",
       "        <tr>\n",
       "            <th>time</th> <th>child_mortality_under_5_per_1000_born</th> <th>Children per woman</th>\n",
       "        </tr>\n",
       "    </thead>\n",
       "    <tbody>\n",
       "        <tr>\n",
       "            <td>1970</td> <td>223.13                               </td> <td>6.95              </td>\n",
       "        </tr>\n",
       "        <tr>\n",
       "            <td>1971</td> <td>222.36                               </td> <td>6.94              </td>\n",
       "        </tr>\n",
       "        <tr>\n",
       "            <td>1972</td> <td>221.54                               </td> <td>6.93              </td>\n",
       "        </tr>\n",
       "        <tr>\n",
       "            <td>1973</td> <td>220.49                               </td> <td>6.9               </td>\n",
       "        </tr>\n",
       "        <tr>\n",
       "            <td>1974</td> <td>219.01                               </td> <td>6.87              </td>\n",
       "        </tr>\n",
       "        <tr>\n",
       "            <td>1975</td> <td>217.02                               </td> <td>6.82              </td>\n",
       "        </tr>\n",
       "        <tr>\n",
       "            <td>1976</td> <td>214.39                               </td> <td>6.76              </td>\n",
       "        </tr>\n",
       "        <tr>\n",
       "            <td>1977</td> <td>211.11                               </td> <td>6.68              </td>\n",
       "        </tr>\n",
       "        <tr>\n",
       "            <td>1978</td> <td>207.32                               </td> <td>6.59              </td>\n",
       "        </tr>\n",
       "        <tr>\n",
       "            <td>1979</td> <td>203.15                               </td> <td>6.48              </td>\n",
       "        </tr>\n",
       "    </tbody>\n",
       "</table>\n",
       "<p>... (41 rows omitted)</p>"
      ],
      "text/plain": [
       "time | child_mortality_under_5_per_1000_born | Children per woman\n",
       "1970 | 223.13                                | 6.95\n",
       "1971 | 222.36                                | 6.94\n",
       "1972 | 221.54                                | 6.93\n",
       "1973 | 220.49                                | 6.9\n",
       "1974 | 219.01                                | 6.87\n",
       "1975 | 217.02                                | 6.82\n",
       "1976 | 214.39                                | 6.76\n",
       "1977 | 211.11                                | 6.68\n",
       "1978 | 207.32                                | 6.59\n",
       "1979 | 203.15                                | 6.48\n",
       "... (41 rows omitted)"
      ]
     },
     "execution_count": 83,
     "metadata": {},
     "output_type": "execute_result"
    }
   ],
   "source": [
    "cookies = fertility_over_time('bgd', 1970)\n",
    "cookies \n",
    "chips = child_mortality.select('geo', 'time', 'child_mortality_under_5_per_1000_born').where('geo', are.containing('bgd')).where('time', are.above_or_equal_to(1970)).drop(0)\n",
    "chips \n",
    "new_table = chips.join('time', cookies, 'Year')\n",
    "new_table \n",
    "\n",
    "#new_tables = new_table.relabeled('child_mortality_under_5_per_1000_born', 'Child deaths per 1000 born')\n",
    "#new_tables"
   ]
  },
  {
   "cell_type": "code",
   "execution_count": 84,
   "id": "52a8cd2e",
   "metadata": {
    "deletable": false,
    "tags": []
   },
   "outputs": [
    {
     "data": {
      "image/png": "[encoded data removed]",
      "text/plain": [
       "<Figure size 600x600 with 2 Axes>"
      ]
     },
     "metadata": {},
     "output_type": "display_data"
    }
   ],
   "source": [
    "\n",
    "bgd_fertility = fertility_over_time('bgd', 1970)\n",
    "bgd_child_mortality = child_mortality.select('geo', 'time', 'child_mortality_under_5_per_1000_born').where('geo', are.containing('bgd')).where('time', are.above_or_equal_to(1970))\n",
    "fertility_and_child_mortality = bgd_child_mortality.join('time', bgd_fertility , 'Year')\n",
    "post_1969_fertility_and_child_mortality = fertility_and_child_mortality.relabeled('child_mortality_under_5_per_1000_born', 'Child deaths per 1000 born')\n",
    "\n",
    "# Don't change anything below this line!\n",
    "x_births = post_1969_fertility_and_child_mortality.column(\"Children per woman\")\n",
    "y_deaths = post_1969_fertility_and_child_mortality.column(\"Child deaths per 1000 born\")\n",
    "time_colors = post_1969_fertility_and_child_mortality.column(\"time\")\n",
    "\n",
    "plots.figure(figsize=(6,6))\n",
    "plots.scatter(x_births, y_deaths, c=time_colors, cmap=\"Blues_r\")\n",
    "plots.colorbar()                  \n",
    "plots.xlabel(\"Children per woman\")\n",
    "plots.ylabel(\"Child deaths per 1000 born\");"
   ]
  },
  {
   "cell_type": "code",
   "execution_count": 85,
   "id": "21a5a78f",
   "metadata": {
    "deletable": false,
    "editable": false
   },
   "outputs": [
    {
     "data": {
      "text/html": [
       "<p><strong><pre style='display: inline;'>q1_7</pre></strong> passed! ✨</p>"
      ],
      "text/plain": [
       "q1_7 results: All test cases passed!"
      ]
     },
     "execution_count": 85,
     "metadata": {},
     "output_type": "execute_result"
    }
   ],
   "source": [
    "grader.check(\"q1_7\")"
   ]
  },
  {
   "cell_type": "markdown",
   "id": "9cc85725",
   "metadata": {},
   "source": [
    "The plot above uses **color** to encode data about the `time` column from the table `post_1969_fertility_and_child_mortality`. The colors, ranging from dark blue to white, represent the passing of time between the 1970s to the 2020s. For example, a point on the scatter plot representing data from the 1970s would appear as **dark blue** and a point from the 2010s would appear as **light blue**.\n"
   ]
  },
  {
   "cell_type": "markdown",
   "id": "034441c9",
   "metadata": {},
   "source": [
    "<!-- BEGIN QUESTION -->\n",
    "\n",
    "**Question 8.** In one or two sentences, describe the association (if any) that is illustrated by this scatter diagram. Does the diagram show that reduced child mortality *causes* parents to choose to have fewer children?\n"
   ]
  },
  {
   "cell_type": "markdown",
   "id": "9c9fc003",
   "metadata": {},
   "source": [
    " The scatter diagram does show that over the years, the amount amount of children per women has decreased and child mortality has decreased, so we can assume that children are living longer. However, the diagram doesn't show that reduced child mortality causes parents to have fewer children because we don't have enough data to reach that conclusion; the data could merely show an association, not causation."
   ]
  },
  {
   "cell_type": "markdown",
   "id": "bc99f3bd",
   "metadata": {},
   "source": [
    "<!-- END QUESTION -->\n",
    "\n",
    "### Checkpoint (due Wednesday 9/29 by 11:00 PM PT)\n",
    "\n",
    "<img src=\"harvey.png\" alt=\"Close-up photo of a golden retriever looking at the camera\" width=\"300\"/>\n",
    "\n",
    "**WOOOHOO!!!** Harvey wants to congratulate you on reaching the checkpoint!\n",
    "\n",
    "**Run the following cells and submit to the Gradescope assignment corresponding to the checkpoint: <u>Project 1 Checkpoint</u>**\n",
    "\n",
    "**<span style=\"color: #BC412B\">Remember to add your project partner to your submission on Gradescope!</span>** <u>Only one partner should submit to Gradescope.</u>"
   ]
  },
  {
   "cell_type": "markdown",
   "id": "53093535",
   "metadata": {},
   "source": [
    "\n",
    "\n",
    "--- \n",
    "\n",
    "To double check your work, the cell below will rerun all of the autograder tests for Section 1. "
   ]
  },
  {
   "cell_type": "code",
   "execution_count": 86,
   "id": "209b4ecd",
   "metadata": {},
   "outputs": [
    {
     "data": {
      "text/html": [
       "<p><strong><pre style='display: inline;'>q1_1</pre></strong> passed! 💯</p>"
      ],
      "text/plain": [
       "q1_1 results: All test cases passed!"
      ]
     },
     "metadata": {},
     "output_type": "display_data"
    },
    {
     "data": {
      "text/html": [
       "<p><strong><pre style='display: inline;'>q1_2</pre></strong> passed! ✨</p>"
      ],
      "text/plain": [
       "q1_2 results: All test cases passed!"
      ]
     },
     "metadata": {},
     "output_type": "display_data"
    },
    {
     "data": {
      "text/html": [
       "<p><strong><pre style='display: inline;'>q1_5</pre></strong> passed! 🚀</p>"
      ],
      "text/plain": [
       "q1_5 results: All test cases passed!"
      ]
     },
     "metadata": {},
     "output_type": "display_data"
    },
    {
     "data": {
      "text/html": [
       "<p><strong><pre style='display: inline;'>q1_7</pre></strong> passed! 🍀</p>"
      ],
      "text/plain": [
       "q1_7 results: All test cases passed!"
      ]
     },
     "metadata": {},
     "output_type": "display_data"
    }
   ],
   "source": [
    "\n",
    "checkpoint_tests = [\"q1_1\", \"q1_2\", \"q1_5\", \"q1_7\"]\n",
    "for test in checkpoint_tests:\n",
    "    display(grader.check(test))"
   ]
  },
  {
   "cell_type": "markdown",
   "id": "7fb5bc14",
   "metadata": {},
   "source": [
    "## Submission\n",
    "\n",
    "Make sure you have run all cells in your notebook in order before running the cell below, so that all images/graphs appear in the output. The cell below will generate a zip file for you to submit. **Please save before exporting!**"
   ]
  },
  {
   "cell_type": "code",
   "execution_count": 87,
   "id": "6db96449",
   "metadata": {},
   "outputs": [
    {
     "data": {
      "text/html": [
       "\n",
       "            <p>Your submission has been exported. Click <a href=\"project1_2023_09_28T23_15_22_397046.zip\" download=\"project1_2023_09_28T23_15_22_397046.zip\" target=\"_blank\">here</a>\n",
       "            to download the zip file.</p>\n",
       "            "
      ],
      "text/plain": [
       "<IPython.core.display.HTML object>"
      ]
     },
     "metadata": {},
     "output_type": "display_data"
    }
   ],
   "source": [
    "# Save your notebook first, then run this cell to export your submission.\n",
    "grader.export(pdf=False)"
   ]
  },
  {
   "cell_type": "markdown",
   "id": "376729d9",
   "metadata": {
    "deletable": false
   },
   "source": [
    "### The World\n",
    "\n",
    "The changes observed in Poland can also be observed in many other countries: except during periods of extended war, famine, and social chaos, health services generally improve, life expectancy increases, and child mortality decreases. At the same time, the fertility rate often plummets, and where it does, the population growth rate decreases despite increasing longevity."
   ]
  },
  {
   "cell_type": "markdown",
   "id": "5a784788",
   "metadata": {
    "deletable": false
   },
   "source": [
    "\n",
    "\n",
    "\n",
    "Run the cell below to generate two overlaid histograms, one for 1962 and one for 2010, that show the distributions of total fertility rates for these two years among all 201 countries in the `fertility` table."
   ]
  },
  {
   "cell_type": "code",
   "execution_count": 88,
   "id": "140aa1d8",
   "metadata": {
    "deletable": false
   },
   "outputs": [
    {
     "data": {
      "image/png": "[encoded data removed]",
      "text/plain": [
       "<Figure size 600x400 with 1 Axes>"
      ]
     },
     "metadata": {},
     "output_type": "display_data"
    }
   ],
   "source": [
    "Table().with_columns(\n",
    "    '1962', fertility.where('time', 1962).column(2),\n",
    "    '2010', fertility.where('time', 2010).column(2)\n",
    ").hist(bins=np.arange(0, 10, 0.5), unit='child per woman')\n",
    "_ = plots.xlabel('Children per woman')\n",
    "_ = plots.ylabel('Percent per children per woman')\n",
    "_ = plots.xticks(np.arange(10))"
   ]
  },
  {
   "cell_type": "markdown",
   "id": "8fe8d96f",
   "metadata": {},
   "source": [
    "**Question 9.** Assign `fertility_statements` to an **array** of the numbers of each statement below that can be correctly inferred from these histograms.\n",
    "\n",
    "1. About the same number of countries had a fertility rate between 3.5 and 4.5 in both 1962 and 2010.\n",
    "1. In 1962, less than 20% of countries had a fertility rate below 3.\n",
    "1. At least half of countries had a fertility rate between 5 and 8 in 1962.\n",
    "1. In 2010, about 40% of countries had a fertility rate between 1.5 and 2.\n",
    "1. At least half of countries had a fertility rate below 3 in 2010.\n",
    "1. More countries had a fertility rate above 3 in 1962 than in 2010.\n"
   ]
  },
  {
   "cell_type": "code",
   "execution_count": 89,
   "id": "34b0b925",
   "metadata": {
    "deletable": false,
    "tags": []
   },
   "outputs": [],
   "source": [
    "fertility_statements = make_array(1, 2, 3, 5, 6)"
   ]
  },
  {
   "cell_type": "code",
   "execution_count": 90,
   "id": "9319a7d8",
   "metadata": {
    "deletable": false,
    "editable": false
   },
   "outputs": [
    {
     "data": {
      "text/html": [
       "<p><strong><pre style='display: inline;'>q1_9</pre></strong> passed! 🙌</p>"
      ],
      "text/plain": [
       "q1_9 results: All test cases passed!"
      ]
     },
     "execution_count": 90,
     "metadata": {},
     "output_type": "execute_result"
    }
   ],
   "source": [
    "grader.check(\"q1_9\")"
   ]
  },
  {
   "cell_type": "markdown",
   "id": "1e5bb3d1",
   "metadata": {},
   "source": [
    "<!-- BEGIN QUESTION -->\n",
    "\n",
    "**Question 10.** Draw a line plot of the **world population** from 1800 through 2020 (inclusive of both endpoints). The world population is the sum of all of the countries' populations. You should use the `population` table defined earlier in the project. \n"
   ]
  },
  {
   "cell_type": "code",
   "execution_count": 91,
   "id": "d47a2b44",
   "metadata": {
    "deletable": false,
    "manual_grade": true,
    "manual_problem_id": "global_pop_10",
    "tags": []
   },
   "outputs": [
    {
     "data": {
      "image/png": "[encoded data removed]",
      "text/plain": [
       "<Figure size 600x600 with 1 Axes>"
      ]
     },
     "metadata": {},
     "output_type": "display_data"
    }
   ],
   "source": [
    "world_population = population.select('time', 'population_total').where('time', are.between_or_equal_to(1800,2020))\n",
    "world_population.plot('time', 'population_total')"
   ]
  },
  {
   "cell_type": "code",
   "execution_count": 92,
   "id": "05e66f23",
   "metadata": {},
   "outputs": [
    {
     "data": {
      "text/html": [
       "<table border=\"1\" class=\"dataframe\">\n",
       "    <thead>\n",
       "        <tr>\n",
       "            <th>geo</th> <th>population_total</th>\n",
       "        </tr>\n",
       "    </thead>\n",
       "    <tbody>\n",
       "        <tr>\n",
       "            <td>afg </td> <td>8996967         </td>\n",
       "        </tr>\n",
       "        <tr>\n",
       "            <td>afg </td> <td>9169406         </td>\n",
       "        </tr>\n",
       "        <tr>\n",
       "            <td>afg </td> <td>9351442         </td>\n",
       "        </tr>\n",
       "        <tr>\n",
       "            <td>afg </td> <td>9543200         </td>\n",
       "        </tr>\n",
       "        <tr>\n",
       "            <td>afg </td> <td>9744772         </td>\n",
       "        </tr>\n",
       "        <tr>\n",
       "            <td>afg </td> <td>9956318         </td>\n",
       "        </tr>\n",
       "        <tr>\n",
       "            <td>afg </td> <td>10174840        </td>\n",
       "        </tr>\n",
       "        <tr>\n",
       "            <td>afg </td> <td>10399936        </td>\n",
       "        </tr>\n",
       "        <tr>\n",
       "            <td>afg </td> <td>10637064        </td>\n",
       "        </tr>\n",
       "        <tr>\n",
       "            <td>afg </td> <td>10893772        </td>\n",
       "        </tr>\n",
       "    </tbody>\n",
       "</table>\n",
       "<p>... (3040 rows omitted)</p>"
      ],
      "text/plain": [
       "geo  | population_total\n",
       "afg  | 8996967\n",
       "afg  | 9169406\n",
       "afg  | 9351442\n",
       "afg  | 9543200\n",
       "afg  | 9744772\n",
       "afg  | 9956318\n",
       "afg  | 10174840\n",
       "afg  | 10399936\n",
       "afg  | 10637064\n",
       "afg  | 10893772\n",
       "... (3040 rows omitted)"
      ]
     },
     "execution_count": 92,
     "metadata": {},
     "output_type": "execute_result"
    }
   ],
   "source": [
    "big_50 = population.where('time', are.equal_to(2020)).sort(\"population_total\", descending=True).take(np.arange(50)).column('geo')\n",
    "big_50\n",
    "population_of_big_50 = population.where('time', are.above(1959)).where('geo', are.contained_in(big_50)).drop(1)\n",
    "population_of_big_50"
   ]
  },
  {
   "cell_type": "markdown",
   "id": "a1b57d1b",
   "metadata": {},
   "source": [
    "<!-- END QUESTION -->\n",
    "\n",
    "**Question 11.** Create a function `stats_for_year` that takes a `year` and returns a table of statistics. The table it returns should have four columns: `geo`, `population_total`, `children_per_woman_total_fertility`, and `child_mortality_under_5_per_1000_born`. Each row should contain one unique Alpha-3 country code and three statistics: population, fertility rate, and child mortality for that `year` from the `population`, `fertility` and `child_mortality` tables. Only include rows for which all three statistics are available for the country and year.\n",
    "\n",
    "In addition, restrict the result to country codes that appears in `big_50`, an array of the 50 most populous countries in 2020. This restriction will speed up computations later in the project.\n",
    "\n",
    "After you write `stats_for_year`, try calling `stats_for_year` on any year between 1960 and 2020. Try to understand the output of stats_for_year.\n",
    "\n",
    "*Hint*: The tests for this question are quite comprehensive, so if you pass the tests, your function is probably correct. However, without calling your function yourself and looking at the output, it will be very difficult to understand any problems you have, so try your best to write the function correctly and check that it works before you rely on the `grader` tests to confirm your work.\n",
    "\n",
    "*Hint*: What do all three tables have in common (pay attention to column names)?\n",
    "\n",
    "*Hint*: Create additional cells before directly writing the function.\n"
   ]
  },
  {
   "cell_type": "code",
   "execution_count": 93,
   "id": "128282fd",
   "metadata": {
    "deletable": false,
    "tags": []
   },
   "outputs": [],
   "source": [
    "# We first create a population table that only includes the \n",
    "# 50 countries with the largest 2020 populations. We focus on \n",
    "# these 50 countries only so that plotting later will run faster.\n",
    "big_50 = population.where('time', are.equal_to(2020)).sort(\"population_total\", descending=True).take(np.arange(50)).column('geo')\n",
    "population_of_big_50 = population.where('time', are.above(1959)).where('geo', are.contained_in(big_50))\n",
    "\n",
    "def stats_for_year(year):\n",
    "    \"\"\"Return a table of the stats for each country that year.\"\"\"\n",
    "    p = population_of_big_50.where('time', are.equal_to(year)).drop('time')\n",
    "    f = fertility.where('time', are.equal_to(year)).drop('time')\n",
    "    c = child_mortality.where('time', are.equal_to(year)).drop('time')\n",
    "    \n",
    "    stats = p.join('geo', f, 'geo').join('geo', c, 'geo').sort('population_total', descending=True)\n",
    "    stats.relabel(1, 'population_total').relabel(2, 'children_per_woman_total_fertility').relabel(3, 'child_mortality_under_5_per_1000_born')\n",
    "    return stats\n",
    "#stats_for_year(1981)"
   ]
  },
  {
   "cell_type": "code",
   "execution_count": 94,
   "id": "3ae8eb1e",
   "metadata": {
    "deletable": false,
    "editable": false
   },
   "outputs": [
    {
     "data": {
      "text/html": [
       "<p><strong><pre style='display: inline;'>q1_11</pre></strong> passed! 🙌</p>"
      ],
      "text/plain": [
       "q1_11 results: All test cases passed!"
      ]
     },
     "execution_count": 94,
     "metadata": {},
     "output_type": "execute_result"
    }
   ],
   "source": [
    "grader.check(\"q1_11\")"
   ]
  },
  {
   "cell_type": "markdown",
   "id": "d7e4e0a0",
   "metadata": {},
   "source": [
    "**Question 12.** Create a table called `pop_by_decade` with two columns called `decade` and `population`, in this order. It has a row for each year that starts a decade, in increasing order starting with 1960 and ending with 2020. For example, 1960 is the start of the 1960's decade. The `population` column contains the total population of all countries included in the result of `stats_for_year(year)` for the first `year` of the decade. You should see that these countries contain most of the world's population.\n",
    "\n",
    "*Hint:* One approach is to define a function `pop_for_year` that computes this total population, then `apply` it to the `decade` column.  **Think about how you can use the `stats_for_year` function** from the previous question if you want to implement `pop_for_year`.\n",
    "\n",
    "This first test is just a sanity check for your helper function if you choose to use it. **You will not lose points for not implementing the function `pop_for_year`**.\n",
    "\n",
    "**Note:** The cell where you will generate the `pop_by_decade` table is below the cell where you can choose to define the helper function `pop_for_year`. You should define your `pop_by_decade` table in the cell that starts with the table `decades` being defined. \n"
   ]
  },
  {
   "cell_type": "code",
   "execution_count": 95,
   "id": "f9344fcc",
   "metadata": {
    "tags": []
   },
   "outputs": [
    {
     "data": {
      "text/html": [
       "<table border=\"1\" class=\"dataframe\">\n",
       "    <thead>\n",
       "        <tr>\n",
       "            <th>decade</th> <th>population</th>\n",
       "        </tr>\n",
       "    </thead>\n",
       "    <tbody>\n",
       "        <tr>\n",
       "            <td>1960  </td> <td>2,635,123,897</td>\n",
       "        </tr>\n",
       "        <tr>\n",
       "            <td>1970  </td> <td>3,221,457,416</td>\n",
       "        </tr>\n",
       "        <tr>\n",
       "            <td>1980  </td> <td>3,890,044,418</td>\n",
       "        </tr>\n",
       "        <tr>\n",
       "            <td>1990  </td> <td>4,656,339,803</td>\n",
       "        </tr>\n",
       "        <tr>\n",
       "            <td>2000  </td> <td>5,377,062,169</td>\n",
       "        </tr>\n",
       "        <tr>\n",
       "            <td>2010  </td> <td>6,064,674,132</td>\n",
       "        </tr>\n",
       "        <tr>\n",
       "            <td>2020  </td> <td>6,765,161,289</td>\n",
       "        </tr>\n",
       "    </tbody>\n",
       "</table>"
      ],
      "text/plain": [
       "decade | population\n",
       "1960   | 2,635,123,897\n",
       "1970   | 3,221,457,416\n",
       "1980   | 3,890,044,418\n",
       "1990   | 4,656,339,803\n",
       "2000   | 5,377,062,169\n",
       "2010   | 6,064,674,132\n",
       "2020   | 6,765,161,289"
      ]
     },
     "execution_count": 95,
     "metadata": {},
     "output_type": "execute_result"
    }
   ],
   "source": [
    "def pop_for_year(year):\n",
    "    \"\"\"Return the total population for the specified year.\"\"\"\n",
    "    return sum(stats_for_year(year).column('population_total'))\n",
    "\n",
    "decades = Table().with_column('decade', np.arange(1960, 2021, 10))\n",
    "populations = []\n",
    "for year in decades.column('decade'):\n",
    "    populations.append(pop_for_year(year))\n",
    "pop_by_decade = Table().with_columns(\n",
    "       'decade', decades.column('decade'), \n",
    "       'population', populations)\n",
    "pop_by_decade.set_format('population', NumberFormatter)\n",
    "pop_by_decade                             "
   ]
  },
  {
   "cell_type": "code",
   "execution_count": 96,
   "id": "38cf4f2c",
   "metadata": {
    "deletable": false,
    "editable": false
   },
   "outputs": [
    {
     "data": {
      "text/html": [
       "<p><strong><pre style='display: inline;'>q1_12_0</pre></strong> passed! 🎉</p>"
      ],
      "text/plain": [
       "q1_12_0 results: All test cases passed!"
      ]
     },
     "execution_count": 96,
     "metadata": {},
     "output_type": "execute_result"
    }
   ],
   "source": [
    "grader.check(\"q1_12_0\")"
   ]
  },
  {
   "cell_type": "markdown",
   "id": "523a82d4",
   "metadata": {},
   "source": [
    "Now that you've defined your helper function (if you've chosen to do so), define the `pop_by_decade` table.\n"
   ]
  },
  {
   "cell_type": "code",
   "execution_count": 97,
   "id": "466707a2",
   "metadata": {
    "deletable": false,
    "tags": []
   },
   "outputs": [
    {
     "data": {
      "text/html": [
       "<table border=\"1\" class=\"dataframe\">\n",
       "    <thead>\n",
       "        <tr>\n",
       "            <th>decade</th> <th>population</th>\n",
       "        </tr>\n",
       "    </thead>\n",
       "    <tbody>\n",
       "        <tr>\n",
       "            <td>1960  </td> <td>2,635,123,897</td>\n",
       "        </tr>\n",
       "        <tr>\n",
       "            <td>1970  </td> <td>3,221,457,416</td>\n",
       "        </tr>\n",
       "        <tr>\n",
       "            <td>1980  </td> <td>3,890,044,418</td>\n",
       "        </tr>\n",
       "        <tr>\n",
       "            <td>1990  </td> <td>4,656,339,803</td>\n",
       "        </tr>\n",
       "        <tr>\n",
       "            <td>2000  </td> <td>5,377,062,169</td>\n",
       "        </tr>\n",
       "        <tr>\n",
       "            <td>2010  </td> <td>6,064,674,132</td>\n",
       "        </tr>\n",
       "        <tr>\n",
       "            <td>2020  </td> <td>6,765,161,289</td>\n",
       "        </tr>\n",
       "    </tbody>\n",
       "</table>"
      ],
      "text/plain": [
       "decade | population\n",
       "1960   | 2,635,123,897\n",
       "1970   | 3,221,457,416\n",
       "1980   | 3,890,044,418\n",
       "1990   | 4,656,339,803\n",
       "2000   | 5,377,062,169\n",
       "2010   | 6,064,674,132\n",
       "2020   | 6,765,161,289"
      ]
     },
     "execution_count": 97,
     "metadata": {},
     "output_type": "execute_result"
    }
   ],
   "source": [
    "decades = Table().with_column('decade', np.arange(1960, 2021, 10))\n",
    "\n",
    "pop_by_decade = Table().with_columns(\n",
    "       'decade', decades.column('decade'), \n",
    "       'population', populations)\n",
    "pop_by_decade.set_format('population', NumberFormatter)\n",
    "pop_by_decade   \n",
    "\n",
    "pop_by_decade.set_format(1, NumberFormatter)"
   ]
  },
  {
   "cell_type": "code",
   "execution_count": 98,
   "id": "7160f0af",
   "metadata": {
    "deletable": false,
    "editable": false
   },
   "outputs": [
    {
     "data": {
      "text/html": [
       "<p><strong><pre style='display: inline;'>q1_12</pre></strong> passed! ✨</p>"
      ],
      "text/plain": [
       "q1_12 results: All test cases passed!"
      ]
     },
     "execution_count": 98,
     "metadata": {},
     "output_type": "execute_result"
    }
   ],
   "source": [
    "grader.check(\"q1_12\")"
   ]
  },
  {
   "cell_type": "markdown",
   "id": "08be0bba",
   "metadata": {
    "deletable": false,
    "editable": false
   },
   "source": [
    "The `countries` table describes various characteristics of countries. The `country` column contains the same codes as the `geo` column in each of the other data tables (`population`, `fertility`, and `child_mortality`). The `world_6region` column classifies each country into a region of the world. Run the cell below to inspect the data."
   ]
  },
  {
   "cell_type": "code",
   "execution_count": 99,
   "id": "ed54d30c",
   "metadata": {},
   "outputs": [
    {
     "data": {
      "text/html": [
       "<table border=\"1\" class=\"dataframe\">\n",
       "    <thead>\n",
       "        <tr>\n",
       "            <th>country</th> <th>name</th> <th>world_6region</th>\n",
       "        </tr>\n",
       "    </thead>\n",
       "    <tbody>\n",
       "        <tr>\n",
       "            <td>afg    </td> <td>Afghanistan         </td> <td>south_asia              </td>\n",
       "        </tr>\n",
       "        <tr>\n",
       "            <td>ago    </td> <td>Angola              </td> <td>sub_saharan_africa      </td>\n",
       "        </tr>\n",
       "        <tr>\n",
       "            <td>alb    </td> <td>Albania             </td> <td>europe_central_asia     </td>\n",
       "        </tr>\n",
       "        <tr>\n",
       "            <td>and    </td> <td>Andorra             </td> <td>europe_central_asia     </td>\n",
       "        </tr>\n",
       "        <tr>\n",
       "            <td>are    </td> <td>United Arab Emirates</td> <td>middle_east_north_africa</td>\n",
       "        </tr>\n",
       "        <tr>\n",
       "            <td>arg    </td> <td>Argentina           </td> <td>america                 </td>\n",
       "        </tr>\n",
       "        <tr>\n",
       "            <td>arm    </td> <td>Armenia             </td> <td>europe_central_asia     </td>\n",
       "        </tr>\n",
       "        <tr>\n",
       "            <td>atg    </td> <td>Antigua and Barbuda </td> <td>america                 </td>\n",
       "        </tr>\n",
       "        <tr>\n",
       "            <td>aus    </td> <td>Australia           </td> <td>east_asia_pacific       </td>\n",
       "        </tr>\n",
       "        <tr>\n",
       "            <td>aut    </td> <td>Austria             </td> <td>europe_central_asia     </td>\n",
       "        </tr>\n",
       "    </tbody>\n",
       "</table>\n",
       "<p>... (187 rows omitted)</p>"
      ],
      "text/plain": [
       "country | name                 | world_6region\n",
       "afg     | Afghanistan          | south_asia\n",
       "ago     | Angola               | sub_saharan_africa\n",
       "alb     | Albania              | europe_central_asia\n",
       "and     | Andorra              | europe_central_asia\n",
       "are     | United Arab Emirates | middle_east_north_africa\n",
       "arg     | Argentina            | america\n",
       "arm     | Armenia              | europe_central_asia\n",
       "atg     | Antigua and Barbuda  | america\n",
       "aus     | Australia            | east_asia_pacific\n",
       "aut     | Austria              | europe_central_asia\n",
       "... (187 rows omitted)"
      ]
     },
     "execution_count": 99,
     "metadata": {},
     "output_type": "execute_result"
    }
   ],
   "source": [
    "countries = Table.read_table('countries.csv').where('country', are.contained_in(population.group('geo').column('geo')))\n",
    "countries.select('country', 'name', 'world_6region')"
   ]
  },
  {
   "cell_type": "markdown",
   "id": "06ead7e6",
   "metadata": {},
   "source": [
    "**Question 13.** Create a table called `region_counts`. It should contain two columns called `region` and `count`. The `region` column should contain regions of the world, and the `count` column should contain the number of countries in each region that appears in the result of `stats_for_year(2020)`. \n",
    "\n",
    "For example, one row would have `south_asia` as its `region` value and an integer as its `count` value: the number of large South Asian countries for which we have population, fertility, and child mortality numbers from 2020.\n",
    "\n",
    "*Hint*: You may have to relabel a column to name it `region`. \n"
   ]
  },
  {
   "cell_type": "code",
   "execution_count": 100,
   "id": "6e5f0090",
   "metadata": {
    "deletable": false,
    "tags": []
   },
   "outputs": [
    {
     "data": {
      "text/html": [
       "<table border=\"1\" class=\"dataframe\">\n",
       "    <thead>\n",
       "        <tr>\n",
       "            <th>region</th> <th>count</th>\n",
       "        </tr>\n",
       "    </thead>\n",
       "    <tbody>\n",
       "        <tr>\n",
       "            <td>america                 </td> <td>8    </td>\n",
       "        </tr>\n",
       "        <tr>\n",
       "            <td>east_asia_pacific       </td> <td>9    </td>\n",
       "        </tr>\n",
       "        <tr>\n",
       "            <td>europe_central_asia     </td> <td>10   </td>\n",
       "        </tr>\n",
       "        <tr>\n",
       "            <td>middle_east_north_africa</td> <td>7    </td>\n",
       "        </tr>\n",
       "        <tr>\n",
       "            <td>south_asia              </td> <td>5    </td>\n",
       "        </tr>\n",
       "        <tr>\n",
       "            <td>sub_saharan_africa      </td> <td>11   </td>\n",
       "        </tr>\n",
       "    </tbody>\n",
       "</table>"
      ],
      "text/plain": [
       "region                   | count\n",
       "america                  | 8\n",
       "east_asia_pacific        | 9\n",
       "europe_central_asia      | 10\n",
       "middle_east_north_africa | 7\n",
       "south_asia               | 5\n",
       "sub_saharan_africa       | 11"
      ]
     },
     "execution_count": 100,
     "metadata": {},
     "output_type": "execute_result"
    }
   ],
   "source": [
    "stats_for_2020 = stats_for_year(2020).drop(1,2,3)\n",
    "region_counts = stats_for_year(2020).join('geo', countries, 'country').select('world_6region').relabel('world_6region', 'region').group('region')\n",
    "region_counts"
   ]
  },
  {
   "cell_type": "code",
   "execution_count": 101,
   "id": "c2bf8f9f",
   "metadata": {
    "deletable": false,
    "editable": false
   },
   "outputs": [
    {
     "data": {
      "text/html": [
       "<p><strong><pre style='display: inline;'>q1_13</pre></strong> passed! 🌈</p>"
      ],
      "text/plain": [
       "q1_13 results: All test cases passed!"
      ]
     },
     "execution_count": 101,
     "metadata": {},
     "output_type": "execute_result"
    }
   ],
   "source": [
    "grader.check(\"q1_13\")"
   ]
  },
  {
   "cell_type": "markdown",
   "id": "53089311",
   "metadata": {
    "deletable": false
   },
   "source": [
    "The following scatter diagram compares total fertility rate and child mortality rate for each country in 1960. The area of each dot represents the population of the country, and the color represents its region of the world. Run the cell. Do you think you can identify any of the dots?"
   ]
  },
  {
   "cell_type": "code",
   "execution_count": 102,
   "id": "22bd9118",
   "metadata": {
    "deletable": false
   },
   "outputs": [
    {
     "data": {
      "image/png": "[encoded data removed]",
      "text/plain": [
       "<Figure size 500x500 with 1 Axes>"
      ]
     },
     "metadata": {},
     "output_type": "display_data"
    }
   ],
   "source": [
    "from functools import lru_cache as cache\n",
    "\n",
    "# This cache annotation makes sure that if the same year\n",
    "# is passed as an argument twice, the work of computing\n",
    "# the result is only carried out once.\n",
    "@cache(None)\n",
    "def stats_relabeled(year):\n",
    "    \"\"\"Relabeled and cached version of stats_for_year.\"\"\"\n",
    "    return stats_for_year(year).relabel(2, 'Children per woman').relabel(3, 'Child deaths per 1000 born')\n",
    "\n",
    "def fertility_vs_child_mortality(year):\n",
    "    \"\"\"Draw a color scatter diagram comparing child mortality and fertility.\"\"\"\n",
    "    with_region = stats_relabeled(year).join('geo', countries.select('country', 'world_6region'), 'country')\n",
    "    with_region.scatter(2, 3, sizes=1, group=4, s=500)\n",
    "    plots.xlim(0,10)\n",
    "    plots.ylim(-50, 500)\n",
    "    plots.title(year)\n",
    "    plots.show()\n",
    "\n",
    "fertility_vs_child_mortality(1960)"
   ]
  },
  {
   "cell_type": "markdown",
   "id": "bff39da6",
   "metadata": {},
   "source": [
    "**Question 14.** Assign `scatter_statements` to an array of the numbers of each statement below that can be inferred from this scatter diagram for 1960. \n",
    "1. All countries in `europe_central_asia` had uniformly low fertility rates.\n",
    "1. The lowest child mortality rate of any country was from an `east_asia_pacific` country.\n",
    "1. Most countries had a fertility rate above 5.\n",
    "1. There was an association between child mortality and fertility.\n",
    "1. The two largest countries by population also had the two highest child mortality rates.\n"
   ]
  },
  {
   "cell_type": "code",
   "execution_count": 103,
   "id": "64d9c939",
   "metadata": {
    "deletable": false,
    "tags": []
   },
   "outputs": [],
   "source": [
    "scatter_statements = make_array(1,3,4)"
   ]
  },
  {
   "cell_type": "code",
   "execution_count": 104,
   "id": "dce63b98",
   "metadata": {
    "deletable": false,
    "editable": false
   },
   "outputs": [
    {
     "data": {
      "text/html": [
       "<p><strong><pre style='display: inline;'>q1_14</pre></strong> passed! 🙌</p>"
      ],
      "text/plain": [
       "q1_14 results: All test cases passed!"
      ]
     },
     "execution_count": 104,
     "metadata": {},
     "output_type": "execute_result"
    }
   ],
   "source": [
    "grader.check(\"q1_14\")"
   ]
  },
  {
   "cell_type": "markdown",
   "id": "c9b5cca0",
   "metadata": {
    "deletable": false
   },
   "source": [
    "The result of the cell below is interactive. Drag the slider to the right to see how countries have changed over time. You’ll find that in terms of population growth, the divide between the countries of the global North and global South that existed in the 1960s has shrunk significantly. \n",
    "\n",
    "This shift in fertility rates is the reason that the global population is expected to grow more slowly in the 21st century than it did in the 19th and 20th centuries. Fertility rates change for reasons that include cultural patterns, better prospects for children surviving to adulthood, and family planning (such as contraception and women’s greater control over their reproduction).\n",
    "\n",
    "**Note:** Don't worry if a red warning pops up when running the cell below. You'll still be able to run the cell!"
   ]
  },
  {
   "cell_type": "code",
   "execution_count": 105,
   "id": "63d9e39a",
   "metadata": {
    "deletable": false,
    "scrolled": true
   },
   "outputs": [
    {
     "data": {
      "application/vnd.jupyter.widget-view+json": {
       "model_id": "9ae3585e043b4578ac8bbd3667639e1f",
       "version_major": 2,
       "version_minor": 0
      },
      "text/plain": [
       "interactive(children=(IntSlider(value=1960, description='year', max=2020, min=1960), Output()), _dom_classes=(…"
      ]
     },
     "metadata": {},
     "output_type": "display_data"
    }
   ],
   "source": [
    "_ = widgets.interact(fertility_vs_child_mortality, \n",
    "                     year=widgets.IntSlider(min=1960, max=2020, value=1960))"
   ]
  },
  {
   "cell_type": "markdown",
   "id": "5486cf52",
   "metadata": {
    "deletable": false,
    "editable": false
   },
   "source": [
    "Now is a great time to take a break and watch the same data presented by [Hans Rosling in a 2010 TEDx talk](https://www.gapminder.org/videos/reducing-child-mortality-a-moral-and-environmental-imperative) with smoother animation and witty commentary."
   ]
  },
  {
   "cell_type": "markdown",
   "id": "e8f57601",
   "metadata": {},
   "source": [
    "When we look at population and fertility as data scientists, we need to learn about the experiences of people in real life, not just abstractly as data. We should also recognize that population studies have sometimes had political undercurrents. Those undercurrents have included population control, control of women’s reproduction, or fears of shifts between racial groups. To do better as data scientists, we should check our assumptions to avoid unthinkingly reproducing past patterns."
   ]
  },
  {
   "cell_type": "markdown",
   "id": "15feac40",
   "metadata": {
    "deletable": false
   },
   "source": [
    "## 2. Global Poverty"
   ]
  },
  {
   "cell_type": "markdown",
   "id": "62359d0c",
   "metadata": {
    "deletable": false
   },
   "source": [
    "In 1800, 85% of the world's 1 billion people lived in [extreme poverty](https://en.wikipedia.org/wiki/Extreme_poverty), defined by the United Nations as \"a condition characterized by severe deprivation of basic human needs, including food, safe drinking water, sanitation facilities, health, shelter, education and information.\" At the time when the data in this project were gathered, a common definition of extreme poverty was a person living on less than \\$1.25 a day.\n",
    "\n",
    "In 2018, the proportion of people living in extreme poverty was estimated to be [about 9\\%](https://unstats.un.org/sdgs/report/2019/goal-01/). Although the world rate of extreme poverty has declined consistently for hundreds of years, the number of people living in extreme poverty is still over 600 million. The United Nations adopted an [ambitious goal](http://www.un.org/sustainabledevelopment/poverty/): \"By 2030, eradicate extreme poverty for all people everywhere.\"\n",
    "\n",
    "In this part of the project, we will examine some aspects of global poverty that might affect whether the goal is achievable. The causes of poverty are complex. They include global histories, such as colonialism, as well as factors such as health care, economics, and social inequality in each country."
   ]
  },
  {
   "cell_type": "markdown",
   "id": "3b2f51c6",
   "metadata": {
    "deletable": false,
    "editable": false
   },
   "source": [
    "First, load the population and poverty rate by country and year and the country descriptions. While the `population` table has values for every recent year for many countries, the `poverty` table only includes certain years for each country in which a measurement of the rate of extreme poverty was available."
   ]
  },
  {
   "cell_type": "code",
   "execution_count": 106,
   "id": "2b79b59a",
   "metadata": {},
   "outputs": [
    {
     "data": {
      "text/html": [
       "<table border=\"1\" class=\"dataframe\">\n",
       "    <thead>\n",
       "        <tr>\n",
       "            <th>geo</th> <th>time</th> <th>extreme_poverty_percent_people_below_125_a_day</th>\n",
       "        </tr>\n",
       "    </thead>\n",
       "    <tbody>\n",
       "        <tr>\n",
       "            <td>alb </td> <td>1996</td> <td>0.2                                           </td>\n",
       "        </tr>\n",
       "        <tr>\n",
       "            <td>alb </td> <td>2002</td> <td>0.73                                          </td>\n",
       "        </tr>\n",
       "        <tr>\n",
       "            <td>alb </td> <td>2004</td> <td>0.53                                          </td>\n",
       "        </tr>\n",
       "    </tbody>\n",
       "</table>\n",
       "<p>... (1096 rows omitted)</p>"
      ],
      "text/plain": [
       "<IPython.core.display.HTML object>"
      ]
     },
     "metadata": {},
     "output_type": "display_data"
    }
   ],
   "source": [
    "population = Table.read_table('population.csv')\n",
    "countries = Table.read_table('countries.csv').where('country', are.contained_in(population.group('geo').column('geo')))\n",
    "poverty = Table.read_table('poverty.csv')\n",
    "poverty.show(3)"
   ]
  },
  {
   "cell_type": "markdown",
   "id": "9bcffa80",
   "metadata": {},
   "source": [
    "**Question 1.** Assign `latest_poverty` to a three-column table with one row for each country that appears in the `poverty` table. The first column should contain the 3-letter code for the country. The second column should contain the most recent year for which an extreme poverty rate is available for the country. The third column should contain the poverty rate in that year. **Do not change the last line, so that the labels of your table are set correctly.**\n",
    "\n",
    "*Hint*: think about how ```group``` works: it does a sequential search of the table (from top to bottom) and collects values in the array in the order in which they appear, and then applies a function to that array. The `first` function may be helpful, but you are not required to use it.\n"
   ]
  },
  {
   "cell_type": "code",
   "execution_count": 107,
   "id": "6a463bf5",
   "metadata": {
    "deletable": false,
    "tags": []
   },
   "outputs": [
    {
     "data": {
      "text/html": [
       "<table border=\"1\" class=\"dataframe\">\n",
       "    <thead>\n",
       "        <tr>\n",
       "            <th>geo</th> <th>time</th> <th>poverty_percent</th>\n",
       "        </tr>\n",
       "    </thead>\n",
       "    <tbody>\n",
       "        <tr>\n",
       "            <td>ago </td> <td>2009</td> <td>43.37          </td>\n",
       "        </tr>\n",
       "        <tr>\n",
       "            <td>alb </td> <td>2012</td> <td>0.46           </td>\n",
       "        </tr>\n",
       "        <tr>\n",
       "            <td>arg </td> <td>2011</td> <td>1.41           </td>\n",
       "        </tr>\n",
       "        <tr>\n",
       "            <td>arm </td> <td>2012</td> <td>1.75           </td>\n",
       "        </tr>\n",
       "        <tr>\n",
       "            <td>aus </td> <td>2003</td> <td>1.36           </td>\n",
       "        </tr>\n",
       "        <tr>\n",
       "            <td>aut </td> <td>2004</td> <td>0.34           </td>\n",
       "        </tr>\n",
       "        <tr>\n",
       "            <td>aze </td> <td>2008</td> <td>0.31           </td>\n",
       "        </tr>\n",
       "        <tr>\n",
       "            <td>bdi </td> <td>2006</td> <td>81.32          </td>\n",
       "        </tr>\n",
       "        <tr>\n",
       "            <td>bel </td> <td>2000</td> <td>0.5            </td>\n",
       "        </tr>\n",
       "        <tr>\n",
       "            <td>ben </td> <td>2012</td> <td>51.61          </td>\n",
       "        </tr>\n",
       "    </tbody>\n",
       "</table>\n",
       "<p>... (135 rows omitted)</p>"
      ],
      "text/plain": [
       "geo  | time | poverty_percent\n",
       "ago  | 2009 | 43.37\n",
       "alb  | 2012 | 0.46\n",
       "arg  | 2011 | 1.41\n",
       "arm  | 2012 | 1.75\n",
       "aus  | 2003 | 1.36\n",
       "aut  | 2004 | 0.34\n",
       "aze  | 2008 | 0.31\n",
       "bdi  | 2006 | 81.32\n",
       "bel  | 2000 | 0.5\n",
       "ben  | 2012 | 51.61\n",
       "... (135 rows omitted)"
      ]
     },
     "execution_count": 107,
     "metadata": {},
     "output_type": "execute_result"
    }
   ],
   "source": [
    "def first(values):\n",
    "    return values.item(0)\n",
    "\n",
    "latest_poverty = (poverty.sort('geo').group('geo').column(1))\n",
    "latest_poverty = poverty.sort('geo').take(np.cumsum(latest_poverty)-1)\n",
    "latest_poverty = latest_poverty.relabeled(0, 'geo').relabeled(1, 'time').relabeled(2, 'poverty_percent') # You should *not* change this line.\n",
    "latest_poverty"
   ]
  },
  {
   "cell_type": "code",
   "execution_count": 108,
   "id": "91c42890",
   "metadata": {
    "deletable": false,
    "editable": false
   },
   "outputs": [
    {
     "data": {
      "text/html": [
       "<p><strong><pre style='display: inline;'>q2_1</pre></strong> passed! 🚀</p>"
      ],
      "text/plain": [
       "q2_1 results: All test cases passed!"
      ]
     },
     "execution_count": 108,
     "metadata": {},
     "output_type": "execute_result"
    }
   ],
   "source": [
    "grader.check(\"q2_1\")"
   ]
  },
  {
   "cell_type": "markdown",
   "id": "47d7c179",
   "metadata": {},
   "source": [
    "**Question 2.** Using both `latest_poverty` and `population`, create a four-column table called `recent_poverty_total` with one row for each country in `latest_poverty`. The four columns should have the following labels and contents:\n",
    "1. `geo` contains the 3-letter country code,\n",
    "1. `poverty_percent` contains the most recent poverty percent,\n",
    "1. `population_total` contains the population of the country in 2010,\n",
    "1. `poverty_total` contains the number of people in poverty **rounded to the nearest integer**, based on the 2010 population and most recent poverty rate.\n",
    "\n",
    "*Hint*: You are not required to use `poverty_and_pop`, and you are always welcome to add any additional names. "
   ]
  },
  {
   "cell_type": "code",
   "execution_count": 109,
   "id": "9106d954",
   "metadata": {
    "deletable": false,
    "tags": []
   },
   "outputs": [
    {
     "data": {
      "text/html": [
       "<table border=\"1\" class=\"dataframe\">\n",
       "    <thead>\n",
       "        <tr>\n",
       "            <th>geo</th> <th>poverty_percent</th> <th>population_total</th> <th>poverty_total</th>\n",
       "        </tr>\n",
       "    </thead>\n",
       "    <tbody>\n",
       "        <tr>\n",
       "            <td>ago </td> <td>43.37          </td> <td>23356247        </td> <td>1.01296e+07  </td>\n",
       "        </tr>\n",
       "        <tr>\n",
       "            <td>alb </td> <td>0.46           </td> <td>2948029         </td> <td>13561        </td>\n",
       "        </tr>\n",
       "        <tr>\n",
       "            <td>arg </td> <td>1.41           </td> <td>40895751        </td> <td>576630       </td>\n",
       "        </tr>\n",
       "        <tr>\n",
       "            <td>arm </td> <td>1.75           </td> <td>2877314         </td> <td>50353        </td>\n",
       "        </tr>\n",
       "        <tr>\n",
       "            <td>aus </td> <td>1.36           </td> <td>22154687        </td> <td>301304       </td>\n",
       "        </tr>\n",
       "        <tr>\n",
       "            <td>aut </td> <td>0.34           </td> <td>8409945         </td> <td>28594        </td>\n",
       "        </tr>\n",
       "        <tr>\n",
       "            <td>aze </td> <td>0.31           </td> <td>9032465         </td> <td>28001        </td>\n",
       "        </tr>\n",
       "        <tr>\n",
       "            <td>bdi </td> <td>81.32          </td> <td>8675606         </td> <td>7.055e+06    </td>\n",
       "        </tr>\n",
       "        <tr>\n",
       "            <td>bel </td> <td>0.5            </td> <td>10938735        </td> <td>54694        </td>\n",
       "        </tr>\n",
       "        <tr>\n",
       "            <td>ben </td> <td>51.61          </td> <td>9199254         </td> <td>4.74774e+06  </td>\n",
       "        </tr>\n",
       "    </tbody>\n",
       "</table>\n",
       "<p>... (135 rows omitted)</p>"
      ],
      "text/plain": [
       "geo  | poverty_percent | population_total | poverty_total\n",
       "ago  | 43.37           | 23356247         | 1.01296e+07\n",
       "alb  | 0.46            | 2948029          | 13561\n",
       "arg  | 1.41            | 40895751         | 576630\n",
       "arm  | 1.75            | 2877314          | 50353\n",
       "aus  | 1.36            | 22154687         | 301304\n",
       "aut  | 0.34            | 8409945          | 28594\n",
       "aze  | 0.31            | 9032465          | 28001\n",
       "bdi  | 81.32           | 8675606          | 7.055e+06\n",
       "bel  | 0.5             | 10938735         | 54694\n",
       "ben  | 51.61           | 9199254          | 4.74774e+06\n",
       "... (135 rows omitted)"
      ]
     },
     "execution_count": 109,
     "metadata": {},
     "output_type": "execute_result"
    }
   ],
   "source": [
    "population_2010 = population.where('time', are.equal_to(2010))\n",
    "\n",
    "recent_poverty_total = latest_poverty.join('geo', population_2010 , 'geo').drop(1,3)\n",
    "\n",
    "pov_array = recent_poverty_total.column('poverty_percent')/100\n",
    "pop_array = recent_poverty_total.column('population_total')\n",
    "new_array = np.round(pov_array * pop_array, 0)\n",
    "\n",
    "recent_poverty_total = recent_poverty_total.with_columns('poverty_total', new_array)\n",
    "recent_poverty_total"
   ]
  },
  {
   "cell_type": "code",
   "execution_count": 110,
   "id": "6d9adb69",
   "metadata": {
    "deletable": false,
    "editable": false
   },
   "outputs": [
    {
     "data": {
      "text/html": [
       "<p><strong><pre style='display: inline;'>q2_2</pre></strong> passed! 🌟</p>"
      ],
      "text/plain": [
       "q2_2 results: All test cases passed!"
      ]
     },
     "execution_count": 110,
     "metadata": {},
     "output_type": "execute_result"
    }
   ],
   "source": [
    "grader.check(\"q2_2\")"
   ]
  },
  {
   "cell_type": "markdown",
   "id": "dbd03dca",
   "metadata": {},
   "source": [
    "**Question 3.** Assign the name `poverty_percent` to the known percentage of the world’s 2010 population that were living in extreme poverty. Assume that the `poverty_total` numbers in the `recent_poverty_total` table describe **all** people in 2010 living in extreme poverty. You should get a number that is above the 2018 global estimate of 9%, since many country-specific poverty rates are older than 2018.\n",
    "\n",
    "*Hint*: The sum of the `population_total` column in the `recent_poverty_total` table is not the world population, because only a subset of the world's countries are included in the `recent_poverty_total` table (only some countries have known poverty rates). Use the `population` table to compute the world's 2010 total population.\n",
    "\n",
    "*Hint*: We are computing a percentage (value between 0 and 100), not a proportion (value between 0 and 1).\n"
   ]
  },
  {
   "cell_type": "code",
   "execution_count": 111,
   "id": "5857e157",
   "metadata": {
    "deletable": false,
    "tags": []
   },
   "outputs": [
    {
     "data": {
      "text/plain": [
       "14.248865303997139"
      ]
     },
     "execution_count": 111,
     "metadata": {},
     "output_type": "execute_result"
    }
   ],
   "source": [
    "poverty_percent = (sum(recent_poverty_total.column('poverty_total')) / sum(population_2010.column('population_total'))) *100\n",
    "poverty_percent"
   ]
  },
  {
   "cell_type": "code",
   "execution_count": 112,
   "id": "fc59d213",
   "metadata": {
    "deletable": false,
    "editable": false
   },
   "outputs": [
    {
     "data": {
      "text/html": [
       "<p><strong><pre style='display: inline;'>q2_3</pre></strong> passed! 🎉</p>"
      ],
      "text/plain": [
       "q2_3 results: All test cases passed!"
      ]
     },
     "execution_count": 112,
     "metadata": {},
     "output_type": "execute_result"
    }
   ],
   "source": [
    "grader.check(\"q2_3\")"
   ]
  },
  {
   "cell_type": "markdown",
   "id": "e25824dd",
   "metadata": {
    "deletable": false,
    "editable": false
   },
   "source": [
    "The `countries` table includes not only the name and region of countries, but also their positions on the globe."
   ]
  },
  {
   "cell_type": "code",
   "execution_count": 113,
   "id": "9502875b",
   "metadata": {
    "deletable": false,
    "editable": false
   },
   "outputs": [
    {
     "data": {
      "text/html": [
       "<table border=\"1\" class=\"dataframe\">\n",
       "    <thead>\n",
       "        <tr>\n",
       "            <th>country</th> <th>name</th> <th>world_4region</th> <th>latitude</th> <th>longitude</th>\n",
       "        </tr>\n",
       "    </thead>\n",
       "    <tbody>\n",
       "        <tr>\n",
       "            <td>afg    </td> <td>Afghanistan         </td> <td>asia         </td> <td>33      </td> <td>66       </td>\n",
       "        </tr>\n",
       "        <tr>\n",
       "            <td>ago    </td> <td>Angola              </td> <td>africa       </td> <td>-12.5   </td> <td>18.5     </td>\n",
       "        </tr>\n",
       "        <tr>\n",
       "            <td>alb    </td> <td>Albania             </td> <td>europe       </td> <td>41      </td> <td>20       </td>\n",
       "        </tr>\n",
       "        <tr>\n",
       "            <td>and    </td> <td>Andorra             </td> <td>europe       </td> <td>42.5078 </td> <td>1.52109  </td>\n",
       "        </tr>\n",
       "        <tr>\n",
       "            <td>are    </td> <td>United Arab Emirates</td> <td>asia         </td> <td>23.75   </td> <td>54.5     </td>\n",
       "        </tr>\n",
       "        <tr>\n",
       "            <td>arg    </td> <td>Argentina           </td> <td>americas     </td> <td>-34     </td> <td>-64      </td>\n",
       "        </tr>\n",
       "        <tr>\n",
       "            <td>arm    </td> <td>Armenia             </td> <td>europe       </td> <td>40.25   </td> <td>45       </td>\n",
       "        </tr>\n",
       "        <tr>\n",
       "            <td>atg    </td> <td>Antigua and Barbuda </td> <td>americas     </td> <td>17.05   </td> <td>-61.8    </td>\n",
       "        </tr>\n",
       "        <tr>\n",
       "            <td>aus    </td> <td>Australia           </td> <td>asia         </td> <td>-25     </td> <td>135      </td>\n",
       "        </tr>\n",
       "        <tr>\n",
       "            <td>aut    </td> <td>Austria             </td> <td>europe       </td> <td>47.3333 </td> <td>13.3333  </td>\n",
       "        </tr>\n",
       "    </tbody>\n",
       "</table>\n",
       "<p>... (187 rows omitted)</p>"
      ],
      "text/plain": [
       "country | name                 | world_4region | latitude | longitude\n",
       "afg     | Afghanistan          | asia          | 33       | 66\n",
       "ago     | Angola               | africa        | -12.5    | 18.5\n",
       "alb     | Albania              | europe        | 41       | 20\n",
       "and     | Andorra              | europe        | 42.5078  | 1.52109\n",
       "are     | United Arab Emirates | asia          | 23.75    | 54.5\n",
       "arg     | Argentina            | americas      | -34      | -64\n",
       "arm     | Armenia              | europe        | 40.25    | 45\n",
       "atg     | Antigua and Barbuda  | americas      | 17.05    | -61.8\n",
       "aus     | Australia            | asia          | -25      | 135\n",
       "aut     | Austria              | europe        | 47.3333  | 13.3333\n",
       "... (187 rows omitted)"
      ]
     },
     "execution_count": 113,
     "metadata": {},
     "output_type": "execute_result"
    }
   ],
   "source": [
    "countries.select('country', 'name', 'world_4region', 'latitude', 'longitude')"
   ]
  },
  {
   "cell_type": "markdown",
   "id": "69d6cc99",
   "metadata": {},
   "source": [
    "**Question 4.** Using both `countries` and `recent_poverty_total`, create a five-column table called `poverty_map` with one row for every country in `recent_poverty_total`.  The five columns should have the following labels and contents, in this order:\n",
    "1. `latitude` contains the country's latitude,\n",
    "1. `longitude` contains the country's longitude,\n",
    "1. `name` contains the country's name,\n",
    "1. `region` contains the country's region from the `world_4region` column of `countries`,\n",
    "1. `poverty_total` contains the country's poverty total.\n"
   ]
  },
  {
   "cell_type": "code",
   "execution_count": 114,
   "id": "bd598f0c",
   "metadata": {
    "deletable": false,
    "tags": []
   },
   "outputs": [],
   "source": [
    "countries = countries.with_column('geo', countries.column('country'))\n",
    "updated_countries = recent_poverty_total.drop(1,2).with_columns().join('geo', countries)\n",
    "\n",
    "poverty_map = Table().with_columns('latitude', updated_countries.column('latitude'), 'longitude', updated_countries.column('longitude'),\n",
    "                                   'name', updated_countries.column('name'), 'region', updated_countries.column('world_4region'),\n",
    "                                   'poverty_total', updated_countries.column(1))"
   ]
  },
  {
   "cell_type": "code",
   "execution_count": 115,
   "id": "6094b983",
   "metadata": {
    "deletable": false,
    "editable": false
   },
   "outputs": [
    {
     "data": {
      "text/html": [
       "<p><strong><pre style='display: inline;'>q2_4</pre></strong> passed! 🌟</p>"
      ],
      "text/plain": [
       "q2_4 results: All test cases passed!"
      ]
     },
     "execution_count": 115,
     "metadata": {},
     "output_type": "execute_result"
    }
   ],
   "source": [
    "grader.check(\"q2_4\")"
   ]
  },
  {
   "cell_type": "markdown",
   "id": "4b635a46",
   "metadata": {
    "deletable": false,
    "editable": false
   },
   "source": [
    "Run the cell below to draw a map of the world in which the areas of circles represent the number of people living in extreme poverty. Double-click on the map to zoom in.\n",
    "\n",
    "> ***Note:*** If the cell below isn't loading, you can view the output [here](https://github.jonathanferrari.com/static/poverty_map.html)"
   ]
  },
  {
   "cell_type": "code",
   "execution_count": 116,
   "id": "cd56cd98",
   "metadata": {
    "deletable": false,
    "editable": false,
    "scrolled": true
   },
   "outputs": [
    {
     "data": {
      "text/html": [
       "<div style=\"width:100%;\"><div style=\"position:relative;width:100%;height:0;padding-bottom:60%;\"><span style=\"color:#565656\">Make this Notebook Trusted to load map: File -> Trust Notebook</span><iframe srcdoc=\"&lt;!DOCTYPE html&gt;\n",
       "&lt;html&gt;\n",
       "&lt;head&gt;\n",
       "    \n",
       "    &lt;meta http-equiv=&quot;content-type&quot; content=&quot;text/html; charset=UTF-8&quot; /&gt;\n",
       "    \n",
       "        &lt;script&gt;\n",
       "            L_NO_TOUCH = false;\n",
       "            L_DISABLE_3D = false;\n",
       "        &lt;/script&gt;\n",
       "    \n",
       "    &lt;style&gt;html, body {width: 100%;height: 100%;margin: 0;padding: 0;}&lt;/style&gt;\n",
       "    &lt;style&gt;#map {position:absolute;top:0;bottom:0;right:0;left:0;}&lt;/style&gt;\n",
       "    &lt;script src=&quot;https://cdn.jsdelivr.net/npm/leaflet@1.6.0/dist/leaflet.js&quot;&gt;&lt;/script&gt;\n",
       "    &lt;script src=&quot;https://code.jquery.com/jquery-1.12.4.min.js&quot;&gt;&lt;/script&gt;\n",
       "    &lt;script src=&quot;https://maxcdn.bootstrapcdn.com/bootstrap/3.2.0/js/bootstrap.min.js&quot;&gt;&lt;/script&gt;\n",
       "    &lt;script src=&quot;https://cdnjs.cloudflare.com/ajax/libs/Leaflet.awesome-markers/2.0.2/leaflet.awesome-markers.js&quot;&gt;&lt;/script&gt;\n",
       "    &lt;link rel=&quot;stylesheet&quot; href=&quot;https://cdn.jsdelivr.net/npm/leaflet@1.6.0/dist/leaflet.css&quot;/&gt;\n",
       "    &lt;link rel=&quot;stylesheet&quot; href=&quot;https://maxcdn.bootstrapcdn.com/bootstrap/3.2.0/css/bootstrap.min.css&quot;/&gt;\n",
       "    &lt;link rel=&quot;stylesheet&quot; href=&quot;https://maxcdn.bootstrapcdn.com/bootstrap/3.2.0/css/bootstrap-theme.min.css&quot;/&gt;\n",
       "    &lt;link rel=&quot;stylesheet&quot; href=&quot;https://maxcdn.bootstrapcdn.com/font-awesome/4.6.3/css/font-awesome.min.css&quot;/&gt;\n",
       "    &lt;link rel=&quot;stylesheet&quot; href=&quot;https://cdnjs.cloudflare.com/ajax/libs/Leaflet.awesome-markers/2.0.2/leaflet.awesome-markers.css&quot;/&gt;\n",
       "    &lt;link rel=&quot;stylesheet&quot; href=&quot;https://cdn.jsdelivr.net/gh/python-visualization/folium/folium/templates/leaflet.awesome.rotate.min.css&quot;/&gt;\n",
       "    \n",
       "            &lt;meta name=&quot;viewport&quot; content=&quot;width=device-width,\n",
       "                initial-scale=1.0, maximum-scale=1.0, user-scalable=no&quot; /&gt;\n",
       "            &lt;style&gt;\n",
       "                #map_0ed39705f982cba5b49e80a3b39f571d {\n",
       "                    position: relative;\n",
       "                    width: 960.0px;\n",
       "                    height: 500.0px;\n",
       "                    left: 0.0%;\n",
       "                    top: 0.0%;\n",
       "                }\n",
       "            &lt;/style&gt;\n",
       "        \n",
       "&lt;/head&gt;\n",
       "&lt;body&gt;\n",
       "    \n",
       "    \n",
       "            &lt;div class=&quot;folium-map&quot; id=&quot;map_0ed39705f982cba5b49e80a3b39f571d&quot; &gt;&lt;/div&gt;\n",
       "        \n",
       "&lt;/body&gt;\n",
       "&lt;script&gt;\n",
       "    \n",
       "    \n",
       "            var map_0ed39705f982cba5b49e80a3b39f571d = L.map(\n",
       "                &quot;map_0ed39705f982cba5b49e80a3b39f571d&quot;,\n",
       "                {\n",
       "                    center: [15.0, 32.17871],\n",
       "                    crs: L.CRS.EPSG3857,\n",
       "                    zoom: 1,\n",
       "                    zoomControl: true,\n",
       "                    preferCanvas: false,\n",
       "                    clusteredMarker: false,\n",
       "                    includeColorScaleOutliers: true,\n",
       "                    radiusInMeters: false,\n",
       "                }\n",
       "            );\n",
       "\n",
       "            \n",
       "\n",
       "        \n",
       "    \n",
       "            var tile_layer_331949e9fb095004986ceada20bf3dd6 = L.tileLayer(\n",
       "                &quot;https://{s}.tile.openstreetmap.org/{z}/{x}/{y}.png&quot;,\n",
       "                {&quot;attribution&quot;: &quot;Data by \\u0026copy; \\u003ca href=\\&quot;http://openstreetmap.org\\&quot;\\u003eOpenStreetMap\\u003c/a\\u003e, under \\u003ca href=\\&quot;http://www.openstreetmap.org/copyright\\&quot;\\u003eODbL\\u003c/a\\u003e.&quot;, &quot;detectRetina&quot;: false, &quot;maxNativeZoom&quot;: 17, &quot;maxZoom&quot;: 17, &quot;minZoom&quot;: -1, &quot;noWrap&quot;: false, &quot;opacity&quot;: 1, &quot;subdomains&quot;: &quot;abc&quot;, &quot;tms&quot;: false}\n",
       "            ).addTo(map_0ed39705f982cba5b49e80a3b39f571d);\n",
       "        \n",
       "    \n",
       "            var circle_marker_c593f1080b74c76506e7e8ca7d641375 = L.circleMarker(\n",
       "                [-12.5, 18.5],\n",
       "                {&quot;bubblingMouseEvents&quot;: true, &quot;color&quot;: &quot;#3388ff&quot;, &quot;dashArray&quot;: null, &quot;dashOffset&quot;: null, &quot;fill&quot;: true, &quot;fillColor&quot;: &quot;blue&quot;, &quot;fillOpacity&quot;: 0.2, &quot;fillRule&quot;: &quot;evenodd&quot;, &quot;lineCap&quot;: &quot;round&quot;, &quot;lineJoin&quot;: &quot;round&quot;, &quot;opacity&quot;: 1.0, &quot;radius&quot;: 17.956483776972792, &quot;stroke&quot;: true, &quot;weight&quot;: 3}\n",
       "            ).addTo(map_0ed39705f982cba5b49e80a3b39f571d);\n",
       "        \n",
       "    \n",
       "        var popup_e098959bd6aafa3d3dc58f42b0dc95a5 = L.popup({&quot;maxWidth&quot;: &quot;100%&quot;});\n",
       "\n",
       "        \n",
       "            var html_290ddb8094bf47392deb08bdb39dfcf4 = $(`&lt;div id=&quot;html_290ddb8094bf47392deb08bdb39dfcf4&quot; style=&quot;width: 100.0%; height: 100.0%;&quot;&gt;Angola&lt;/div&gt;`)[0];\n",
       "            popup_e098959bd6aafa3d3dc58f42b0dc95a5.setContent(html_290ddb8094bf47392deb08bdb39dfcf4);\n",
       "        \n",
       "\n",
       "        circle_marker_c593f1080b74c76506e7e8ca7d641375.bindPopup(popup_e098959bd6aafa3d3dc58f42b0dc95a5)\n",
       "        ;\n",
       "\n",
       "        \n",
       "    \n",
       "    \n",
       "            var circle_marker_5feb8f934743026685e64994f4531ddd = L.circleMarker(\n",
       "                [41.0, 20.0],\n",
       "                {&quot;bubblingMouseEvents&quot;: true, &quot;color&quot;: &quot;#3388ff&quot;, &quot;dashArray&quot;: null, &quot;dashOffset&quot;: null, &quot;fill&quot;: true, &quot;fillColor&quot;: &quot;black&quot;, &quot;fillOpacity&quot;: 0.2, &quot;fillRule&quot;: &quot;evenodd&quot;, &quot;lineCap&quot;: &quot;round&quot;, &quot;lineJoin&quot;: &quot;round&quot;, &quot;opacity&quot;: 1.0, &quot;radius&quot;: 0.6570083992262493, &quot;stroke&quot;: true, &quot;weight&quot;: 3}\n",
       "            ).addTo(map_0ed39705f982cba5b49e80a3b39f571d);\n",
       "        \n",
       "    \n",
       "        var popup_54e9662adb266c7b886118f062b99118 = L.popup({&quot;maxWidth&quot;: &quot;100%&quot;});\n",
       "\n",
       "        \n",
       "            var html_05f25541253e099535fb6650e4e449af = $(`&lt;div id=&quot;html_05f25541253e099535fb6650e4e449af&quot; style=&quot;width: 100.0%; height: 100.0%;&quot;&gt;Albania&lt;/div&gt;`)[0];\n",
       "            popup_54e9662adb266c7b886118f062b99118.setContent(html_05f25541253e099535fb6650e4e449af);\n",
       "        \n",
       "\n",
       "        circle_marker_5feb8f934743026685e64994f4531ddd.bindPopup(popup_54e9662adb266c7b886118f062b99118)\n",
       "        ;\n",
       "\n",
       "        \n",
       "    \n",
       "    \n",
       "            var circle_marker_38a55dea2c53fd3fe5da65cec2d3f57b = L.circleMarker(\n",
       "                [-34.0, -64.0],\n",
       "                {&quot;bubblingMouseEvents&quot;: true, &quot;color&quot;: &quot;#3388ff&quot;, &quot;dashArray&quot;: null, &quot;dashOffset&quot;: null, &quot;fill&quot;: true, &quot;fillColor&quot;: &quot;green&quot;, &quot;fillOpacity&quot;: 0.2, &quot;fillRule&quot;: &quot;evenodd&quot;, &quot;lineCap&quot;: &quot;round&quot;, &quot;lineJoin&quot;: &quot;round&quot;, &quot;opacity&quot;: 1.0, &quot;radius&quot;: 4.284238901720576, &quot;stroke&quot;: true, &quot;weight&quot;: 3}\n",
       "            ).addTo(map_0ed39705f982cba5b49e80a3b39f571d);\n",
       "        \n",
       "    \n",
       "        var popup_bc4d6c2059b88e60f11930e37cfd9ff1 = L.popup({&quot;maxWidth&quot;: &quot;100%&quot;});\n",
       "\n",
       "        \n",
       "            var html_7f7c76459cf843f08d1a73c0c74bf83a = $(`&lt;div id=&quot;html_7f7c76459cf843f08d1a73c0c74bf83a&quot; style=&quot;width: 100.0%; height: 100.0%;&quot;&gt;Argentina&lt;/div&gt;`)[0];\n",
       "            popup_bc4d6c2059b88e60f11930e37cfd9ff1.setContent(html_7f7c76459cf843f08d1a73c0c74bf83a);\n",
       "        \n",
       "\n",
       "        circle_marker_38a55dea2c53fd3fe5da65cec2d3f57b.bindPopup(popup_bc4d6c2059b88e60f11930e37cfd9ff1)\n",
       "        ;\n",
       "\n",
       "        \n",
       "    \n",
       "    \n",
       "            var circle_marker_487c58b37f16a091f306ea8084ced9c8 = L.circleMarker(\n",
       "                [40.25, 45.0],\n",
       "                {&quot;bubblingMouseEvents&quot;: true, &quot;color&quot;: &quot;#3388ff&quot;, &quot;dashArray&quot;: null, &quot;dashOffset&quot;: null, &quot;fill&quot;: true, &quot;fillColor&quot;: &quot;black&quot;, &quot;fillOpacity&quot;: 0.2, &quot;fillRule&quot;: &quot;evenodd&quot;, &quot;lineCap&quot;: &quot;round&quot;, &quot;lineJoin&quot;: &quot;round&quot;, &quot;opacity&quot;: 1.0, &quot;radius&quot;: 1.2660117574103493, &quot;stroke&quot;: true, &quot;weight&quot;: 3}\n",
       "            ).addTo(map_0ed39705f982cba5b49e80a3b39f571d);\n",
       "        \n",
       "    \n",
       "        var popup_72e602a0e0a31ef74eb8e66dccf603c4 = L.popup({&quot;maxWidth&quot;: &quot;100%&quot;});\n",
       "\n",
       "        \n",
       "            var html_e79e7eed02dca941002458a49a503770 = $(`&lt;div id=&quot;html_e79e7eed02dca941002458a49a503770&quot; style=&quot;width: 100.0%; height: 100.0%;&quot;&gt;Armenia&lt;/div&gt;`)[0];\n",
       "            popup_72e602a0e0a31ef74eb8e66dccf603c4.setContent(html_e79e7eed02dca941002458a49a503770);\n",
       "        \n",
       "\n",
       "        circle_marker_487c58b37f16a091f306ea8084ced9c8.bindPopup(popup_72e602a0e0a31ef74eb8e66dccf603c4)\n",
       "        ;\n",
       "\n",
       "        \n",
       "    \n",
       "    \n",
       "            var circle_marker_bbddaa8ac709fdbcaddb2675ef2b2740 = L.circleMarker(\n",
       "                [-25.0, 135.0],\n",
       "                {&quot;bubblingMouseEvents&quot;: true, &quot;color&quot;: &quot;#3388ff&quot;, &quot;dashArray&quot;: null, &quot;dashOffset&quot;: null, &quot;fill&quot;: true, &quot;fillColor&quot;: &quot;red&quot;, &quot;fillOpacity&quot;: 0.2, &quot;fillRule&quot;: &quot;evenodd&quot;, &quot;lineCap&quot;: &quot;round&quot;, &quot;lineJoin&quot;: &quot;round&quot;, &quot;opacity&quot;: 1.0, &quot;radius&quot;: 3.0969023547202914, &quot;stroke&quot;: true, &quot;weight&quot;: 3}\n",
       "            ).addTo(map_0ed39705f982cba5b49e80a3b39f571d);\n",
       "        \n",
       "    \n",
       "        var popup_67f81f0e0b018fae946a2b3ca7fa480b = L.popup({&quot;maxWidth&quot;: &quot;100%&quot;});\n",
       "\n",
       "        \n",
       "            var html_ba7ca5a32bddb6bbd5bf4ac3a3fe8300 = $(`&lt;div id=&quot;html_ba7ca5a32bddb6bbd5bf4ac3a3fe8300&quot; style=&quot;width: 100.0%; height: 100.0%;&quot;&gt;Australia&lt;/div&gt;`)[0];\n",
       "            popup_67f81f0e0b018fae946a2b3ca7fa480b.setContent(html_ba7ca5a32bddb6bbd5bf4ac3a3fe8300);\n",
       "        \n",
       "\n",
       "        circle_marker_bbddaa8ac709fdbcaddb2675ef2b2740.bindPopup(popup_67f81f0e0b018fae946a2b3ca7fa480b)\n",
       "        ;\n",
       "\n",
       "        \n",
       "    \n",
       "    \n",
       "            var circle_marker_bc4d5324b634285b0d39bf64954a202a = L.circleMarker(\n",
       "                [47.33333, 13.33333],\n",
       "                {&quot;bubblingMouseEvents&quot;: true, &quot;color&quot;: &quot;#3388ff&quot;, &quot;dashArray&quot;: null, &quot;dashOffset&quot;: null, &quot;fill&quot;: true, &quot;fillColor&quot;: &quot;black&quot;, &quot;fillOpacity&quot;: 0.2, &quot;fillRule&quot;: &quot;evenodd&quot;, &quot;lineCap&quot;: &quot;round&quot;, &quot;lineJoin&quot;: &quot;round&quot;, &quot;opacity&quot;: 1.0, &quot;radius&quot;: 0.9540310731595334, &quot;stroke&quot;: true, &quot;weight&quot;: 3}\n",
       "            ).addTo(map_0ed39705f982cba5b49e80a3b39f571d);\n",
       "        \n",
       "    \n",
       "        var popup_8b111f6b906d9a9e523f260462bdccff = L.popup({&quot;maxWidth&quot;: &quot;100%&quot;});\n",
       "\n",
       "        \n",
       "            var html_6fbccd2b927ba1cd03f83a48ca68a2a6 = $(`&lt;div id=&quot;html_6fbccd2b927ba1cd03f83a48ca68a2a6&quot; style=&quot;width: 100.0%; height: 100.0%;&quot;&gt;Austria&lt;/div&gt;`)[0];\n",
       "            popup_8b111f6b906d9a9e523f260462bdccff.setContent(html_6fbccd2b927ba1cd03f83a48ca68a2a6);\n",
       "        \n",
       "\n",
       "        circle_marker_bc4d5324b634285b0d39bf64954a202a.bindPopup(popup_8b111f6b906d9a9e523f260462bdccff)\n",
       "        ;\n",
       "\n",
       "        \n",
       "    \n",
       "    \n",
       "            var circle_marker_9e188b463c39deb1a404b569b1b4738a = L.circleMarker(\n",
       "                [40.5, 47.5],\n",
       "                {&quot;bubblingMouseEvents&quot;: true, &quot;color&quot;: &quot;#3388ff&quot;, &quot;dashArray&quot;: null, &quot;dashOffset&quot;: null, &quot;fill&quot;: true, &quot;fillColor&quot;: &quot;black&quot;, &quot;fillOpacity&quot;: 0.2, &quot;fillRule&quot;: &quot;evenodd&quot;, &quot;lineCap&quot;: &quot;round&quot;, &quot;lineJoin&quot;: &quot;round&quot;, &quot;opacity&quot;: 1.0, &quot;radius&quot;: 0.9440866021203946, &quot;stroke&quot;: true, &quot;weight&quot;: 3}\n",
       "            ).addTo(map_0ed39705f982cba5b49e80a3b39f571d);\n",
       "        \n",
       "    \n",
       "        var popup_eb21087e7f8d68182194abffb05bad01 = L.popup({&quot;maxWidth&quot;: &quot;100%&quot;});\n",
       "\n",
       "        \n",
       "            var html_eb2f58aabc72676d0f47e842528c10cb = $(`&lt;div id=&quot;html_eb2f58aabc72676d0f47e842528c10cb&quot; style=&quot;width: 100.0%; height: 100.0%;&quot;&gt;Azerbaijan&lt;/div&gt;`)[0];\n",
       "            popup_eb21087e7f8d68182194abffb05bad01.setContent(html_eb2f58aabc72676d0f47e842528c10cb);\n",
       "        \n",
       "\n",
       "        circle_marker_9e188b463c39deb1a404b569b1b4738a.bindPopup(popup_eb21087e7f8d68182194abffb05bad01)\n",
       "        ;\n",
       "\n",
       "        \n",
       "    \n",
       "    \n",
       "            var circle_marker_727a15ef651ffa1d84dacf8ce0099752 = L.circleMarker(\n",
       "                [-3.5, 30.0],\n",
       "                {&quot;bubblingMouseEvents&quot;: true, &quot;color&quot;: &quot;#3388ff&quot;, &quot;dashArray&quot;: null, &quot;dashOffset&quot;: null, &quot;fill&quot;: true, &quot;fillColor&quot;: &quot;blue&quot;, &quot;fillOpacity&quot;: 0.2, &quot;fillRule&quot;: &quot;evenodd&quot;, &quot;lineCap&quot;: &quot;round&quot;, &quot;lineJoin&quot;: &quot;round&quot;, &quot;opacity&quot;: 1.0, &quot;radius&quot;: 14.985583745574617, &quot;stroke&quot;: true, &quot;weight&quot;: 3}\n",
       "            ).addTo(map_0ed39705f982cba5b49e80a3b39f571d);\n",
       "        \n",
       "    \n",
       "        var popup_8032b1caf6ea9bbee6ada9adb96ad551 = L.popup({&quot;maxWidth&quot;: &quot;100%&quot;});\n",
       "\n",
       "        \n",
       "            var html_6291300fa1d3dadee7e767453a03b11c = $(`&lt;div id=&quot;html_6291300fa1d3dadee7e767453a03b11c&quot; style=&quot;width: 100.0%; height: 100.0%;&quot;&gt;Burundi&lt;/div&gt;`)[0];\n",
       "            popup_8032b1caf6ea9bbee6ada9adb96ad551.setContent(html_6291300fa1d3dadee7e767453a03b11c);\n",
       "        \n",
       "\n",
       "        circle_marker_727a15ef651ffa1d84dacf8ce0099752.bindPopup(popup_8032b1caf6ea9bbee6ada9adb96ad551)\n",
       "        ;\n",
       "\n",
       "        \n",
       "    \n",
       "    \n",
       "            var circle_marker_d738d1ad004ce8b71a050c9f4769f1b4 = L.circleMarker(\n",
       "                [50.75, 4.5],\n",
       "                {&quot;bubblingMouseEvents&quot;: true, &quot;color&quot;: &quot;#3388ff&quot;, &quot;dashArray&quot;: null, &quot;dashOffset&quot;: null, &quot;fill&quot;: true, &quot;fillColor&quot;: &quot;black&quot;, &quot;fillOpacity&quot;: 0.2, &quot;fillRule&quot;: &quot;evenodd&quot;, &quot;lineCap&quot;: &quot;round&quot;, &quot;lineJoin&quot;: &quot;round&quot;, &quot;opacity&quot;: 1.0, &quot;radius&quot;: 1.3194559831588262, &quot;stroke&quot;: true, &quot;weight&quot;: 3}\n",
       "            ).addTo(map_0ed39705f982cba5b49e80a3b39f571d);\n",
       "        \n",
       "    \n",
       "        var popup_84caadc15f278053a450c7f640caff15 = L.popup({&quot;maxWidth&quot;: &quot;100%&quot;});\n",
       "\n",
       "        \n",
       "            var html_73eeeaaa3c78598b102edf5b2b8bc00e = $(`&lt;div id=&quot;html_73eeeaaa3c78598b102edf5b2b8bc00e&quot; style=&quot;width: 100.0%; height: 100.0%;&quot;&gt;Belgium&lt;/div&gt;`)[0];\n",
       "            popup_84caadc15f278053a450c7f640caff15.setContent(html_73eeeaaa3c78598b102edf5b2b8bc00e);\n",
       "        \n",
       "\n",
       "        circle_marker_d738d1ad004ce8b71a050c9f4769f1b4.bindPopup(popup_84caadc15f278053a450c7f640caff15)\n",
       "        ;\n",
       "\n",
       "        \n",
       "    \n",
       "    \n",
       "            var circle_marker_26782aeb537299d900f37146cb4f4840 = L.circleMarker(\n",
       "                [9.5, 2.25],\n",
       "                {&quot;bubblingMouseEvents&quot;: true, &quot;color&quot;: &quot;#3388ff&quot;, &quot;dashArray&quot;: null, &quot;dashOffset&quot;: null, &quot;fill&quot;: true, &quot;fillColor&quot;: &quot;blue&quot;, &quot;fillOpacity&quot;: 0.2, &quot;fillRule&quot;: &quot;evenodd&quot;, &quot;lineCap&quot;: &quot;round&quot;, &quot;lineJoin&quot;: &quot;round&quot;, &quot;opacity&quot;: 1.0, &quot;radius&quot;: 12.293294869483931, &quot;stroke&quot;: true, &quot;weight&quot;: 3}\n",
       "            ).addTo(map_0ed39705f982cba5b49e80a3b39f571d);\n",
       "        \n",
       "    \n",
       "        var popup_03f72265fce8828407604a078d5f8146 = L.popup({&quot;maxWidth&quot;: &quot;100%&quot;});\n",
       "\n",
       "        \n",
       "            var html_484843a9a3494a3af11cf2903084ef81 = $(`&lt;div id=&quot;html_484843a9a3494a3af11cf2903084ef81&quot; style=&quot;width: 100.0%; height: 100.0%;&quot;&gt;Benin&lt;/div&gt;`)[0];\n",
       "            popup_03f72265fce8828407604a078d5f8146.setContent(html_484843a9a3494a3af11cf2903084ef81);\n",
       "        \n",
       "\n",
       "        circle_marker_26782aeb537299d900f37146cb4f4840.bindPopup(popup_03f72265fce8828407604a078d5f8146)\n",
       "        ;\n",
       "\n",
       "        \n",
       "    \n",
       "    \n",
       "            var circle_marker_ba01fc2646d4cc1b7881fd39bd60ca7d = L.circleMarker(\n",
       "                [12.5, -1.66667],\n",
       "                {&quot;bubblingMouseEvents&quot;: true, &quot;color&quot;: &quot;#3388ff&quot;, &quot;dashArray&quot;: null, &quot;dashOffset&quot;: null, &quot;fill&quot;: true, &quot;fillColor&quot;: &quot;blue&quot;, &quot;fillOpacity&quot;: 0.2, &quot;fillRule&quot;: &quot;evenodd&quot;, &quot;lineCap&quot;: &quot;round&quot;, &quot;lineJoin&quot;: &quot;round&quot;, &quot;opacity&quot;: 1.0, &quot;radius&quot;: 14.860883218047224, &quot;stroke&quot;: true, &quot;weight&quot;: 3}\n",
       "            ).addTo(map_0ed39705f982cba5b49e80a3b39f571d);\n",
       "        \n",
       "    \n",
       "        var popup_269083f9e43e47176725ff173cf01eda = L.popup({&quot;maxWidth&quot;: &quot;100%&quot;});\n",
       "\n",
       "        \n",
       "            var html_e575261944f4b6ebf17039be519d491e = $(`&lt;div id=&quot;html_e575261944f4b6ebf17039be519d491e&quot; style=&quot;width: 100.0%; height: 100.0%;&quot;&gt;Burkina Faso&lt;/div&gt;`)[0];\n",
       "            popup_269083f9e43e47176725ff173cf01eda.setContent(html_e575261944f4b6ebf17039be519d491e);\n",
       "        \n",
       "\n",
       "        circle_marker_ba01fc2646d4cc1b7881fd39bd60ca7d.bindPopup(popup_269083f9e43e47176725ff173cf01eda)\n",
       "        ;\n",
       "\n",
       "        \n",
       "    \n",
       "    \n",
       "            var circle_marker_885fdaf9a72ed7c7420b9de41a96ee63 = L.circleMarker(\n",
       "                [24.0, 90.0],\n",
       "                {&quot;bubblingMouseEvents&quot;: true, &quot;color&quot;: &quot;#3388ff&quot;, &quot;dashArray&quot;: null, &quot;dashOffset&quot;: null, &quot;fill&quot;: true, &quot;fillColor&quot;: &quot;red&quot;, &quot;fillOpacity&quot;: 0.2, &quot;fillRule&quot;: &quot;evenodd&quot;, &quot;lineCap&quot;: &quot;round&quot;, &quot;lineJoin&quot;: &quot;round&quot;, &quot;opacity&quot;: 1.0, &quot;radius&quot;: 45.07390171903687, &quot;stroke&quot;: true, &quot;weight&quot;: 3}\n",
       "            ).addTo(map_0ed39705f982cba5b49e80a3b39f571d);\n",
       "        \n",
       "    \n",
       "        var popup_bc49d58b6ecb3975c7a4d90516149e59 = L.popup({&quot;maxWidth&quot;: &quot;100%&quot;});\n",
       "\n",
       "        \n",
       "            var html_57b5745eddc10ebd59976f07f3981b69 = $(`&lt;div id=&quot;html_57b5745eddc10ebd59976f07f3981b69&quot; style=&quot;width: 100.0%; height: 100.0%;&quot;&gt;Bangladesh&lt;/div&gt;`)[0];\n",
       "            popup_bc49d58b6ecb3975c7a4d90516149e59.setContent(html_57b5745eddc10ebd59976f07f3981b69);\n",
       "        \n",
       "\n",
       "        circle_marker_885fdaf9a72ed7c7420b9de41a96ee63.bindPopup(popup_bc49d58b6ecb3975c7a4d90516149e59)\n",
       "        ;\n",
       "\n",
       "        \n",
       "    \n",
       "    \n",
       "            var circle_marker_3c46c69a342e3ce6243083bbb8db5d64 = L.circleMarker(\n",
       "                [42.66667, 25.25],\n",
       "                {&quot;bubblingMouseEvents&quot;: true, &quot;color&quot;: &quot;#3388ff&quot;, &quot;dashArray&quot;: null, &quot;dashOffset&quot;: null, &quot;fill&quot;: true, &quot;fillColor&quot;: &quot;black&quot;, &quot;fillOpacity&quot;: 0.2, &quot;fillRule&quot;: &quot;evenodd&quot;, &quot;lineCap&quot;: &quot;round&quot;, &quot;lineJoin&quot;: &quot;round&quot;, &quot;opacity&quot;: 1.0, &quot;radius&quot;: 2.119093372019701, &quot;stroke&quot;: true, &quot;weight&quot;: 3}\n",
       "            ).addTo(map_0ed39705f982cba5b49e80a3b39f571d);\n",
       "        \n",
       "    \n",
       "        var popup_1d9bdd38cf810a42ee4ccb18fb0cea45 = L.popup({&quot;maxWidth&quot;: &quot;100%&quot;});\n",
       "\n",
       "        \n",
       "            var html_6fae046ba8737a6901df7cd9c2b3d351 = $(`&lt;div id=&quot;html_6fae046ba8737a6901df7cd9c2b3d351&quot; style=&quot;width: 100.0%; height: 100.0%;&quot;&gt;Bulgaria&lt;/div&gt;`)[0];\n",
       "            popup_1d9bdd38cf810a42ee4ccb18fb0cea45.setContent(html_6fae046ba8737a6901df7cd9c2b3d351);\n",
       "        \n",
       "\n",
       "        circle_marker_3c46c69a342e3ce6243083bbb8db5d64.bindPopup(popup_1d9bdd38cf810a42ee4ccb18fb0cea45)\n",
       "        ;\n",
       "\n",
       "        \n",
       "    \n",
       "    \n",
       "            var circle_marker_501161a4ff57fd713621fcd7ee59d410 = L.circleMarker(\n",
       "                [44.25, 17.83333],\n",
       "                {&quot;bubblingMouseEvents&quot;: true, &quot;color&quot;: &quot;#3388ff&quot;, &quot;dashArray&quot;: null, &quot;dashOffset&quot;: null, &quot;fill&quot;: true, &quot;fillColor&quot;: &quot;black&quot;, &quot;fillOpacity&quot;: 0.2, &quot;fillRule&quot;: &quot;evenodd&quot;, &quot;lineCap&quot;: &quot;round&quot;, &quot;lineJoin&quot;: &quot;round&quot;, &quot;opacity&quot;: 1.0, &quot;radius&quot;: 0.217194671049816, &quot;stroke&quot;: true, &quot;weight&quot;: 3}\n",
       "            ).addTo(map_0ed39705f982cba5b49e80a3b39f571d);\n",
       "        \n",
       "    \n",
       "        var popup_3da87731e71c45b543c5dbf1dd3fc6da = L.popup({&quot;maxWidth&quot;: &quot;100%&quot;});\n",
       "\n",
       "        \n",
       "            var html_06fc859a3daac4f179a512c547bae46d = $(`&lt;div id=&quot;html_06fc859a3daac4f179a512c547bae46d&quot; style=&quot;width: 100.0%; height: 100.0%;&quot;&gt;Bosnia and Herzegovina&lt;/div&gt;`)[0];\n",
       "            popup_3da87731e71c45b543c5dbf1dd3fc6da.setContent(html_06fc859a3daac4f179a512c547bae46d);\n",
       "        \n",
       "\n",
       "        circle_marker_501161a4ff57fd713621fcd7ee59d410.bindPopup(popup_3da87731e71c45b543c5dbf1dd3fc6da)\n",
       "        ;\n",
       "\n",
       "        \n",
       "    \n",
       "    \n",
       "            var circle_marker_b862562f73d6af2e40db96f7f83546cb = L.circleMarker(\n",
       "                [53.0, 28.0],\n",
       "                {&quot;bubblingMouseEvents&quot;: true, &quot;color&quot;: &quot;#3388ff&quot;, &quot;dashArray&quot;: null, &quot;dashOffset&quot;: null, &quot;fill&quot;: true, &quot;fillColor&quot;: &quot;black&quot;, &quot;fillOpacity&quot;: 0.2, &quot;fillRule&quot;: &quot;evenodd&quot;, &quot;lineCap&quot;: &quot;round&quot;, &quot;lineJoin&quot;: &quot;round&quot;, &quot;opacity&quot;: 1.0, &quot;stroke&quot;: true, &quot;weight&quot;: 3}\n",
       "            ).addTo(map_0ed39705f982cba5b49e80a3b39f571d);\n",
       "        \n",
       "    \n",
       "        var popup_93da7ac6c31caa3fbec16d8c737955d7 = L.popup({&quot;maxWidth&quot;: &quot;100%&quot;});\n",
       "\n",
       "        \n",
       "            var html_a8f9ab08190fbd6d68372091a34e2182 = $(`&lt;div id=&quot;html_a8f9ab08190fbd6d68372091a34e2182&quot; style=&quot;width: 100.0%; height: 100.0%;&quot;&gt;Belarus&lt;/div&gt;`)[0];\n",
       "            popup_93da7ac6c31caa3fbec16d8c737955d7.setContent(html_a8f9ab08190fbd6d68372091a34e2182);\n",
       "        \n",
       "\n",
       "        circle_marker_b862562f73d6af2e40db96f7f83546cb.bindPopup(popup_93da7ac6c31caa3fbec16d8c737955d7)\n",
       "        ;\n",
       "\n",
       "        \n",
       "    \n",
       "    \n",
       "            var circle_marker_3ba333367ba4d7b79e416ba0705050c4 = L.circleMarker(\n",
       "                [17.49952, -88.19756],\n",
       "                {&quot;bubblingMouseEvents&quot;: true, &quot;color&quot;: &quot;#3388ff&quot;, &quot;dashArray&quot;: null, &quot;dashOffset&quot;: null, &quot;fill&quot;: true, &quot;fillColor&quot;: &quot;green&quot;, &quot;fillOpacity&quot;: 0.2, &quot;fillRule&quot;: &quot;evenodd&quot;, &quot;lineCap&quot;: &quot;round&quot;, &quot;lineJoin&quot;: &quot;round&quot;, &quot;opacity&quot;: 1.0, &quot;radius&quot;: 1.1195005649268066, &quot;stroke&quot;: true, &quot;weight&quot;: 3}\n",
       "            ).addTo(map_0ed39705f982cba5b49e80a3b39f571d);\n",
       "        \n",
       "    \n",
       "        var popup_2fb827e9d2960d565f4427f9a0a77b43 = L.popup({&quot;maxWidth&quot;: &quot;100%&quot;});\n",
       "\n",
       "        \n",
       "            var html_bf3b1e2a99d8a3a8d143b543accef037 = $(`&lt;div id=&quot;html_bf3b1e2a99d8a3a8d143b543accef037&quot; style=&quot;width: 100.0%; height: 100.0%;&quot;&gt;Belize&lt;/div&gt;`)[0];\n",
       "            popup_2fb827e9d2960d565f4427f9a0a77b43.setContent(html_bf3b1e2a99d8a3a8d143b543accef037);\n",
       "        \n",
       "\n",
       "        circle_marker_3ba333367ba4d7b79e416ba0705050c4.bindPopup(popup_2fb827e9d2960d565f4427f9a0a77b43)\n",
       "        ;\n",
       "\n",
       "        \n",
       "    \n",
       "    \n",
       "            var circle_marker_1c7f1f341c74148e000bdab8ddbb7d18 = L.circleMarker(\n",
       "                [-17.0, -65.0],\n",
       "                {&quot;bubblingMouseEvents&quot;: true, &quot;color&quot;: &quot;#3388ff&quot;, &quot;dashArray&quot;: null, &quot;dashOffset&quot;: null, &quot;fill&quot;: true, &quot;fillColor&quot;: &quot;green&quot;, &quot;fillOpacity&quot;: 0.2, &quot;fillRule&quot;: &quot;evenodd&quot;, &quot;lineCap&quot;: &quot;round&quot;, &quot;lineJoin&quot;: &quot;round&quot;, &quot;opacity&quot;: 1.0, &quot;radius&quot;: 5.0521846256177705, &quot;stroke&quot;: true, &quot;weight&quot;: 3}\n",
       "            ).addTo(map_0ed39705f982cba5b49e80a3b39f571d);\n",
       "        \n",
       "    \n",
       "        var popup_c79421c57be1ba027109a7a847207c5b = L.popup({&quot;maxWidth&quot;: &quot;100%&quot;});\n",
       "\n",
       "        \n",
       "            var html_86912508a5ad17ab7a948662a43b6025 = $(`&lt;div id=&quot;html_86912508a5ad17ab7a948662a43b6025&quot; style=&quot;width: 100.0%; height: 100.0%;&quot;&gt;Bolivia&lt;/div&gt;`)[0];\n",
       "            popup_c79421c57be1ba027109a7a847207c5b.setContent(html_86912508a5ad17ab7a948662a43b6025);\n",
       "        \n",
       "\n",
       "        circle_marker_1c7f1f341c74148e000bdab8ddbb7d18.bindPopup(popup_c79421c57be1ba027109a7a847207c5b)\n",
       "        ;\n",
       "\n",
       "        \n",
       "    \n",
       "    \n",
       "            var circle_marker_b7445c00d6f76a784c243f66e2d461c3 = L.circleMarker(\n",
       "                [-10.0, -55.0],\n",
       "                {&quot;bubblingMouseEvents&quot;: true, &quot;color&quot;: &quot;#3388ff&quot;, &quot;dashArray&quot;: null, &quot;dashOffset&quot;: null, &quot;fill&quot;: true, &quot;fillColor&quot;: &quot;green&quot;, &quot;fillOpacity&quot;: 0.2, &quot;fillRule&quot;: &quot;evenodd&quot;, &quot;lineCap&quot;: &quot;round&quot;, &quot;lineJoin&quot;: &quot;round&quot;, &quot;opacity&quot;: 1.0, &quot;radius&quot;: 15.284499774553087, &quot;stroke&quot;: true, &quot;weight&quot;: 3}\n",
       "            ).addTo(map_0ed39705f982cba5b49e80a3b39f571d);\n",
       "        \n",
       "    \n",
       "        var popup_721c98b1a4f0c713470308cf7edabed9 = L.popup({&quot;maxWidth&quot;: &quot;100%&quot;});\n",
       "\n",
       "        \n",
       "            var html_3462be56da77cb1d705d5048aaa241f0 = $(`&lt;div id=&quot;html_3462be56da77cb1d705d5048aaa241f0&quot; style=&quot;width: 100.0%; height: 100.0%;&quot;&gt;Brazil&lt;/div&gt;`)[0];\n",
       "            popup_721c98b1a4f0c713470308cf7edabed9.setContent(html_3462be56da77cb1d705d5048aaa241f0);\n",
       "        \n",
       "\n",
       "        circle_marker_b7445c00d6f76a784c243f66e2d461c3.bindPopup(popup_721c98b1a4f0c713470308cf7edabed9)\n",
       "        ;\n",
       "\n",
       "        \n",
       "    \n",
       "    \n",
       "            var circle_marker_524da6f9ee9c746b76551b4bcd8a5a95 = L.circleMarker(\n",
       "                [27.5, 90.5],\n",
       "                {&quot;bubblingMouseEvents&quot;: true, &quot;color&quot;: &quot;#3388ff&quot;, &quot;dashArray&quot;: null, &quot;dashOffset&quot;: null, &quot;fill&quot;: true, &quot;fillColor&quot;: &quot;red&quot;, &quot;fillOpacity&quot;: 0.2, &quot;fillRule&quot;: &quot;evenodd&quot;, &quot;lineCap&quot;: &quot;round&quot;, &quot;lineJoin&quot;: &quot;round&quot;, &quot;opacity&quot;: 1.0, &quot;radius&quot;: 0.7206403952796807, &quot;stroke&quot;: true, &quot;weight&quot;: 3}\n",
       "            ).addTo(map_0ed39705f982cba5b49e80a3b39f571d);\n",
       "        \n",
       "    \n",
       "        var popup_2e8bedd4bb6f4989b956cfa1d1cc1bc0 = L.popup({&quot;maxWidth&quot;: &quot;100%&quot;});\n",
       "\n",
       "        \n",
       "            var html_7087e883e58ef8ae2485be35d9d457fd = $(`&lt;div id=&quot;html_7087e883e58ef8ae2485be35d9d457fd&quot; style=&quot;width: 100.0%; height: 100.0%;&quot;&gt;Bhutan&lt;/div&gt;`)[0];\n",
       "            popup_2e8bedd4bb6f4989b956cfa1d1cc1bc0.setContent(html_7087e883e58ef8ae2485be35d9d457fd);\n",
       "        \n",
       "\n",
       "        circle_marker_524da6f9ee9c746b76551b4bcd8a5a95.bindPopup(popup_2e8bedd4bb6f4989b956cfa1d1cc1bc0)\n",
       "        ;\n",
       "\n",
       "        \n",
       "    \n",
       "    \n",
       "            var circle_marker_b77f6c4d913b0d67523be5d5c95f3c1e = L.circleMarker(\n",
       "                [-22.0, 24.0],\n",
       "                {&quot;bubblingMouseEvents&quot;: true, &quot;color&quot;: &quot;#3388ff&quot;, &quot;dashArray&quot;: null, &quot;dashOffset&quot;: null, &quot;fill&quot;: true, &quot;fillColor&quot;: &quot;blue&quot;, &quot;fillOpacity&quot;: 0.2, &quot;fillRule&quot;: &quot;evenodd&quot;, &quot;lineCap&quot;: &quot;round&quot;, &quot;lineJoin&quot;: &quot;round&quot;, &quot;opacity&quot;: 1.0, &quot;radius&quot;: 2.9123934088869396, &quot;stroke&quot;: true, &quot;weight&quot;: 3}\n",
       "            ).addTo(map_0ed39705f982cba5b49e80a3b39f571d);\n",
       "        \n",
       "    \n",
       "        var popup_99ab1d179b12ec9c4d1cb6cd811c4a42 = L.popup({&quot;maxWidth&quot;: &quot;100%&quot;});\n",
       "\n",
       "        \n",
       "            var html_d33dfb4beed5c0581b9a5df0b3166544 = $(`&lt;div id=&quot;html_d33dfb4beed5c0581b9a5df0b3166544&quot; style=&quot;width: 100.0%; height: 100.0%;&quot;&gt;Botswana&lt;/div&gt;`)[0];\n",
       "            popup_99ab1d179b12ec9c4d1cb6cd811c4a42.setContent(html_d33dfb4beed5c0581b9a5df0b3166544);\n",
       "        \n",
       "\n",
       "        circle_marker_b77f6c4d913b0d67523be5d5c95f3c1e.bindPopup(popup_99ab1d179b12ec9c4d1cb6cd811c4a42)\n",
       "        ;\n",
       "\n",
       "        \n",
       "    \n",
       "    \n",
       "            var circle_marker_d3a4434b4bad7b918721d0c23efedb62 = L.circleMarker(\n",
       "                [7.0, 21.0],\n",
       "                {&quot;bubblingMouseEvents&quot;: true, &quot;color&quot;: &quot;#3388ff&quot;, &quot;dashArray&quot;: null, &quot;dashOffset&quot;: null, &quot;fill&quot;: true, &quot;fillColor&quot;: &quot;blue&quot;, &quot;fillOpacity&quot;: 0.2, &quot;fillRule&quot;: &quot;evenodd&quot;, &quot;lineCap&quot;: &quot;round&quot;, &quot;lineJoin&quot;: &quot;round&quot;, &quot;opacity&quot;: 1.0, &quot;radius&quot;: 9.366573447847983, &quot;stroke&quot;: true, &quot;weight&quot;: 3}\n",
       "            ).addTo(map_0ed39705f982cba5b49e80a3b39f571d);\n",
       "        \n",
       "    \n",
       "        var popup_025f68ae48acbcd0dca2d34c228ee9be = L.popup({&quot;maxWidth&quot;: &quot;100%&quot;});\n",
       "\n",
       "        \n",
       "            var html_69238e9349af782442a7107411eadbc5 = $(`&lt;div id=&quot;html_69238e9349af782442a7107411eadbc5&quot; style=&quot;width: 100.0%; height: 100.0%;&quot;&gt;Central African Republic&lt;/div&gt;`)[0];\n",
       "            popup_025f68ae48acbcd0dca2d34c228ee9be.setContent(html_69238e9349af782442a7107411eadbc5);\n",
       "        \n",
       "\n",
       "        circle_marker_d3a4434b4bad7b918721d0c23efedb62.bindPopup(popup_025f68ae48acbcd0dca2d34c228ee9be)\n",
       "        ;\n",
       "\n",
       "        \n",
       "    \n",
       "    \n",
       "            var circle_marker_649cbc9361894af9d17dffbd2765e52e = L.circleMarker(\n",
       "                [60.10867, -113.64258],\n",
       "                {&quot;bubblingMouseEvents&quot;: true, &quot;color&quot;: &quot;#3388ff&quot;, &quot;dashArray&quot;: null, &quot;dashOffset&quot;: null, &quot;fill&quot;: true, &quot;fillColor&quot;: &quot;green&quot;, &quot;fillOpacity&quot;: 0.2, &quot;fillRule&quot;: &quot;evenodd&quot;, &quot;lineCap&quot;: &quot;round&quot;, &quot;lineJoin&quot;: &quot;round&quot;, &quot;opacity&quot;: 1.0, &quot;radius&quot;: 1.9224051187434574, &quot;stroke&quot;: true, &quot;weight&quot;: 3}\n",
       "            ).addTo(map_0ed39705f982cba5b49e80a3b39f571d);\n",
       "        \n",
       "    \n",
       "        var popup_16d3957f0cfad8f47035dfcfe1e28a7e = L.popup({&quot;maxWidth&quot;: &quot;100%&quot;});\n",
       "\n",
       "        \n",
       "            var html_e19f6d9b145d92a333d0804abaf85153 = $(`&lt;div id=&quot;html_e19f6d9b145d92a333d0804abaf85153&quot; style=&quot;width: 100.0%; height: 100.0%;&quot;&gt;Canada&lt;/div&gt;`)[0];\n",
       "            popup_16d3957f0cfad8f47035dfcfe1e28a7e.setContent(html_e19f6d9b145d92a333d0804abaf85153);\n",
       "        \n",
       "\n",
       "        circle_marker_649cbc9361894af9d17dffbd2765e52e.bindPopup(popup_16d3957f0cfad8f47035dfcfe1e28a7e)\n",
       "        ;\n",
       "\n",
       "        \n",
       "    \n",
       "    \n",
       "            var circle_marker_a1c265ab951a8702d1766d83462132a7 = L.circleMarker(\n",
       "                [47.00016, 8.01427],\n",
       "                {&quot;bubblingMouseEvents&quot;: true, &quot;color&quot;: &quot;#3388ff&quot;, &quot;dashArray&quot;: null, &quot;dashOffset&quot;: null, &quot;fill&quot;: true, &quot;fillColor&quot;: &quot;black&quot;, &quot;fillOpacity&quot;: 0.2, &quot;fillRule&quot;: &quot;evenodd&quot;, &quot;lineCap&quot;: &quot;round&quot;, &quot;lineJoin&quot;: &quot;round&quot;, &quot;opacity&quot;: 1.0, &quot;radius&quot;: 1.2904780751862297, &quot;stroke&quot;: true, &quot;weight&quot;: 3}\n",
       "            ).addTo(map_0ed39705f982cba5b49e80a3b39f571d);\n",
       "        \n",
       "    \n",
       "        var popup_e2d7963299f30ee34c573ac57d69b472 = L.popup({&quot;maxWidth&quot;: &quot;100%&quot;});\n",
       "\n",
       "        \n",
       "            var html_f2ebfd458b793b03001bb4d3e1e4e997 = $(`&lt;div id=&quot;html_f2ebfd458b793b03001bb4d3e1e4e997&quot; style=&quot;width: 100.0%; height: 100.0%;&quot;&gt;Switzerland&lt;/div&gt;`)[0];\n",
       "            popup_e2d7963299f30ee34c573ac57d69b472.setContent(html_f2ebfd458b793b03001bb4d3e1e4e997);\n",
       "        \n",
       "\n",
       "        circle_marker_a1c265ab951a8702d1766d83462132a7.bindPopup(popup_e2d7963299f30ee34c573ac57d69b472)\n",
       "        ;\n",
       "\n",
       "        \n",
       "    \n",
       "    \n",
       "            var circle_marker_66d83d87275aa476264e70ddd3bd5dd8 = L.circleMarker(\n",
       "                [-33.45694, -70.64827],\n",
       "                {&quot;bubblingMouseEvents&quot;: true, &quot;color&quot;: &quot;#3388ff&quot;, &quot;dashArray&quot;: null, &quot;dashOffset&quot;: null, &quot;fill&quot;: true, &quot;fillColor&quot;: &quot;green&quot;, &quot;fillOpacity&quot;: 0.2, &quot;fillRule&quot;: &quot;evenodd&quot;, &quot;lineCap&quot;: &quot;round&quot;, &quot;lineJoin&quot;: &quot;round&quot;, &quot;opacity&quot;: 1.0, &quot;radius&quot;: 2.123175164028212, &quot;stroke&quot;: true, &quot;weight&quot;: 3}\n",
       "            ).addTo(map_0ed39705f982cba5b49e80a3b39f571d);\n",
       "        \n",
       "    \n",
       "        var popup_f38202ee2ffb3b4d460bfb17a59a8578 = L.popup({&quot;maxWidth&quot;: &quot;100%&quot;});\n",
       "\n",
       "        \n",
       "            var html_332ca99986bcddaefe21d6bd26e10343 = $(`&lt;div id=&quot;html_332ca99986bcddaefe21d6bd26e10343&quot; style=&quot;width: 100.0%; height: 100.0%;&quot;&gt;Chile&lt;/div&gt;`)[0];\n",
       "            popup_f38202ee2ffb3b4d460bfb17a59a8578.setContent(html_332ca99986bcddaefe21d6bd26e10343);\n",
       "        \n",
       "\n",
       "        circle_marker_66d83d87275aa476264e70ddd3bd5dd8.bindPopup(popup_f38202ee2ffb3b4d460bfb17a59a8578)\n",
       "        ;\n",
       "\n",
       "        \n",
       "    \n",
       "    \n",
       "            var circle_marker_ff60f3123005c6487c13087af10b6e2d = L.circleMarker(\n",
       "                [35.0, 105.0],\n",
       "                {&quot;bubblingMouseEvents&quot;: true, &quot;color&quot;: &quot;#3388ff&quot;, &quot;dashArray&quot;: null, &quot;dashOffset&quot;: null, &quot;fill&quot;: true, &quot;fillColor&quot;: &quot;red&quot;, &quot;fillOpacity&quot;: 0.2, &quot;fillRule&quot;: &quot;evenodd&quot;, &quot;lineCap&quot;: &quot;round&quot;, &quot;lineJoin&quot;: &quot;round&quot;, &quot;opacity&quot;: 1.0, &quot;radius&quot;: 52.225656891999506, &quot;stroke&quot;: true, &quot;weight&quot;: 3}\n",
       "            ).addTo(map_0ed39705f982cba5b49e80a3b39f571d);\n",
       "        \n",
       "    \n",
       "        var popup_2b517424453719f97f405f485b77bfc7 = L.popup({&quot;maxWidth&quot;: &quot;100%&quot;});\n",
       "\n",
       "        \n",
       "            var html_42e2b8e87ab0d5d9a72aada61b389430 = $(`&lt;div id=&quot;html_42e2b8e87ab0d5d9a72aada61b389430&quot; style=&quot;width: 100.0%; height: 100.0%;&quot;&gt;China&lt;/div&gt;`)[0];\n",
       "            popup_2b517424453719f97f405f485b77bfc7.setContent(html_42e2b8e87ab0d5d9a72aada61b389430);\n",
       "        \n",
       "\n",
       "        circle_marker_ff60f3123005c6487c13087af10b6e2d.bindPopup(popup_2b517424453719f97f405f485b77bfc7)\n",
       "        ;\n",
       "\n",
       "        \n",
       "    \n",
       "    \n",
       "            var circle_marker_24fd1ce65a5b5ef1c7de7c3088d748b6 = L.circleMarker(\n",
       "                [8.0, -5.5],\n",
       "                {&quot;bubblingMouseEvents&quot;: true, &quot;color&quot;: &quot;#3388ff&quot;, &quot;dashArray&quot;: null, &quot;dashOffset&quot;: null, &quot;fill&quot;: true, &quot;fillColor&quot;: &quot;blue&quot;, &quot;fillOpacity&quot;: 0.2, &quot;fillRule&quot;: &quot;evenodd&quot;, &quot;lineCap&quot;: &quot;round&quot;, &quot;lineJoin&quot;: &quot;round&quot;, &quot;opacity&quot;: 1.0, &quot;radius&quot;: 15.133268463096499, &quot;stroke&quot;: true, &quot;weight&quot;: 3}\n",
       "            ).addTo(map_0ed39705f982cba5b49e80a3b39f571d);\n",
       "        \n",
       "    \n",
       "        var popup_18e486df117c187aa5df6f69b20aa608 = L.popup({&quot;maxWidth&quot;: &quot;100%&quot;});\n",
       "\n",
       "        \n",
       "            var html_208162bdfc61f6efd8e43e2068e58603 = $(`&lt;div id=&quot;html_208162bdfc61f6efd8e43e2068e58603&quot; style=&quot;width: 100.0%; height: 100.0%;&quot;&gt;Cote d&#x27;Ivoire&lt;/div&gt;`)[0];\n",
       "            popup_18e486df117c187aa5df6f69b20aa608.setContent(html_208162bdfc61f6efd8e43e2068e58603);\n",
       "        \n",
       "\n",
       "        circle_marker_24fd1ce65a5b5ef1c7de7c3088d748b6.bindPopup(popup_18e486df117c187aa5df6f69b20aa608)\n",
       "        ;\n",
       "\n",
       "        \n",
       "    \n",
       "    \n",
       "            var circle_marker_d64696bdfed6fbf011669868b928b202 = L.circleMarker(\n",
       "                [6.0, 12.5],\n",
       "                {&quot;bubblingMouseEvents&quot;: true, &quot;color&quot;: &quot;#3388ff&quot;, &quot;dashArray&quot;: null, &quot;dashOffset&quot;: null, &quot;fill&quot;: true, &quot;fillColor&quot;: &quot;blue&quot;, &quot;fillOpacity&quot;: 0.2, &quot;fillRule&quot;: &quot;evenodd&quot;, &quot;lineCap&quot;: &quot;round&quot;, &quot;lineJoin&quot;: &quot;round&quot;, &quot;opacity&quot;: 1.0, &quot;radius&quot;: 13.37047776795466, &quot;stroke&quot;: true, &quot;weight&quot;: 3}\n",
       "            ).addTo(map_0ed39705f982cba5b49e80a3b39f571d);\n",
       "        \n",
       "    \n",
       "        var popup_4ee027d91bce1b6019ef70a6b77f108f = L.popup({&quot;maxWidth&quot;: &quot;100%&quot;});\n",
       "\n",
       "        \n",
       "            var html_49b684367097e7215497674d88ba51f9 = $(`&lt;div id=&quot;html_49b684367097e7215497674d88ba51f9&quot; style=&quot;width: 100.0%; height: 100.0%;&quot;&gt;Cameroon&lt;/div&gt;`)[0];\n",
       "            popup_4ee027d91bce1b6019ef70a6b77f108f.setContent(html_49b684367097e7215497674d88ba51f9);\n",
       "        \n",
       "\n",
       "        circle_marker_d64696bdfed6fbf011669868b928b202.bindPopup(popup_4ee027d91bce1b6019ef70a6b77f108f)\n",
       "        ;\n",
       "\n",
       "        \n",
       "    \n",
       "    \n",
       "            var circle_marker_5d3558ee3f5cd233a439bbbbc05a8fa9 = L.circleMarker(\n",
       "                [-2.5, 23.5],\n",
       "                {&quot;bubblingMouseEvents&quot;: true, &quot;color&quot;: &quot;#3388ff&quot;, &quot;dashArray&quot;: null, &quot;dashOffset&quot;: null, &quot;fill&quot;: true, &quot;fillColor&quot;: &quot;blue&quot;, &quot;fillOpacity&quot;: 0.2, &quot;fillRule&quot;: &quot;evenodd&quot;, &quot;lineCap&quot;: &quot;round&quot;, &quot;lineJoin&quot;: &quot;round&quot;, &quot;opacity&quot;: 1.0, &quot;radius&quot;: 42.45893492268982, &quot;stroke&quot;: true, &quot;weight&quot;: 3}\n",
       "            ).addTo(map_0ed39705f982cba5b49e80a3b39f571d);\n",
       "        \n",
       "    \n",
       "        var popup_a47d529f465baf4edad0a89745680688 = L.popup({&quot;maxWidth&quot;: &quot;100%&quot;});\n",
       "\n",
       "        \n",
       "            var html_b47b7f4fa0db9324f58bbbc6c5394d0c = $(`&lt;div id=&quot;html_b47b7f4fa0db9324f58bbbc6c5394d0c&quot; style=&quot;width: 100.0%; height: 100.0%;&quot;&gt;Congo, Dem. Rep.&lt;/div&gt;`)[0];\n",
       "            popup_a47d529f465baf4edad0a89745680688.setContent(html_b47b7f4fa0db9324f58bbbc6c5394d0c);\n",
       "        \n",
       "\n",
       "        circle_marker_5d3558ee3f5cd233a439bbbbc05a8fa9.bindPopup(popup_a47d529f465baf4edad0a89745680688)\n",
       "        ;\n",
       "\n",
       "        \n",
       "    \n",
       "    \n",
       "            var circle_marker_3d59c858137015e71a2456fc59368e67 = L.circleMarker(\n",
       "                [-1.0, 15.5],\n",
       "                {&quot;bubblingMouseEvents&quot;: true, &quot;color&quot;: &quot;#3388ff&quot;, &quot;dashArray&quot;: null, &quot;dashOffset&quot;: null, &quot;fill&quot;: true, &quot;fillColor&quot;: &quot;blue&quot;, &quot;fillOpacity&quot;: 0.2, &quot;fillRule&quot;: &quot;evenodd&quot;, &quot;lineCap&quot;: &quot;round&quot;, &quot;lineJoin&quot;: &quot;round&quot;, &quot;opacity&quot;: 1.0, &quot;radius&quot;: 6.681874714978711, &quot;stroke&quot;: true, &quot;weight&quot;: 3}\n",
       "            ).addTo(map_0ed39705f982cba5b49e80a3b39f571d);\n",
       "        \n",
       "    \n",
       "        var popup_9ea489e7f973d827f69adada35b57e14 = L.popup({&quot;maxWidth&quot;: &quot;100%&quot;});\n",
       "\n",
       "        \n",
       "            var html_36f20b6e3238fa72e65dea49c18c609c = $(`&lt;div id=&quot;html_36f20b6e3238fa72e65dea49c18c609c&quot; style=&quot;width: 100.0%; height: 100.0%;&quot;&gt;Congo, Rep.&lt;/div&gt;`)[0];\n",
       "            popup_9ea489e7f973d827f69adada35b57e14.setContent(html_36f20b6e3238fa72e65dea49c18c609c);\n",
       "        \n",
       "\n",
       "        circle_marker_3d59c858137015e71a2456fc59368e67.bindPopup(popup_9ea489e7f973d827f69adada35b57e14)\n",
       "        ;\n",
       "\n",
       "        \n",
       "    \n",
       "    \n",
       "            var circle_marker_2816496e9ebd3448458930d528736f3f = L.circleMarker(\n",
       "                [4.0, -73.25],\n",
       "                {&quot;bubblingMouseEvents&quot;: true, &quot;color&quot;: &quot;#3388ff&quot;, &quot;dashArray&quot;: null, &quot;dashOffset&quot;: null, &quot;fill&quot;: true, &quot;fillColor&quot;: &quot;green&quot;, &quot;fillOpacity&quot;: 0.2, &quot;fillRule&quot;: &quot;evenodd&quot;, &quot;lineCap&quot;: &quot;round&quot;, &quot;lineJoin&quot;: &quot;round&quot;, &quot;opacity&quot;: 1.0, &quot;radius&quot;: 9.002383384413296, &quot;stroke&quot;: true, &quot;weight&quot;: 3}\n",
       "            ).addTo(map_0ed39705f982cba5b49e80a3b39f571d);\n",
       "        \n",
       "    \n",
       "        var popup_01cdee281be0e948e1aef5264130a9ff = L.popup({&quot;maxWidth&quot;: &quot;100%&quot;});\n",
       "\n",
       "        \n",
       "            var html_f72358c71ac2ae3079706cd12c107088 = $(`&lt;div id=&quot;html_f72358c71ac2ae3079706cd12c107088&quot; style=&quot;width: 100.0%; height: 100.0%;&quot;&gt;Colombia&lt;/div&gt;`)[0];\n",
       "            popup_01cdee281be0e948e1aef5264130a9ff.setContent(html_f72358c71ac2ae3079706cd12c107088);\n",
       "        \n",
       "\n",
       "        circle_marker_2816496e9ebd3448458930d528736f3f.bindPopup(popup_01cdee281be0e948e1aef5264130a9ff)\n",
       "        ;\n",
       "\n",
       "        \n",
       "    \n",
       "    \n",
       "            var circle_marker_31ddcdacc8e383e6f19b7b507e701706 = L.circleMarker(\n",
       "                [-12.23333, 44.44553],\n",
       "                {&quot;bubblingMouseEvents&quot;: true, &quot;color&quot;: &quot;#3388ff&quot;, &quot;dashArray&quot;: null, &quot;dashOffset&quot;: null, &quot;fill&quot;: true, &quot;fillColor&quot;: &quot;blue&quot;, &quot;fillOpacity&quot;: 0.2, &quot;fillRule&quot;: &quot;evenodd&quot;, &quot;lineCap&quot;: &quot;round&quot;, &quot;lineJoin&quot;: &quot;round&quot;, &quot;opacity&quot;: 1.0, &quot;radius&quot;: 3.1816440984856076, &quot;stroke&quot;: true, &quot;weight&quot;: 3}\n",
       "            ).addTo(map_0ed39705f982cba5b49e80a3b39f571d);\n",
       "        \n",
       "    \n",
       "        var popup_34b4dcdad0dbe4bdecd78f7bcec7df8d = L.popup({&quot;maxWidth&quot;: &quot;100%&quot;});\n",
       "\n",
       "        \n",
       "            var html_80ce8d39a8499d147968b3b9929aef8b = $(`&lt;div id=&quot;html_80ce8d39a8499d147968b3b9929aef8b&quot; style=&quot;width: 100.0%; height: 100.0%;&quot;&gt;Comoros&lt;/div&gt;`)[0];\n",
       "            popup_34b4dcdad0dbe4bdecd78f7bcec7df8d.setContent(html_80ce8d39a8499d147968b3b9929aef8b);\n",
       "        \n",
       "\n",
       "        circle_marker_31ddcdacc8e383e6f19b7b507e701706.bindPopup(popup_34b4dcdad0dbe4bdecd78f7bcec7df8d)\n",
       "        ;\n",
       "\n",
       "        \n",
       "    \n",
       "    \n",
       "            var circle_marker_5910c3cdc4184bf513d5e8fe548bf3ff = L.circleMarker(\n",
       "                [16.0, -24.0],\n",
       "                {&quot;bubblingMouseEvents&quot;: true, &quot;color&quot;: &quot;#3388ff&quot;, &quot;dashArray&quot;: null, &quot;dashOffset&quot;: null, &quot;fill&quot;: true, &quot;fillColor&quot;: &quot;blue&quot;, &quot;fillOpacity&quot;: 0.2, &quot;fillRule&quot;: &quot;evenodd&quot;, &quot;lineCap&quot;: &quot;round&quot;, &quot;lineJoin&quot;: &quot;round&quot;, &quot;opacity&quot;: 1.0, &quot;radius&quot;: 1.4667952657766725, &quot;stroke&quot;: true, &quot;weight&quot;: 3}\n",
       "            ).addTo(map_0ed39705f982cba5b49e80a3b39f571d);\n",
       "        \n",
       "    \n",
       "        var popup_96b7dd69bb2a713a68cb8e3cd9aac6ef = L.popup({&quot;maxWidth&quot;: &quot;100%&quot;});\n",
       "\n",
       "        \n",
       "            var html_bf5e751fe26ae7150c66553d72ccdbd8 = $(`&lt;div id=&quot;html_bf5e751fe26ae7150c66553d72ccdbd8&quot; style=&quot;width: 100.0%; height: 100.0%;&quot;&gt;Cape Verde&lt;/div&gt;`)[0];\n",
       "            popup_96b7dd69bb2a713a68cb8e3cd9aac6ef.setContent(html_bf5e751fe26ae7150c66553d72ccdbd8);\n",
       "        \n",
       "\n",
       "        circle_marker_5910c3cdc4184bf513d5e8fe548bf3ff.bindPopup(popup_96b7dd69bb2a713a68cb8e3cd9aac6ef)\n",
       "        ;\n",
       "\n",
       "        \n",
       "    \n",
       "    \n",
       "            var circle_marker_1cff4bd130daa299b487c670755e93d0 = L.circleMarker(\n",
       "                [10.0, -84.0],\n",
       "                {&quot;bubblingMouseEvents&quot;: true, &quot;color&quot;: &quot;#3388ff&quot;, &quot;dashArray&quot;: null, &quot;dashOffset&quot;: null, &quot;fill&quot;: true, &quot;fillColor&quot;: &quot;green&quot;, &quot;fillOpacity&quot;: 0.2, &quot;fillRule&quot;: &quot;evenodd&quot;, &quot;lineCap&quot;: &quot;round&quot;, &quot;lineJoin&quot;: &quot;round&quot;, &quot;opacity&quot;: 1.0, &quot;radius&quot;: 1.402496325012203, &quot;stroke&quot;: true, &quot;weight&quot;: 3}\n",
       "            ).addTo(map_0ed39705f982cba5b49e80a3b39f571d);\n",
       "        \n",
       "    \n",
       "        var popup_99f60e9e84a7e60d6c6db3f021435b2a = L.popup({&quot;maxWidth&quot;: &quot;100%&quot;});\n",
       "\n",
       "        \n",
       "            var html_f942592ef690d2bfc87915a15a05d4d2 = $(`&lt;div id=&quot;html_f942592ef690d2bfc87915a15a05d4d2&quot; style=&quot;width: 100.0%; height: 100.0%;&quot;&gt;Costa Rica&lt;/div&gt;`)[0];\n",
       "            popup_99f60e9e84a7e60d6c6db3f021435b2a.setContent(html_f942592ef690d2bfc87915a15a05d4d2);\n",
       "        \n",
       "\n",
       "        circle_marker_1cff4bd130daa299b487c670755e93d0.bindPopup(popup_99f60e9e84a7e60d6c6db3f021435b2a)\n",
       "        ;\n",
       "\n",
       "        \n",
       "    \n",
       "    \n",
       "            var circle_marker_8c25a0e7c48fc1d499824b6ff8541461 = L.circleMarker(\n",
       "                [49.75, 15.0],\n",
       "                {&quot;bubblingMouseEvents&quot;: true, &quot;color&quot;: &quot;#3388ff&quot;, &quot;dashArray&quot;: null, &quot;dashOffset&quot;: null, &quot;fill&quot;: true, &quot;fillColor&quot;: &quot;black&quot;, &quot;fillOpacity&quot;: 0.2, &quot;fillRule&quot;: &quot;evenodd&quot;, &quot;lineCap&quot;: &quot;round&quot;, &quot;lineJoin&quot;: &quot;round&quot;, &quot;opacity&quot;: 1.0, &quot;radius&quot;: 0.31720301862166483, &quot;stroke&quot;: true, &quot;weight&quot;: 3}\n",
       "            ).addTo(map_0ed39705f982cba5b49e80a3b39f571d);\n",
       "        \n",
       "    \n",
       "        var popup_a1306e83044b4341194d27a7592caa6d = L.popup({&quot;maxWidth&quot;: &quot;100%&quot;});\n",
       "\n",
       "        \n",
       "            var html_065409403dafbaaea82b25fa2be5bc92 = $(`&lt;div id=&quot;html_065409403dafbaaea82b25fa2be5bc92&quot; style=&quot;width: 100.0%; height: 100.0%;&quot;&gt;Czech Republic&lt;/div&gt;`)[0];\n",
       "            popup_a1306e83044b4341194d27a7592caa6d.setContent(html_065409403dafbaaea82b25fa2be5bc92);\n",
       "        \n",
       "\n",
       "        circle_marker_8c25a0e7c48fc1d499824b6ff8541461.bindPopup(popup_a1306e83044b4341194d27a7592caa6d)\n",
       "        ;\n",
       "\n",
       "        \n",
       "    \n",
       "    \n",
       "            var circle_marker_d4f6927dc62f346492c6b21d3a15a2e0 = L.circleMarker(\n",
       "                [51.5, 10.5],\n",
       "                {&quot;bubblingMouseEvents&quot;: true, &quot;color&quot;: &quot;#3388ff&quot;, &quot;dashArray&quot;: null, &quot;dashOffset&quot;: null, &quot;fill&quot;: true, &quot;fillColor&quot;: &quot;black&quot;, &quot;fillOpacity&quot;: 0.2, &quot;fillRule&quot;: &quot;evenodd&quot;, &quot;lineCap&quot;: &quot;round&quot;, &quot;lineJoin&quot;: &quot;round&quot;, &quot;opacity&quot;: 1.0, &quot;radius&quot;: 2.957623648166546, &quot;stroke&quot;: true, &quot;weight&quot;: 3}\n",
       "            ).addTo(map_0ed39705f982cba5b49e80a3b39f571d);\n",
       "        \n",
       "    \n",
       "        var popup_033fb97aaf2f5372e19699910e7dfee4 = L.popup({&quot;maxWidth&quot;: &quot;100%&quot;});\n",
       "\n",
       "        \n",
       "            var html_12c4fc179f1c64b9882553663a5d3fb8 = $(`&lt;div id=&quot;html_12c4fc179f1c64b9882553663a5d3fb8&quot; style=&quot;width: 100.0%; height: 100.0%;&quot;&gt;Germany&lt;/div&gt;`)[0];\n",
       "            popup_033fb97aaf2f5372e19699910e7dfee4.setContent(html_12c4fc179f1c64b9882553663a5d3fb8);\n",
       "        \n",
       "\n",
       "        circle_marker_d4f6927dc62f346492c6b21d3a15a2e0.bindPopup(popup_033fb97aaf2f5372e19699910e7dfee4)\n",
       "        ;\n",
       "\n",
       "        \n",
       "    \n",
       "    \n",
       "            var circle_marker_2de4a3dbc0faa3e5a8e4beee6a8c365e = L.circleMarker(\n",
       "                [11.58901, 43.14503],\n",
       "                {&quot;bubblingMouseEvents&quot;: true, &quot;color&quot;: &quot;#3388ff&quot;, &quot;dashArray&quot;: null, &quot;dashOffset&quot;: null, &quot;fill&quot;: true, &quot;fillColor&quot;: &quot;blue&quot;, &quot;fillOpacity&quot;: 0.2, &quot;fillRule&quot;: &quot;evenodd&quot;, &quot;lineCap&quot;: &quot;round&quot;, &quot;lineJoin&quot;: &quot;round&quot;, &quot;opacity&quot;: 1.0, &quot;radius&quot;: 2.244091994176071, &quot;stroke&quot;: true, &quot;weight&quot;: 3}\n",
       "            ).addTo(map_0ed39705f982cba5b49e80a3b39f571d);\n",
       "        \n",
       "    \n",
       "        var popup_efd5c77f776af7e3c161213665a8b93d = L.popup({&quot;maxWidth&quot;: &quot;100%&quot;});\n",
       "\n",
       "        \n",
       "            var html_a0507f9e55d74d12a3b83749580e9aad = $(`&lt;div id=&quot;html_a0507f9e55d74d12a3b83749580e9aad&quot; style=&quot;width: 100.0%; height: 100.0%;&quot;&gt;Djibouti&lt;/div&gt;`)[0];\n",
       "            popup_efd5c77f776af7e3c161213665a8b93d.setContent(html_a0507f9e55d74d12a3b83749580e9aad);\n",
       "        \n",
       "\n",
       "        circle_marker_2de4a3dbc0faa3e5a8e4beee6a8c365e.bindPopup(popup_efd5c77f776af7e3c161213665a8b93d)\n",
       "        ;\n",
       "\n",
       "        \n",
       "    \n",
       "    \n",
       "            var circle_marker_73735fce15077902688a4f16341a51e8 = L.circleMarker(\n",
       "                [56.0, 10.0],\n",
       "                {&quot;bubblingMouseEvents&quot;: true, &quot;color&quot;: &quot;#3388ff&quot;, &quot;dashArray&quot;: null, &quot;dashOffset&quot;: null, &quot;fill&quot;: true, &quot;fillColor&quot;: &quot;black&quot;, &quot;fillOpacity&quot;: 0.2, &quot;fillRule&quot;: &quot;evenodd&quot;, &quot;lineCap&quot;: &quot;round&quot;, &quot;lineJoin&quot;: &quot;round&quot;, &quot;opacity&quot;: 1.0, &quot;radius&quot;: 1.0884180738164053, &quot;stroke&quot;: true, &quot;weight&quot;: 3}\n",
       "            ).addTo(map_0ed39705f982cba5b49e80a3b39f571d);\n",
       "        \n",
       "    \n",
       "        var popup_5f94477d1ca4379a602be32891fe9516 = L.popup({&quot;maxWidth&quot;: &quot;100%&quot;});\n",
       "\n",
       "        \n",
       "            var html_51efc65b4cedfe29ac182e7a3ded29f9 = $(`&lt;div id=&quot;html_51efc65b4cedfe29ac182e7a3ded29f9&quot; style=&quot;width: 100.0%; height: 100.0%;&quot;&gt;Denmark&lt;/div&gt;`)[0];\n",
       "            popup_5f94477d1ca4379a602be32891fe9516.setContent(html_51efc65b4cedfe29ac182e7a3ded29f9);\n",
       "        \n",
       "\n",
       "        circle_marker_73735fce15077902688a4f16341a51e8.bindPopup(popup_5f94477d1ca4379a602be32891fe9516)\n",
       "        ;\n",
       "\n",
       "        \n",
       "    \n",
       "    \n",
       "            var circle_marker_ce50a08865f976c158d98e32ea92ff2a = L.circleMarker(\n",
       "                [19.0, -70.66667],\n",
       "                {&quot;bubblingMouseEvents&quot;: true, &quot;color&quot;: &quot;#3388ff&quot;, &quot;dashArray&quot;: null, &quot;dashOffset&quot;: null, &quot;fill&quot;: true, &quot;fillColor&quot;: &quot;green&quot;, &quot;fillOpacity&quot;: 0.2, &quot;fillRule&quot;: &quot;evenodd&quot;, &quot;lineCap&quot;: &quot;round&quot;, &quot;lineJoin&quot;: &quot;round&quot;, &quot;opacity&quot;: 1.0, &quot;radius&quot;: 2.6350734064183507, &quot;stroke&quot;: true, &quot;weight&quot;: 3}\n",
       "            ).addTo(map_0ed39705f982cba5b49e80a3b39f571d);\n",
       "        \n",
       "    \n",
       "        var popup_f6b73947c7c514879c1efb9436dc304b = L.popup({&quot;maxWidth&quot;: &quot;100%&quot;});\n",
       "\n",
       "        \n",
       "            var html_16c3d965dcaf910e4d52cbfb28caa908 = $(`&lt;div id=&quot;html_16c3d965dcaf910e4d52cbfb28caa908&quot; style=&quot;width: 100.0%; height: 100.0%;&quot;&gt;Dominican Republic&lt;/div&gt;`)[0];\n",
       "            popup_f6b73947c7c514879c1efb9436dc304b.setContent(html_16c3d965dcaf910e4d52cbfb28caa908);\n",
       "        \n",
       "\n",
       "        circle_marker_ce50a08865f976c158d98e32ea92ff2a.bindPopup(popup_f6b73947c7c514879c1efb9436dc304b)\n",
       "        ;\n",
       "\n",
       "        \n",
       "    \n",
       "    \n",
       "            var circle_marker_27d81de39f2618663d2e9428e2603bf1 = L.circleMarker(\n",
       "                [28.0, 3.0],\n",
       "                {&quot;bubblingMouseEvents&quot;: true, &quot;color&quot;: &quot;#3388ff&quot;, &quot;dashArray&quot;: null, &quot;dashOffset&quot;: null, &quot;fill&quot;: true, &quot;fillColor&quot;: &quot;blue&quot;, &quot;fillOpacity&quot;: 0.2, &quot;fillRule&quot;: &quot;evenodd&quot;, &quot;lineCap&quot;: &quot;round&quot;, &quot;lineJoin&quot;: &quot;round&quot;, &quot;opacity&quot;: 1.0, &quot;radius&quot;: 8.547725420605834, &quot;stroke&quot;: true, &quot;weight&quot;: 3}\n",
       "            ).addTo(map_0ed39705f982cba5b49e80a3b39f571d);\n",
       "        \n",
       "    \n",
       "        var popup_f151bac251fd22d216a5204fe8a38e01 = L.popup({&quot;maxWidth&quot;: &quot;100%&quot;});\n",
       "\n",
       "        \n",
       "            var html_c1cc7c8f5da3919d116cfedec365e10f = $(`&lt;div id=&quot;html_c1cc7c8f5da3919d116cfedec365e10f&quot; style=&quot;width: 100.0%; height: 100.0%;&quot;&gt;Algeria&lt;/div&gt;`)[0];\n",
       "            popup_f151bac251fd22d216a5204fe8a38e01.setContent(html_c1cc7c8f5da3919d116cfedec365e10f);\n",
       "        \n",
       "\n",
       "        circle_marker_27d81de39f2618663d2e9428e2603bf1.bindPopup(popup_f151bac251fd22d216a5204fe8a38e01)\n",
       "        ;\n",
       "\n",
       "        \n",
       "    \n",
       "    \n",
       "            var circle_marker_e4549dc0ff0a8c05f55c05e8b163e795 = L.circleMarker(\n",
       "                [-1.25, -78.25],\n",
       "                {&quot;bubblingMouseEvents&quot;: true, &quot;color&quot;: &quot;#3388ff&quot;, &quot;dashArray&quot;: null, &quot;dashOffset&quot;: null, &quot;fill&quot;: true, &quot;fillColor&quot;: &quot;green&quot;, &quot;fillOpacity&quot;: 0.2, &quot;fillRule&quot;: &quot;evenodd&quot;, &quot;lineCap&quot;: &quot;round&quot;, &quot;lineJoin&quot;: &quot;round&quot;, &quot;opacity&quot;: 1.0, &quot;radius&quot;: 4.34440267014846, &quot;stroke&quot;: true, &quot;weight&quot;: 3}\n",
       "            ).addTo(map_0ed39705f982cba5b49e80a3b39f571d);\n",
       "        \n",
       "    \n",
       "        var popup_d51fca450bbfe11529d4cbfcad0d1fd1 = L.popup({&quot;maxWidth&quot;: &quot;100%&quot;});\n",
       "\n",
       "        \n",
       "            var html_6039442e759ec2803fceb36a3c4eeed5 = $(`&lt;div id=&quot;html_6039442e759ec2803fceb36a3c4eeed5&quot; style=&quot;width: 100.0%; height: 100.0%;&quot;&gt;Ecuador&lt;/div&gt;`)[0];\n",
       "            popup_d51fca450bbfe11529d4cbfcad0d1fd1.setContent(html_6039442e759ec2803fceb36a3c4eeed5);\n",
       "        \n",
       "\n",
       "        circle_marker_e4549dc0ff0a8c05f55c05e8b163e795.bindPopup(popup_d51fca450bbfe11529d4cbfcad0d1fd1)\n",
       "        ;\n",
       "\n",
       "        \n",
       "    \n",
       "    \n",
       "            var circle_marker_ba1fa9a9ea17071f822074eeca0a0fb2 = L.circleMarker(\n",
       "                [27.0, 30.0],\n",
       "                {&quot;bubblingMouseEvents&quot;: true, &quot;color&quot;: &quot;#3388ff&quot;, &quot;dashArray&quot;: null, &quot;dashOffset&quot;: null, &quot;fill&quot;: true, &quot;fillColor&quot;: &quot;blue&quot;, &quot;fillOpacity&quot;: 0.2, &quot;fillRule&quot;: &quot;evenodd&quot;, &quot;lineCap&quot;: &quot;round&quot;, &quot;lineJoin&quot;: &quot;round&quot;, &quot;opacity&quot;: 1.0, &quot;radius&quot;: 6.652627784125568, &quot;stroke&quot;: true, &quot;weight&quot;: 3}\n",
       "            ).addTo(map_0ed39705f982cba5b49e80a3b39f571d);\n",
       "        \n",
       "    \n",
       "        var popup_d94180abcdd22e25fc720ad3d937aeef = L.popup({&quot;maxWidth&quot;: &quot;100%&quot;});\n",
       "\n",
       "        \n",
       "            var html_89782d03b2c31240cb2853af4221e4ba = $(`&lt;div id=&quot;html_89782d03b2c31240cb2853af4221e4ba&quot; style=&quot;width: 100.0%; height: 100.0%;&quot;&gt;Egypt&lt;/div&gt;`)[0];\n",
       "            popup_d94180abcdd22e25fc720ad3d937aeef.setContent(html_89782d03b2c31240cb2853af4221e4ba);\n",
       "        \n",
       "\n",
       "        circle_marker_ba1fa9a9ea17071f822074eeca0a0fb2.bindPopup(popup_d94180abcdd22e25fc720ad3d937aeef)\n",
       "        ;\n",
       "\n",
       "        \n",
       "    \n",
       "    \n",
       "            var circle_marker_ba49082b16d9ae801e38899987911285 = L.circleMarker(\n",
       "                [40.0, -4.0],\n",
       "                {&quot;bubblingMouseEvents&quot;: true, &quot;color&quot;: &quot;#3388ff&quot;, &quot;dashArray&quot;: null, &quot;dashOffset&quot;: null, &quot;fill&quot;: true, &quot;fillColor&quot;: &quot;black&quot;, &quot;fillOpacity&quot;: 0.2, &quot;fillRule&quot;: &quot;evenodd&quot;, &quot;lineCap&quot;: &quot;round&quot;, &quot;lineJoin&quot;: &quot;round&quot;, &quot;opacity&quot;: 1.0, &quot;radius&quot;: 5.912389201233562, &quot;stroke&quot;: true, &quot;weight&quot;: 3}\n",
       "            ).addTo(map_0ed39705f982cba5b49e80a3b39f571d);\n",
       "        \n",
       "    \n",
       "        var popup_51639b4606ced1221b0058708688d23c = L.popup({&quot;maxWidth&quot;: &quot;100%&quot;});\n",
       "\n",
       "        \n",
       "            var html_c43da5a489a67dda2ef5bd0a14cde21a = $(`&lt;div id=&quot;html_c43da5a489a67dda2ef5bd0a14cde21a&quot; style=&quot;width: 100.0%; height: 100.0%;&quot;&gt;Spain&lt;/div&gt;`)[0];\n",
       "            popup_51639b4606ced1221b0058708688d23c.setContent(html_c43da5a489a67dda2ef5bd0a14cde21a);\n",
       "        \n",
       "\n",
       "        circle_marker_ba49082b16d9ae801e38899987911285.bindPopup(popup_51639b4606ced1221b0058708688d23c)\n",
       "        ;\n",
       "\n",
       "        \n",
       "    \n",
       "    \n",
       "            var circle_marker_c1ef167c231f5cd5b62b0d3c3f36fb81 = L.circleMarker(\n",
       "                [59.0, 26.0],\n",
       "                {&quot;bubblingMouseEvents&quot;: true, &quot;color&quot;: &quot;#3388ff&quot;, &quot;dashArray&quot;: null, &quot;dashOffset&quot;: null, &quot;fill&quot;: true, &quot;fillColor&quot;: &quot;black&quot;, &quot;fillOpacity&quot;: 0.2, &quot;fillRule&quot;: &quot;evenodd&quot;, &quot;lineCap&quot;: &quot;round&quot;, &quot;lineJoin&quot;: &quot;round&quot;, &quot;opacity&quot;: 1.0, &quot;radius&quot;: 0.6446344362605358, &quot;stroke&quot;: true, &quot;weight&quot;: 3}\n",
       "            ).addTo(map_0ed39705f982cba5b49e80a3b39f571d);\n",
       "        \n",
       "    \n",
       "        var popup_c61ef87da902610ae1819ce0ac2ecb66 = L.popup({&quot;maxWidth&quot;: &quot;100%&quot;});\n",
       "\n",
       "        \n",
       "            var html_8501d6f9d1c64d88f7b8f95f86deb01a = $(`&lt;div id=&quot;html_8501d6f9d1c64d88f7b8f95f86deb01a&quot; style=&quot;width: 100.0%; height: 100.0%;&quot;&gt;Estonia&lt;/div&gt;`)[0];\n",
       "            popup_c61ef87da902610ae1819ce0ac2ecb66.setContent(html_8501d6f9d1c64d88f7b8f95f86deb01a);\n",
       "        \n",
       "\n",
       "        circle_marker_c1ef167c231f5cd5b62b0d3c3f36fb81.bindPopup(popup_c61ef87da902610ae1819ce0ac2ecb66)\n",
       "        ;\n",
       "\n",
       "        \n",
       "    \n",
       "    \n",
       "            var circle_marker_bc05aa24df17e3152e7aece4c2487e52 = L.circleMarker(\n",
       "                [9.0, 39.5],\n",
       "                {&quot;bubblingMouseEvents&quot;: true, &quot;color&quot;: &quot;#3388ff&quot;, &quot;dashArray&quot;: null, &quot;dashOffset&quot;: null, &quot;fill&quot;: true, &quot;fillColor&quot;: &quot;blue&quot;, &quot;fillOpacity&quot;: 0.2, &quot;fillRule&quot;: &quot;evenodd&quot;, &quot;lineCap&quot;: &quot;round&quot;, &quot;lineJoin&quot;: &quot;round&quot;, &quot;opacity&quot;: 1.0, &quot;radius&quot;: 32.036203795508186, &quot;stroke&quot;: true, &quot;weight&quot;: 3}\n",
       "            ).addTo(map_0ed39705f982cba5b49e80a3b39f571d);\n",
       "        \n",
       "    \n",
       "        var popup_621aa0679373a8411a2b2a2d7c79b2d0 = L.popup({&quot;maxWidth&quot;: &quot;100%&quot;});\n",
       "\n",
       "        \n",
       "            var html_149dc8d0e656177b3159105775a92765 = $(`&lt;div id=&quot;html_149dc8d0e656177b3159105775a92765&quot; style=&quot;width: 100.0%; height: 100.0%;&quot;&gt;Ethiopia&lt;/div&gt;`)[0];\n",
       "            popup_621aa0679373a8411a2b2a2d7c79b2d0.setContent(html_149dc8d0e656177b3159105775a92765);\n",
       "        \n",
       "\n",
       "        circle_marker_bc05aa24df17e3152e7aece4c2487e52.bindPopup(popup_621aa0679373a8411a2b2a2d7c79b2d0)\n",
       "        ;\n",
       "\n",
       "        \n",
       "    \n",
       "    \n",
       "            var circle_marker_8e9b4825bb8134cf1d4834a65d5cd382 = L.circleMarker(\n",
       "                [64.0, 26.0],\n",
       "                {&quot;bubblingMouseEvents&quot;: true, &quot;color&quot;: &quot;#3388ff&quot;, &quot;dashArray&quot;: null, &quot;dashOffset&quot;: null, &quot;fill&quot;: true, &quot;fillColor&quot;: &quot;black&quot;, &quot;fillOpacity&quot;: 0.2, &quot;fillRule&quot;: &quot;evenodd&quot;, &quot;lineCap&quot;: &quot;round&quot;, &quot;lineJoin&quot;: &quot;round&quot;, &quot;opacity&quot;: 1.0, &quot;stroke&quot;: true, &quot;weight&quot;: 3}\n",
       "            ).addTo(map_0ed39705f982cba5b49e80a3b39f571d);\n",
       "        \n",
       "    \n",
       "        var popup_5c5bd0effecf59d4794c1ca37b80cbf0 = L.popup({&quot;maxWidth&quot;: &quot;100%&quot;});\n",
       "\n",
       "        \n",
       "            var html_3ba796719c7ebfe525c6d0ee61b74225 = $(`&lt;div id=&quot;html_3ba796719c7ebfe525c6d0ee61b74225&quot; style=&quot;width: 100.0%; height: 100.0%;&quot;&gt;Finland&lt;/div&gt;`)[0];\n",
       "            popup_5c5bd0effecf59d4794c1ca37b80cbf0.setContent(html_3ba796719c7ebfe525c6d0ee61b74225);\n",
       "        \n",
       "\n",
       "        circle_marker_8e9b4825bb8134cf1d4834a65d5cd382.bindPopup(popup_5c5bd0effecf59d4794c1ca37b80cbf0)\n",
       "        ;\n",
       "\n",
       "        \n",
       "    \n",
       "    \n",
       "            var circle_marker_591c23277e7e3b43cda80ff6907bf982 = L.circleMarker(\n",
       "                [-18.0, 178.0],\n",
       "                {&quot;bubblingMouseEvents&quot;: true, &quot;color&quot;: &quot;#3388ff&quot;, &quot;dashArray&quot;: null, &quot;dashOffset&quot;: null, &quot;fill&quot;: true, &quot;fillColor&quot;: &quot;red&quot;, &quot;fillOpacity&quot;: 0.2, &quot;fillRule&quot;: &quot;evenodd&quot;, &quot;lineCap&quot;: &quot;round&quot;, &quot;lineJoin&quot;: &quot;round&quot;, &quot;opacity&quot;: 1.0, &quot;radius&quot;: 1.2685737233520922, &quot;stroke&quot;: true, &quot;weight&quot;: 3}\n",
       "            ).addTo(map_0ed39705f982cba5b49e80a3b39f571d);\n",
       "        \n",
       "    \n",
       "        var popup_990873d541b1f6d159b50808f2f12cb5 = L.popup({&quot;maxWidth&quot;: &quot;100%&quot;});\n",
       "\n",
       "        \n",
       "            var html_614d3afc9e6ba53a55d4212b61955162 = $(`&lt;div id=&quot;html_614d3afc9e6ba53a55d4212b61955162&quot; style=&quot;width: 100.0%; height: 100.0%;&quot;&gt;Fiji&lt;/div&gt;`)[0];\n",
       "            popup_990873d541b1f6d159b50808f2f12cb5.setContent(html_614d3afc9e6ba53a55d4212b61955162);\n",
       "        \n",
       "\n",
       "        circle_marker_591c23277e7e3b43cda80ff6907bf982.bindPopup(popup_990873d541b1f6d159b50808f2f12cb5)\n",
       "        ;\n",
       "\n",
       "        \n",
       "    \n",
       "    \n",
       "            var circle_marker_3c765dc9e491da787e994a5f8ff67c9b = L.circleMarker(\n",
       "                [46.0, 2.0],\n",
       "                {&quot;bubblingMouseEvents&quot;: true, &quot;color&quot;: &quot;#3388ff&quot;, &quot;dashArray&quot;: null, &quot;dashOffset&quot;: null, &quot;fill&quot;: true, &quot;fillColor&quot;: &quot;black&quot;, &quot;fillOpacity&quot;: 0.2, &quot;fillRule&quot;: &quot;evenodd&quot;, &quot;lineCap&quot;: &quot;round&quot;, &quot;lineJoin&quot;: &quot;round&quot;, &quot;opacity&quot;: 1.0, &quot;radius&quot;: 2.57001824901904, &quot;stroke&quot;: true, &quot;weight&quot;: 3}\n",
       "            ).addTo(map_0ed39705f982cba5b49e80a3b39f571d);\n",
       "        \n",
       "    \n",
       "        var popup_14734cf8f20436e2ab50d6a43cc882c3 = L.popup({&quot;maxWidth&quot;: &quot;100%&quot;});\n",
       "\n",
       "        \n",
       "            var html_a464bb6e6de3d43785a546afa9db3171 = $(`&lt;div id=&quot;html_a464bb6e6de3d43785a546afa9db3171&quot; style=&quot;width: 100.0%; height: 100.0%;&quot;&gt;France&lt;/div&gt;`)[0];\n",
       "            popup_14734cf8f20436e2ab50d6a43cc882c3.setContent(html_a464bb6e6de3d43785a546afa9db3171);\n",
       "        \n",
       "\n",
       "        circle_marker_3c765dc9e491da787e994a5f8ff67c9b.bindPopup(popup_14734cf8f20436e2ab50d6a43cc882c3)\n",
       "        ;\n",
       "\n",
       "        \n",
       "    \n",
       "    \n",
       "            var circle_marker_70c7ad541c09ccfd20551e6387318782 = L.circleMarker(\n",
       "                [6.924, 158.162],\n",
       "                {&quot;bubblingMouseEvents&quot;: true, &quot;color&quot;: &quot;#3388ff&quot;, &quot;dashArray&quot;: null, &quot;dashOffset&quot;: null, &quot;fill&quot;: true, &quot;fillColor&quot;: &quot;red&quot;, &quot;fillOpacity&quot;: 0.2, &quot;fillRule&quot;: &quot;evenodd&quot;, &quot;lineCap&quot;: &quot;round&quot;, &quot;lineJoin&quot;: &quot;round&quot;, &quot;opacity&quot;: 1.0, &quot;radius&quot;: 1.0101672302782327, &quot;stroke&quot;: true, &quot;weight&quot;: 3}\n",
       "            ).addTo(map_0ed39705f982cba5b49e80a3b39f571d);\n",
       "        \n",
       "    \n",
       "        var popup_1518b9641b4e5f03a0570a9f1f055031 = L.popup({&quot;maxWidth&quot;: &quot;100%&quot;});\n",
       "\n",
       "        \n",
       "            var html_bca632f637932a15b898c1127dd383f0 = $(`&lt;div id=&quot;html_bca632f637932a15b898c1127dd383f0&quot; style=&quot;width: 100.0%; height: 100.0%;&quot;&gt;Micronesia, Fed. Sts.&lt;/div&gt;`)[0];\n",
       "            popup_1518b9641b4e5f03a0570a9f1f055031.setContent(html_bca632f637932a15b898c1127dd383f0);\n",
       "        \n",
       "\n",
       "        circle_marker_70c7ad541c09ccfd20551e6387318782.bindPopup(popup_1518b9641b4e5f03a0570a9f1f055031)\n",
       "        ;\n",
       "\n",
       "        \n",
       "    \n",
       "    \n",
       "            var circle_marker_da07fa5838ed3d999b035ae8e528492e = L.circleMarker(\n",
       "                [-1.0, 11.75],\n",
       "                {&quot;bubblingMouseEvents&quot;: true, &quot;color&quot;: &quot;#3388ff&quot;, &quot;dashArray&quot;: null, &quot;dashOffset&quot;: null, &quot;fill&quot;: true, &quot;fillColor&quot;: &quot;blue&quot;, &quot;fillOpacity&quot;: 0.2, &quot;fillRule&quot;: &quot;evenodd&quot;, &quot;lineCap&quot;: &quot;round&quot;, &quot;lineJoin&quot;: &quot;round&quot;, &quot;opacity&quot;: 1.0, &quot;radius&quot;: 1.7743739978493467, &quot;stroke&quot;: true, &quot;weight&quot;: 3}\n",
       "            ).addTo(map_0ed39705f982cba5b49e80a3b39f571d);\n",
       "        \n",
       "    \n",
       "        var popup_ee386652daf16ee0d2e418d3b9edc363 = L.popup({&quot;maxWidth&quot;: &quot;100%&quot;});\n",
       "\n",
       "        \n",
       "            var html_f5d0d78497648dd7c654fe3f0c3d50b1 = $(`&lt;div id=&quot;html_f5d0d78497648dd7c654fe3f0c3d50b1&quot; style=&quot;width: 100.0%; height: 100.0%;&quot;&gt;Gabon&lt;/div&gt;`)[0];\n",
       "            popup_ee386652daf16ee0d2e418d3b9edc363.setContent(html_f5d0d78497648dd7c654fe3f0c3d50b1);\n",
       "        \n",
       "\n",
       "        circle_marker_da07fa5838ed3d999b035ae8e528492e.bindPopup(popup_ee386652daf16ee0d2e418d3b9edc363)\n",
       "        ;\n",
       "\n",
       "        \n",
       "    \n",
       "    \n",
       "            var circle_marker_989fdbbfb3500b0eca4af8d4646d8f58 = L.circleMarker(\n",
       "                [54.75844, -2.69531],\n",
       "                {&quot;bubblingMouseEvents&quot;: true, &quot;color&quot;: &quot;#3388ff&quot;, &quot;dashArray&quot;: null, &quot;dashOffset&quot;: null, &quot;fill&quot;: true, &quot;fillColor&quot;: &quot;black&quot;, &quot;fillOpacity&quot;: 0.2, &quot;fillRule&quot;: &quot;evenodd&quot;, &quot;lineCap&quot;: &quot;round&quot;, &quot;lineJoin&quot;: &quot;round&quot;, &quot;opacity&quot;: 1.0, &quot;radius&quot;: 4.516844160364442, &quot;stroke&quot;: true, &quot;weight&quot;: 3}\n",
       "            ).addTo(map_0ed39705f982cba5b49e80a3b39f571d);\n",
       "        \n",
       "    \n",
       "        var popup_7f3baaa4ebc9a5ce4c9482c9902c6835 = L.popup({&quot;maxWidth&quot;: &quot;100%&quot;});\n",
       "\n",
       "        \n",
       "            var html_11a8bcd48ea3cbda8a65fdf4417943d1 = $(`&lt;div id=&quot;html_11a8bcd48ea3cbda8a65fdf4417943d1&quot; style=&quot;width: 100.0%; height: 100.0%;&quot;&gt;United Kingdom&lt;/div&gt;`)[0];\n",
       "            popup_7f3baaa4ebc9a5ce4c9482c9902c6835.setContent(html_11a8bcd48ea3cbda8a65fdf4417943d1);\n",
       "        \n",
       "\n",
       "        circle_marker_989fdbbfb3500b0eca4af8d4646d8f58.bindPopup(popup_7f3baaa4ebc9a5ce4c9482c9902c6835)\n",
       "        ;\n",
       "\n",
       "        \n",
       "    \n",
       "    \n",
       "            var circle_marker_e28ddc5318f8f480e25a27ad598d911a = L.circleMarker(\n",
       "                [41.99998, 43.4999],\n",
       "                {&quot;bubblingMouseEvents&quot;: true, &quot;color&quot;: &quot;#3388ff&quot;, &quot;dashArray&quot;: null, &quot;dashOffset&quot;: null, &quot;fill&quot;: true, &quot;fillColor&quot;: &quot;black&quot;, &quot;fillOpacity&quot;: 0.2, &quot;fillRule&quot;: &quot;evenodd&quot;, &quot;lineCap&quot;: &quot;round&quot;, &quot;lineJoin&quot;: &quot;round&quot;, &quot;opacity&quot;: 1.0, &quot;radius&quot;: 4.2953024311538215, &quot;stroke&quot;: true, &quot;weight&quot;: 3}\n",
       "            ).addTo(map_0ed39705f982cba5b49e80a3b39f571d);\n",
       "        \n",
       "    \n",
       "        var popup_56ebd9679300559d718c6c850a5af78e = L.popup({&quot;maxWidth&quot;: &quot;100%&quot;});\n",
       "\n",
       "        \n",
       "            var html_cba93af3b908f92135a9e8934772d93f = $(`&lt;div id=&quot;html_cba93af3b908f92135a9e8934772d93f&quot; style=&quot;width: 100.0%; height: 100.0%;&quot;&gt;Georgia&lt;/div&gt;`)[0];\n",
       "            popup_56ebd9679300559d718c6c850a5af78e.setContent(html_cba93af3b908f92135a9e8934772d93f);\n",
       "        \n",
       "\n",
       "        circle_marker_e28ddc5318f8f480e25a27ad598d911a.bindPopup(popup_56ebd9679300559d718c6c850a5af78e)\n",
       "        ;\n",
       "\n",
       "        \n",
       "    \n",
       "    \n",
       "            var circle_marker_404f2dc61c0d04489b78ecf3b59a7a5b = L.circleMarker(\n",
       "                [8.1, -1.2],\n",
       "                {&quot;bubblingMouseEvents&quot;: true, &quot;color&quot;: &quot;#3388ff&quot;, &quot;dashArray&quot;: null, &quot;dashOffset&quot;: null, &quot;fill&quot;: true, &quot;fillColor&quot;: &quot;blue&quot;, &quot;fillOpacity&quot;: 0.2, &quot;fillRule&quot;: &quot;evenodd&quot;, &quot;lineCap&quot;: &quot;round&quot;, &quot;lineJoin&quot;: &quot;round&quot;, &quot;opacity&quot;: 1.0, &quot;radius&quot;: 15.016869987417403, &quot;stroke&quot;: true, &quot;weight&quot;: 3}\n",
       "            ).addTo(map_0ed39705f982cba5b49e80a3b39f571d);\n",
       "        \n",
       "    \n",
       "        var popup_a858f73d2ca520428c63114f3a2b082a = L.popup({&quot;maxWidth&quot;: &quot;100%&quot;});\n",
       "\n",
       "        \n",
       "            var html_5fb97784c3defeb2a0656497b788f6bb = $(`&lt;div id=&quot;html_5fb97784c3defeb2a0656497b788f6bb&quot; style=&quot;width: 100.0%; height: 100.0%;&quot;&gt;Ghana&lt;/div&gt;`)[0];\n",
       "            popup_a858f73d2ca520428c63114f3a2b082a.setContent(html_5fb97784c3defeb2a0656497b788f6bb);\n",
       "        \n",
       "\n",
       "        circle_marker_404f2dc61c0d04489b78ecf3b59a7a5b.bindPopup(popup_a858f73d2ca520428c63114f3a2b082a)\n",
       "        ;\n",
       "\n",
       "        \n",
       "    \n",
       "    \n",
       "            var circle_marker_4a6b06effa42c3cfde0ad43358e0a5fb = L.circleMarker(\n",
       "                [10.83333, -10.66667],\n",
       "                {&quot;bubblingMouseEvents&quot;: true, &quot;color&quot;: &quot;#3388ff&quot;, &quot;dashArray&quot;: null, &quot;dashOffset&quot;: null, &quot;fill&quot;: true, &quot;fillColor&quot;: &quot;blue&quot;, &quot;fillOpacity&quot;: 0.2, &quot;fillRule&quot;: &quot;evenodd&quot;, &quot;lineCap&quot;: &quot;round&quot;, &quot;lineJoin&quot;: &quot;round&quot;, &quot;opacity&quot;: 1.0, &quot;radius&quot;: 11.514913134644747, &quot;stroke&quot;: true, &quot;weight&quot;: 3}\n",
       "            ).addTo(map_0ed39705f982cba5b49e80a3b39f571d);\n",
       "        \n",
       "    \n",
       "        var popup_f8b29c7df7d14030e91bb695d08991d3 = L.popup({&quot;maxWidth&quot;: &quot;100%&quot;});\n",
       "\n",
       "        \n",
       "            var html_e56eefaba300be51c33cfbc1c69614a6 = $(`&lt;div id=&quot;html_e56eefaba300be51c33cfbc1c69614a6&quot; style=&quot;width: 100.0%; height: 100.0%;&quot;&gt;Guinea&lt;/div&gt;`)[0];\n",
       "            popup_f8b29c7df7d14030e91bb695d08991d3.setContent(html_e56eefaba300be51c33cfbc1c69614a6);\n",
       "        \n",
       "\n",
       "        circle_marker_4a6b06effa42c3cfde0ad43358e0a5fb.bindPopup(popup_f8b29c7df7d14030e91bb695d08991d3)\n",
       "        ;\n",
       "\n",
       "        \n",
       "    \n",
       "    \n",
       "            var circle_marker_09980badb7b39854cfa90ac7d26744d6 = L.circleMarker(\n",
       "                [13.5, -15.5],\n",
       "                {&quot;bubblingMouseEvents&quot;: true, &quot;color&quot;: &quot;#3388ff&quot;, &quot;dashArray&quot;: null, &quot;dashOffset&quot;: null, &quot;fill&quot;: true, &quot;fillColor&quot;: &quot;blue&quot;, &quot;fillOpacity&quot;: 0.2, &quot;fillRule&quot;: &quot;evenodd&quot;, &quot;lineCap&quot;: &quot;round&quot;, &quot;lineJoin&quot;: &quot;round&quot;, &quot;opacity&quot;: 1.0, &quot;radius&quot;: 4.381298115773378, &quot;stroke&quot;: true, &quot;weight&quot;: 3}\n",
       "            ).addTo(map_0ed39705f982cba5b49e80a3b39f571d);\n",
       "        \n",
       "    \n",
       "        var popup_8e171bc190f9b08cf1881ba3cef1f55f = L.popup({&quot;maxWidth&quot;: &quot;100%&quot;});\n",
       "\n",
       "        \n",
       "            var html_bb1994501e0943a8f59e2ad891d6c89d = $(`&lt;div id=&quot;html_bb1994501e0943a8f59e2ad891d6c89d&quot; style=&quot;width: 100.0%; height: 100.0%;&quot;&gt;Gambia&lt;/div&gt;`)[0];\n",
       "            popup_8e171bc190f9b08cf1881ba3cef1f55f.setContent(html_bb1994501e0943a8f59e2ad891d6c89d);\n",
       "        \n",
       "\n",
       "        circle_marker_09980badb7b39854cfa90ac7d26744d6.bindPopup(popup_8e171bc190f9b08cf1881ba3cef1f55f)\n",
       "        ;\n",
       "\n",
       "        \n",
       "    \n",
       "    \n",
       "            var circle_marker_0f743ec5e9306f7e56c9c74b3053d04c = L.circleMarker(\n",
       "                [12.0, -15.0],\n",
       "                {&quot;bubblingMouseEvents&quot;: true, &quot;color&quot;: &quot;#3388ff&quot;, &quot;dashArray&quot;: null, &quot;dashOffset&quot;: null, &quot;fill&quot;: true, &quot;fillColor&quot;: &quot;blue&quot;, &quot;fillOpacity&quot;: 0.2, &quot;fillRule&quot;: &quot;evenodd&quot;, &quot;lineCap&quot;: &quot;round&quot;, &quot;lineJoin&quot;: &quot;round&quot;, &quot;opacity&quot;: 1.0, &quot;radius&quot;: 4.868250000644995, &quot;stroke&quot;: true, &quot;weight&quot;: 3}\n",
       "            ).addTo(map_0ed39705f982cba5b49e80a3b39f571d);\n",
       "        \n",
       "    \n",
       "        var popup_25f9a597f5819dfdab7bb1078a005596 = L.popup({&quot;maxWidth&quot;: &quot;100%&quot;});\n",
       "\n",
       "        \n",
       "            var html_66e53c3af1093300d508177ab53f5e77 = $(`&lt;div id=&quot;html_66e53c3af1093300d508177ab53f5e77&quot; style=&quot;width: 100.0%; height: 100.0%;&quot;&gt;Guinea-Bissau&lt;/div&gt;`)[0];\n",
       "            popup_25f9a597f5819dfdab7bb1078a005596.setContent(html_66e53c3af1093300d508177ab53f5e77);\n",
       "        \n",
       "\n",
       "        circle_marker_0f743ec5e9306f7e56c9c74b3053d04c.bindPopup(popup_25f9a597f5819dfdab7bb1078a005596)\n",
       "        ;\n",
       "\n",
       "        \n",
       "    \n",
       "    \n",
       "            var circle_marker_eae1c1a385e817e11b98bb96c857b6b8 = L.circleMarker(\n",
       "                [39.0, 22.0],\n",
       "                {&quot;bubblingMouseEvents&quot;: true, &quot;color&quot;: &quot;#3388ff&quot;, &quot;dashArray&quot;: null, &quot;dashOffset&quot;: null, &quot;fill&quot;: true, &quot;fillColor&quot;: &quot;black&quot;, &quot;fillOpacity&quot;: 0.2, &quot;fillRule&quot;: &quot;evenodd&quot;, &quot;lineCap&quot;: &quot;round&quot;, &quot;lineJoin&quot;: &quot;round&quot;, &quot;opacity&quot;: 1.0, &quot;radius&quot;: 2.178977304449507, &quot;stroke&quot;: true, &quot;weight&quot;: 3}\n",
       "            ).addTo(map_0ed39705f982cba5b49e80a3b39f571d);\n",
       "        \n",
       "    \n",
       "        var popup_6573da82c655b453503c86663b7004bc = L.popup({&quot;maxWidth&quot;: &quot;100%&quot;});\n",
       "\n",
       "        \n",
       "            var html_bdded9df9c8603ab92cac67c2afef8f7 = $(`&lt;div id=&quot;html_bdded9df9c8603ab92cac67c2afef8f7&quot; style=&quot;width: 100.0%; height: 100.0%;&quot;&gt;Greece&lt;/div&gt;`)[0];\n",
       "            popup_6573da82c655b453503c86663b7004bc.setContent(html_bdded9df9c8603ab92cac67c2afef8f7);\n",
       "        \n",
       "\n",
       "        circle_marker_eae1c1a385e817e11b98bb96c857b6b8.bindPopup(popup_6573da82c655b453503c86663b7004bc)\n",
       "        ;\n",
       "\n",
       "        \n",
       "    \n",
       "    \n",
       "            var circle_marker_9cda1a81a083f9e2490ab5ad1e8dd250 = L.circleMarker(\n",
       "                [14.64072, -90.51327],\n",
       "                {&quot;bubblingMouseEvents&quot;: true, &quot;color&quot;: &quot;#3388ff&quot;, &quot;dashArray&quot;: null, &quot;dashOffset&quot;: null, &quot;fill&quot;: true, &quot;fillColor&quot;: &quot;green&quot;, &quot;fillOpacity&quot;: 0.2, &quot;fillRule&quot;: &quot;evenodd&quot;, &quot;lineCap&quot;: &quot;round&quot;, &quot;lineJoin&quot;: &quot;round&quot;, &quot;opacity&quot;: 1.0, &quot;radius&quot;: 7.987553755377376, &quot;stroke&quot;: true, &quot;weight&quot;: 3}\n",
       "            ).addTo(map_0ed39705f982cba5b49e80a3b39f571d);\n",
       "        \n",
       "    \n",
       "        var popup_1a8913acfbbb9f8dc4465d4deda52b24 = L.popup({&quot;maxWidth&quot;: &quot;100%&quot;});\n",
       "\n",
       "        \n",
       "            var html_1a7c98a3b63be31a57a31425865ae82d = $(`&lt;div id=&quot;html_1a7c98a3b63be31a57a31425865ae82d&quot; style=&quot;width: 100.0%; height: 100.0%;&quot;&gt;Guatemala&lt;/div&gt;`)[0];\n",
       "            popup_1a8913acfbbb9f8dc4465d4deda52b24.setContent(html_1a7c98a3b63be31a57a31425865ae82d);\n",
       "        \n",
       "\n",
       "        circle_marker_9cda1a81a083f9e2490ab5ad1e8dd250.bindPopup(popup_1a8913acfbbb9f8dc4465d4deda52b24)\n",
       "        ;\n",
       "\n",
       "        \n",
       "    \n",
       "    \n",
       "            var circle_marker_2cbfd8e2f319c540c5f6c3e277748000 = L.circleMarker(\n",
       "                [5.0, -59.0],\n",
       "                {&quot;bubblingMouseEvents&quot;: true, &quot;color&quot;: &quot;#3388ff&quot;, &quot;dashArray&quot;: null, &quot;dashOffset&quot;: null, &quot;fill&quot;: true, &quot;fillColor&quot;: &quot;green&quot;, &quot;fillOpacity&quot;: 0.2, &quot;fillRule&quot;: &quot;evenodd&quot;, &quot;lineCap&quot;: &quot;round&quot;, &quot;lineJoin&quot;: &quot;round&quot;, &quot;opacity&quot;: 1.0, &quot;radius&quot;: 1.4406180819073164, &quot;stroke&quot;: true, &quot;weight&quot;: 3}\n",
       "            ).addTo(map_0ed39705f982cba5b49e80a3b39f571d);\n",
       "        \n",
       "    \n",
       "        var popup_f3e2c0a7a5ffa906e47c5383f5c19263 = L.popup({&quot;maxWidth&quot;: &quot;100%&quot;});\n",
       "\n",
       "        \n",
       "            var html_b1ae26c156ac25f2ad902d9617fc15de = $(`&lt;div id=&quot;html_b1ae26c156ac25f2ad902d9617fc15de&quot; style=&quot;width: 100.0%; height: 100.0%;&quot;&gt;Guyana&lt;/div&gt;`)[0];\n",
       "            popup_f3e2c0a7a5ffa906e47c5383f5c19263.setContent(html_b1ae26c156ac25f2ad902d9617fc15de);\n",
       "        \n",
       "\n",
       "        circle_marker_2cbfd8e2f319c540c5f6c3e277748000.bindPopup(popup_f3e2c0a7a5ffa906e47c5383f5c19263)\n",
       "        ;\n",
       "\n",
       "        \n",
       "    \n",
       "    \n",
       "            var circle_marker_6ae2d040df122ec957fbcfeb54880035 = L.circleMarker(\n",
       "                [15.0, -86.5],\n",
       "                {&quot;bubblingMouseEvents&quot;: true, &quot;color&quot;: &quot;#3388ff&quot;, &quot;dashArray&quot;: null, &quot;dashOffset&quot;: null, &quot;fill&quot;: true, &quot;fillColor&quot;: &quot;green&quot;, &quot;fillOpacity&quot;: 0.2, &quot;fillRule&quot;: &quot;evenodd&quot;, &quot;lineCap&quot;: &quot;round&quot;, &quot;lineJoin&quot;: &quot;round&quot;, &quot;opacity&quot;: 1.0, &quot;radius&quot;: 6.605402401670616, &quot;stroke&quot;: true, &quot;weight&quot;: 3}\n",
       "            ).addTo(map_0ed39705f982cba5b49e80a3b39f571d);\n",
       "        \n",
       "    \n",
       "        var popup_97b36e9d693675f193be71fc5a27c36a = L.popup({&quot;maxWidth&quot;: &quot;100%&quot;});\n",
       "\n",
       "        \n",
       "            var html_1d8ea3caf4e2a97461722deb503dfc7e = $(`&lt;div id=&quot;html_1d8ea3caf4e2a97461722deb503dfc7e&quot; style=&quot;width: 100.0%; height: 100.0%;&quot;&gt;Honduras&lt;/div&gt;`)[0];\n",
       "            popup_97b36e9d693675f193be71fc5a27c36a.setContent(html_1d8ea3caf4e2a97461722deb503dfc7e);\n",
       "        \n",
       "\n",
       "        circle_marker_6ae2d040df122ec957fbcfeb54880035.bindPopup(popup_97b36e9d693675f193be71fc5a27c36a)\n",
       "        ;\n",
       "\n",
       "        \n",
       "    \n",
       "    \n",
       "            var circle_marker_10b6aa27d11d85d55ffac2c341967568 = L.circleMarker(\n",
       "                [45.16667, 15.5],\n",
       "                {&quot;bubblingMouseEvents&quot;: true, &quot;color&quot;: &quot;#3388ff&quot;, &quot;dashArray&quot;: null, &quot;dashOffset&quot;: null, &quot;fill&quot;: true, &quot;fillColor&quot;: &quot;black&quot;, &quot;fillOpacity&quot;: 0.2, &quot;fillRule&quot;: &quot;evenodd&quot;, &quot;lineCap&quot;: &quot;round&quot;, &quot;lineJoin&quot;: &quot;round&quot;, &quot;opacity&quot;: 1.0, &quot;stroke&quot;: true, &quot;weight&quot;: 3}\n",
       "            ).addTo(map_0ed39705f982cba5b49e80a3b39f571d);\n",
       "        \n",
       "    \n",
       "        var popup_46d3532d4ef85119d35930bee1d8d75b = L.popup({&quot;maxWidth&quot;: &quot;100%&quot;});\n",
       "\n",
       "        \n",
       "            var html_6ec0ff7529ca46ca6ea2ff1c58c5dbd8 = $(`&lt;div id=&quot;html_6ec0ff7529ca46ca6ea2ff1c58c5dbd8&quot; style=&quot;width: 100.0%; height: 100.0%;&quot;&gt;Croatia&lt;/div&gt;`)[0];\n",
       "            popup_46d3532d4ef85119d35930bee1d8d75b.setContent(html_6ec0ff7529ca46ca6ea2ff1c58c5dbd8);\n",
       "        \n",
       "\n",
       "        circle_marker_10b6aa27d11d85d55ffac2c341967568.bindPopup(popup_46d3532d4ef85119d35930bee1d8d75b)\n",
       "        ;\n",
       "\n",
       "        \n",
       "    \n",
       "    \n",
       "            var circle_marker_78850ce69358e699ad850d524130ec74 = L.circleMarker(\n",
       "                [19.0, -72.41667],\n",
       "                {&quot;bubblingMouseEvents&quot;: true, &quot;color&quot;: &quot;#3388ff&quot;, &quot;dashArray&quot;: null, &quot;dashOffset&quot;: null, &quot;fill&quot;: true, &quot;fillColor&quot;: &quot;green&quot;, &quot;fillOpacity&quot;: 0.2, &quot;fillRule&quot;: &quot;evenodd&quot;, &quot;lineCap&quot;: &quot;round&quot;, &quot;lineJoin&quot;: &quot;round&quot;, &quot;opacity&quot;: 1.0, &quot;radius&quot;: 13.979752671774591, &quot;stroke&quot;: true, &quot;weight&quot;: 3}\n",
       "            ).addTo(map_0ed39705f982cba5b49e80a3b39f571d);\n",
       "        \n",
       "    \n",
       "        var popup_f9fbf99af0365bc7e3890d266df7c89b = L.popup({&quot;maxWidth&quot;: &quot;100%&quot;});\n",
       "\n",
       "        \n",
       "            var html_69f9557d643163fbc217b9b1e25f0be9 = $(`&lt;div id=&quot;html_69f9557d643163fbc217b9b1e25f0be9&quot; style=&quot;width: 100.0%; height: 100.0%;&quot;&gt;Haiti&lt;/div&gt;`)[0];\n",
       "            popup_f9fbf99af0365bc7e3890d266df7c89b.setContent(html_69f9557d643163fbc217b9b1e25f0be9);\n",
       "        \n",
       "\n",
       "        circle_marker_78850ce69358e699ad850d524130ec74.bindPopup(popup_f9fbf99af0365bc7e3890d266df7c89b)\n",
       "        ;\n",
       "\n",
       "        \n",
       "    \n",
       "    \n",
       "            var circle_marker_09d35515b0ceae9e65969f55cbdd24ea = L.circleMarker(\n",
       "                [47.0, 20.0],\n",
       "                {&quot;bubblingMouseEvents&quot;: true, &quot;color&quot;: &quot;#3388ff&quot;, &quot;dashArray&quot;: null, &quot;dashOffset&quot;: null, &quot;fill&quot;: true, &quot;fillColor&quot;: &quot;black&quot;, &quot;fillOpacity&quot;: 0.2, &quot;fillRule&quot;: &quot;evenodd&quot;, &quot;lineCap&quot;: &quot;round&quot;, &quot;lineJoin&quot;: &quot;round&quot;, &quot;opacity&quot;: 1.0, &quot;radius&quot;: 0.39750349369739346, &quot;stroke&quot;: true, &quot;weight&quot;: 3}\n",
       "            ).addTo(map_0ed39705f982cba5b49e80a3b39f571d);\n",
       "        \n",
       "    \n",
       "        var popup_be2af972ba4b20dc2f87ffc83cb02fd4 = L.popup({&quot;maxWidth&quot;: &quot;100%&quot;});\n",
       "\n",
       "        \n",
       "            var html_7f518bbe5300c099980fa740cd45c7a6 = $(`&lt;div id=&quot;html_7f518bbe5300c099980fa740cd45c7a6&quot; style=&quot;width: 100.0%; height: 100.0%;&quot;&gt;Hungary&lt;/div&gt;`)[0];\n",
       "            popup_be2af972ba4b20dc2f87ffc83cb02fd4.setContent(html_7f518bbe5300c099980fa740cd45c7a6);\n",
       "        \n",
       "\n",
       "        circle_marker_09d35515b0ceae9e65969f55cbdd24ea.bindPopup(popup_be2af972ba4b20dc2f87ffc83cb02fd4)\n",
       "        ;\n",
       "\n",
       "        \n",
       "    \n",
       "    \n",
       "            var circle_marker_89f7922a6964996018876226a355e1c5 = L.circleMarker(\n",
       "                [-5.0, 120.0],\n",
       "                {&quot;bubblingMouseEvents&quot;: true, &quot;color&quot;: &quot;#3388ff&quot;, &quot;dashArray&quot;: null, &quot;dashOffset&quot;: null, &quot;fill&quot;: true, &quot;fillColor&quot;: &quot;red&quot;, &quot;fillOpacity&quot;: 0.2, &quot;fillRule&quot;: &quot;evenodd&quot;, &quot;lineCap&quot;: &quot;round&quot;, &quot;lineJoin&quot;: &quot;round&quot;, &quot;opacity&quot;: 1.0, &quot;radius&quot;: 35.313556272281424, &quot;stroke&quot;: true, &quot;weight&quot;: 3}\n",
       "            ).addTo(map_0ed39705f982cba5b49e80a3b39f571d);\n",
       "        \n",
       "    \n",
       "        var popup_72700612a923292fc609b65727924a11 = L.popup({&quot;maxWidth&quot;: &quot;100%&quot;});\n",
       "\n",
       "        \n",
       "            var html_9bf9fdb31bd692cd1950dbb56e4813dd = $(`&lt;div id=&quot;html_9bf9fdb31bd692cd1950dbb56e4813dd&quot; style=&quot;width: 100.0%; height: 100.0%;&quot;&gt;Indonesia&lt;/div&gt;`)[0];\n",
       "            popup_72700612a923292fc609b65727924a11.setContent(html_9bf9fdb31bd692cd1950dbb56e4813dd);\n",
       "        \n",
       "\n",
       "        circle_marker_89f7922a6964996018876226a355e1c5.bindPopup(popup_72700612a923292fc609b65727924a11)\n",
       "        ;\n",
       "\n",
       "        \n",
       "    \n",
       "    \n",
       "            var circle_marker_c157c6137be8a16b3baf98cb611ef5a9 = L.circleMarker(\n",
       "                [22.0, 79.0],\n",
       "                {&quot;bubblingMouseEvents&quot;: true, &quot;color&quot;: &quot;#3388ff&quot;, &quot;dashArray&quot;: null, &quot;dashOffset&quot;: null, &quot;fill&quot;: true, &quot;fillColor&quot;: &quot;red&quot;, &quot;fillOpacity&quot;: 0.2, &quot;fillRule&quot;: &quot;evenodd&quot;, &quot;lineCap&quot;: &quot;round&quot;, &quot;lineJoin&quot;: &quot;round&quot;, &quot;opacity&quot;: 1.0, &quot;radius&quot;: 96.35271911284168, &quot;stroke&quot;: true, &quot;weight&quot;: 3}\n",
       "            ).addTo(map_0ed39705f982cba5b49e80a3b39f571d);\n",
       "        \n",
       "    \n",
       "        var popup_f44d98bc364b7e4df323766c4e160ec5 = L.popup({&quot;maxWidth&quot;: &quot;100%&quot;});\n",
       "\n",
       "        \n",
       "            var html_4215ff0b3f2c499aaffe53fc82c90f0d = $(`&lt;div id=&quot;html_4215ff0b3f2c499aaffe53fc82c90f0d&quot; style=&quot;width: 100.0%; height: 100.0%;&quot;&gt;India&lt;/div&gt;`)[0];\n",
       "            popup_f44d98bc364b7e4df323766c4e160ec5.setContent(html_4215ff0b3f2c499aaffe53fc82c90f0d);\n",
       "        \n",
       "\n",
       "        circle_marker_c157c6137be8a16b3baf98cb611ef5a9.bindPopup(popup_f44d98bc364b7e4df323766c4e160ec5)\n",
       "        ;\n",
       "\n",
       "        \n",
       "    \n",
       "    \n",
       "            var circle_marker_7052ebafe19223c9a6fc04044d580389 = L.circleMarker(\n",
       "                [53.0, -8.0],\n",
       "                {&quot;bubblingMouseEvents&quot;: true, &quot;color&quot;: &quot;#3388ff&quot;, &quot;dashArray&quot;: null, &quot;dashOffset&quot;: null, &quot;fill&quot;: true, &quot;fillColor&quot;: &quot;black&quot;, &quot;fillOpacity&quot;: 0.2, &quot;fillRule&quot;: &quot;evenodd&quot;, &quot;lineCap&quot;: &quot;round&quot;, &quot;lineJoin&quot;: &quot;round&quot;, &quot;opacity&quot;: 1.0, &quot;radius&quot;: 0.7224270824013612, &quot;stroke&quot;: true, &quot;weight&quot;: 3}\n",
       "            ).addTo(map_0ed39705f982cba5b49e80a3b39f571d);\n",
       "        \n",
       "    \n",
       "        var popup_1259f592598d1e3658a2f0ca5accaf48 = L.popup({&quot;maxWidth&quot;: &quot;100%&quot;});\n",
       "\n",
       "        \n",
       "            var html_fb3d8e03fe0b9466c8f69a86a3b2275e = $(`&lt;div id=&quot;html_fb3d8e03fe0b9466c8f69a86a3b2275e&quot; style=&quot;width: 100.0%; height: 100.0%;&quot;&gt;Ireland&lt;/div&gt;`)[0];\n",
       "            popup_1259f592598d1e3658a2f0ca5accaf48.setContent(html_fb3d8e03fe0b9466c8f69a86a3b2275e);\n",
       "        \n",
       "\n",
       "        circle_marker_7052ebafe19223c9a6fc04044d580389.bindPopup(popup_1259f592598d1e3658a2f0ca5accaf48)\n",
       "        ;\n",
       "\n",
       "        \n",
       "    \n",
       "    \n",
       "            var circle_marker_49239f15b79e1c879767d996225d4602 = L.circleMarker(\n",
       "                [32.0, 53.0],\n",
       "                {&quot;bubblingMouseEvents&quot;: true, &quot;color&quot;: &quot;#3388ff&quot;, &quot;dashArray&quot;: null, &quot;dashOffset&quot;: null, &quot;fill&quot;: true, &quot;fillColor&quot;: &quot;red&quot;, &quot;fillOpacity&quot;: 0.2, &quot;fillRule&quot;: &quot;evenodd&quot;, &quot;lineCap&quot;: &quot;round&quot;, &quot;lineJoin&quot;: &quot;round&quot;, &quot;opacity&quot;: 1.0, &quot;radius&quot;: 5.834814195302852, &quot;stroke&quot;: true, &quot;weight&quot;: 3}\n",
       "            ).addTo(map_0ed39705f982cba5b49e80a3b39f571d);\n",
       "        \n",
       "    \n",
       "        var popup_1bb5f5ae29799efaa3cc19dd1ff7e6b6 = L.popup({&quot;maxWidth&quot;: &quot;100%&quot;});\n",
       "\n",
       "        \n",
       "            var html_89d15aaa2d549a62af2623a037c37887 = $(`&lt;div id=&quot;html_89d15aaa2d549a62af2623a037c37887&quot; style=&quot;width: 100.0%; height: 100.0%;&quot;&gt;Iran&lt;/div&gt;`)[0];\n",
       "            popup_1bb5f5ae29799efaa3cc19dd1ff7e6b6.setContent(html_89d15aaa2d549a62af2623a037c37887);\n",
       "        \n",
       "\n",
       "        circle_marker_49239f15b79e1c879767d996225d4602.bindPopup(popup_1bb5f5ae29799efaa3cc19dd1ff7e6b6)\n",
       "        ;\n",
       "\n",
       "        \n",
       "    \n",
       "    \n",
       "            var circle_marker_ff73bf44d757dffc3c12f03a189aa745 = L.circleMarker(\n",
       "                [33.0, 44.0],\n",
       "                {&quot;bubblingMouseEvents&quot;: true, &quot;color&quot;: &quot;#3388ff&quot;, &quot;dashArray&quot;: null, &quot;dashOffset&quot;: null, &quot;fill&quot;: true, &quot;fillColor&quot;: &quot;red&quot;, &quot;fillOpacity&quot;: 0.2, &quot;fillRule&quot;: &quot;evenodd&quot;, &quot;lineCap&quot;: &quot;round&quot;, &quot;lineJoin&quot;: &quot;round&quot;, &quot;opacity&quot;: 1.0, &quot;radius&quot;: 6.084127448138132, &quot;stroke&quot;: true, &quot;weight&quot;: 3}\n",
       "            ).addTo(map_0ed39705f982cba5b49e80a3b39f571d);\n",
       "        \n",
       "    \n",
       "        var popup_e3b2c806119a73d9505311c3819891f9 = L.popup({&quot;maxWidth&quot;: &quot;100%&quot;});\n",
       "\n",
       "        \n",
       "            var html_af60efb0846545b79a635d0343135cbc = $(`&lt;div id=&quot;html_af60efb0846545b79a635d0343135cbc&quot; style=&quot;width: 100.0%; height: 100.0%;&quot;&gt;Iraq&lt;/div&gt;`)[0];\n",
       "            popup_e3b2c806119a73d9505311c3819891f9.setContent(html_af60efb0846545b79a635d0343135cbc);\n",
       "        \n",
       "\n",
       "        circle_marker_ff73bf44d757dffc3c12f03a189aa745.bindPopup(popup_e3b2c806119a73d9505311c3819891f9)\n",
       "        ;\n",
       "\n",
       "        \n",
       "    \n",
       "    \n",
       "            var circle_marker_ccf612289496c47a537650c1b35cc1af = L.circleMarker(\n",
       "                [31.5, 34.75],\n",
       "                {&quot;bubblingMouseEvents&quot;: true, &quot;color&quot;: &quot;#3388ff&quot;, &quot;dashArray&quot;: null, &quot;dashOffset&quot;: null, &quot;fill&quot;: true, &quot;fillColor&quot;: &quot;red&quot;, &quot;fillOpacity&quot;: 0.2, &quot;fillRule&quot;: &quot;evenodd&quot;, &quot;lineCap&quot;: &quot;round&quot;, &quot;lineJoin&quot;: &quot;round&quot;, &quot;opacity&quot;: 1.0, &quot;radius&quot;: 0.9549814945354589, &quot;stroke&quot;: true, &quot;weight&quot;: 3}\n",
       "            ).addTo(map_0ed39705f982cba5b49e80a3b39f571d);\n",
       "        \n",
       "    \n",
       "        var popup_95500bd831e3bbe9ce7a72af8fe14fe1 = L.popup({&quot;maxWidth&quot;: &quot;100%&quot;});\n",
       "\n",
       "        \n",
       "            var html_3337a9c08388bf6889508dd8577e7c1c = $(`&lt;div id=&quot;html_3337a9c08388bf6889508dd8577e7c1c&quot; style=&quot;width: 100.0%; height: 100.0%;&quot;&gt;Israel&lt;/div&gt;`)[0];\n",
       "            popup_95500bd831e3bbe9ce7a72af8fe14fe1.setContent(html_3337a9c08388bf6889508dd8577e7c1c);\n",
       "        \n",
       "\n",
       "        circle_marker_ccf612289496c47a537650c1b35cc1af.bindPopup(popup_95500bd831e3bbe9ce7a72af8fe14fe1)\n",
       "        ;\n",
       "\n",
       "        \n",
       "    \n",
       "    \n",
       "            var circle_marker_20032e7234493b4741e43736d61b23b5 = L.circleMarker(\n",
       "                [42.83333, 12.83333],\n",
       "                {&quot;bubblingMouseEvents&quot;: true, &quot;color&quot;: &quot;#3388ff&quot;, &quot;dashArray&quot;: null, &quot;dashOffset&quot;: null, &quot;fill&quot;: true, &quot;fillColor&quot;: &quot;black&quot;, &quot;fillOpacity&quot;: 0.2, &quot;fillRule&quot;: &quot;evenodd&quot;, &quot;lineCap&quot;: &quot;round&quot;, &quot;lineJoin&quot;: &quot;round&quot;, &quot;opacity&quot;: 1.0, &quot;radius&quot;: 5.049074400874107, &quot;stroke&quot;: true, &quot;weight&quot;: 3}\n",
       "            ).addTo(map_0ed39705f982cba5b49e80a3b39f571d);\n",
       "        \n",
       "    \n",
       "        var popup_b687999695b289ca9141a60e905bbb64 = L.popup({&quot;maxWidth&quot;: &quot;100%&quot;});\n",
       "\n",
       "        \n",
       "            var html_2aaf68770822bc165b0da1fe1d34b097 = $(`&lt;div id=&quot;html_2aaf68770822bc165b0da1fe1d34b097&quot; style=&quot;width: 100.0%; height: 100.0%;&quot;&gt;Italy&lt;/div&gt;`)[0];\n",
       "            popup_b687999695b289ca9141a60e905bbb64.setContent(html_2aaf68770822bc165b0da1fe1d34b097);\n",
       "        \n",
       "\n",
       "        circle_marker_20032e7234493b4741e43736d61b23b5.bindPopup(popup_b687999695b289ca9141a60e905bbb64)\n",
       "        ;\n",
       "\n",
       "        \n",
       "    \n",
       "    \n",
       "            var circle_marker_295b35fa2417ab371a92e02900ca0195 = L.circleMarker(\n",
       "                [18.16667, -77.25],\n",
       "                {&quot;bubblingMouseEvents&quot;: true, &quot;color&quot;: &quot;#3388ff&quot;, &quot;dashArray&quot;: null, &quot;dashOffset&quot;: null, &quot;fill&quot;: true, &quot;fillColor&quot;: &quot;green&quot;, &quot;fillOpacity&quot;: 0.2, &quot;fillRule&quot;: &quot;evenodd&quot;, &quot;lineCap&quot;: &quot;round&quot;, &quot;lineJoin&quot;: &quot;round&quot;, &quot;opacity&quot;: 1.0, &quot;radius&quot;: 0.4633573332008104, &quot;stroke&quot;: true, &quot;weight&quot;: 3}\n",
       "            ).addTo(map_0ed39705f982cba5b49e80a3b39f571d);\n",
       "        \n",
       "    \n",
       "        var popup_8a4b2679dc6002cc20be4e94fa6b9faf = L.popup({&quot;maxWidth&quot;: &quot;100%&quot;});\n",
       "\n",
       "        \n",
       "            var html_1cb0dbedefcde72ef9e7d6a8f792946c = $(`&lt;div id=&quot;html_1cb0dbedefcde72ef9e7d6a8f792946c&quot; style=&quot;width: 100.0%; height: 100.0%;&quot;&gt;Jamaica&lt;/div&gt;`)[0];\n",
       "            popup_8a4b2679dc6002cc20be4e94fa6b9faf.setContent(html_1cb0dbedefcde72ef9e7d6a8f792946c);\n",
       "        \n",
       "\n",
       "        circle_marker_295b35fa2417ab371a92e02900ca0195.bindPopup(popup_8a4b2679dc6002cc20be4e94fa6b9faf)\n",
       "        ;\n",
       "\n",
       "        \n",
       "    \n",
       "    \n",
       "            var circle_marker_dcd655cdd4f90e05c3eeae44abbeeb55 = L.circleMarker(\n",
       "                [31.0, 36.0],\n",
       "                {&quot;bubblingMouseEvents&quot;: true, &quot;color&quot;: &quot;#3388ff&quot;, &quot;dashArray&quot;: null, &quot;dashOffset&quot;: null, &quot;fill&quot;: true, &quot;fillColor&quot;: &quot;red&quot;, &quot;fillOpacity&quot;: 0.2, &quot;fillRule&quot;: &quot;evenodd&quot;, &quot;lineCap&quot;: &quot;round&quot;, &quot;lineJoin&quot;: &quot;round&quot;, &quot;opacity&quot;: 1.0, &quot;radius&quot;: 0.4300072242232263, &quot;stroke&quot;: true, &quot;weight&quot;: 3}\n",
       "            ).addTo(map_0ed39705f982cba5b49e80a3b39f571d);\n",
       "        \n",
       "    \n",
       "        var popup_e21dada782971f45a949eb2d4c9b6a3a = L.popup({&quot;maxWidth&quot;: &quot;100%&quot;});\n",
       "\n",
       "        \n",
       "            var html_c19e892a183896be7d112736d159749c = $(`&lt;div id=&quot;html_c19e892a183896be7d112736d159749c&quot; style=&quot;width: 100.0%; height: 100.0%;&quot;&gt;Jordan&lt;/div&gt;`)[0];\n",
       "            popup_e21dada782971f45a949eb2d4c9b6a3a.setContent(html_c19e892a183896be7d112736d159749c);\n",
       "        \n",
       "\n",
       "        circle_marker_dcd655cdd4f90e05c3eeae44abbeeb55.bindPopup(popup_e21dada782971f45a949eb2d4c9b6a3a)\n",
       "        ;\n",
       "\n",
       "        \n",
       "    \n",
       "    \n",
       "            var circle_marker_6da1220a2415106b6eb9f1c723cdfa5a = L.circleMarker(\n",
       "                [35.68536, 139.75309],\n",
       "                {&quot;bubblingMouseEvents&quot;: true, &quot;color&quot;: &quot;#3388ff&quot;, &quot;dashArray&quot;: null, &quot;dashOffset&quot;: null, &quot;fill&quot;: true, &quot;fillColor&quot;: &quot;red&quot;, &quot;fillOpacity&quot;: 0.2, &quot;fillRule&quot;: &quot;evenodd&quot;, &quot;lineCap&quot;: &quot;round&quot;, &quot;lineJoin&quot;: &quot;round&quot;, &quot;opacity&quot;: 1.0, &quot;radius&quot;: 3.784269826192565, &quot;stroke&quot;: true, &quot;weight&quot;: 3}\n",
       "            ).addTo(map_0ed39705f982cba5b49e80a3b39f571d);\n",
       "        \n",
       "    \n",
       "        var popup_577e588b2f2df129f6cbd41c18fc1609 = L.popup({&quot;maxWidth&quot;: &quot;100%&quot;});\n",
       "\n",
       "        \n",
       "            var html_22937b2f2ab5deca8a9d377db6106bd3 = $(`&lt;div id=&quot;html_22937b2f2ab5deca8a9d377db6106bd3&quot; style=&quot;width: 100.0%; height: 100.0%;&quot;&gt;Japan&lt;/div&gt;`)[0];\n",
       "            popup_577e588b2f2df129f6cbd41c18fc1609.setContent(html_22937b2f2ab5deca8a9d377db6106bd3);\n",
       "        \n",
       "\n",
       "        circle_marker_6da1220a2415106b6eb9f1c723cdfa5a.bindPopup(popup_577e588b2f2df129f6cbd41c18fc1609)\n",
       "        ;\n",
       "\n",
       "        \n",
       "    \n",
       "    \n",
       "            var circle_marker_056164a194a4cd3ed85b83d0e52f4ba6 = L.circleMarker(\n",
       "                [48.0, 68.0],\n",
       "                {&quot;bubblingMouseEvents&quot;: true, &quot;color&quot;: &quot;#3388ff&quot;, &quot;dashArray&quot;: null, &quot;dashOffset&quot;: null, &quot;fill&quot;: true, &quot;fillColor&quot;: &quot;red&quot;, &quot;fillOpacity&quot;: 0.2, &quot;fillRule&quot;: &quot;evenodd&quot;, &quot;lineCap&quot;: &quot;round&quot;, &quot;lineJoin&quot;: &quot;round&quot;, &quot;opacity&quot;: 1.0, &quot;radius&quot;: 0.5571211448310092, &quot;stroke&quot;: true, &quot;weight&quot;: 3}\n",
       "            ).addTo(map_0ed39705f982cba5b49e80a3b39f571d);\n",
       "        \n",
       "    \n",
       "        var popup_17946ad83e32f9432ab2ed601a89c95f = L.popup({&quot;maxWidth&quot;: &quot;100%&quot;});\n",
       "\n",
       "        \n",
       "            var html_c4a7527aee0ad181044041c65e59a966 = $(`&lt;div id=&quot;html_c4a7527aee0ad181044041c65e59a966&quot; style=&quot;width: 100.0%; height: 100.0%;&quot;&gt;Kazakhstan&lt;/div&gt;`)[0];\n",
       "            popup_17946ad83e32f9432ab2ed601a89c95f.setContent(html_c4a7527aee0ad181044041c65e59a966);\n",
       "        \n",
       "\n",
       "        circle_marker_056164a194a4cd3ed85b83d0e52f4ba6.bindPopup(popup_17946ad83e32f9432ab2ed601a89c95f)\n",
       "        ;\n",
       "\n",
       "        \n",
       "    \n",
       "    \n",
       "            var circle_marker_778cfd4cdf17d68e33448680b010c90a = L.circleMarker(\n",
       "                [1.0, 38.0],\n",
       "                {&quot;bubblingMouseEvents&quot;: true, &quot;color&quot;: &quot;#3388ff&quot;, &quot;dashArray&quot;: null, &quot;dashOffset&quot;: null, &quot;fill&quot;: true, &quot;fillColor&quot;: &quot;blue&quot;, &quot;fillOpacity&quot;: 0.2, &quot;fillRule&quot;: &quot;evenodd&quot;, &quot;lineCap&quot;: &quot;round&quot;, &quot;lineJoin&quot;: &quot;round&quot;, &quot;opacity&quot;: 1.0, &quot;radius&quot;: 24.088125640567295, &quot;stroke&quot;: true, &quot;weight&quot;: 3}\n",
       "            ).addTo(map_0ed39705f982cba5b49e80a3b39f571d);\n",
       "        \n",
       "    \n",
       "        var popup_b60a1fc2e3be251881fd0e4608a95e26 = L.popup({&quot;maxWidth&quot;: &quot;100%&quot;});\n",
       "\n",
       "        \n",
       "            var html_38743a8cee20d4aaa05264e35420bcc0 = $(`&lt;div id=&quot;html_38743a8cee20d4aaa05264e35420bcc0&quot; style=&quot;width: 100.0%; height: 100.0%;&quot;&gt;Kenya&lt;/div&gt;`)[0];\n",
       "            popup_b60a1fc2e3be251881fd0e4608a95e26.setContent(html_38743a8cee20d4aaa05264e35420bcc0);\n",
       "        \n",
       "\n",
       "        circle_marker_778cfd4cdf17d68e33448680b010c90a.bindPopup(popup_b60a1fc2e3be251881fd0e4608a95e26)\n",
       "        ;\n",
       "\n",
       "        \n",
       "    \n",
       "    \n",
       "            var circle_marker_7ea8192b1fefcb8866a7feb63e5f57da = L.circleMarker(\n",
       "                [41.5, 75.0],\n",
       "                {&quot;bubblingMouseEvents&quot;: true, &quot;color&quot;: &quot;#3388ff&quot;, &quot;dashArray&quot;: null, &quot;dashOffset&quot;: null, &quot;fill&quot;: true, &quot;fillColor&quot;: &quot;red&quot;, &quot;fillOpacity&quot;: 0.2, &quot;fillRule&quot;: &quot;evenodd&quot;, &quot;lineCap&quot;: &quot;round&quot;, &quot;lineJoin&quot;: &quot;round&quot;, &quot;opacity&quot;: 1.0, &quot;radius&quot;: 2.9697977196085015, &quot;stroke&quot;: true, &quot;weight&quot;: 3}\n",
       "            ).addTo(map_0ed39705f982cba5b49e80a3b39f571d);\n",
       "        \n",
       "    \n",
       "        var popup_942aba0df4ce1c7fee27eb044de1951f = L.popup({&quot;maxWidth&quot;: &quot;100%&quot;});\n",
       "\n",
       "        \n",
       "            var html_5310c210891d3557b458514714b1aa10 = $(`&lt;div id=&quot;html_5310c210891d3557b458514714b1aa10&quot; style=&quot;width: 100.0%; height: 100.0%;&quot;&gt;Kyrgyz Republic&lt;/div&gt;`)[0];\n",
       "            popup_942aba0df4ce1c7fee27eb044de1951f.setContent(html_5310c210891d3557b458514714b1aa10);\n",
       "        \n",
       "\n",
       "        circle_marker_7ea8192b1fefcb8866a7feb63e5f57da.bindPopup(popup_942aba0df4ce1c7fee27eb044de1951f)\n",
       "        ;\n",
       "\n",
       "        \n",
       "    \n",
       "    \n",
       "            var circle_marker_232cd031102c72f9079bcb80dec3f97d = L.circleMarker(\n",
       "                [13.0, 105.0],\n",
       "                {&quot;bubblingMouseEvents&quot;: true, &quot;color&quot;: &quot;#3388ff&quot;, &quot;dashArray&quot;: null, &quot;dashOffset&quot;: null, &quot;fill&quot;: true, &quot;fillColor&quot;: &quot;red&quot;, &quot;fillOpacity&quot;: 0.2, &quot;fillRule&quot;: &quot;evenodd&quot;, &quot;lineCap&quot;: &quot;round&quot;, &quot;lineJoin&quot;: &quot;round&quot;, &quot;opacity&quot;: 1.0, &quot;radius&quot;: 6.766458594858778, &quot;stroke&quot;: true, &quot;weight&quot;: 3}\n",
       "            ).addTo(map_0ed39705f982cba5b49e80a3b39f571d);\n",
       "        \n",
       "    \n",
       "        var popup_ede69a4141a90bdfba42ce5bf55f1019 = L.popup({&quot;maxWidth&quot;: &quot;100%&quot;});\n",
       "\n",
       "        \n",
       "            var html_c5bc1c4a8360faefef1fc6f96e96bbdf = $(`&lt;div id=&quot;html_c5bc1c4a8360faefef1fc6f96e96bbdf&quot; style=&quot;width: 100.0%; height: 100.0%;&quot;&gt;Cambodia&lt;/div&gt;`)[0];\n",
       "            popup_ede69a4141a90bdfba42ce5bf55f1019.setContent(html_c5bc1c4a8360faefef1fc6f96e96bbdf);\n",
       "        \n",
       "\n",
       "        circle_marker_232cd031102c72f9079bcb80dec3f97d.bindPopup(popup_ede69a4141a90bdfba42ce5bf55f1019)\n",
       "        ;\n",
       "\n",
       "        \n",
       "    \n",
       "    \n",
       "            var circle_marker_2a12707740682ae2e5f11a9b56f2515a = L.circleMarker(\n",
       "                [18.0, 105.0],\n",
       "                {&quot;bubblingMouseEvents&quot;: true, &quot;color&quot;: &quot;#3388ff&quot;, &quot;dashArray&quot;: null, &quot;dashOffset&quot;: null, &quot;fill&quot;: true, &quot;fillColor&quot;: &quot;red&quot;, &quot;fillOpacity&quot;: 0.2, &quot;fillRule&quot;: &quot;evenodd&quot;, &quot;lineCap&quot;: &quot;round&quot;, &quot;lineJoin&quot;: &quot;round&quot;, &quot;opacity&quot;: 1.0, &quot;radius&quot;: 7.758371982276796, &quot;stroke&quot;: true, &quot;weight&quot;: 3}\n",
       "            ).addTo(map_0ed39705f982cba5b49e80a3b39f571d);\n",
       "        \n",
       "    \n",
       "        var popup_490c1bf925077302dfeeac2327752576 = L.popup({&quot;maxWidth&quot;: &quot;100%&quot;});\n",
       "\n",
       "        \n",
       "            var html_9d1e2ff625602ac108e58e0164f643d4 = $(`&lt;div id=&quot;html_9d1e2ff625602ac108e58e0164f643d4&quot; style=&quot;width: 100.0%; height: 100.0%;&quot;&gt;Lao&lt;/div&gt;`)[0];\n",
       "            popup_490c1bf925077302dfeeac2327752576.setContent(html_9d1e2ff625602ac108e58e0164f643d4);\n",
       "        \n",
       "\n",
       "        circle_marker_2a12707740682ae2e5f11a9b56f2515a.bindPopup(popup_490c1bf925077302dfeeac2327752576)\n",
       "        ;\n",
       "\n",
       "        \n",
       "    \n",
       "    \n",
       "            var circle_marker_f0d75c959cbe47e3078d3f4c7c2096ed = L.circleMarker(\n",
       "                [6.5, -9.5],\n",
       "                {&quot;bubblingMouseEvents&quot;: true, &quot;color&quot;: &quot;#3388ff&quot;, &quot;dashArray&quot;: null, &quot;dashOffset&quot;: null, &quot;fill&quot;: true, &quot;fillColor&quot;: &quot;blue&quot;, &quot;fillOpacity&quot;: 0.2, &quot;fillRule&quot;: &quot;evenodd&quot;, &quot;lineCap&quot;: &quot;round&quot;, &quot;lineJoin&quot;: &quot;round&quot;, &quot;opacity&quot;: 1.0, &quot;radius&quot;: 10.185772240421114, &quot;stroke&quot;: true, &quot;weight&quot;: 3}\n",
       "            ).addTo(map_0ed39705f982cba5b49e80a3b39f571d);\n",
       "        \n",
       "    \n",
       "        var popup_24412820606e000bbf8792d73a075ce9 = L.popup({&quot;maxWidth&quot;: &quot;100%&quot;});\n",
       "\n",
       "        \n",
       "            var html_6c036c735c0cdc64939b831bedddec38 = $(`&lt;div id=&quot;html_6c036c735c0cdc64939b831bedddec38&quot; style=&quot;width: 100.0%; height: 100.0%;&quot;&gt;Liberia&lt;/div&gt;`)[0];\n",
       "            popup_24412820606e000bbf8792d73a075ce9.setContent(html_6c036c735c0cdc64939b831bedddec38);\n",
       "        \n",
       "\n",
       "        circle_marker_f0d75c959cbe47e3078d3f4c7c2096ed.bindPopup(popup_24412820606e000bbf8792d73a075ce9)\n",
       "        ;\n",
       "\n",
       "        \n",
       "    \n",
       "    \n",
       "            var circle_marker_09ba050840eb3a578c304dfe1ee6c5ac = L.circleMarker(\n",
       "                [13.88333, -60.96667],\n",
       "                {&quot;bubblingMouseEvents&quot;: true, &quot;color&quot;: &quot;#3388ff&quot;, &quot;dashArray&quot;: null, &quot;dashOffset&quot;: null, &quot;fill&quot;: true, &quot;fillColor&quot;: &quot;green&quot;, &quot;fillOpacity&quot;: 0.2, &quot;fillRule&quot;: &quot;evenodd&quot;, &quot;lineCap&quot;: &quot;round&quot;, &quot;lineJoin&quot;: &quot;round&quot;, &quot;opacity&quot;: 1.0, &quot;radius&quot;: 1.0777350206264305, &quot;stroke&quot;: true, &quot;weight&quot;: 3}\n",
       "            ).addTo(map_0ed39705f982cba5b49e80a3b39f571d);\n",
       "        \n",
       "    \n",
       "        var popup_2d9f6d24c572fd1ffcb0b6b4d96de521 = L.popup({&quot;maxWidth&quot;: &quot;100%&quot;});\n",
       "\n",
       "        \n",
       "            var html_09e36a9b2382c92403a54ac28a511726 = $(`&lt;div id=&quot;html_09e36a9b2382c92403a54ac28a511726&quot; style=&quot;width: 100.0%; height: 100.0%;&quot;&gt;St. Lucia&lt;/div&gt;`)[0];\n",
       "            popup_2d9f6d24c572fd1ffcb0b6b4d96de521.setContent(html_09e36a9b2382c92403a54ac28a511726);\n",
       "        \n",
       "\n",
       "        circle_marker_09ba050840eb3a578c304dfe1ee6c5ac.bindPopup(popup_2d9f6d24c572fd1ffcb0b6b4d96de521)\n",
       "        ;\n",
       "\n",
       "        \n",
       "    \n",
       "    \n",
       "            var circle_marker_4949c3ee3635e2aba4ad2da91bb1d716 = L.circleMarker(\n",
       "                [7.75, 80.75],\n",
       "                {&quot;bubblingMouseEvents&quot;: true, &quot;color&quot;: &quot;#3388ff&quot;, &quot;dashArray&quot;: null, &quot;dashOffset&quot;: null, &quot;fill&quot;: true, &quot;fillColor&quot;: &quot;red&quot;, &quot;fillOpacity&quot;: 0.2, &quot;fillRule&quot;: &quot;evenodd&quot;, &quot;lineCap&quot;: &quot;round&quot;, &quot;lineJoin&quot;: &quot;round&quot;, &quot;opacity&quot;: 1.0, &quot;radius&quot;: 5.148541404016821, &quot;stroke&quot;: true, &quot;weight&quot;: 3}\n",
       "            ).addTo(map_0ed39705f982cba5b49e80a3b39f571d);\n",
       "        \n",
       "    \n",
       "        var popup_5c979561bafe006d3aac35e0bef16227 = L.popup({&quot;maxWidth&quot;: &quot;100%&quot;});\n",
       "\n",
       "        \n",
       "            var html_27b05590cc530b6bc291b7be904dad76 = $(`&lt;div id=&quot;html_27b05590cc530b6bc291b7be904dad76&quot; style=&quot;width: 100.0%; height: 100.0%;&quot;&gt;Sri Lanka&lt;/div&gt;`)[0];\n",
       "            popup_5c979561bafe006d3aac35e0bef16227.setContent(html_27b05590cc530b6bc291b7be904dad76);\n",
       "        \n",
       "\n",
       "        circle_marker_4949c3ee3635e2aba4ad2da91bb1d716.bindPopup(popup_5c979561bafe006d3aac35e0bef16227)\n",
       "        ;\n",
       "\n",
       "        \n",
       "    \n",
       "    \n",
       "            var circle_marker_27e190d26e42e9b4508ee05a030a7a27 = L.circleMarker(\n",
       "                [-29.5, 28.25],\n",
       "                {&quot;bubblingMouseEvents&quot;: true, &quot;color&quot;: &quot;#3388ff&quot;, &quot;dashArray&quot;: null, &quot;dashOffset&quot;: null, &quot;fill&quot;: true, &quot;fillColor&quot;: &quot;blue&quot;, &quot;fillOpacity&quot;: 0.2, &quot;fillRule&quot;: &quot;evenodd&quot;, &quot;lineCap&quot;: &quot;round&quot;, &quot;lineJoin&quot;: &quot;round&quot;, &quot;opacity&quot;: 1.0, &quot;radius&quot;: 5.97591567065859, &quot;stroke&quot;: true, &quot;weight&quot;: 3}\n",
       "            ).addTo(map_0ed39705f982cba5b49e80a3b39f571d);\n",
       "        \n",
       "    \n",
       "        var popup_8eea4b21a6ac8e50ffa4a612814820b7 = L.popup({&quot;maxWidth&quot;: &quot;100%&quot;});\n",
       "\n",
       "        \n",
       "            var html_f439e00b3df7b456afaf32b38b75c957 = $(`&lt;div id=&quot;html_f439e00b3df7b456afaf32b38b75c957&quot; style=&quot;width: 100.0%; height: 100.0%;&quot;&gt;Lesotho&lt;/div&gt;`)[0];\n",
       "            popup_8eea4b21a6ac8e50ffa4a612814820b7.setContent(html_f439e00b3df7b456afaf32b38b75c957);\n",
       "        \n",
       "\n",
       "        circle_marker_27e190d26e42e9b4508ee05a030a7a27.bindPopup(popup_8eea4b21a6ac8e50ffa4a612814820b7)\n",
       "        ;\n",
       "\n",
       "        \n",
       "    \n",
       "    \n",
       "            var circle_marker_89c73f66d9c193074a2cbcbfc3df17ed = L.circleMarker(\n",
       "                [55.41667, 24.0],\n",
       "                {&quot;bubblingMouseEvents&quot;: true, &quot;color&quot;: &quot;#3388ff&quot;, &quot;dashArray&quot;: null, &quot;dashOffset&quot;: null, &quot;fill&quot;: true, &quot;fillColor&quot;: &quot;black&quot;, &quot;fillOpacity&quot;: 0.2, &quot;fillRule&quot;: &quot;evenodd&quot;, &quot;lineCap&quot;: &quot;round&quot;, &quot;lineJoin&quot;: &quot;round&quot;, &quot;opacity&quot;: 1.0, &quot;radius&quot;: 0.9084678711420302, &quot;stroke&quot;: true, &quot;weight&quot;: 3}\n",
       "            ).addTo(map_0ed39705f982cba5b49e80a3b39f571d);\n",
       "        \n",
       "    \n",
       "        var popup_24ed018385e6d04ee22bf6e77bc13119 = L.popup({&quot;maxWidth&quot;: &quot;100%&quot;});\n",
       "\n",
       "        \n",
       "            var html_e44a40dae45adba134d78985f23241cf = $(`&lt;div id=&quot;html_e44a40dae45adba134d78985f23241cf&quot; style=&quot;width: 100.0%; height: 100.0%;&quot;&gt;Lithuania&lt;/div&gt;`)[0];\n",
       "            popup_24ed018385e6d04ee22bf6e77bc13119.setContent(html_e44a40dae45adba134d78985f23241cf);\n",
       "        \n",
       "\n",
       "        circle_marker_89c73f66d9c193074a2cbcbfc3df17ed.bindPopup(popup_24ed018385e6d04ee22bf6e77bc13119)\n",
       "        ;\n",
       "\n",
       "        \n",
       "    \n",
       "    \n",
       "            var circle_marker_ca7bbde3a78fd305953ceea707e3586d = L.circleMarker(\n",
       "                [57.0, 25.0],\n",
       "                {&quot;bubblingMouseEvents&quot;: true, &quot;color&quot;: &quot;#3388ff&quot;, &quot;dashArray&quot;: null, &quot;dashOffset&quot;: null, &quot;fill&quot;: true, &quot;fillColor&quot;: &quot;black&quot;, &quot;fillOpacity&quot;: 0.2, &quot;fillRule&quot;: &quot;evenodd&quot;, &quot;lineCap&quot;: &quot;round&quot;, &quot;lineJoin&quot;: &quot;round&quot;, &quot;opacity&quot;: 1.0, &quot;radius&quot;: 0.8495129039372447, &quot;stroke&quot;: true, &quot;weight&quot;: 3}\n",
       "            ).addTo(map_0ed39705f982cba5b49e80a3b39f571d);\n",
       "        \n",
       "    \n",
       "        var popup_8975fff432fafab07f5a5cf97a86e188 = L.popup({&quot;maxWidth&quot;: &quot;100%&quot;});\n",
       "\n",
       "        \n",
       "            var html_01e297f26566d743a305f4c41947ed20 = $(`&lt;div id=&quot;html_01e297f26566d743a305f4c41947ed20&quot; style=&quot;width: 100.0%; height: 100.0%;&quot;&gt;Latvia&lt;/div&gt;`)[0];\n",
       "            popup_8975fff432fafab07f5a5cf97a86e188.setContent(html_01e297f26566d743a305f4c41947ed20);\n",
       "        \n",
       "\n",
       "        circle_marker_ca7bbde3a78fd305953ceea707e3586d.bindPopup(popup_8975fff432fafab07f5a5cf97a86e188)\n",
       "        ;\n",
       "\n",
       "        \n",
       "    \n",
       "    \n",
       "            var circle_marker_3a6b5831b7d57b02df7002ea66e7340f = L.circleMarker(\n",
       "                [32.0, -6.0],\n",
       "                {&quot;bubblingMouseEvents&quot;: true, &quot;color&quot;: &quot;#3388ff&quot;, &quot;dashArray&quot;: null, &quot;dashOffset&quot;: null, &quot;fill&quot;: true, &quot;fillColor&quot;: &quot;blue&quot;, &quot;fillOpacity&quot;: 0.2, &quot;fillRule&quot;: &quot;evenodd&quot;, &quot;lineCap&quot;: &quot;round&quot;, &quot;lineJoin&quot;: &quot;round&quot;, &quot;opacity&quot;: 1.0, &quot;radius&quot;: 5.143803409376387, &quot;stroke&quot;: true, &quot;weight&quot;: 3}\n",
       "            ).addTo(map_0ed39705f982cba5b49e80a3b39f571d);\n",
       "        \n",
       "    \n",
       "        var popup_33d1ff7fca3077fd44da0e6881de8a59 = L.popup({&quot;maxWidth&quot;: &quot;100%&quot;});\n",
       "\n",
       "        \n",
       "            var html_2c7e497c0d302cc5ffb00a7db32dae00 = $(`&lt;div id=&quot;html_2c7e497c0d302cc5ffb00a7db32dae00&quot; style=&quot;width: 100.0%; height: 100.0%;&quot;&gt;Morocco&lt;/div&gt;`)[0];\n",
       "            popup_33d1ff7fca3077fd44da0e6881de8a59.setContent(html_2c7e497c0d302cc5ffb00a7db32dae00);\n",
       "        \n",
       "\n",
       "        circle_marker_3a6b5831b7d57b02df7002ea66e7340f.bindPopup(popup_33d1ff7fca3077fd44da0e6881de8a59)\n",
       "        ;\n",
       "\n",
       "        \n",
       "    \n",
       "    \n",
       "            var circle_marker_aeca5c95cf6fee53405b322763b51509 = L.circleMarker(\n",
       "                [47.25, 28.58333],\n",
       "                {&quot;bubblingMouseEvents&quot;: true, &quot;color&quot;: &quot;#3388ff&quot;, &quot;dashArray&quot;: null, &quot;dashOffset&quot;: null, &quot;fill&quot;: true, &quot;fillColor&quot;: &quot;black&quot;, &quot;fillOpacity&quot;: 0.2, &quot;fillRule&quot;: &quot;evenodd&quot;, &quot;lineCap&quot;: &quot;round&quot;, &quot;lineJoin&quot;: &quot;round&quot;, &quot;opacity&quot;: 1.0, &quot;radius&quot;: 0.5469439011777409, &quot;stroke&quot;: true, &quot;weight&quot;: 3}\n",
       "            ).addTo(map_0ed39705f982cba5b49e80a3b39f571d);\n",
       "        \n",
       "    \n",
       "        var popup_508ff55b6f9c528538525eace71b6cf0 = L.popup({&quot;maxWidth&quot;: &quot;100%&quot;});\n",
       "\n",
       "        \n",
       "            var html_1e1007d258e0c3526e4e9346548f6c24 = $(`&lt;div id=&quot;html_1e1007d258e0c3526e4e9346548f6c24&quot; style=&quot;width: 100.0%; height: 100.0%;&quot;&gt;Moldova&lt;/div&gt;`)[0];\n",
       "            popup_508ff55b6f9c528538525eace71b6cf0.setContent(html_1e1007d258e0c3526e4e9346548f6c24);\n",
       "        \n",
       "\n",
       "        circle_marker_aeca5c95cf6fee53405b322763b51509.bindPopup(popup_508ff55b6f9c528538525eace71b6cf0)\n",
       "        ;\n",
       "\n",
       "        \n",
       "    \n",
       "    \n",
       "            var circle_marker_2637ea23077e41bcc6791474dd68ba47 = L.circleMarker(\n",
       "                [-20.0, 47.0],\n",
       "                {&quot;bubblingMouseEvents&quot;: true, &quot;color&quot;: &quot;#3388ff&quot;, &quot;dashArray&quot;: null, &quot;dashOffset&quot;: null, &quot;fill&quot;: true, &quot;fillColor&quot;: &quot;blue&quot;, &quot;fillOpacity&quot;: 0.2, &quot;fillRule&quot;: &quot;evenodd&quot;, &quot;lineCap&quot;: &quot;round&quot;, &quot;lineJoin&quot;: &quot;round&quot;, &quot;opacity&quot;: 1.0, &quot;radius&quot;: 24.295318258386423, &quot;stroke&quot;: true, &quot;weight&quot;: 3}\n",
       "            ).addTo(map_0ed39705f982cba5b49e80a3b39f571d);\n",
       "        \n",
       "    \n",
       "        var popup_f1d30ff79ba15b856d5dbc0fa81985d1 = L.popup({&quot;maxWidth&quot;: &quot;100%&quot;});\n",
       "\n",
       "        \n",
       "            var html_4d6ab3004cdeac22820a5f1f3268a6b8 = $(`&lt;div id=&quot;html_4d6ab3004cdeac22820a5f1f3268a6b8&quot; style=&quot;width: 100.0%; height: 100.0%;&quot;&gt;Madagascar&lt;/div&gt;`)[0];\n",
       "            popup_f1d30ff79ba15b856d5dbc0fa81985d1.setContent(html_4d6ab3004cdeac22820a5f1f3268a6b8);\n",
       "        \n",
       "\n",
       "        circle_marker_2637ea23077e41bcc6791474dd68ba47.bindPopup(popup_f1d30ff79ba15b856d5dbc0fa81985d1)\n",
       "        ;\n",
       "\n",
       "        \n",
       "    \n",
       "    \n",
       "            var circle_marker_c5fcb48974f40e99b7e61fb9f7b119ec = L.circleMarker(\n",
       "                [3.2, 73.0],\n",
       "                {&quot;bubblingMouseEvents&quot;: true, &quot;color&quot;: &quot;#3388ff&quot;, &quot;dashArray&quot;: null, &quot;dashOffset&quot;: null, &quot;fill&quot;: true, &quot;fillColor&quot;: &quot;red&quot;, &quot;fillOpacity&quot;: 0.2, &quot;fillRule&quot;: &quot;evenodd&quot;, &quot;lineCap&quot;: &quot;round&quot;, &quot;lineJoin&quot;: &quot;round&quot;, &quot;opacity&quot;: 1.0, &quot;radius&quot;: 0.4150917264789626, &quot;stroke&quot;: true, &quot;weight&quot;: 3}\n",
       "            ).addTo(map_0ed39705f982cba5b49e80a3b39f571d);\n",
       "        \n",
       "    \n",
       "        var popup_62736e0b8fa3e894380e4c835ffca80b = L.popup({&quot;maxWidth&quot;: &quot;100%&quot;});\n",
       "\n",
       "        \n",
       "            var html_c3814d5550af1fdb62a3f8689465b111 = $(`&lt;div id=&quot;html_c3814d5550af1fdb62a3f8689465b111&quot; style=&quot;width: 100.0%; height: 100.0%;&quot;&gt;Maldives&lt;/div&gt;`)[0];\n",
       "            popup_62736e0b8fa3e894380e4c835ffca80b.setContent(html_c3814d5550af1fdb62a3f8689465b111);\n",
       "        \n",
       "\n",
       "        circle_marker_c5fcb48974f40e99b7e61fb9f7b119ec.bindPopup(popup_62736e0b8fa3e894380e4c835ffca80b)\n",
       "        ;\n",
       "\n",
       "        \n",
       "    \n",
       "    \n",
       "            var circle_marker_e6364f8e9f38019128df222e413836b8 = L.circleMarker(\n",
       "                [19.42847, -99.12766],\n",
       "                {&quot;bubblingMouseEvents&quot;: true, &quot;color&quot;: &quot;#3388ff&quot;, &quot;dashArray&quot;: null, &quot;dashOffset&quot;: null, &quot;fill&quot;: true, &quot;fillColor&quot;: &quot;green&quot;, &quot;fillOpacity&quot;: 0.2, &quot;fillRule&quot;: &quot;evenodd&quot;, &quot;lineCap&quot;: &quot;round&quot;, &quot;lineJoin&quot;: &quot;round&quot;, &quot;opacity&quot;: 1.0, &quot;radius&quot;: 6.116077917408222, &quot;stroke&quot;: true, &quot;weight&quot;: 3}\n",
       "            ).addTo(map_0ed39705f982cba5b49e80a3b39f571d);\n",
       "        \n",
       "    \n",
       "        var popup_b7d913b37203745fc6e5c3c5ea777397 = L.popup({&quot;maxWidth&quot;: &quot;100%&quot;});\n",
       "\n",
       "        \n",
       "            var html_b7bff198d3bcb21faad3bad289c50401 = $(`&lt;div id=&quot;html_b7bff198d3bcb21faad3bad289c50401&quot; style=&quot;width: 100.0%; height: 100.0%;&quot;&gt;Mexico&lt;/div&gt;`)[0];\n",
       "            popup_b7d913b37203745fc6e5c3c5ea777397.setContent(html_b7bff198d3bcb21faad3bad289c50401);\n",
       "        \n",
       "\n",
       "        circle_marker_e6364f8e9f38019128df222e413836b8.bindPopup(popup_b7d913b37203745fc6e5c3c5ea777397)\n",
       "        ;\n",
       "\n",
       "        \n",
       "    \n",
       "    \n",
       "            var circle_marker_b07299548d54ed27f5a4ff4772f63ab9 = L.circleMarker(\n",
       "                [41.66667, 21.75],\n",
       "                {&quot;bubblingMouseEvents&quot;: true, &quot;color&quot;: &quot;#3388ff&quot;, &quot;dashArray&quot;: null, &quot;dashOffset&quot;: null, &quot;fill&quot;: true, &quot;fillColor&quot;: &quot;black&quot;, &quot;fillOpacity&quot;: 0.2, &quot;fillRule&quot;: &quot;evenodd&quot;, &quot;lineCap&quot;: &quot;round&quot;, &quot;lineJoin&quot;: &quot;round&quot;, &quot;opacity&quot;: 1.0, &quot;radius&quot;: 0.42959989759002715, &quot;stroke&quot;: true, &quot;weight&quot;: 3}\n",
       "            ).addTo(map_0ed39705f982cba5b49e80a3b39f571d);\n",
       "        \n",
       "    \n",
       "        var popup_ff42f30633dd446c4f134498e3ad488a = L.popup({&quot;maxWidth&quot;: &quot;100%&quot;});\n",
       "\n",
       "        \n",
       "            var html_9fa1043971f391e36fea531a0212e15f = $(`&lt;div id=&quot;html_9fa1043971f391e36fea531a0212e15f&quot; style=&quot;width: 100.0%; height: 100.0%;&quot;&gt;North Macedonia&lt;/div&gt;`)[0];\n",
       "            popup_ff42f30633dd446c4f134498e3ad488a.setContent(html_9fa1043971f391e36fea531a0212e15f);\n",
       "        \n",
       "\n",
       "        circle_marker_b07299548d54ed27f5a4ff4772f63ab9.bindPopup(popup_ff42f30633dd446c4f134498e3ad488a)\n",
       "        ;\n",
       "\n",
       "        \n",
       "    \n",
       "    \n",
       "            var circle_marker_00f0c7b6477e43a2608ba7a61539ebf7 = L.circleMarker(\n",
       "                [18.0, -2.0],\n",
       "                {&quot;bubblingMouseEvents&quot;: true, &quot;color&quot;: &quot;#3388ff&quot;, &quot;dashArray&quot;: null, &quot;dashOffset&quot;: null, &quot;fill&quot;: true, &quot;fillColor&quot;: &quot;blue&quot;, &quot;fillOpacity&quot;: 0.2, &quot;fillRule&quot;: &quot;evenodd&quot;, &quot;lineCap&quot;: &quot;round&quot;, &quot;lineJoin&quot;: &quot;round&quot;, &quot;opacity&quot;: 1.0, &quot;radius&quot;: 15.570484664876235, &quot;stroke&quot;: true, &quot;weight&quot;: 3}\n",
       "            ).addTo(map_0ed39705f982cba5b49e80a3b39f571d);\n",
       "        \n",
       "    \n",
       "        var popup_4949924f12586d2bb7c3274394161aed = L.popup({&quot;maxWidth&quot;: &quot;100%&quot;});\n",
       "\n",
       "        \n",
       "            var html_1dbcbbcd0535c7e038a9f72a986df3e7 = $(`&lt;div id=&quot;html_1dbcbbcd0535c7e038a9f72a986df3e7&quot; style=&quot;width: 100.0%; height: 100.0%;&quot;&gt;Mali&lt;/div&gt;`)[0];\n",
       "            popup_4949924f12586d2bb7c3274394161aed.setContent(html_1dbcbbcd0535c7e038a9f72a986df3e7);\n",
       "        \n",
       "\n",
       "        circle_marker_00f0c7b6477e43a2608ba7a61539ebf7.bindPopup(popup_4949924f12586d2bb7c3274394161aed)\n",
       "        ;\n",
       "\n",
       "        \n",
       "    \n",
       "    \n",
       "            var circle_marker_a4d5e944ed104bb745bb4a00bece9a76 = L.circleMarker(\n",
       "                [42.75, 19.25],\n",
       "                {&quot;bubblingMouseEvents&quot;: true, &quot;color&quot;: &quot;#3388ff&quot;, &quot;dashArray&quot;: null, &quot;dashOffset&quot;: null, &quot;fill&quot;: true, &quot;fillColor&quot;: &quot;black&quot;, &quot;fillOpacity&quot;: 0.2, &quot;fillRule&quot;: &quot;evenodd&quot;, &quot;lineCap&quot;: &quot;round&quot;, &quot;lineJoin&quot;: &quot;round&quot;, &quot;opacity&quot;: 1.0, &quot;radius&quot;: 0.2042802635564556, &quot;stroke&quot;: true, &quot;weight&quot;: 3}\n",
       "            ).addTo(map_0ed39705f982cba5b49e80a3b39f571d);\n",
       "        \n",
       "    \n",
       "        var popup_b559dbe1b2def84d5f010b5799dac64f = L.popup({&quot;maxWidth&quot;: &quot;100%&quot;});\n",
       "\n",
       "        \n",
       "            var html_5ef85d3795f88fc3ee3f3cbd44fd22b6 = $(`&lt;div id=&quot;html_5ef85d3795f88fc3ee3f3cbd44fd22b6&quot; style=&quot;width: 100.0%; height: 100.0%;&quot;&gt;Montenegro&lt;/div&gt;`)[0];\n",
       "            popup_b559dbe1b2def84d5f010b5799dac64f.setContent(html_5ef85d3795f88fc3ee3f3cbd44fd22b6);\n",
       "        \n",
       "\n",
       "        circle_marker_a4d5e944ed104bb745bb4a00bece9a76.bindPopup(popup_b559dbe1b2def84d5f010b5799dac64f)\n",
       "        ;\n",
       "\n",
       "        \n",
       "    \n",
       "    \n",
       "            var circle_marker_2bd42a04f2382d180cd695537a400a9b = L.circleMarker(\n",
       "                [-18.25, 35.0],\n",
       "                {&quot;bubblingMouseEvents&quot;: true, &quot;color&quot;: &quot;#3388ff&quot;, &quot;dashArray&quot;: null, &quot;dashOffset&quot;: null, &quot;fill&quot;: true, &quot;fillColor&quot;: &quot;blue&quot;, &quot;fillOpacity&quot;: 0.2, &quot;fillRule&quot;: &quot;evenodd&quot;, &quot;lineCap&quot;: &quot;round&quot;, &quot;lineJoin&quot;: &quot;round&quot;, &quot;opacity&quot;: 1.0, &quot;radius&quot;: 21.32458555367499, &quot;stroke&quot;: true, &quot;weight&quot;: 3}\n",
       "            ).addTo(map_0ed39705f982cba5b49e80a3b39f571d);\n",
       "        \n",
       "    \n",
       "        var popup_fa54e115b82ec45f11e1b1ca7ca73c3e = L.popup({&quot;maxWidth&quot;: &quot;100%&quot;});\n",
       "\n",
       "        \n",
       "            var html_a28e5efb47634e78edb460917071e649 = $(`&lt;div id=&quot;html_a28e5efb47634e78edb460917071e649&quot; style=&quot;width: 100.0%; height: 100.0%;&quot;&gt;Mozambique&lt;/div&gt;`)[0];\n",
       "            popup_fa54e115b82ec45f11e1b1ca7ca73c3e.setContent(html_a28e5efb47634e78edb460917071e649);\n",
       "        \n",
       "\n",
       "        circle_marker_2bd42a04f2382d180cd695537a400a9b.bindPopup(popup_fa54e115b82ec45f11e1b1ca7ca73c3e)\n",
       "        ;\n",
       "\n",
       "        \n",
       "    \n",
       "    \n",
       "            var circle_marker_f713695fda4739f63bc0794400bb6934 = L.circleMarker(\n",
       "                [20.25, -10.5],\n",
       "                {&quot;bubblingMouseEvents&quot;: true, &quot;color&quot;: &quot;#3388ff&quot;, &quot;dashArray&quot;: null, &quot;dashOffset&quot;: null, &quot;fill&quot;: true, &quot;fillColor&quot;: &quot;blue&quot;, &quot;fillOpacity&quot;: 0.2, &quot;fillRule&quot;: &quot;evenodd&quot;, &quot;lineCap&quot;: &quot;round&quot;, &quot;lineJoin&quot;: &quot;round&quot;, &quot;opacity&quot;: 1.0, &quot;radius&quot;: 5.104874523724298, &quot;stroke&quot;: true, &quot;weight&quot;: 3}\n",
       "            ).addTo(map_0ed39705f982cba5b49e80a3b39f571d);\n",
       "        \n",
       "    \n",
       "        var popup_e804e3076c963eadd97e849ae9e40197 = L.popup({&quot;maxWidth&quot;: &quot;100%&quot;});\n",
       "\n",
       "        \n",
       "            var html_bd6dda0cf9dc88275f3d2337d2f53b89 = $(`&lt;div id=&quot;html_bd6dda0cf9dc88275f3d2337d2f53b89&quot; style=&quot;width: 100.0%; height: 100.0%;&quot;&gt;Mauritania&lt;/div&gt;`)[0];\n",
       "            popup_e804e3076c963eadd97e849ae9e40197.setContent(html_bd6dda0cf9dc88275f3d2337d2f53b89);\n",
       "        \n",
       "\n",
       "        circle_marker_f713695fda4739f63bc0794400bb6934.bindPopup(popup_e804e3076c963eadd97e849ae9e40197)\n",
       "        ;\n",
       "\n",
       "        \n",
       "    \n",
       "    \n",
       "            var circle_marker_7456a784a5ac61677bc313b6728bb0f9 = L.circleMarker(\n",
       "                [-13.5, 34.0],\n",
       "                {&quot;bubblingMouseEvents&quot;: true, &quot;color&quot;: &quot;#3388ff&quot;, &quot;dashArray&quot;: null, &quot;dashOffset&quot;: null, &quot;fill&quot;: true, &quot;fillColor&quot;: &quot;blue&quot;, &quot;fillOpacity&quot;: 0.2, &quot;fillRule&quot;: &quot;evenodd&quot;, &quot;lineCap&quot;: &quot;round&quot;, &quot;lineJoin&quot;: &quot;round&quot;, &quot;opacity&quot;: 1.0, &quot;radius&quot;: 18.27467628792681, &quot;stroke&quot;: true, &quot;weight&quot;: 3}\n",
       "            ).addTo(map_0ed39705f982cba5b49e80a3b39f571d);\n",
       "        \n",
       "    \n",
       "        var popup_4a5e2d7d03c4a954bc6a0799d67ce092 = L.popup({&quot;maxWidth&quot;: &quot;100%&quot;});\n",
       "\n",
       "        \n",
       "            var html_44d1b4b3bb02b355eab83e014c50dd39 = $(`&lt;div id=&quot;html_44d1b4b3bb02b355eab83e014c50dd39&quot; style=&quot;width: 100.0%; height: 100.0%;&quot;&gt;Malawi&lt;/div&gt;`)[0];\n",
       "            popup_4a5e2d7d03c4a954bc6a0799d67ce092.setContent(html_44d1b4b3bb02b355eab83e014c50dd39);\n",
       "        \n",
       "\n",
       "        circle_marker_7456a784a5ac61677bc313b6728bb0f9.bindPopup(popup_4a5e2d7d03c4a954bc6a0799d67ce092)\n",
       "        ;\n",
       "\n",
       "        \n",
       "    \n",
       "    \n",
       "            var circle_marker_a8b0b02812cf9d2b7649ad650ea243fb = L.circleMarker(\n",
       "                [2.5, 112.5],\n",
       "                {&quot;bubblingMouseEvents&quot;: true, &quot;color&quot;: &quot;#3388ff&quot;, &quot;dashArray&quot;: null, &quot;dashOffset&quot;: null, &quot;fill&quot;: true, &quot;fillColor&quot;: &quot;red&quot;, &quot;fillOpacity&quot;: 0.2, &quot;fillRule&quot;: &quot;evenodd&quot;, &quot;lineCap&quot;: &quot;round&quot;, &quot;lineJoin&quot;: &quot;round&quot;, &quot;opacity&quot;: 1.0, &quot;stroke&quot;: true, &quot;weight&quot;: 3}\n",
       "            ).addTo(map_0ed39705f982cba5b49e80a3b39f571d);\n",
       "        \n",
       "    \n",
       "        var popup_4451f259af03d191eab313cb0f8f2613 = L.popup({&quot;maxWidth&quot;: &quot;100%&quot;});\n",
       "\n",
       "        \n",
       "            var html_c2b49dca31288addc2e47d866d6ddf7f = $(`&lt;div id=&quot;html_c2b49dca31288addc2e47d866d6ddf7f&quot; style=&quot;width: 100.0%; height: 100.0%;&quot;&gt;Malaysia&lt;/div&gt;`)[0];\n",
       "            popup_4451f259af03d191eab313cb0f8f2613.setContent(html_c2b49dca31288addc2e47d866d6ddf7f);\n",
       "        \n",
       "\n",
       "        circle_marker_a8b0b02812cf9d2b7649ad650ea243fb.bindPopup(popup_4451f259af03d191eab313cb0f8f2613)\n",
       "        ;\n",
       "\n",
       "        \n",
       "    \n",
       "    \n",
       "            var circle_marker_54e660d0f943c31b668b9566eeb6c173 = L.circleMarker(\n",
       "                [-22.0, 17.0],\n",
       "                {&quot;bubblingMouseEvents&quot;: true, &quot;color&quot;: &quot;#3388ff&quot;, &quot;dashArray&quot;: null, &quot;dashOffset&quot;: null, &quot;fill&quot;: true, &quot;fillColor&quot;: &quot;blue&quot;, &quot;fillOpacity&quot;: 0.2, &quot;fillRule&quot;: &quot;evenodd&quot;, &quot;lineCap&quot;: &quot;round&quot;, &quot;lineJoin&quot;: &quot;round&quot;, &quot;opacity&quot;: 1.0, &quot;radius&quot;: 3.9845687128006193, &quot;stroke&quot;: true, &quot;weight&quot;: 3}\n",
       "            ).addTo(map_0ed39705f982cba5b49e80a3b39f571d);\n",
       "        \n",
       "    \n",
       "        var popup_9dac68fe777d396bfc3de96db29d5a39 = L.popup({&quot;maxWidth&quot;: &quot;100%&quot;});\n",
       "\n",
       "        \n",
       "            var html_f4dc57cfbddeb366e6725d4ea102a5c6 = $(`&lt;div id=&quot;html_f4dc57cfbddeb366e6725d4ea102a5c6&quot; style=&quot;width: 100.0%; height: 100.0%;&quot;&gt;Namibia&lt;/div&gt;`)[0];\n",
       "            popup_9dac68fe777d396bfc3de96db29d5a39.setContent(html_f4dc57cfbddeb366e6725d4ea102a5c6);\n",
       "        \n",
       "\n",
       "        circle_marker_54e660d0f943c31b668b9566eeb6c173.bindPopup(popup_9dac68fe777d396bfc3de96db29d5a39)\n",
       "        ;\n",
       "\n",
       "        \n",
       "    \n",
       "    \n",
       "            var circle_marker_dc1c765a220d5284d8090025a1aeace9 = L.circleMarker(\n",
       "                [18.0, 9.0],\n",
       "                {&quot;bubblingMouseEvents&quot;: true, &quot;color&quot;: &quot;#3388ff&quot;, &quot;dashArray&quot;: null, &quot;dashOffset&quot;: null, &quot;fill&quot;: true, &quot;fillColor&quot;: &quot;blue&quot;, &quot;fillOpacity&quot;: 0.2, &quot;fillRule&quot;: &quot;evenodd&quot;, &quot;lineCap&quot;: &quot;round&quot;, &quot;lineJoin&quot;: &quot;round&quot;, &quot;opacity&quot;: 1.0, &quot;radius&quot;: 14.624343601209656, &quot;stroke&quot;: true, &quot;weight&quot;: 3}\n",
       "            ).addTo(map_0ed39705f982cba5b49e80a3b39f571d);\n",
       "        \n",
       "    \n",
       "        var popup_db51a64c0bf595680176890aced77fdc = L.popup({&quot;maxWidth&quot;: &quot;100%&quot;});\n",
       "\n",
       "        \n",
       "            var html_90c6496a2f7d8b69fe84646fcc8339e2 = $(`&lt;div id=&quot;html_90c6496a2f7d8b69fe84646fcc8339e2&quot; style=&quot;width: 100.0%; height: 100.0%;&quot;&gt;Niger&lt;/div&gt;`)[0];\n",
       "            popup_db51a64c0bf595680176890aced77fdc.setContent(html_90c6496a2f7d8b69fe84646fcc8339e2);\n",
       "        \n",
       "\n",
       "        circle_marker_dc1c765a220d5284d8090025a1aeace9.bindPopup(popup_db51a64c0bf595680176890aced77fdc)\n",
       "        ;\n",
       "\n",
       "        \n",
       "    \n",
       "    \n",
       "            var circle_marker_659e7ad96b4e9fff7dbeeb9ec86252b6 = L.circleMarker(\n",
       "                [10.0, 8.0],\n",
       "                {&quot;bubblingMouseEvents&quot;: true, &quot;color&quot;: &quot;#3388ff&quot;, &quot;dashArray&quot;: null, &quot;dashOffset&quot;: null, &quot;fill&quot;: true, &quot;fillColor&quot;: &quot;blue&quot;, &quot;fillOpacity&quot;: 0.2, &quot;fillRule&quot;: &quot;evenodd&quot;, &quot;lineCap&quot;: &quot;round&quot;, &quot;lineJoin&quot;: &quot;round&quot;, &quot;opacity&quot;: 1.0, &quot;radius&quot;: 55.94290002503713, &quot;stroke&quot;: true, &quot;weight&quot;: 3}\n",
       "            ).addTo(map_0ed39705f982cba5b49e80a3b39f571d);\n",
       "        \n",
       "    \n",
       "        var popup_aa891eeeeca3675a61f8042678fc4b3d = L.popup({&quot;maxWidth&quot;: &quot;100%&quot;});\n",
       "\n",
       "        \n",
       "            var html_5d4ad25dddf251d1dde21c7bab0c1c9a = $(`&lt;div id=&quot;html_5d4ad25dddf251d1dde21c7bab0c1c9a&quot; style=&quot;width: 100.0%; height: 100.0%;&quot;&gt;Nigeria&lt;/div&gt;`)[0];\n",
       "            popup_aa891eeeeca3675a61f8042678fc4b3d.setContent(html_5d4ad25dddf251d1dde21c7bab0c1c9a);\n",
       "        \n",
       "\n",
       "        circle_marker_659e7ad96b4e9fff7dbeeb9ec86252b6.bindPopup(popup_aa891eeeeca3675a61f8042678fc4b3d)\n",
       "        ;\n",
       "\n",
       "        \n",
       "    \n",
       "    \n",
       "            var circle_marker_d3ff643ba03022a5af10e2836354a70d = L.circleMarker(\n",
       "                [13.0, -85.0],\n",
       "                {&quot;bubblingMouseEvents&quot;: true, &quot;color&quot;: &quot;#3388ff&quot;, &quot;dashArray&quot;: null, &quot;dashOffset&quot;: null, &quot;fill&quot;: true, &quot;fillColor&quot;: &quot;green&quot;, &quot;fillOpacity&quot;: 0.2, &quot;fillRule&quot;: &quot;evenodd&quot;, &quot;lineCap&quot;: &quot;round&quot;, &quot;lineJoin&quot;: &quot;round&quot;, &quot;opacity&quot;: 1.0, &quot;radius&quot;: 3.9789367881465885, &quot;stroke&quot;: true, &quot;weight&quot;: 3}\n",
       "            ).addTo(map_0ed39705f982cba5b49e80a3b39f571d);\n",
       "        \n",
       "    \n",
       "        var popup_00c2dfaa7cb795602dc7d6f261783fef = L.popup({&quot;maxWidth&quot;: &quot;100%&quot;});\n",
       "\n",
       "        \n",
       "            var html_3c7fe5d5138fbce2e6bc47d56f161951 = $(`&lt;div id=&quot;html_3c7fe5d5138fbce2e6bc47d56f161951&quot; style=&quot;width: 100.0%; height: 100.0%;&quot;&gt;Nicaragua&lt;/div&gt;`)[0];\n",
       "            popup_00c2dfaa7cb795602dc7d6f261783fef.setContent(html_3c7fe5d5138fbce2e6bc47d56f161951);\n",
       "        \n",
       "\n",
       "        circle_marker_d3ff643ba03022a5af10e2836354a70d.bindPopup(popup_00c2dfaa7cb795602dc7d6f261783fef)\n",
       "        ;\n",
       "\n",
       "        \n",
       "    \n",
       "    \n",
       "            var circle_marker_32cdebb3badc241e2ba220ebc024ceea = L.circleMarker(\n",
       "                [52.25, 5.75],\n",
       "                {&quot;bubblingMouseEvents&quot;: true, &quot;color&quot;: &quot;#3388ff&quot;, &quot;dashArray&quot;: null, &quot;dashOffset&quot;: null, &quot;fill&quot;: true, &quot;fillColor&quot;: &quot;black&quot;, &quot;fillOpacity&quot;: 0.2, &quot;fillRule&quot;: &quot;evenodd&quot;, &quot;lineCap&quot;: &quot;round&quot;, &quot;lineJoin&quot;: &quot;round&quot;, &quot;opacity&quot;: 1.0, &quot;radius&quot;: 1.363308998513233, &quot;stroke&quot;: true, &quot;weight&quot;: 3}\n",
       "            ).addTo(map_0ed39705f982cba5b49e80a3b39f571d);\n",
       "        \n",
       "    \n",
       "        var popup_e74c3f2e48389ffc17dded7f748d3ce3 = L.popup({&quot;maxWidth&quot;: &quot;100%&quot;});\n",
       "\n",
       "        \n",
       "            var html_f0e71b7b916a462e59348e3508680941 = $(`&lt;div id=&quot;html_f0e71b7b916a462e59348e3508680941&quot; style=&quot;width: 100.0%; height: 100.0%;&quot;&gt;Netherlands&lt;/div&gt;`)[0];\n",
       "            popup_e74c3f2e48389ffc17dded7f748d3ce3.setContent(html_f0e71b7b916a462e59348e3508680941);\n",
       "        \n",
       "\n",
       "        circle_marker_32cdebb3badc241e2ba220ebc024ceea.bindPopup(popup_e74c3f2e48389ffc17dded7f748d3ce3)\n",
       "        ;\n",
       "\n",
       "        \n",
       "    \n",
       "    \n",
       "            var circle_marker_58cf30afdba24480b6d2112dbd99011e = L.circleMarker(\n",
       "                [62.0, 10.0],\n",
       "                {&quot;bubblingMouseEvents&quot;: true, &quot;color&quot;: &quot;#3388ff&quot;, &quot;dashArray&quot;: null, &quot;dashOffset&quot;: null, &quot;fill&quot;: true, &quot;fillColor&quot;: &quot;black&quot;, &quot;fillOpacity&quot;: 0.2, &quot;fillRule&quot;: &quot;evenodd&quot;, &quot;lineCap&quot;: &quot;round&quot;, &quot;lineJoin&quot;: &quot;round&quot;, &quot;opacity&quot;: 1.0, &quot;radius&quot;: 1.0207778467534643, &quot;stroke&quot;: true, &quot;weight&quot;: 3}\n",
       "            ).addTo(map_0ed39705f982cba5b49e80a3b39f571d);\n",
       "        \n",
       "    \n",
       "        var popup_3103810a838b9bfd89185ac6140391d4 = L.popup({&quot;maxWidth&quot;: &quot;100%&quot;});\n",
       "\n",
       "        \n",
       "            var html_1076f16f345e71a62c2791ab5115de07 = $(`&lt;div id=&quot;html_1076f16f345e71a62c2791ab5115de07&quot; style=&quot;width: 100.0%; height: 100.0%;&quot;&gt;Norway&lt;/div&gt;`)[0];\n",
       "            popup_3103810a838b9bfd89185ac6140391d4.setContent(html_1076f16f345e71a62c2791ab5115de07);\n",
       "        \n",
       "\n",
       "        circle_marker_58cf30afdba24480b6d2112dbd99011e.bindPopup(popup_3103810a838b9bfd89185ac6140391d4)\n",
       "        ;\n",
       "\n",
       "        \n",
       "    \n",
       "    \n",
       "            var circle_marker_76b5cd4dbe111a77c6aa09d5d02d5024 = L.circleMarker(\n",
       "                [28.0, 84.0],\n",
       "                {&quot;bubblingMouseEvents&quot;: true, &quot;color&quot;: &quot;#3388ff&quot;, &quot;dashArray&quot;: null, &quot;dashOffset&quot;: null, &quot;fill&quot;: true, &quot;fillColor&quot;: &quot;red&quot;, &quot;fillOpacity&quot;: 0.2, &quot;fillRule&quot;: &quot;evenodd&quot;, &quot;lineCap&quot;: &quot;round&quot;, &quot;lineJoin&quot;: &quot;round&quot;, &quot;opacity&quot;: 1.0, &quot;radius&quot;: 14.287409177153314, &quot;stroke&quot;: true, &quot;weight&quot;: 3}\n",
       "            ).addTo(map_0ed39705f982cba5b49e80a3b39f571d);\n",
       "        \n",
       "    \n",
       "        var popup_a325fc577291f87229f0147a66b5b9d5 = L.popup({&quot;maxWidth&quot;: &quot;100%&quot;});\n",
       "\n",
       "        \n",
       "            var html_6fb7a92b3a69096947534359cfdb59a9 = $(`&lt;div id=&quot;html_6fb7a92b3a69096947534359cfdb59a9&quot; style=&quot;width: 100.0%; height: 100.0%;&quot;&gt;Nepal&lt;/div&gt;`)[0];\n",
       "            popup_a325fc577291f87229f0147a66b5b9d5.setContent(html_6fb7a92b3a69096947534359cfdb59a9);\n",
       "        \n",
       "\n",
       "        circle_marker_76b5cd4dbe111a77c6aa09d5d02d5024.bindPopup(popup_a325fc577291f87229f0147a66b5b9d5)\n",
       "        ;\n",
       "\n",
       "        \n",
       "    \n",
       "    \n",
       "            var circle_marker_039547cd9270a125f9bb12a7380561fe = L.circleMarker(\n",
       "                [30.0, 70.0],\n",
       "                {&quot;bubblingMouseEvents&quot;: true, &quot;color&quot;: &quot;#3388ff&quot;, &quot;dashArray&quot;: null, &quot;dashOffset&quot;: null, &quot;fill&quot;: true, &quot;fillColor&quot;: &quot;red&quot;, &quot;fillOpacity&quot;: 0.2, &quot;fillRule&quot;: &quot;evenodd&quot;, &quot;lineCap&quot;: &quot;round&quot;, &quot;lineJoin&quot;: &quot;round&quot;, &quot;opacity&quot;: 1.0, &quot;radius&quot;: 26.974340020303398, &quot;stroke&quot;: true, &quot;weight&quot;: 3}\n",
       "            ).addTo(map_0ed39705f982cba5b49e80a3b39f571d);\n",
       "        \n",
       "    \n",
       "        var popup_e49fefeb6d59a56aab583ad0b27d9538 = L.popup({&quot;maxWidth&quot;: &quot;100%&quot;});\n",
       "\n",
       "        \n",
       "            var html_3706d4abd7672debb2f9ce65360af2ff = $(`&lt;div id=&quot;html_3706d4abd7672debb2f9ce65360af2ff&quot; style=&quot;width: 100.0%; height: 100.0%;&quot;&gt;Pakistan&lt;/div&gt;`)[0];\n",
       "            popup_e49fefeb6d59a56aab583ad0b27d9538.setContent(html_3706d4abd7672debb2f9ce65360af2ff);\n",
       "        \n",
       "\n",
       "        circle_marker_039547cd9270a125f9bb12a7380561fe.bindPopup(popup_e49fefeb6d59a56aab583ad0b27d9538)\n",
       "        ;\n",
       "\n",
       "        \n",
       "    \n",
       "    \n",
       "            var circle_marker_b403d6cb84d8ef28f26acd35c82aaa44 = L.circleMarker(\n",
       "                [8.9936, -79.51973],\n",
       "                {&quot;bubblingMouseEvents&quot;: true, &quot;color&quot;: &quot;#3388ff&quot;, &quot;dashArray&quot;: null, &quot;dashOffset&quot;: null, &quot;fill&quot;: true, &quot;fillColor&quot;: &quot;green&quot;, &quot;fillOpacity&quot;: 0.2, &quot;fillRule&quot;: &quot;evenodd&quot;, &quot;lineCap&quot;: &quot;round&quot;, &quot;lineJoin&quot;: &quot;round&quot;, &quot;opacity&quot;: 1.0, &quot;radius&quot;: 2.15090943062721, &quot;stroke&quot;: true, &quot;weight&quot;: 3}\n",
       "            ).addTo(map_0ed39705f982cba5b49e80a3b39f571d);\n",
       "        \n",
       "    \n",
       "        var popup_e1dece0daaf8c9e7ae5293f2ef551978 = L.popup({&quot;maxWidth&quot;: &quot;100%&quot;});\n",
       "\n",
       "        \n",
       "            var html_42d97567f420fc58648edac91f592ff2 = $(`&lt;div id=&quot;html_42d97567f420fc58648edac91f592ff2&quot; style=&quot;width: 100.0%; height: 100.0%;&quot;&gt;Panama&lt;/div&gt;`)[0];\n",
       "            popup_e1dece0daaf8c9e7ae5293f2ef551978.setContent(html_42d97567f420fc58648edac91f592ff2);\n",
       "        \n",
       "\n",
       "        circle_marker_b403d6cb84d8ef28f26acd35c82aaa44.bindPopup(popup_e1dece0daaf8c9e7ae5293f2ef551978)\n",
       "        ;\n",
       "\n",
       "        \n",
       "    \n",
       "    \n",
       "            var circle_marker_5bf0fb9feb079f4c24ee4cc9536d4748 = L.circleMarker(\n",
       "                [-10.0, -75.25],\n",
       "                {&quot;bubblingMouseEvents&quot;: true, &quot;color&quot;: &quot;#3388ff&quot;, &quot;dashArray&quot;: null, &quot;dashOffset&quot;: null, &quot;fill&quot;: true, &quot;fillColor&quot;: &quot;green&quot;, &quot;fillOpacity&quot;: 0.2, &quot;fillRule&quot;: &quot;evenodd&quot;, &quot;lineCap&quot;: &quot;round&quot;, &quot;lineJoin&quot;: &quot;round&quot;, &quot;opacity&quot;: 1.0, &quot;radius&quot;: 5.167496139520397, &quot;stroke&quot;: true, &quot;weight&quot;: 3}\n",
       "            ).addTo(map_0ed39705f982cba5b49e80a3b39f571d);\n",
       "        \n",
       "    \n",
       "        var popup_0096f46b2d6a4d0b513f9ae2dd16814a = L.popup({&quot;maxWidth&quot;: &quot;100%&quot;});\n",
       "\n",
       "        \n",
       "            var html_6db157ce00d497a2b2cab384ec0d53ad = $(`&lt;div id=&quot;html_6db157ce00d497a2b2cab384ec0d53ad&quot; style=&quot;width: 100.0%; height: 100.0%;&quot;&gt;Peru&lt;/div&gt;`)[0];\n",
       "            popup_0096f46b2d6a4d0b513f9ae2dd16814a.setContent(html_6db157ce00d497a2b2cab384ec0d53ad);\n",
       "        \n",
       "\n",
       "        circle_marker_5bf0fb9feb079f4c24ee4cc9536d4748.bindPopup(popup_0096f46b2d6a4d0b513f9ae2dd16814a)\n",
       "        ;\n",
       "\n",
       "        \n",
       "    \n",
       "    \n",
       "            var circle_marker_8e663ada9bc085d18b97838fb8d2b474 = L.circleMarker(\n",
       "                [13.0, 122.0],\n",
       "                {&quot;bubblingMouseEvents&quot;: true, &quot;color&quot;: &quot;#3388ff&quot;, &quot;dashArray&quot;: null, &quot;dashOffset&quot;: null, &quot;fill&quot;: true, &quot;fillColor&quot;: &quot;red&quot;, &quot;fillOpacity&quot;: 0.2, &quot;fillRule&quot;: &quot;evenodd&quot;, &quot;lineCap&quot;: &quot;round&quot;, &quot;lineJoin&quot;: &quot;round&quot;, &quot;opacity&quot;: 1.0, &quot;radius&quot;: 23.813948433342183, &quot;stroke&quot;: true, &quot;weight&quot;: 3}\n",
       "            ).addTo(map_0ed39705f982cba5b49e80a3b39f571d);\n",
       "        \n",
       "    \n",
       "        var popup_97f490415843e742d86245ac24f194e2 = L.popup({&quot;maxWidth&quot;: &quot;100%&quot;});\n",
       "\n",
       "        \n",
       "            var html_e3264f741aad53139448df30e5fa794b = $(`&lt;div id=&quot;html_e3264f741aad53139448df30e5fa794b&quot; style=&quot;width: 100.0%; height: 100.0%;&quot;&gt;Philippines&lt;/div&gt;`)[0];\n",
       "            popup_97f490415843e742d86245ac24f194e2.setContent(html_e3264f741aad53139448df30e5fa794b);\n",
       "        \n",
       "\n",
       "        circle_marker_8e663ada9bc085d18b97838fb8d2b474.bindPopup(popup_97f490415843e742d86245ac24f194e2)\n",
       "        ;\n",
       "\n",
       "        \n",
       "    \n",
       "    \n",
       "            var circle_marker_6b69ddb183d9a20571aedabb4045d99d = L.circleMarker(\n",
       "                [-6.0, 147.0],\n",
       "                {&quot;bubblingMouseEvents&quot;: true, &quot;color&quot;: &quot;#3388ff&quot;, &quot;dashArray&quot;: null, &quot;dashOffset&quot;: null, &quot;fill&quot;: true, &quot;fillColor&quot;: &quot;red&quot;, &quot;fillOpacity&quot;: 0.2, &quot;fillRule&quot;: &quot;evenodd&quot;, &quot;lineCap&quot;: &quot;round&quot;, &quot;lineJoin&quot;: &quot;round&quot;, &quot;opacity&quot;: 1.0, &quot;radius&quot;: 9.125985821420215, &quot;stroke&quot;: true, &quot;weight&quot;: 3}\n",
       "            ).addTo(map_0ed39705f982cba5b49e80a3b39f571d);\n",
       "        \n",
       "    \n",
       "        var popup_ae6d2ae35eb183056ee654f87c0d42e4 = L.popup({&quot;maxWidth&quot;: &quot;100%&quot;});\n",
       "\n",
       "        \n",
       "            var html_dff441d84b7101d9d7a43a782f994569 = $(`&lt;div id=&quot;html_dff441d84b7101d9d7a43a782f994569&quot; style=&quot;width: 100.0%; height: 100.0%;&quot;&gt;Papua New Guinea&lt;/div&gt;`)[0];\n",
       "            popup_ae6d2ae35eb183056ee654f87c0d42e4.setContent(html_dff441d84b7101d9d7a43a782f994569);\n",
       "        \n",
       "\n",
       "        circle_marker_6b69ddb183d9a20571aedabb4045d99d.bindPopup(popup_ae6d2ae35eb183056ee654f87c0d42e4)\n",
       "        ;\n",
       "\n",
       "        \n",
       "    \n",
       "    \n",
       "            var circle_marker_b9d25d83e77ef4f69b26cd32db507a51 = L.circleMarker(\n",
       "                [52.0, 20.0],\n",
       "                {&quot;bubblingMouseEvents&quot;: true, &quot;color&quot;: &quot;#3388ff&quot;, &quot;dashArray&quot;: null, &quot;dashOffset&quot;: null, &quot;fill&quot;: true, &quot;fillColor&quot;: &quot;black&quot;, &quot;fillOpacity&quot;: 0.2, &quot;fillRule&quot;: &quot;evenodd&quot;, &quot;lineCap&quot;: &quot;round&quot;, &quot;lineJoin&quot;: &quot;round&quot;, &quot;opacity&quot;: 1.0, &quot;stroke&quot;: true, &quot;weight&quot;: 3}\n",
       "            ).addTo(map_0ed39705f982cba5b49e80a3b39f571d);\n",
       "        \n",
       "    \n",
       "        var popup_714eaa8bbf4c1b7566aa542ceb030a6b = L.popup({&quot;maxWidth&quot;: &quot;100%&quot;});\n",
       "\n",
       "        \n",
       "            var html_ddd2259df29f463c6f1825921a84621f = $(`&lt;div id=&quot;html_ddd2259df29f463c6f1825921a84621f&quot; style=&quot;width: 100.0%; height: 100.0%;&quot;&gt;Poland&lt;/div&gt;`)[0];\n",
       "            popup_714eaa8bbf4c1b7566aa542ceb030a6b.setContent(html_ddd2259df29f463c6f1825921a84621f);\n",
       "        \n",
       "\n",
       "        circle_marker_b9d25d83e77ef4f69b26cd32db507a51.bindPopup(popup_714eaa8bbf4c1b7566aa542ceb030a6b)\n",
       "        ;\n",
       "\n",
       "        \n",
       "    \n",
       "    \n",
       "            var circle_marker_bab291b59ef031379ba4a81000d0c8b2 = L.circleMarker(\n",
       "                [-23.33333, -58.0],\n",
       "                {&quot;bubblingMouseEvents&quot;: true, &quot;color&quot;: &quot;#3388ff&quot;, &quot;dashArray&quot;: null, &quot;dashOffset&quot;: null, &quot;fill&quot;: true, &quot;fillColor&quot;: &quot;green&quot;, &quot;fillOpacity&quot;: 0.2, &quot;fillRule&quot;: &quot;evenodd&quot;, &quot;lineCap&quot;: &quot;round&quot;, &quot;lineJoin&quot;: &quot;round&quot;, &quot;opacity&quot;: 1.0, &quot;radius&quot;: 2.454808263447154, &quot;stroke&quot;: true, &quot;weight&quot;: 3}\n",
       "            ).addTo(map_0ed39705f982cba5b49e80a3b39f571d);\n",
       "        \n",
       "    \n",
       "        var popup_d086bf79918ec2349d8103824432bc48 = L.popup({&quot;maxWidth&quot;: &quot;100%&quot;});\n",
       "\n",
       "        \n",
       "            var html_1b70fbb789b4370816107f2c04527dc4 = $(`&lt;div id=&quot;html_1b70fbb789b4370816107f2c04527dc4&quot; style=&quot;width: 100.0%; height: 100.0%;&quot;&gt;Paraguay&lt;/div&gt;`)[0];\n",
       "            popup_d086bf79918ec2349d8103824432bc48.setContent(html_1b70fbb789b4370816107f2c04527dc4);\n",
       "        \n",
       "\n",
       "        circle_marker_bab291b59ef031379ba4a81000d0c8b2.bindPopup(popup_d086bf79918ec2349d8103824432bc48)\n",
       "        ;\n",
       "\n",
       "        \n",
       "    \n",
       "    \n",
       "            var circle_marker_17f34d96c897e42a8eecb44a0c777b9d = L.circleMarker(\n",
       "                [31.92157, 35.20329],\n",
       "                {&quot;bubblingMouseEvents&quot;: true, &quot;color&quot;: &quot;#3388ff&quot;, &quot;dashArray&quot;: null, &quot;dashOffset&quot;: null, &quot;fill&quot;: true, &quot;fillColor&quot;: &quot;red&quot;, &quot;fillOpacity&quot;: 0.2, &quot;fillRule&quot;: &quot;evenodd&quot;, &quot;lineCap&quot;: &quot;round&quot;, &quot;lineJoin&quot;: &quot;round&quot;, &quot;opacity&quot;: 1.0, &quot;radius&quot;: 0.3213900403973964, &quot;stroke&quot;: true, &quot;weight&quot;: 3}\n",
       "            ).addTo(map_0ed39705f982cba5b49e80a3b39f571d);\n",
       "        \n",
       "    \n",
       "        var popup_3f5c2ecff1cf1323bf0d77090765965e = L.popup({&quot;maxWidth&quot;: &quot;100%&quot;});\n",
       "\n",
       "        \n",
       "            var html_e7501115fc914e5f5958f451b2bc42fe = $(`&lt;div id=&quot;html_e7501115fc914e5f5958f451b2bc42fe&quot; style=&quot;width: 100.0%; height: 100.0%;&quot;&gt;Palestine&lt;/div&gt;`)[0];\n",
       "            popup_3f5c2ecff1cf1323bf0d77090765965e.setContent(html_e7501115fc914e5f5958f451b2bc42fe);\n",
       "        \n",
       "\n",
       "        circle_marker_17f34d96c897e42a8eecb44a0c777b9d.bindPopup(popup_3f5c2ecff1cf1323bf0d77090765965e)\n",
       "        ;\n",
       "\n",
       "        \n",
       "    \n",
       "    \n",
       "            var circle_marker_941c5cdfe1f77cef1674f779ef536c0f = L.circleMarker(\n",
       "                [46.0, 25.0],\n",
       "                {&quot;bubblingMouseEvents&quot;: true, &quot;color&quot;: &quot;#3388ff&quot;, &quot;dashArray&quot;: null, &quot;dashOffset&quot;: null, &quot;fill&quot;: true, &quot;fillColor&quot;: &quot;black&quot;, &quot;fillOpacity&quot;: 0.2, &quot;fillRule&quot;: &quot;evenodd&quot;, &quot;lineCap&quot;: &quot;round&quot;, &quot;lineJoin&quot;: &quot;round&quot;, &quot;opacity&quot;: 1.0, &quot;stroke&quot;: true, &quot;weight&quot;: 3}\n",
       "            ).addTo(map_0ed39705f982cba5b49e80a3b39f571d);\n",
       "        \n",
       "    \n",
       "        var popup_720f71a8e227aa8534e404806137fa7c = L.popup({&quot;maxWidth&quot;: &quot;100%&quot;});\n",
       "\n",
       "        \n",
       "            var html_cdd26a21cbdc7f500f415bf6d0abd22e = $(`&lt;div id=&quot;html_cdd26a21cbdc7f500f415bf6d0abd22e&quot; style=&quot;width: 100.0%; height: 100.0%;&quot;&gt;Romania&lt;/div&gt;`)[0];\n",
       "            popup_720f71a8e227aa8534e404806137fa7c.setContent(html_cdd26a21cbdc7f500f415bf6d0abd22e);\n",
       "        \n",
       "\n",
       "        circle_marker_941c5cdfe1f77cef1674f779ef536c0f.bindPopup(popup_720f71a8e227aa8534e404806137fa7c)\n",
       "        ;\n",
       "\n",
       "        \n",
       "    \n",
       "    \n",
       "            var circle_marker_a06458ccc019f185df6dd6220afc28df = L.circleMarker(\n",
       "                [60.0, 100.0],\n",
       "                {&quot;bubblingMouseEvents&quot;: true, &quot;color&quot;: &quot;#3388ff&quot;, &quot;dashArray&quot;: null, &quot;dashOffset&quot;: null, &quot;fill&quot;: true, &quot;fillColor&quot;: &quot;black&quot;, &quot;fillOpacity&quot;: 0.2, &quot;fillRule&quot;: &quot;evenodd&quot;, &quot;lineCap&quot;: &quot;round&quot;, &quot;lineJoin&quot;: &quot;round&quot;, &quot;opacity&quot;: 1.0, &quot;radius&quot;: 1.1705268361253016, &quot;stroke&quot;: true, &quot;weight&quot;: 3}\n",
       "            ).addTo(map_0ed39705f982cba5b49e80a3b39f571d);\n",
       "        \n",
       "    \n",
       "        var popup_0c85686687b959a6331ac75bec53fb43 = L.popup({&quot;maxWidth&quot;: &quot;100%&quot;});\n",
       "\n",
       "        \n",
       "            var html_e0cddcb028768e3102d426562f91687e = $(`&lt;div id=&quot;html_e0cddcb028768e3102d426562f91687e&quot; style=&quot;width: 100.0%; height: 100.0%;&quot;&gt;Russia&lt;/div&gt;`)[0];\n",
       "            popup_0c85686687b959a6331ac75bec53fb43.setContent(html_e0cddcb028768e3102d426562f91687e);\n",
       "        \n",
       "\n",
       "        circle_marker_a06458ccc019f185df6dd6220afc28df.bindPopup(popup_0c85686687b959a6331ac75bec53fb43)\n",
       "        ;\n",
       "\n",
       "        \n",
       "    \n",
       "    \n",
       "            var circle_marker_85587d04d66cabe1f978669d9f07aa1e = L.circleMarker(\n",
       "                [-2.0, 30.0],\n",
       "                {&quot;bubblingMouseEvents&quot;: true, &quot;color&quot;: &quot;#3388ff&quot;, &quot;dashArray&quot;: null, &quot;dashOffset&quot;: null, &quot;fill&quot;: true, &quot;fillColor&quot;: &quot;blue&quot;, &quot;fillOpacity&quot;: 0.2, &quot;fillRule&quot;: &quot;evenodd&quot;, &quot;lineCap&quot;: &quot;round&quot;, &quot;lineJoin&quot;: &quot;round&quot;, &quot;opacity&quot;: 1.0, &quot;radius&quot;: 14.191124420279852, &quot;stroke&quot;: true, &quot;weight&quot;: 3}\n",
       "            ).addTo(map_0ed39705f982cba5b49e80a3b39f571d);\n",
       "        \n",
       "    \n",
       "        var popup_4b50bb0ab9b1ee3731e3424e0372ef50 = L.popup({&quot;maxWidth&quot;: &quot;100%&quot;});\n",
       "\n",
       "        \n",
       "            var html_20081d713540ed55fe8dcef465e74562 = $(`&lt;div id=&quot;html_20081d713540ed55fe8dcef465e74562&quot; style=&quot;width: 100.0%; height: 100.0%;&quot;&gt;Rwanda&lt;/div&gt;`)[0];\n",
       "            popup_4b50bb0ab9b1ee3731e3424e0372ef50.setContent(html_20081d713540ed55fe8dcef465e74562);\n",
       "        \n",
       "\n",
       "        circle_marker_85587d04d66cabe1f978669d9f07aa1e.bindPopup(popup_4b50bb0ab9b1ee3731e3424e0372ef50)\n",
       "        ;\n",
       "\n",
       "        \n",
       "    \n",
       "    \n",
       "            var circle_marker_572e58965f9b79e00540d810a132f86a = L.circleMarker(\n",
       "                [16.0, 30.0],\n",
       "                {&quot;bubblingMouseEvents&quot;: true, &quot;color&quot;: &quot;#3388ff&quot;, &quot;dashArray&quot;: null, &quot;dashOffset&quot;: null, &quot;fill&quot;: true, &quot;fillColor&quot;: &quot;blue&quot;, &quot;fillOpacity&quot;: 0.2, &quot;fillRule&quot;: &quot;evenodd&quot;, &quot;lineCap&quot;: &quot;round&quot;, &quot;lineJoin&quot;: &quot;round&quot;, &quot;opacity&quot;: 1.0, &quot;radius&quot;: 14.75537843817308, &quot;stroke&quot;: true, &quot;weight&quot;: 3}\n",
       "            ).addTo(map_0ed39705f982cba5b49e80a3b39f571d);\n",
       "        \n",
       "    \n",
       "        var popup_ce47ec6ec4d942f7e07eccc9993daf3b = L.popup({&quot;maxWidth&quot;: &quot;100%&quot;});\n",
       "\n",
       "        \n",
       "            var html_0163c69f74fdfda1bb3a8fe41b1329e7 = $(`&lt;div id=&quot;html_0163c69f74fdfda1bb3a8fe41b1329e7&quot; style=&quot;width: 100.0%; height: 100.0%;&quot;&gt;Sudan&lt;/div&gt;`)[0];\n",
       "            popup_ce47ec6ec4d942f7e07eccc9993daf3b.setContent(html_0163c69f74fdfda1bb3a8fe41b1329e7);\n",
       "        \n",
       "\n",
       "        circle_marker_572e58965f9b79e00540d810a132f86a.bindPopup(popup_ce47ec6ec4d942f7e07eccc9993daf3b)\n",
       "        ;\n",
       "\n",
       "        \n",
       "    \n",
       "    \n",
       "            var circle_marker_48da5073c75f51c79a3f94800944789c = L.circleMarker(\n",
       "                [14.5, -14.25],\n",
       "                {&quot;bubblingMouseEvents&quot;: true, &quot;color&quot;: &quot;#3388ff&quot;, &quot;dashArray&quot;: null, &quot;dashOffset&quot;: null, &quot;fill&quot;: true, &quot;fillColor&quot;: &quot;blue&quot;, &quot;fillOpacity&quot;: 0.2, &quot;fillRule&quot;: &quot;evenodd&quot;, &quot;lineCap&quot;: &quot;round&quot;, &quot;lineJoin&quot;: &quot;round&quot;, &quot;opacity&quot;: 1.0, &quot;radius&quot;: 11.723984438242729, &quot;stroke&quot;: true, &quot;weight&quot;: 3}\n",
       "            ).addTo(map_0ed39705f982cba5b49e80a3b39f571d);\n",
       "        \n",
       "    \n",
       "        var popup_0987e495d0bda725d02cc44304bf87ae = L.popup({&quot;maxWidth&quot;: &quot;100%&quot;});\n",
       "\n",
       "        \n",
       "            var html_2ac939910d6754d5081a5a3286016dd5 = $(`&lt;div id=&quot;html_2ac939910d6754d5081a5a3286016dd5&quot; style=&quot;width: 100.0%; height: 100.0%;&quot;&gt;Senegal&lt;/div&gt;`)[0];\n",
       "            popup_0987e495d0bda725d02cc44304bf87ae.setContent(html_2ac939910d6754d5081a5a3286016dd5);\n",
       "        \n",
       "\n",
       "        circle_marker_48da5073c75f51c79a3f94800944789c.bindPopup(popup_0987e495d0bda725d02cc44304bf87ae)\n",
       "        ;\n",
       "\n",
       "        \n",
       "    \n",
       "    \n",
       "            var circle_marker_88db2b4c40b0fb68573c9a152afab2d5 = L.circleMarker(\n",
       "                [8.5, -11.5],\n",
       "                {&quot;bubblingMouseEvents&quot;: true, &quot;color&quot;: &quot;#3388ff&quot;, &quot;dashArray&quot;: null, &quot;dashOffset&quot;: null, &quot;fill&quot;: true, &quot;fillColor&quot;: &quot;blue&quot;, &quot;fillOpacity&quot;: 0.2, &quot;fillRule&quot;: &quot;evenodd&quot;, &quot;lineCap&quot;: &quot;round&quot;, &quot;lineJoin&quot;: &quot;round&quot;, &quot;opacity&quot;: 1.0, &quot;radius&quot;: 10.75395518279574, &quot;stroke&quot;: true, &quot;weight&quot;: 3}\n",
       "            ).addTo(map_0ed39705f982cba5b49e80a3b39f571d);\n",
       "        \n",
       "    \n",
       "        var popup_af882c604d8ef7b967167b4fa08a6059 = L.popup({&quot;maxWidth&quot;: &quot;100%&quot;});\n",
       "\n",
       "        \n",
       "            var html_1c62350b1d6fc21ee502a4a93622e8ce = $(`&lt;div id=&quot;html_1c62350b1d6fc21ee502a4a93622e8ce&quot; style=&quot;width: 100.0%; height: 100.0%;&quot;&gt;Sierra Leone&lt;/div&gt;`)[0];\n",
       "            popup_af882c604d8ef7b967167b4fa08a6059.setContent(html_1c62350b1d6fc21ee502a4a93622e8ce);\n",
       "        \n",
       "\n",
       "        circle_marker_88db2b4c40b0fb68573c9a152afab2d5.bindPopup(popup_af882c604d8ef7b967167b4fa08a6059)\n",
       "        ;\n",
       "\n",
       "        \n",
       "    \n",
       "    \n",
       "            var circle_marker_6f05591c5a290b0eac8d99bdba29c3ce = L.circleMarker(\n",
       "                [13.83333, -88.91667],\n",
       "                {&quot;bubblingMouseEvents&quot;: true, &quot;color&quot;: &quot;#3388ff&quot;, &quot;dashArray&quot;: null, &quot;dashOffset&quot;: null, &quot;fill&quot;: true, &quot;fillColor&quot;: &quot;green&quot;, &quot;fillOpacity&quot;: 0.2, &quot;fillRule&quot;: &quot;evenodd&quot;, &quot;lineCap&quot;: &quot;round&quot;, &quot;lineJoin&quot;: &quot;round&quot;, &quot;opacity&quot;: 1.0, &quot;radius&quot;: 2.231596251861578, &quot;stroke&quot;: true, &quot;weight&quot;: 3}\n",
       "            ).addTo(map_0ed39705f982cba5b49e80a3b39f571d);\n",
       "        \n",
       "    \n",
       "        var popup_3e75cb534f63c9870cb235f77cfe4175 = L.popup({&quot;maxWidth&quot;: &quot;100%&quot;});\n",
       "\n",
       "        \n",
       "            var html_4c91538743bc709ed54ee9f9e8d84df6 = $(`&lt;div id=&quot;html_4c91538743bc709ed54ee9f9e8d84df6&quot; style=&quot;width: 100.0%; height: 100.0%;&quot;&gt;El Salvador&lt;/div&gt;`)[0];\n",
       "            popup_3e75cb534f63c9870cb235f77cfe4175.setContent(html_4c91538743bc709ed54ee9f9e8d84df6);\n",
       "        \n",
       "\n",
       "        circle_marker_6f05591c5a290b0eac8d99bdba29c3ce.bindPopup(popup_3e75cb534f63c9870cb235f77cfe4175)\n",
       "        ;\n",
       "\n",
       "        \n",
       "    \n",
       "    \n",
       "            var circle_marker_d00d3a4963dce8c099cd76b3d1195f0d = L.circleMarker(\n",
       "                [44.81892, 20.45998],\n",
       "                {&quot;bubblingMouseEvents&quot;: true, &quot;color&quot;: &quot;#3388ff&quot;, &quot;dashArray&quot;: null, &quot;dashOffset&quot;: null, &quot;fill&quot;: true, &quot;fillColor&quot;: &quot;black&quot;, &quot;fillOpacity&quot;: 0.2, &quot;fillRule&quot;: &quot;evenodd&quot;, &quot;lineCap&quot;: &quot;round&quot;, &quot;lineJoin&quot;: &quot;round&quot;, &quot;opacity&quot;: 1.0, &quot;radius&quot;: 0.37830163207185913, &quot;stroke&quot;: true, &quot;weight&quot;: 3}\n",
       "            ).addTo(map_0ed39705f982cba5b49e80a3b39f571d);\n",
       "        \n",
       "    \n",
       "        var popup_df63064d2a7baf46a88fd535e3936c8f = L.popup({&quot;maxWidth&quot;: &quot;100%&quot;});\n",
       "\n",
       "        \n",
       "            var html_e0dcd52ef834e4b7e2301d260e901f5c = $(`&lt;div id=&quot;html_e0dcd52ef834e4b7e2301d260e901f5c&quot; style=&quot;width: 100.0%; height: 100.0%;&quot;&gt;Serbia&lt;/div&gt;`)[0];\n",
       "            popup_df63064d2a7baf46a88fd535e3936c8f.setContent(html_e0dcd52ef834e4b7e2301d260e901f5c);\n",
       "        \n",
       "\n",
       "        circle_marker_d00d3a4963dce8c099cd76b3d1195f0d.bindPopup(popup_df63064d2a7baf46a88fd535e3936c8f)\n",
       "        ;\n",
       "\n",
       "        \n",
       "    \n",
       "    \n",
       "            var circle_marker_ce0d995e99036d3150c50fc2dda313c9 = L.circleMarker(\n",
       "                [1.0, 7.0],\n",
       "                {&quot;bubblingMouseEvents&quot;: true, &quot;color&quot;: &quot;#3388ff&quot;, &quot;dashArray&quot;: null, &quot;dashOffset&quot;: null, &quot;fill&quot;: true, &quot;fillColor&quot;: &quot;blue&quot;, &quot;fillOpacity&quot;: 0.2, &quot;fillRule&quot;: &quot;evenodd&quot;, &quot;lineCap&quot;: &quot;round&quot;, &quot;lineJoin&quot;: &quot;round&quot;, &quot;opacity&quot;: 1.0, &quot;radius&quot;: 1.5808990803845295, &quot;stroke&quot;: true, &quot;weight&quot;: 3}\n",
       "            ).addTo(map_0ed39705f982cba5b49e80a3b39f571d);\n",
       "        \n",
       "    \n",
       "        var popup_bb884490ed077b65f4060b77083b2850 = L.popup({&quot;maxWidth&quot;: &quot;100%&quot;});\n",
       "\n",
       "        \n",
       "            var html_7aaea0ec60ca0e94f9f998b216b63fde = $(`&lt;div id=&quot;html_7aaea0ec60ca0e94f9f998b216b63fde&quot; style=&quot;width: 100.0%; height: 100.0%;&quot;&gt;Sao Tome and Principe&lt;/div&gt;`)[0];\n",
       "            popup_bb884490ed077b65f4060b77083b2850.setContent(html_7aaea0ec60ca0e94f9f998b216b63fde);\n",
       "        \n",
       "\n",
       "        circle_marker_ce0d995e99036d3150c50fc2dda313c9.bindPopup(popup_bb884490ed077b65f4060b77083b2850)\n",
       "        ;\n",
       "\n",
       "        \n",
       "    \n",
       "    \n",
       "            var circle_marker_5e37c917b59766a8f4834d9ee6c0ee4b = L.circleMarker(\n",
       "                [4.0, -56.0],\n",
       "                {&quot;bubblingMouseEvents&quot;: true, &quot;color&quot;: &quot;#3388ff&quot;, &quot;dashArray&quot;: null, &quot;dashOffset&quot;: null, &quot;fill&quot;: true, &quot;fillColor&quot;: &quot;green&quot;, &quot;fillOpacity&quot;: 0.2, &quot;fillRule&quot;: &quot;evenodd&quot;, &quot;lineCap&quot;: &quot;round&quot;, &quot;lineJoin&quot;: &quot;round&quot;, &quot;opacity&quot;: 1.0, &quot;radius&quot;: 1.6178179347920572, &quot;stroke&quot;: true, &quot;weight&quot;: 3}\n",
       "            ).addTo(map_0ed39705f982cba5b49e80a3b39f571d);\n",
       "        \n",
       "    \n",
       "        var popup_e1351432b2199183d1671dca0ff04ccc = L.popup({&quot;maxWidth&quot;: &quot;100%&quot;});\n",
       "\n",
       "        \n",
       "            var html_1bfa0fda5319e6f49438e3bbfbc63c66 = $(`&lt;div id=&quot;html_1bfa0fda5319e6f49438e3bbfbc63c66&quot; style=&quot;width: 100.0%; height: 100.0%;&quot;&gt;Suriname&lt;/div&gt;`)[0];\n",
       "            popup_e1351432b2199183d1671dca0ff04ccc.setContent(html_1bfa0fda5319e6f49438e3bbfbc63c66);\n",
       "        \n",
       "\n",
       "        circle_marker_5e37c917b59766a8f4834d9ee6c0ee4b.bindPopup(popup_e1351432b2199183d1671dca0ff04ccc)\n",
       "        ;\n",
       "\n",
       "        \n",
       "    \n",
       "    \n",
       "            var circle_marker_f04274a47292baeb720dbb848a772c72 = L.circleMarker(\n",
       "                [48.66667, 19.5],\n",
       "                {&quot;bubblingMouseEvents&quot;: true, &quot;color&quot;: &quot;#3388ff&quot;, &quot;dashArray&quot;: null, &quot;dashOffset&quot;: null, &quot;fill&quot;: true, &quot;fillColor&quot;: &quot;black&quot;, &quot;fillOpacity&quot;: 0.2, &quot;fillRule&quot;: &quot;evenodd&quot;, &quot;lineCap&quot;: &quot;round&quot;, &quot;lineJoin&quot;: &quot;round&quot;, &quot;opacity&quot;: 1.0, &quot;radius&quot;: 0.7183841719231987, &quot;stroke&quot;: true, &quot;weight&quot;: 3}\n",
       "            ).addTo(map_0ed39705f982cba5b49e80a3b39f571d);\n",
       "        \n",
       "    \n",
       "        var popup_93341739cb685a1eebdda670058ef971 = L.popup({&quot;maxWidth&quot;: &quot;100%&quot;});\n",
       "\n",
       "        \n",
       "            var html_2173bb09148f16822ad91e3170f58e84 = $(`&lt;div id=&quot;html_2173bb09148f16822ad91e3170f58e84&quot; style=&quot;width: 100.0%; height: 100.0%;&quot;&gt;Slovak Republic&lt;/div&gt;`)[0];\n",
       "            popup_93341739cb685a1eebdda670058ef971.setContent(html_2173bb09148f16822ad91e3170f58e84);\n",
       "        \n",
       "\n",
       "        circle_marker_f04274a47292baeb720dbb848a772c72.bindPopup(popup_93341739cb685a1eebdda670058ef971)\n",
       "        ;\n",
       "\n",
       "        \n",
       "    \n",
       "    \n",
       "            var circle_marker_cdc6cabbfac047bf71674b0c1e0d9fd7 = L.circleMarker(\n",
       "                [46.08333, 15.0],\n",
       "                {&quot;bubblingMouseEvents&quot;: true, &quot;color&quot;: &quot;#3388ff&quot;, &quot;dashArray&quot;: null, &quot;dashOffset&quot;: null, &quot;fill&quot;: true, &quot;fillColor&quot;: &quot;black&quot;, &quot;fillOpacity&quot;: 0.2, &quot;fillRule&quot;: &quot;evenodd&quot;, &quot;lineCap&quot;: &quot;round&quot;, &quot;lineJoin&quot;: &quot;round&quot;, &quot;opacity&quot;: 1.0, &quot;stroke&quot;: true, &quot;weight&quot;: 3}\n",
       "            ).addTo(map_0ed39705f982cba5b49e80a3b39f571d);\n",
       "        \n",
       "    \n",
       "        var popup_f8ba5e30dec225e395263d67835ecd17 = L.popup({&quot;maxWidth&quot;: &quot;100%&quot;});\n",
       "\n",
       "        \n",
       "            var html_1616f41386b564247ef7cfa0b63c7ec1 = $(`&lt;div id=&quot;html_1616f41386b564247ef7cfa0b63c7ec1&quot; style=&quot;width: 100.0%; height: 100.0%;&quot;&gt;Slovenia&lt;/div&gt;`)[0];\n",
       "            popup_f8ba5e30dec225e395263d67835ecd17.setContent(html_1616f41386b564247ef7cfa0b63c7ec1);\n",
       "        \n",
       "\n",
       "        circle_marker_cdc6cabbfac047bf71674b0c1e0d9fd7.bindPopup(popup_f8ba5e30dec225e395263d67835ecd17)\n",
       "        ;\n",
       "\n",
       "        \n",
       "    \n",
       "    \n",
       "            var circle_marker_8e1f9b5ee6cf323027c841c5ad80141a = L.circleMarker(\n",
       "                [62.0, 15.0],\n",
       "                {&quot;bubblingMouseEvents&quot;: true, &quot;color&quot;: &quot;#3388ff&quot;, &quot;dashArray&quot;: null, &quot;dashOffset&quot;: null, &quot;fill&quot;: true, &quot;fillColor&quot;: &quot;black&quot;, &quot;fillOpacity&quot;: 0.2, &quot;fillRule&quot;: &quot;evenodd&quot;, &quot;lineCap&quot;: &quot;round&quot;, &quot;lineJoin&quot;: &quot;round&quot;, &quot;opacity&quot;: 1.0, &quot;radius&quot;: 1.0228182985905399, &quot;stroke&quot;: true, &quot;weight&quot;: 3}\n",
       "            ).addTo(map_0ed39705f982cba5b49e80a3b39f571d);\n",
       "        \n",
       "    \n",
       "        var popup_a30ac1ab52ff34aa6c930694e496ebf4 = L.popup({&quot;maxWidth&quot;: &quot;100%&quot;});\n",
       "\n",
       "        \n",
       "            var html_7920ac512c0b3b30b30b3f826fbb1f58 = $(`&lt;div id=&quot;html_7920ac512c0b3b30b30b3f826fbb1f58&quot; style=&quot;width: 100.0%; height: 100.0%;&quot;&gt;Sweden&lt;/div&gt;`)[0];\n",
       "            popup_a30ac1ab52ff34aa6c930694e496ebf4.setContent(html_7920ac512c0b3b30b30b3f826fbb1f58);\n",
       "        \n",
       "\n",
       "        circle_marker_8e1f9b5ee6cf323027c841c5ad80141a.bindPopup(popup_a30ac1ab52ff34aa6c930694e496ebf4)\n",
       "        ;\n",
       "\n",
       "        \n",
       "    \n",
       "    \n",
       "            var circle_marker_3bbe83ea0c9c25a9bd660a6ae822febb = L.circleMarker(\n",
       "                [-26.5, 31.5],\n",
       "                {&quot;bubblingMouseEvents&quot;: true, &quot;color&quot;: &quot;#3388ff&quot;, &quot;dashArray&quot;: null, &quot;dashOffset&quot;: null, &quot;fill&quot;: true, &quot;fillColor&quot;: &quot;blue&quot;, &quot;fillOpacity&quot;: 0.2, &quot;fillRule&quot;: &quot;evenodd&quot;, &quot;lineCap&quot;: &quot;round&quot;, &quot;lineJoin&quot;: &quot;round&quot;, &quot;opacity&quot;: 1.0, &quot;radius&quot;: 3.6497571987716015, &quot;stroke&quot;: true, &quot;weight&quot;: 3}\n",
       "            ).addTo(map_0ed39705f982cba5b49e80a3b39f571d);\n",
       "        \n",
       "    \n",
       "        var popup_e37300637e7c01943e9b6c961728a8d3 = L.popup({&quot;maxWidth&quot;: &quot;100%&quot;});\n",
       "\n",
       "        \n",
       "            var html_b089b43dcdf02a3d087de21e8740fb21 = $(`&lt;div id=&quot;html_b089b43dcdf02a3d087de21e8740fb21&quot; style=&quot;width: 100.0%; height: 100.0%;&quot;&gt;Swaziland&lt;/div&gt;`)[0];\n",
       "            popup_e37300637e7c01943e9b6c961728a8d3.setContent(html_b089b43dcdf02a3d087de21e8740fb21);\n",
       "        \n",
       "\n",
       "        circle_marker_3bbe83ea0c9c25a9bd660a6ae822febb.bindPopup(popup_e37300637e7c01943e9b6c961728a8d3)\n",
       "        ;\n",
       "\n",
       "        \n",
       "    \n",
       "    \n",
       "            var circle_marker_ae5edf77c919ce95a37e476f83334bec = L.circleMarker(\n",
       "                [-4.58333, 55.66667],\n",
       "                {&quot;bubblingMouseEvents&quot;: true, &quot;color&quot;: &quot;#3388ff&quot;, &quot;dashArray&quot;: null, &quot;dashOffset&quot;: null, &quot;fill&quot;: true, &quot;fillColor&quot;: &quot;blue&quot;, &quot;fillOpacity&quot;: 0.2, &quot;fillRule&quot;: &quot;evenodd&quot;, &quot;lineCap&quot;: &quot;round&quot;, &quot;lineJoin&quot;: &quot;round&quot;, &quot;opacity&quot;: 1.0, &quot;radius&quot;: 0.08519075891779829, &quot;stroke&quot;: true, &quot;weight&quot;: 3}\n",
       "            ).addTo(map_0ed39705f982cba5b49e80a3b39f571d);\n",
       "        \n",
       "    \n",
       "        var popup_0abfdf977c8f9519c86f540b26610c63 = L.popup({&quot;maxWidth&quot;: &quot;100%&quot;});\n",
       "\n",
       "        \n",
       "            var html_ebf800d27d34e4a244a56f952618e44d = $(`&lt;div id=&quot;html_ebf800d27d34e4a244a56f952618e44d&quot; style=&quot;width: 100.0%; height: 100.0%;&quot;&gt;Seychelles&lt;/div&gt;`)[0];\n",
       "            popup_0abfdf977c8f9519c86f540b26610c63.setContent(html_ebf800d27d34e4a244a56f952618e44d);\n",
       "        \n",
       "\n",
       "        circle_marker_ae5edf77c919ce95a37e476f83334bec.bindPopup(popup_0abfdf977c8f9519c86f540b26610c63)\n",
       "        ;\n",
       "\n",
       "        \n",
       "    \n",
       "    \n",
       "            var circle_marker_a4db95c116a62775fe0914edf408fad8 = L.circleMarker(\n",
       "                [35.0, 38.0],\n",
       "                {&quot;bubblingMouseEvents&quot;: true, &quot;color&quot;: &quot;#3388ff&quot;, &quot;dashArray&quot;: null, &quot;dashOffset&quot;: null, &quot;fill&quot;: true, &quot;fillColor&quot;: &quot;red&quot;, &quot;fillOpacity&quot;: 0.2, &quot;fillRule&quot;: &quot;evenodd&quot;, &quot;lineCap&quot;: &quot;round&quot;, &quot;lineJoin&quot;: &quot;round&quot;, &quot;opacity&quot;: 1.0, &quot;radius&quot;: 3.4099601627152856, &quot;stroke&quot;: true, &quot;weight&quot;: 3}\n",
       "            ).addTo(map_0ed39705f982cba5b49e80a3b39f571d);\n",
       "        \n",
       "    \n",
       "        var popup_64557abb7f39280e7b9907983e324922 = L.popup({&quot;maxWidth&quot;: &quot;100%&quot;});\n",
       "\n",
       "        \n",
       "            var html_f87772f4a455f289876a514147bedabb = $(`&lt;div id=&quot;html_f87772f4a455f289876a514147bedabb&quot; style=&quot;width: 100.0%; height: 100.0%;&quot;&gt;Syria&lt;/div&gt;`)[0];\n",
       "            popup_64557abb7f39280e7b9907983e324922.setContent(html_f87772f4a455f289876a514147bedabb);\n",
       "        \n",
       "\n",
       "        circle_marker_a4db95c116a62775fe0914edf408fad8.bindPopup(popup_64557abb7f39280e7b9907983e324922)\n",
       "        ;\n",
       "\n",
       "        \n",
       "    \n",
       "    \n",
       "            var circle_marker_301b3e0242af53668f69a021a65a95af = L.circleMarker(\n",
       "                [15.0, 19.0],\n",
       "                {&quot;bubblingMouseEvents&quot;: true, &quot;color&quot;: &quot;#3388ff&quot;, &quot;dashArray&quot;: null, &quot;dashOffset&quot;: null, &quot;fill&quot;: true, &quot;fillColor&quot;: &quot;blue&quot;, &quot;fillOpacity&quot;: 0.2, &quot;fillRule&quot;: &quot;evenodd&quot;, &quot;lineCap&quot;: &quot;round&quot;, &quot;lineJoin&quot;: &quot;round&quot;, &quot;opacity&quot;: 1.0, &quot;radius&quot;: 11.78726800446764, &quot;stroke&quot;: true, &quot;weight&quot;: 3}\n",
       "            ).addTo(map_0ed39705f982cba5b49e80a3b39f571d);\n",
       "        \n",
       "    \n",
       "        var popup_0f7cece34e37151173f476e3cb7d6a93 = L.popup({&quot;maxWidth&quot;: &quot;100%&quot;});\n",
       "\n",
       "        \n",
       "            var html_97695ac71333569785011193c7daa7a5 = $(`&lt;div id=&quot;html_97695ac71333569785011193c7daa7a5&quot; style=&quot;width: 100.0%; height: 100.0%;&quot;&gt;Chad&lt;/div&gt;`)[0];\n",
       "            popup_0f7cece34e37151173f476e3cb7d6a93.setContent(html_97695ac71333569785011193c7daa7a5);\n",
       "        \n",
       "\n",
       "        circle_marker_301b3e0242af53668f69a021a65a95af.bindPopup(popup_0f7cece34e37151173f476e3cb7d6a93)\n",
       "        ;\n",
       "\n",
       "        \n",
       "    \n",
       "    \n",
       "            var circle_marker_bea9a72dbaf8d36b04fffaee1f78f512 = L.circleMarker(\n",
       "                [8.66667, 1.08333],\n",
       "                {&quot;bubblingMouseEvents&quot;: true, &quot;color&quot;: &quot;#3388ff&quot;, &quot;dashArray&quot;: null, &quot;dashOffset&quot;: null, &quot;fill&quot;: true, &quot;fillColor&quot;: &quot;blue&quot;, &quot;fillOpacity&quot;: 0.2, &quot;fillRule&quot;: &quot;evenodd&quot;, &quot;lineCap&quot;: &quot;round&quot;, &quot;lineJoin&quot;: &quot;round&quot;, &quot;opacity&quot;: 1.0, &quot;radius&quot;: 10.35531519401904, &quot;stroke&quot;: true, &quot;weight&quot;: 3}\n",
       "            ).addTo(map_0ed39705f982cba5b49e80a3b39f571d);\n",
       "        \n",
       "    \n",
       "        var popup_37c32eaa5256327ead2c69db8c641fd8 = L.popup({&quot;maxWidth&quot;: &quot;100%&quot;});\n",
       "\n",
       "        \n",
       "            var html_5f3beb5927140196d5e35a1362abf57e = $(`&lt;div id=&quot;html_5f3beb5927140196d5e35a1362abf57e&quot; style=&quot;width: 100.0%; height: 100.0%;&quot;&gt;Togo&lt;/div&gt;`)[0];\n",
       "            popup_37c32eaa5256327ead2c69db8c641fd8.setContent(html_5f3beb5927140196d5e35a1362abf57e);\n",
       "        \n",
       "\n",
       "        circle_marker_bea9a72dbaf8d36b04fffaee1f78f512.bindPopup(popup_37c32eaa5256327ead2c69db8c641fd8)\n",
       "        ;\n",
       "\n",
       "        \n",
       "    \n",
       "    \n",
       "            var circle_marker_c21e2e3969846c3175e37d0ed52132f4 = L.circleMarker(\n",
       "                [15.5, 101.0],\n",
       "                {&quot;bubblingMouseEvents&quot;: true, &quot;color&quot;: &quot;#3388ff&quot;, &quot;dashArray&quot;: null, &quot;dashOffset&quot;: null, &quot;fill&quot;: true, &quot;fillColor&quot;: &quot;red&quot;, &quot;fillOpacity&quot;: 0.2, &quot;fillRule&quot;: &quot;evenodd&quot;, &quot;lineCap&quot;: &quot;round&quot;, &quot;lineJoin&quot;: &quot;round&quot;, &quot;opacity&quot;: 1.0, &quot;radius&quot;: 2.574986229895502, &quot;stroke&quot;: true, &quot;weight&quot;: 3}\n",
       "            ).addTo(map_0ed39705f982cba5b49e80a3b39f571d);\n",
       "        \n",
       "    \n",
       "        var popup_5e1cb546c64a3b101f23e8ce421363cb = L.popup({&quot;maxWidth&quot;: &quot;100%&quot;});\n",
       "\n",
       "        \n",
       "            var html_ae6915669165c4cf916660a9e62cc6c4 = $(`&lt;div id=&quot;html_ae6915669165c4cf916660a9e62cc6c4&quot; style=&quot;width: 100.0%; height: 100.0%;&quot;&gt;Thailand&lt;/div&gt;`)[0];\n",
       "            popup_5e1cb546c64a3b101f23e8ce421363cb.setContent(html_ae6915669165c4cf916660a9e62cc6c4);\n",
       "        \n",
       "\n",
       "        circle_marker_c21e2e3969846c3175e37d0ed52132f4.bindPopup(popup_5e1cb546c64a3b101f23e8ce421363cb)\n",
       "        ;\n",
       "\n",
       "        \n",
       "    \n",
       "    \n",
       "            var circle_marker_dd33dff40cf87496d29b6327f3baad7a = L.circleMarker(\n",
       "                [39.0, 71.0],\n",
       "                {&quot;bubblingMouseEvents&quot;: true, &quot;color&quot;: &quot;#3388ff&quot;, &quot;dashArray&quot;: null, &quot;dashOffset&quot;: null, &quot;fill&quot;: true, &quot;fillColor&quot;: &quot;red&quot;, &quot;fillOpacity&quot;: 0.2, &quot;fillRule&quot;: &quot;evenodd&quot;, &quot;lineCap&quot;: &quot;round&quot;, &quot;lineJoin&quot;: &quot;round&quot;, &quot;opacity&quot;: 1.0, &quot;radius&quot;: 3.937311718658916, &quot;stroke&quot;: true, &quot;weight&quot;: 3}\n",
       "            ).addTo(map_0ed39705f982cba5b49e80a3b39f571d);\n",
       "        \n",
       "    \n",
       "        var popup_1944bce7c7faa93d18dee3fb7d9b0678 = L.popup({&quot;maxWidth&quot;: &quot;100%&quot;});\n",
       "\n",
       "        \n",
       "            var html_5b6824d216b2432ad45a61da63751adc = $(`&lt;div id=&quot;html_5b6824d216b2432ad45a61da63751adc&quot; style=&quot;width: 100.0%; height: 100.0%;&quot;&gt;Tajikistan&lt;/div&gt;`)[0];\n",
       "            popup_1944bce7c7faa93d18dee3fb7d9b0678.setContent(html_5b6824d216b2432ad45a61da63751adc);\n",
       "        \n",
       "\n",
       "        circle_marker_dd33dff40cf87496d29b6327f3baad7a.bindPopup(popup_1944bce7c7faa93d18dee3fb7d9b0678)\n",
       "        ;\n",
       "\n",
       "        \n",
       "    \n",
       "    \n",
       "            var circle_marker_4eb30630a88947a97b0ac845570b3b80 = L.circleMarker(\n",
       "                [39.75, 59.66667],\n",
       "                {&quot;bubblingMouseEvents&quot;: true, &quot;color&quot;: &quot;#3388ff&quot;, &quot;dashArray&quot;: null, &quot;dashOffset&quot;: null, &quot;fill&quot;: true, &quot;fillColor&quot;: &quot;red&quot;, &quot;fillOpacity&quot;: 0.2, &quot;fillRule&quot;: &quot;evenodd&quot;, &quot;lineCap&quot;: &quot;round&quot;, &quot;lineJoin&quot;: &quot;round&quot;, &quot;opacity&quot;: 1.0, &quot;radius&quot;: 6.339658544041773, &quot;stroke&quot;: true, &quot;weight&quot;: 3}\n",
       "            ).addTo(map_0ed39705f982cba5b49e80a3b39f571d);\n",
       "        \n",
       "    \n",
       "        var popup_52acaceec81ba5e6e5168878b0de1a23 = L.popup({&quot;maxWidth&quot;: &quot;100%&quot;});\n",
       "\n",
       "        \n",
       "            var html_9ba16d2f322b0e1cb653a026d2c9807a = $(`&lt;div id=&quot;html_9ba16d2f322b0e1cb653a026d2c9807a&quot; style=&quot;width: 100.0%; height: 100.0%;&quot;&gt;Turkmenistan&lt;/div&gt;`)[0];\n",
       "            popup_52acaceec81ba5e6e5168878b0de1a23.setContent(html_9ba16d2f322b0e1cb653a026d2c9807a);\n",
       "        \n",
       "\n",
       "        circle_marker_4eb30630a88947a97b0ac845570b3b80.bindPopup(popup_52acaceec81ba5e6e5168878b0de1a23)\n",
       "        ;\n",
       "\n",
       "        \n",
       "    \n",
       "    \n",
       "            var circle_marker_336781eefe0067d2d9bd683d9806f058 = L.circleMarker(\n",
       "                [-8.83333, 125.75],\n",
       "                {&quot;bubblingMouseEvents&quot;: true, &quot;color&quot;: &quot;#3388ff&quot;, &quot;dashArray&quot;: null, &quot;dashOffset&quot;: null, &quot;fill&quot;: true, &quot;fillColor&quot;: &quot;red&quot;, &quot;fillOpacity&quot;: 0.2, &quot;fillRule&quot;: &quot;evenodd&quot;, &quot;lineCap&quot;: &quot;round&quot;, &quot;lineJoin&quot;: &quot;round&quot;, &quot;opacity&quot;: 1.0, &quot;radius&quot;: 3.4838832413106937, &quot;stroke&quot;: true, &quot;weight&quot;: 3}\n",
       "            ).addTo(map_0ed39705f982cba5b49e80a3b39f571d);\n",
       "        \n",
       "    \n",
       "        var popup_1137139c7d7f3dec2ba45b80a77f32c4 = L.popup({&quot;maxWidth&quot;: &quot;100%&quot;});\n",
       "\n",
       "        \n",
       "            var html_40137e83787843cc24d077145781e5a5 = $(`&lt;div id=&quot;html_40137e83787843cc24d077145781e5a5&quot; style=&quot;width: 100.0%; height: 100.0%;&quot;&gt;Timor-Leste&lt;/div&gt;`)[0];\n",
       "            popup_1137139c7d7f3dec2ba45b80a77f32c4.setContent(html_40137e83787843cc24d077145781e5a5);\n",
       "        \n",
       "\n",
       "        circle_marker_336781eefe0067d2d9bd683d9806f058.bindPopup(popup_1137139c7d7f3dec2ba45b80a77f32c4)\n",
       "        ;\n",
       "\n",
       "        \n",
       "    \n",
       "    \n",
       "            var circle_marker_bb8c34d74aeeef58f9285b01721d8931 = L.circleMarker(\n",
       "                [11.0, -61.0],\n",
       "                {&quot;bubblingMouseEvents&quot;: true, &quot;color&quot;: &quot;#3388ff&quot;, &quot;dashArray&quot;: null, &quot;dashOffset&quot;: null, &quot;fill&quot;: true, &quot;fillColor&quot;: &quot;green&quot;, &quot;fillOpacity&quot;: 0.2, &quot;fillRule&quot;: &quot;evenodd&quot;, &quot;lineCap&quot;: &quot;round&quot;, &quot;lineJoin&quot;: &quot;round&quot;, &quot;opacity&quot;: 1.0, &quot;radius&quot;: 1.3261575894870345, &quot;stroke&quot;: true, &quot;weight&quot;: 3}\n",
       "            ).addTo(map_0ed39705f982cba5b49e80a3b39f571d);\n",
       "        \n",
       "    \n",
       "        var popup_4f17c9c9425dcbe7d3184be7cf52087c = L.popup({&quot;maxWidth&quot;: &quot;100%&quot;});\n",
       "\n",
       "        \n",
       "            var html_b01d0c2fd751278475a4d8497ec12fc2 = $(`&lt;div id=&quot;html_b01d0c2fd751278475a4d8497ec12fc2&quot; style=&quot;width: 100.0%; height: 100.0%;&quot;&gt;Trinidad and Tobago&lt;/div&gt;`)[0];\n",
       "            popup_4f17c9c9425dcbe7d3184be7cf52087c.setContent(html_b01d0c2fd751278475a4d8497ec12fc2);\n",
       "        \n",
       "\n",
       "        circle_marker_bb8c34d74aeeef58f9285b01721d8931.bindPopup(popup_4f17c9c9425dcbe7d3184be7cf52087c)\n",
       "        ;\n",
       "\n",
       "        \n",
       "    \n",
       "    \n",
       "            var circle_marker_aaf03e06b05e8c9dec3bad4fab3baff4 = L.circleMarker(\n",
       "                [34.0, 9.0],\n",
       "                {&quot;bubblingMouseEvents&quot;: true, &quot;color&quot;: &quot;#3388ff&quot;, &quot;dashArray&quot;: null, &quot;dashOffset&quot;: null, &quot;fill&quot;: true, &quot;fillColor&quot;: &quot;blue&quot;, &quot;fillOpacity&quot;: 0.2, &quot;fillRule&quot;: &quot;evenodd&quot;, &quot;lineCap&quot;: &quot;round&quot;, &quot;lineJoin&quot;: &quot;round&quot;, &quot;opacity&quot;: 1.0, &quot;radius&quot;: 1.5827604478426454, &quot;stroke&quot;: true, &quot;weight&quot;: 3}\n",
       "            ).addTo(map_0ed39705f982cba5b49e80a3b39f571d);\n",
       "        \n",
       "    \n",
       "        var popup_21e678a31a0bb5348d03eab369df4916 = L.popup({&quot;maxWidth&quot;: &quot;100%&quot;});\n",
       "\n",
       "        \n",
       "            var html_f731874f19e6bac9a363a6e5f02be48a = $(`&lt;div id=&quot;html_f731874f19e6bac9a363a6e5f02be48a&quot; style=&quot;width: 100.0%; height: 100.0%;&quot;&gt;Tunisia&lt;/div&gt;`)[0];\n",
       "            popup_21e678a31a0bb5348d03eab369df4916.setContent(html_f731874f19e6bac9a363a6e5f02be48a);\n",
       "        \n",
       "\n",
       "        circle_marker_aaf03e06b05e8c9dec3bad4fab3baff4.bindPopup(popup_21e678a31a0bb5348d03eab369df4916)\n",
       "        ;\n",
       "\n",
       "        \n",
       "    \n",
       "    \n",
       "            var circle_marker_eecac5e433d1de4c4d3c7cce779b27a0 = L.circleMarker(\n",
       "                [39.0, 35.0],\n",
       "                {&quot;bubblingMouseEvents&quot;: true, &quot;color&quot;: &quot;#3388ff&quot;, &quot;dashArray&quot;: null, &quot;dashOffset&quot;: null, &quot;fill&quot;: true, &quot;fillColor&quot;: &quot;black&quot;, &quot;fillOpacity&quot;: 0.2, &quot;fillRule&quot;: &quot;evenodd&quot;, &quot;lineCap&quot;: &quot;round&quot;, &quot;lineJoin&quot;: &quot;round&quot;, &quot;opacity&quot;: 1.0, &quot;radius&quot;: 1.3571310413650737, &quot;stroke&quot;: true, &quot;weight&quot;: 3}\n",
       "            ).addTo(map_0ed39705f982cba5b49e80a3b39f571d);\n",
       "        \n",
       "    \n",
       "        var popup_69bb17a2102b6e7afa499137ef16353a = L.popup({&quot;maxWidth&quot;: &quot;100%&quot;});\n",
       "\n",
       "        \n",
       "            var html_f708d47a2474c1b23ecd3416b86fbd89 = $(`&lt;div id=&quot;html_f708d47a2474c1b23ecd3416b86fbd89&quot; style=&quot;width: 100.0%; height: 100.0%;&quot;&gt;Turkey&lt;/div&gt;`)[0];\n",
       "            popup_69bb17a2102b6e7afa499137ef16353a.setContent(html_f708d47a2474c1b23ecd3416b86fbd89);\n",
       "        \n",
       "\n",
       "        circle_marker_eecac5e433d1de4c4d3c7cce779b27a0.bindPopup(popup_69bb17a2102b6e7afa499137ef16353a)\n",
       "        ;\n",
       "\n",
       "        \n",
       "    \n",
       "    \n",
       "            var circle_marker_df8e2fce4fce3edf2e1193d93035673d = L.circleMarker(\n",
       "                [-6.0, 35.0],\n",
       "                {&quot;bubblingMouseEvents&quot;: true, &quot;color&quot;: &quot;#3388ff&quot;, &quot;dashArray&quot;: null, &quot;dashOffset&quot;: null, &quot;fill&quot;: true, &quot;fillColor&quot;: &quot;blue&quot;, &quot;fillOpacity&quot;: 0.2, &quot;fillRule&quot;: &quot;evenodd&quot;, &quot;lineCap&quot;: &quot;round&quot;, &quot;lineJoin&quot;: &quot;round&quot;, &quot;opacity&quot;: 1.0, &quot;radius&quot;: 24.774201262059734, &quot;stroke&quot;: true, &quot;weight&quot;: 3}\n",
       "            ).addTo(map_0ed39705f982cba5b49e80a3b39f571d);\n",
       "        \n",
       "    \n",
       "        var popup_ae518d01896ae51fa9967f4b1f008171 = L.popup({&quot;maxWidth&quot;: &quot;100%&quot;});\n",
       "\n",
       "        \n",
       "            var html_0be2f2fccf6d3b08f4212740314f6303 = $(`&lt;div id=&quot;html_0be2f2fccf6d3b08f4212740314f6303&quot; style=&quot;width: 100.0%; height: 100.0%;&quot;&gt;Tanzania&lt;/div&gt;`)[0];\n",
       "            popup_ae518d01896ae51fa9967f4b1f008171.setContent(html_0be2f2fccf6d3b08f4212740314f6303);\n",
       "        \n",
       "\n",
       "        circle_marker_df8e2fce4fce3edf2e1193d93035673d.bindPopup(popup_ae518d01896ae51fa9967f4b1f008171)\n",
       "        ;\n",
       "\n",
       "        \n",
       "    \n",
       "    \n",
       "            var circle_marker_ac7c39b325af7d91143fcf638835522d = L.circleMarker(\n",
       "                [1.25, 32.5],\n",
       "                {&quot;bubblingMouseEvents&quot;: true, &quot;color&quot;: &quot;#3388ff&quot;, &quot;dashArray&quot;: null, &quot;dashOffset&quot;: null, &quot;fill&quot;: true, &quot;fillColor&quot;: &quot;blue&quot;, &quot;fillOpacity&quot;: 0.2, &quot;fillRule&quot;: &quot;evenodd&quot;, &quot;lineCap&quot;: &quot;round&quot;, &quot;lineJoin&quot;: &quot;round&quot;, &quot;opacity&quot;: 1.0, &quot;radius&quot;: 19.74773153351201, &quot;stroke&quot;: true, &quot;weight&quot;: 3}\n",
       "            ).addTo(map_0ed39705f982cba5b49e80a3b39f571d);\n",
       "        \n",
       "    \n",
       "        var popup_4a8fa8500c282616bfb5254ce61d2a1c = L.popup({&quot;maxWidth&quot;: &quot;100%&quot;});\n",
       "\n",
       "        \n",
       "            var html_0c0eca7917354084f442da8ee17afdef = $(`&lt;div id=&quot;html_0c0eca7917354084f442da8ee17afdef&quot; style=&quot;width: 100.0%; height: 100.0%;&quot;&gt;Uganda&lt;/div&gt;`)[0];\n",
       "            popup_4a8fa8500c282616bfb5254ce61d2a1c.setContent(html_0c0eca7917354084f442da8ee17afdef);\n",
       "        \n",
       "\n",
       "        circle_marker_ac7c39b325af7d91143fcf638835522d.bindPopup(popup_4a8fa8500c282616bfb5254ce61d2a1c)\n",
       "        ;\n",
       "\n",
       "        \n",
       "    \n",
       "    \n",
       "            var circle_marker_f7c4d2ae3fde3cc734473fdaa38a4b3b = L.circleMarker(\n",
       "                [49.0, 32.0],\n",
       "                {&quot;bubblingMouseEvents&quot;: true, &quot;color&quot;: &quot;#3388ff&quot;, &quot;dashArray&quot;: null, &quot;dashOffset&quot;: null, &quot;fill&quot;: true, &quot;fillColor&quot;: &quot;black&quot;, &quot;fillOpacity&quot;: 0.2, &quot;fillRule&quot;: &quot;evenodd&quot;, &quot;lineCap&quot;: &quot;round&quot;, &quot;lineJoin&quot;: &quot;round&quot;, &quot;opacity&quot;: 1.0, &quot;stroke&quot;: true, &quot;weight&quot;: 3}\n",
       "            ).addTo(map_0ed39705f982cba5b49e80a3b39f571d);\n",
       "        \n",
       "    \n",
       "        var popup_014b19819db1b3dc6be8a7479eccc7bb = L.popup({&quot;maxWidth&quot;: &quot;100%&quot;});\n",
       "\n",
       "        \n",
       "            var html_0d3e0cf94b16f9b3dc5d6b53b18b2fec = $(`&lt;div id=&quot;html_0d3e0cf94b16f9b3dc5d6b53b18b2fec&quot; style=&quot;width: 100.0%; height: 100.0%;&quot;&gt;Ukraine&lt;/div&gt;`)[0];\n",
       "            popup_014b19819db1b3dc6be8a7479eccc7bb.setContent(html_0d3e0cf94b16f9b3dc5d6b53b18b2fec);\n",
       "        \n",
       "\n",
       "        circle_marker_f7c4d2ae3fde3cc734473fdaa38a4b3b.bindPopup(popup_014b19819db1b3dc6be8a7479eccc7bb)\n",
       "        ;\n",
       "\n",
       "        \n",
       "    \n",
       "    \n",
       "            var circle_marker_d2f0ea8099ba07f5d812dff0dc788660 = L.circleMarker(\n",
       "                [-33.0, -56.0],\n",
       "                {&quot;bubblingMouseEvents&quot;: true, &quot;color&quot;: &quot;#3388ff&quot;, &quot;dashArray&quot;: null, &quot;dashOffset&quot;: null, &quot;fill&quot;: true, &quot;fillColor&quot;: &quot;green&quot;, &quot;fillOpacity&quot;: 0.2, &quot;fillRule&quot;: &quot;evenodd&quot;, &quot;lineCap&quot;: &quot;round&quot;, &quot;lineJoin&quot;: &quot;round&quot;, &quot;opacity&quot;: 1.0, &quot;radius&quot;: 0.5757498723159213, &quot;stroke&quot;: true, &quot;weight&quot;: 3}\n",
       "            ).addTo(map_0ed39705f982cba5b49e80a3b39f571d);\n",
       "        \n",
       "    \n",
       "        var popup_318cd34b55eb0cbc4fb4cb5fdd9d7a6d = L.popup({&quot;maxWidth&quot;: &quot;100%&quot;});\n",
       "\n",
       "        \n",
       "            var html_861378994c3164bc4e98ed4312ab6fb9 = $(`&lt;div id=&quot;html_861378994c3164bc4e98ed4312ab6fb9&quot; style=&quot;width: 100.0%; height: 100.0%;&quot;&gt;Uruguay&lt;/div&gt;`)[0];\n",
       "            popup_318cd34b55eb0cbc4fb4cb5fdd9d7a6d.setContent(html_861378994c3164bc4e98ed4312ab6fb9);\n",
       "        \n",
       "\n",
       "        circle_marker_d2f0ea8099ba07f5d812dff0dc788660.bindPopup(popup_318cd34b55eb0cbc4fb4cb5fdd9d7a6d)\n",
       "        ;\n",
       "\n",
       "        \n",
       "    \n",
       "    \n",
       "            var circle_marker_63451f4a36c693fa7b8fb8081c237636 = L.circleMarker(\n",
       "                [39.76, -98.5],\n",
       "                {&quot;bubblingMouseEvents&quot;: true, &quot;color&quot;: &quot;#3388ff&quot;, &quot;dashArray&quot;: null, &quot;dashOffset&quot;: null, &quot;fill&quot;: true, &quot;fillColor&quot;: &quot;green&quot;, &quot;fillOpacity&quot;: 0.2, &quot;fillRule&quot;: &quot;evenodd&quot;, &quot;lineCap&quot;: &quot;round&quot;, &quot;lineJoin&quot;: &quot;round&quot;, &quot;opacity&quot;: 1.0, &quot;radius&quot;: 12.816534715641207, &quot;stroke&quot;: true, &quot;weight&quot;: 3}\n",
       "            ).addTo(map_0ed39705f982cba5b49e80a3b39f571d);\n",
       "        \n",
       "    \n",
       "        var popup_3319257df85132f57e7264b7df7dfa30 = L.popup({&quot;maxWidth&quot;: &quot;100%&quot;});\n",
       "\n",
       "        \n",
       "            var html_2def0e242a71a57ed13bebed51ab74c4 = $(`&lt;div id=&quot;html_2def0e242a71a57ed13bebed51ab74c4&quot; style=&quot;width: 100.0%; height: 100.0%;&quot;&gt;United States&lt;/div&gt;`)[0];\n",
       "            popup_3319257df85132f57e7264b7df7dfa30.setContent(html_2def0e242a71a57ed13bebed51ab74c4);\n",
       "        \n",
       "\n",
       "        circle_marker_63451f4a36c693fa7b8fb8081c237636.bindPopup(popup_3319257df85132f57e7264b7df7dfa30)\n",
       "        ;\n",
       "\n",
       "        \n",
       "    \n",
       "    \n",
       "            var circle_marker_d53b1bfd9dc99107422a20059e2e03fb = L.circleMarker(\n",
       "                [8.0, -66.0],\n",
       "                {&quot;bubblingMouseEvents&quot;: true, &quot;color&quot;: &quot;#3388ff&quot;, &quot;dashArray&quot;: null, &quot;dashOffset&quot;: null, &quot;fill&quot;: true, &quot;fillColor&quot;: &quot;green&quot;, &quot;fillOpacity&quot;: 0.2, &quot;fillRule&quot;: &quot;evenodd&quot;, &quot;lineCap&quot;: &quot;round&quot;, &quot;lineJoin&quot;: &quot;round&quot;, &quot;opacity&quot;: 1.0, &quot;radius&quot;: 7.747224893287904, &quot;stroke&quot;: true, &quot;weight&quot;: 3}\n",
       "            ).addTo(map_0ed39705f982cba5b49e80a3b39f571d);\n",
       "        \n",
       "    \n",
       "        var popup_0e36c619df40d6d7631c2656cc9f984d = L.popup({&quot;maxWidth&quot;: &quot;100%&quot;});\n",
       "\n",
       "        \n",
       "            var html_99c09ccb3063c07069f7a8f8d58cbf44 = $(`&lt;div id=&quot;html_99c09ccb3063c07069f7a8f8d58cbf44&quot; style=&quot;width: 100.0%; height: 100.0%;&quot;&gt;Venezuela&lt;/div&gt;`)[0];\n",
       "            popup_0e36c619df40d6d7631c2656cc9f984d.setContent(html_99c09ccb3063c07069f7a8f8d58cbf44);\n",
       "        \n",
       "\n",
       "        circle_marker_d53b1bfd9dc99107422a20059e2e03fb.bindPopup(popup_0e36c619df40d6d7631c2656cc9f984d)\n",
       "        ;\n",
       "\n",
       "        \n",
       "    \n",
       "    \n",
       "            var circle_marker_d36d64d7322b41266fe1a2beae671d4b = L.circleMarker(\n",
       "                [16.16667, 107.83333],\n",
       "                {&quot;bubblingMouseEvents&quot;: true, &quot;color&quot;: &quot;#3388ff&quot;, &quot;dashArray&quot;: null, &quot;dashOffset&quot;: null, &quot;fill&quot;: true, &quot;fillColor&quot;: &quot;red&quot;, &quot;fillOpacity&quot;: 0.2, &quot;fillRule&quot;: &quot;evenodd&quot;, &quot;lineCap&quot;: &quot;round&quot;, &quot;lineJoin&quot;: &quot;round&quot;, &quot;opacity&quot;: 1.0, &quot;radius&quot;: 8.265735545694868, &quot;stroke&quot;: true, &quot;weight&quot;: 3}\n",
       "            ).addTo(map_0ed39705f982cba5b49e80a3b39f571d);\n",
       "        \n",
       "    \n",
       "        var popup_088adeff5263d1739295ee19760ce1e5 = L.popup({&quot;maxWidth&quot;: &quot;100%&quot;});\n",
       "\n",
       "        \n",
       "            var html_a8fd72bd860cff1483afacc4e011ed34 = $(`&lt;div id=&quot;html_a8fd72bd860cff1483afacc4e011ed34&quot; style=&quot;width: 100.0%; height: 100.0%;&quot;&gt;Vietnam&lt;/div&gt;`)[0];\n",
       "            popup_088adeff5263d1739295ee19760ce1e5.setContent(html_a8fd72bd860cff1483afacc4e011ed34);\n",
       "        \n",
       "\n",
       "        circle_marker_d36d64d7322b41266fe1a2beae671d4b.bindPopup(popup_088adeff5263d1739295ee19760ce1e5)\n",
       "        ;\n",
       "\n",
       "        \n",
       "    \n",
       "    \n",
       "            var circle_marker_133cb9d0e38be744130c17d261c1591a = L.circleMarker(\n",
       "                [15.5, 47.5],\n",
       "                {&quot;bubblingMouseEvents&quot;: true, &quot;color&quot;: &quot;#3388ff&quot;, &quot;dashArray&quot;: null, &quot;dashOffset&quot;: null, &quot;fill&quot;: true, &quot;fillColor&quot;: &quot;red&quot;, &quot;fillOpacity&quot;: 0.2, &quot;fillRule&quot;: &quot;evenodd&quot;, &quot;lineCap&quot;: &quot;round&quot;, &quot;lineJoin&quot;: &quot;round&quot;, &quot;opacity&quot;: 1.0, &quot;radius&quot;: 8.490153480403475, &quot;stroke&quot;: true, &quot;weight&quot;: 3}\n",
       "            ).addTo(map_0ed39705f982cba5b49e80a3b39f571d);\n",
       "        \n",
       "    \n",
       "        var popup_3ec7150e2ef8fbcad9566fe0c4b9e747 = L.popup({&quot;maxWidth&quot;: &quot;100%&quot;});\n",
       "\n",
       "        \n",
       "            var html_267deea46e5f80a90d4e9687274f100a = $(`&lt;div id=&quot;html_267deea46e5f80a90d4e9687274f100a&quot; style=&quot;width: 100.0%; height: 100.0%;&quot;&gt;Yemen&lt;/div&gt;`)[0];\n",
       "            popup_3ec7150e2ef8fbcad9566fe0c4b9e747.setContent(html_267deea46e5f80a90d4e9687274f100a);\n",
       "        \n",
       "\n",
       "        circle_marker_133cb9d0e38be744130c17d261c1591a.bindPopup(popup_3ec7150e2ef8fbcad9566fe0c4b9e747)\n",
       "        ;\n",
       "\n",
       "        \n",
       "    \n",
       "    \n",
       "            var circle_marker_0b202865c27b03ea75cbed2cbe6fb576 = L.circleMarker(\n",
       "                [-29.0, 24.0],\n",
       "                {&quot;bubblingMouseEvents&quot;: true, &quot;color&quot;: &quot;#3388ff&quot;, &quot;dashArray&quot;: null, &quot;dashOffset&quot;: null, &quot;fill&quot;: true, &quot;fillColor&quot;: &quot;blue&quot;, &quot;fillOpacity&quot;: 0.2, &quot;fillRule&quot;: &quot;evenodd&quot;, &quot;lineCap&quot;: &quot;round&quot;, &quot;lineJoin&quot;: &quot;round&quot;, &quot;opacity&quot;: 1.0, &quot;radius&quot;: 12.392457273107668, &quot;stroke&quot;: true, &quot;weight&quot;: 3}\n",
       "            ).addTo(map_0ed39705f982cba5b49e80a3b39f571d);\n",
       "        \n",
       "    \n",
       "        var popup_d4acf6e51f5ef026348d21764ff34676 = L.popup({&quot;maxWidth&quot;: &quot;100%&quot;});\n",
       "\n",
       "        \n",
       "            var html_241f09760e8eb9423e4adba9be7f1648 = $(`&lt;div id=&quot;html_241f09760e8eb9423e4adba9be7f1648&quot; style=&quot;width: 100.0%; height: 100.0%;&quot;&gt;South Africa&lt;/div&gt;`)[0];\n",
       "            popup_d4acf6e51f5ef026348d21764ff34676.setContent(html_241f09760e8eb9423e4adba9be7f1648);\n",
       "        \n",
       "\n",
       "        circle_marker_0b202865c27b03ea75cbed2cbe6fb576.bindPopup(popup_d4acf6e51f5ef026348d21764ff34676)\n",
       "        ;\n",
       "\n",
       "        \n",
       "    \n",
       "    \n",
       "            var circle_marker_ecb8f9c59dd62e3014fe41d0a46c1e60 = L.circleMarker(\n",
       "                [-14.33333, 28.5],\n",
       "                {&quot;bubblingMouseEvents&quot;: true, &quot;color&quot;: &quot;#3388ff&quot;, &quot;dashArray&quot;: null, &quot;dashOffset&quot;: null, &quot;fill&quot;: true, &quot;fillColor&quot;: &quot;blue&quot;, &quot;fillOpacity&quot;: 0.2, &quot;fillRule&quot;: &quot;evenodd&quot;, &quot;lineCap&quot;: &quot;round&quot;, &quot;lineJoin&quot;: &quot;round&quot;, &quot;opacity&quot;: 1.0, &quot;radius&quot;: 17.940846416721868, &quot;stroke&quot;: true, &quot;weight&quot;: 3}\n",
       "            ).addTo(map_0ed39705f982cba5b49e80a3b39f571d);\n",
       "        \n",
       "    \n",
       "        var popup_b3b93c29adbc8a7f502d461cd3f05c69 = L.popup({&quot;maxWidth&quot;: &quot;100%&quot;});\n",
       "\n",
       "        \n",
       "            var html_6be1182f6167c642957ed68460f88f34 = $(`&lt;div id=&quot;html_6be1182f6167c642957ed68460f88f34&quot; style=&quot;width: 100.0%; height: 100.0%;&quot;&gt;Zambia&lt;/div&gt;`)[0];\n",
       "            popup_b3b93c29adbc8a7f502d461cd3f05c69.setContent(html_6be1182f6167c642957ed68460f88f34);\n",
       "        \n",
       "\n",
       "        circle_marker_ecb8f9c59dd62e3014fe41d0a46c1e60.bindPopup(popup_b3b93c29adbc8a7f502d461cd3f05c69)\n",
       "        ;\n",
       "\n",
       "        \n",
       "    \n",
       "&lt;/script&gt;\n",
       "&lt;/html&gt;\" style=\"position:absolute;width:100%;height:100%;left:0;top:0;border:none !important;\" allowfullscreen webkitallowfullscreen mozallowfullscreen></iframe></div></div>"
      ],
      "text/plain": [
       "<datascience.maps.Map at 0x7f36ef9c2940>"
      ]
     },
     "execution_count": 116,
     "metadata": {},
     "output_type": "execute_result"
    }
   ],
   "source": [
    "# It may take a few seconds to generate this map.\n",
    "colors = {'africa': 'blue', 'europe': 'black', 'asia': 'red', 'americas': 'green'}\n",
    "scaled = poverty_map.with_columns(\n",
    "    'labels', poverty_map.column('name'),\n",
    "    'colors', poverty_map.apply(colors.get, 'region'),\n",
    "    'areas', 1e-4 * poverty_map.column('poverty_total')\n",
    ").drop('name', 'region', 'poverty_total')\n",
    "\n",
    "Circle.map_table(scaled)"
   ]
  },
  {
   "cell_type": "markdown",
   "id": "38eb6725",
   "metadata": {
    "deletable": false,
    "editable": false
   },
   "source": [
    "Although people lived in extreme poverty throughout the world in 2010 (with more than 5 million in the United States), the largest numbers were in Asia and Africa."
   ]
  },
  {
   "cell_type": "markdown",
   "id": "33093034",
   "metadata": {},
   "source": [
    "**Question 5.** Assign `largest` to a two-column table with the `name` (not the 3-letter code) and `poverty_total` of the 10 countries with the largest number of people living in extreme poverty.\n",
    "\n",
    "*Hint*: How can we use `take` and `np.arange` in conjunction with each other?\n"
   ]
  },
  {
   "cell_type": "code",
   "execution_count": 117,
   "id": "bfa43cef",
   "metadata": {
    "deletable": false,
    "tags": []
   },
   "outputs": [
    {
     "data": {
      "text/html": [
       "<table border=\"1\" class=\"dataframe\">\n",
       "    <thead>\n",
       "        <tr>\n",
       "            <th>name</th> <th>poverty_total</th>\n",
       "        </tr>\n",
       "    </thead>\n",
       "    <tbody>\n",
       "        <tr>\n",
       "            <td>India           </td> <td>291,660,639.00</td>\n",
       "        </tr>\n",
       "        <tr>\n",
       "            <td>Nigeria         </td> <td>98,319,537.00 </td>\n",
       "        </tr>\n",
       "        <tr>\n",
       "            <td>China           </td> <td>85,687,544.00 </td>\n",
       "        </tr>\n",
       "        <tr>\n",
       "            <td>Bangladesh      </td> <td>63,826,375.00 </td>\n",
       "        </tr>\n",
       "        <tr>\n",
       "            <td>Congo, Dem. Rep.</td> <td>56,635,412.00 </td>\n",
       "        </tr>\n",
       "        <tr>\n",
       "            <td>Indonesia       </td> <td>39,177,145.00 </td>\n",
       "        </tr>\n",
       "        <tr>\n",
       "            <td>Ethiopia        </td> <td>32,242,742.00 </td>\n",
       "        </tr>\n",
       "        <tr>\n",
       "            <td>Pakistan        </td> <td>22,858,700.00 </td>\n",
       "        </tr>\n",
       "        <tr>\n",
       "            <td>Tanzania        </td> <td>19,281,872.00 </td>\n",
       "        </tr>\n",
       "        <tr>\n",
       "            <td>Madagascar      </td> <td>18,543,643.00 </td>\n",
       "        </tr>\n",
       "    </tbody>\n",
       "</table>"
      ],
      "text/plain": [
       "name             | poverty_total\n",
       "India            | 291,660,639.00\n",
       "Nigeria          | 98,319,537.00\n",
       "China            | 85,687,544.00\n",
       "Bangladesh       | 63,826,375.00\n",
       "Congo, Dem. Rep. | 56,635,412.00\n",
       "Indonesia        | 39,177,145.00\n",
       "Ethiopia         | 32,242,742.00\n",
       "Pakistan         | 22,858,700.00\n",
       "Tanzania         | 19,281,872.00\n",
       "Madagascar       | 18,543,643.00"
      ]
     },
     "execution_count": 117,
     "metadata": {},
     "output_type": "execute_result"
    }
   ],
   "source": [
    "largest = poverty_map.sort('poverty_total', descending=True).take(np.arange(0,10)).drop(0,1,3)\n",
    "largest.set_format('poverty_total', NumberFormatter)"
   ]
  },
  {
   "cell_type": "code",
   "execution_count": 118,
   "id": "2f6afc53",
   "metadata": {
    "deletable": false,
    "editable": false
   },
   "outputs": [
    {
     "data": {
      "text/html": [
       "<p><strong><pre style='display: inline;'>q2_5</pre></strong> passed! 🙌</p>"
      ],
      "text/plain": [
       "q2_5 results: All test cases passed!"
      ]
     },
     "execution_count": 118,
     "metadata": {},
     "output_type": "execute_result"
    }
   ],
   "source": [
    "grader.check(\"q2_5\")"
   ]
  },
  {
   "cell_type": "markdown",
   "id": "89111919",
   "metadata": {},
   "source": [
    "<!-- BEGIN QUESTION -->\n",
    "\n",
    "**Question 6.** It is important to study the absolute number of people living in poverty, not just the percent. The absolute number is an important factor in determining the amount of resources needed to support people living in poverty. In the next two questions you will explore this.\n",
    "\n",
    "In Question 7, you will be asked to write a function called `poverty_timeline` that takes **the name of a country** as its argument  (not the Alpha-3 country code). It should draw a line plot of the number of people living in poverty in that country with time on the horizontal axis. The line plot should have a point for each row in the `poverty` table for that country. To compute the population living in poverty from a poverty percentage, multiply by the population of the country **in that year**.\n",
    "\n",
    "For this question, write out a generalized process for Question 7. What should this function output, and what steps will you take within the function?\n"
   ]
  },
  {
   "cell_type": "markdown",
   "id": "9a8474f0",
   "metadata": {},
   "source": [
    "In Question 7, first of all we wanted to find the names of the countries to categorize the country to the plot. By using the column funciton we separated the country names with the geo variable. Secondly, we wanted to created updated population table by joining the poverty and population tables together. Third, the final table we needed to add the poverty total values, so found the rounded population total divded by the number of poverty to find the poverty table. Lastly, we developed the plot which displayed the time and poverty total for each of the countries given in the function. "
   ]
  },
  {
   "cell_type": "markdown",
   "id": "cde08445",
   "metadata": {
    "deletable": false
   },
   "source": [
    "<!-- END QUESTION -->\n",
    "\n",
    "<!-- BEGIN QUESTION -->\n",
    "\n",
    "**Question 7.** Now, we'll actually write the function called `poverty_timeline`. Recall that `poverty_timeline` takes **the name of a country** as its argument (not the Alpha-3 country code). It should draw a line plot of the number of people living in poverty in that country with time on the horizontal axis. The line plot should have a point for each row in the `poverty` table for that country. To compute the population living in poverty from a poverty percentage, multiply by the population of the country **in that year**.\n",
    "\n",
    "**Note:** You **should <u>not</u>** return anything from your function. Simply call `plots.show()` at the end of your function body.\n",
    "\n",
    "*Hint 1:* This question is long. Feel free to create cells and experiment. You can create cells by going to the toolbar and hitting the `+` button.\n",
    "\n",
    "*Hint 2:* Consider using `join` in your code.\n",
    "\n",
    "Feel free to use the markdown cell below to plan out your answer, but you needn't fill it in."
   ]
  },
  {
   "cell_type": "markdown",
   "id": "dd6e6d3d",
   "metadata": {},
   "source": [
    "_Type your answer here, replacing this text._"
   ]
  },
  {
   "cell_type": "code",
   "execution_count": 119,
   "id": "b90465e6",
   "metadata": {
    "tags": []
   },
   "outputs": [],
   "source": [
    "def poverty_timeline(country):\n",
    "    '''Draw a timeline of people living in extreme poverty in a country.'''\n",
    "    geo = countries.select('name', 'country').where('name', country).column(1).item(0)\n",
    "    updated_population = poverty.join('time', population).where('geo', geo).where('geo_2', geo)\n",
    "    timeline = updated_population.with_columns('poverty_totals', np.round(updated_population.column(2)/100*updated_population.column(4)))\n",
    "    timeline.plot('time', 'poverty_totals')\n",
    "    # Don't change anything below this line. \n",
    "    plots.title(country)\n",
    "    plots.ylim(bottom=0)\n",
    "    plots.show() # This should be the last line of your function. "
   ]
  },
  {
   "cell_type": "code",
   "execution_count": 120,
   "id": "dddd364c",
   "metadata": {
    "deletable": false,
    "tags": []
   },
   "outputs": [
    {
     "data": {
      "image/png": "[encoded data removed]",
      "text/plain": [
       "<Figure size 600x600 with 1 Axes>"
      ]
     },
     "metadata": {},
     "output_type": "display_data"
    },
    {
     "data": {
      "image/png": "[encoded data removed]",
      "text/plain": [
       "<Figure size 600x600 with 1 Axes>"
      ]
     },
     "metadata": {},
     "output_type": "display_data"
    },
    {
     "data": {
      "image/png": "[encoded data removed]",
      "text/plain": [
       "<Figure size 600x600 with 1 Axes>"
      ]
     },
     "metadata": {},
     "output_type": "display_data"
    },
    {
     "data": {
      "image/png": "[encoded data removed]",
      "text/plain": [
       "<Figure size 600x600 with 1 Axes>"
      ]
     },
     "metadata": {},
     "output_type": "display_data"
    },
    {
     "data": {
      "image/png": "[encoded data removed]",
      "text/plain": [
       "<Figure size 600x600 with 1 Axes>"
      ]
     },
     "metadata": {},
     "output_type": "display_data"
    },
    {
     "data": {
      "image/png": "[encoded data removed]",
      "text/plain": [
       "<Figure size 600x600 with 1 Axes>"
      ]
     },
     "metadata": {},
     "output_type": "display_data"
    }
   ],
   "source": [
    "poverty_timeline('Poland')\n",
    "poverty_timeline('India')\n",
    "poverty_timeline('Nigeria')\n",
    "poverty_timeline('China')\n",
    "poverty_timeline('Colombia')\n",
    "poverty_timeline('United States')"
   ]
  },
  {
   "cell_type": "markdown",
   "id": "12d9edcf",
   "metadata": {
    "deletable": false
   },
   "source": [
    "<!-- END QUESTION -->\n",
    "\n",
    "Although the number of people living in extreme poverty increased in some countries including Nigeria and the United States, the decreases in other countries, most notably the massive decreases in China and India, have shaped the overall trend that extreme poverty is decreasing worldwide, both in percentage and in absolute number. \n",
    "\n",
    "To learn more, watch [Hans Rosling in a 2015 film](https://www.gapminder.org/videos/dont-panic-end-poverty/) about the UN goal of eradicating extreme poverty from the world. \n",
    "\n",
    "Below, we've also added an interactive dropdown menu for you to visualize `poverty_timeline` graphs for other countries. Note that each dropdown menu selection may take a few seconds to run."
   ]
  },
  {
   "cell_type": "code",
   "execution_count": null,
   "id": "76d6661e",
   "metadata": {
    "deletable": false,
    "editable": false
   },
   "outputs": [],
   "source": [
    "# Just run this cell\n",
    "\n",
    "all_countries = poverty_map.column('name')\n",
    "_ = widgets.interact(poverty_timeline, country=list(all_countries))"
   ]
  },
  {
   "cell_type": "markdown",
   "id": "e17dcc3a",
   "metadata": {
    "deletable": false
   },
   "source": [
    "\n",
    "\n",
    "<img src=\"panda.jpg\" alt=\"drawing\" width=\"300\"/>\n",
    "\n",
    "**Panda wants to tell you, you're finished!** Congratulations on discovering many important facts about global poverty and demonstrating your mastery of table manipulation and data visualization. Time to submit.\n",
    "\n",
    "**<span style=\"color: #BC412B\">Remember to add your project partner to your submission on Gradescope!</span>** <u>Only one partner should submit to Gradescope.</u>"
   ]
  },
  {
   "cell_type": "markdown",
   "id": "56898c7f",
   "metadata": {
    "deletable": false,
    "editable": false
   },
   "source": [
    "## Submission\n",
    "\n",
    "Make sure you have run all cells in your notebook in order before running the cell below, so that all images/graphs appear in the output. The cell below will generate a zip file for you to submit. **Please save before exporting!**"
   ]
  },
  {
   "cell_type": "code",
   "execution_count": null,
   "id": "a013c23c",
   "metadata": {
    "deletable": false,
    "editable": false
   },
   "outputs": [],
   "source": [
    "# Save your notebook first, then run this cell to export your submission.\n",
    "grader.export(pdf=False, run_tests=True)"
   ]
  },
  {
   "cell_type": "markdown",
   "id": "847bbea7",
   "metadata": {},
   "source": [
    " "
   ]
  }
 ],
 "metadata": {
  "kernelspec": {
   "display_name": "Python 3 (ipykernel)",
   "language": "python",
   "name": "python3"
  },
  "language_info": {
   "codemirror_mode": {
    "name": "ipython",
    "version": 3
   },
   "file_extension": ".py",
   "mimetype": "text/x-python",
   "name": "python",
   "nbconvert_exporter": "python",
   "pygments_lexer": "ipython3",
   "version": "3.9.15"
  },
  "otter": {
   "OK_FORMAT": true,
   "tests": {
    "q1_1": {
     "name": "q1_1",
     "points": [
      0,
      0
     ],
     "suites": [
      {
       "cases": [
        {
         "code": ">>> # Check your column labels and spelling\n>>> b_pop.labels == ('time', 'population_total')\nTrue",
         "hidden": false,
         "locked": false
        },
        {
         "code": ">>> # Times should range from 1970 through 2020\n>>> all(b_pop.sort(\"time\").column(\"time\") == np.arange(1970, 2021))\nTrue",
         "hidden": false,
         "locked": false
        }
       ],
       "scored": true,
       "setup": "",
       "teardown": "",
       "type": "doctest"
      }
     ]
    },
    "q1_11": {
     "name": "q1_11",
     "points": [
      0,
      0,
      0,
      4
     ],
     "suites": [
      {
       "cases": [
        {
         "code": ">>> # Incorrect labels for columns\n>>> t = stats_for_year(1990)\n>>> t.labels == ('geo', 'population_total', 'children_per_woman_total_fertility', 'child_mortality_under_5_per_1000_born')\nTrue",
         "hidden": false,
         "locked": false
        },
        {
         "code": ">>> # Incorrect number of rows\n>>> t = stats_for_year(1990)\n>>> t.num_rows\n50",
         "hidden": false,
         "locked": false
        },
        {
         "code": ">>> print(stats_for_year(1960).sort('geo').take(np.arange(5, 50, 5)))\ngeo  | population_total | children_per_woman_total_fertility | child_mortality_under_5_per_1000_born\ncan  | 17847404         | 3.88                               | 32.6\ndza  | 11057864         | 7.52                               | 242.54\ngbr  | 52370595         | 2.69                               | 26.56\nirq  | 7289753          | 6.25                               | 191.93\nmar  | 12328532         | 7.04                               | 237.06\nnga  | 45138460         | 6.35                               | 339.85\npol  | 29614201         | 3.11                               | 65.03\ntur  | 27472339         | 6.37                               | 258.29\nuzb  | 8526299          | 6.26                               | 169.4\n",
         "hidden": false,
         "locked": false
        },
        {
         "code": ">>> print(stats_for_year(2010).sort('geo').take(np.arange(3, 50, 5)))\ngeo  | population_total | children_per_woman_total_fertility | child_mortality_under_5_per_1000_born\nbgd  | 147575433        | 2.28                               | 49.1\ncol  | 45222699         | 2.01                               | 18.47\neth  | 87639962         | 4.92                               | 82.94\nind  | 1234281163       | 2.6                                | 58.23\nken  | 42030684         | 4.37                               | 56.54\nmoz  | 23531567         | 5.56                               | 104.53\nper  | 29027680         | 2.55                               | 20.13\nsdn  | 34545014         | 4.88                               | 75.92\nukr  | 45792086         | 1.45                               | 11.72\nyem  | 23154854         | 4.67                               | 55.96\n",
         "hidden": false,
         "locked": false
        }
       ],
       "scored": true,
       "setup": "",
       "teardown": "",
       "type": "doctest"
      }
     ]
    },
    "q1_12": {
     "name": "q1_12",
     "points": [
      0,
      0
     ],
     "suites": [
      {
       "cases": [
        {
         "code": ">>> # Check your column labels and spelling\n>>> pop_by_decade.labels == ('decade', 'population')\nTrue",
         "hidden": false,
         "locked": false
        },
        {
         "code": ">>> # The first year of the 1960's is 1960.\n>>> pop_by_decade.column(0).item(0) == 1960\nTrue",
         "hidden": false,
         "locked": false
        }
       ],
       "scored": true,
       "setup": "",
       "teardown": "",
       "type": "doctest"
      }
     ]
    },
    "q1_12_0": {
     "name": "q1_12_0",
     "points": [
      0,
      0,
      0
     ],
     "suites": [
      {
       "cases": [
        {
         "code": ">>> pop_for_year(1972) == 3355562066\nTrue",
         "hidden": false,
         "locked": false
        },
        {
         "code": ">>> pop_for_year(2020) == 6765161289\nTrue",
         "hidden": false,
         "locked": false
        },
        {
         "code": ">>> pop_for_year(1989) == 4576679948\nTrue",
         "hidden": false,
         "locked": false
        }
       ],
       "scored": true,
       "setup": "",
       "teardown": "",
       "type": "doctest"
      }
     ]
    },
    "q1_13": {
     "name": "q1_13",
     "points": [
      0,
      0
     ],
     "suites": [
      {
       "cases": [
        {
         "code": ">>> # Check your column labels and spelling\n>>> region_counts.labels == ('region', 'count')\nTrue",
         "hidden": false,
         "locked": false
        },
        {
         "code": ">>> # Counts must sum to 50\n>>> sum(region_counts.column('count')) == 50\nTrue",
         "hidden": false,
         "locked": false
        }
       ],
       "scored": true,
       "setup": "",
       "teardown": "",
       "type": "doctest"
      }
     ]
    },
    "q1_14": {
     "name": "q1_14",
     "points": [
      0
     ],
     "suites": [
      {
       "cases": [
        {
         "code": ">>> # Please use a list of integers from 1 to 5\n>>> all(x in range(1, 6) for x in set(scatter_statements))\nTrue",
         "hidden": false,
         "locked": false
        }
       ],
       "scored": true,
       "setup": "",
       "teardown": "",
       "type": "doctest"
      }
     ]
    },
    "q1_2": {
     "name": "q1_2",
     "points": [
      0,
      0
     ],
     "suites": [
      {
       "cases": [
        {
         "code": ">>> first = round(b_five_growth.sort(0).column(2).item(0), 8)\n>>> 0.005 <= first <= 0.5\nTrue",
         "hidden": false,
         "locked": false
        },
        {
         "code": ">>> # Compute the annual exponential growth rate\n>>> max(b_five_growth.column(2)) < 0.03\nTrue",
         "hidden": false,
         "locked": false
        }
       ],
       "scored": true,
       "setup": "",
       "teardown": "",
       "type": "doctest"
      }
     ]
    },
    "q1_5": {
     "name": "q1_5",
     "points": [
      0,
      0,
      0
     ],
     "suites": [
      {
       "cases": [
        {
         "code": ">>> # Check your column labels and spelling\n>>> fertility_over_time('usa', 2010).labels == ('Year', 'Children per woman')\nTrue",
         "hidden": false,
         "locked": false
        },
        {
         "code": ">>> # Check that you use the start year to determine the data range.\n>>> all(fertility_over_time('usa', 2010).column('Year') == np.arange(2010, 2021))\nTrue",
         "hidden": false,
         "locked": false
        },
        {
         "code": ">>> # Check that you use the start year to determine the data range.\n>>> all(fertility_over_time('usa', 2005).column('Year') == np.arange(2005, 2021))\nTrue",
         "hidden": false,
         "locked": false
        }
       ],
       "scored": true,
       "setup": "",
       "teardown": "",
       "type": "doctest"
      }
     ]
    },
    "q1_7": {
     "name": "q1_7",
     "points": [
      0,
      0
     ],
     "suites": [
      {
       "cases": [
        {
         "code": ">>> # Make sure you are using the date range 1970-2020\n>>> post_1969_fertility_and_child_mortality.num_rows\n51",
         "hidden": false,
         "locked": false
        },
        {
         "code": ">>> # Check your column labels and spelling\n>>> all([label in post_1969_fertility_and_child_mortality.labels for label in ['Children per woman', 'Child deaths per 1000 born']])\nTrue",
         "hidden": false,
         "locked": false
        }
       ],
       "scored": true,
       "setup": "",
       "teardown": "",
       "type": "doctest"
      }
     ]
    },
    "q1_9": {
     "name": "q1_9",
     "points": [
      0
     ],
     "suites": [
      {
       "cases": [
        {
         "code": ">>> # Please use a list of integers from 1 to 6\n>>> all(x in range(1, 7) for x in set(fertility_statements))\nTrue",
         "hidden": false,
         "locked": false
        }
       ],
       "scored": true,
       "setup": "",
       "teardown": "",
       "type": "doctest"
      }
     ]
    },
    "q2_1": {
     "name": "q2_1",
     "points": [
      0,
      0
     ],
     "suites": [
      {
       "cases": [
        {
         "code": ">>> # Please don't edit the last line.\n>>> latest_poverty.labels == ('geo', 'time', 'poverty_percent')\nTrue",
         "hidden": false,
         "locked": false
        },
        {
         "code": ">>> # The result should have one row per country.\n>>> latest_poverty.num_rows\n145",
         "hidden": false,
         "locked": false
        }
       ],
       "scored": true,
       "setup": "",
       "teardown": "",
       "type": "doctest"
      }
     ]
    },
    "q2_2": {
     "name": "q2_2",
     "points": [
      0,
      0,
      0
     ],
     "suites": [
      {
       "cases": [
        {
         "code": ">>> # Check your column labels and spelling\n>>> recent_poverty_total.labels == ('geo', 'poverty_percent', 'population_total', 'poverty_total')\nTrue",
         "hidden": false,
         "locked": false
        },
        {
         "code": ">>> # Careful, the population of Australia in 2010 was 22,154,687\n>>> recent_poverty_total.where('geo', 'aus').column(2).item(0)\n22154687",
         "hidden": false,
         "locked": false
        },
        {
         "code": ">>> # The number of people estimated to be living in extreme poverty\n>>> # in Australia should be 301,304. That's 22,154,687 * 0.0136\n>>> # rounded to the nearest integer.\n>>> float(recent_poverty_total.where('geo', 'aus').column(3).item(0))\n301304.0",
         "hidden": false,
         "locked": false
        }
       ],
       "scored": true,
       "setup": "",
       "teardown": "",
       "type": "doctest"
      }
     ]
    },
    "q2_3": {
     "name": "q2_3",
     "points": [
      0
     ],
     "suites": [
      {
       "cases": [
        {
         "code": ">>> 10 <= poverty_percent <= 20\nTrue",
         "hidden": false,
         "locked": false
        }
       ],
       "scored": true,
       "setup": "",
       "teardown": "",
       "type": "doctest"
      }
     ]
    },
    "q2_4": {
     "name": "q2_4",
     "points": [
      0,
      0
     ],
     "suites": [
      {
       "cases": [
        {
         "code": ">>> # Check your column labels and spelling\n>>> poverty_map.labels == ('latitude', 'longitude', 'name', 'region', 'poverty_total')\nTrue",
         "hidden": false,
         "locked": false
        },
        {
         "code": ">>> # Something is wrong with your region column.\n>>> list(np.sort(np.unique(poverty_map.column('region'))))\n['africa', 'americas', 'asia', 'europe']",
         "hidden": false,
         "locked": false
        }
       ],
       "scored": true,
       "setup": "",
       "teardown": "",
       "type": "doctest"
      }
     ]
    },
    "q2_5": {
     "name": "q2_5",
     "points": [
      0,
      0,
      0
     ],
     "suites": [
      {
       "cases": [
        {
         "code": ">>> # Check your column labels and spelling\n>>> largest.labels == ('name', 'poverty_total')\nTrue",
         "hidden": false,
         "locked": false
        },
        {
         "code": ">>> # India is the country with the largest number of people living\n>>> # in extreme poverty.\n>>> largest.column(0).item(0)\n'India'",
         "hidden": false,
         "locked": false
        },
        {
         "code": ">>> # The table should contain exactly 10 rows.\n>>> largest.num_rows\n10",
         "hidden": false,
         "locked": false
        }
       ],
       "scored": true,
       "setup": "",
       "teardown": "",
       "type": "doctest"
      }
     ]
    }
   }
  }
 },
 "nbformat": 4,
 "nbformat_minor": 5
}
