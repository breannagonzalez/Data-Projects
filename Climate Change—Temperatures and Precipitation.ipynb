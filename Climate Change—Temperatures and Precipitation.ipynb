{
 "cells": [
  {
   "cell_type": "code",
   "execution_count": 242,
   "id": "f60b8da1",
   "metadata": {
    "deletable": false,
    "editable": false
   },
   "outputs": [],
   "source": [
    "# Initialize Otter\n",
    "import otter\n",
    "grader = otter.Notebook(\"project2.ipynb\")"
   ]
  },
  {
   "cell_type": "markdown",
   "id": "223c35ae",
   "metadata": {},
   "source": [
    "<img src=\"data8logo.png\" style=\"width: 15%; float: right; padding: 1%; margin-right: 2%;\"/>\n",
    "\n",
    "# Project 2: Climate Change—Temperatures and Precipitation\n",
    "\n",
    "In this project, you will investigate data on climate change, or the long-term shifts in temperatures and weather patterns!\n",
    "\n",
    "\n",
    "### Logistics\n",
    "\n",
    "**Deadline.**  This project is due at **11:00pm PT on Friday, 11/10**. You can receive 5 bonus points for submitting the project by **11:00pm PT on Thursday, 11/9.** Projects will be accepted up to 2 days (48 hours) late. Projects submitted fewer than 24 hours after the deadline will receive 2/3 credit, and projects submitted between 24 and 48 hours after the deadline will receive 1/3 credit. We will *not accept* any projects that are submitted 48 hours or more after the deadline. It's **much** better to be early than late, so we recommend starting early.\n",
    "\n",
    "<span style=\"color: #BC412B\">**Please note that there may not be any office hours on 11/10 due to Veteran's Day.**</span>\n",
    "\n",
    "**Checkpoint.**  For full credit on the checkpoint, you must complete the questions up to the checkpoint, **pass all _public_ autograder tests** for those sections, and submit to the Gradescope Project 2 Checkpoint assignment by **11:00pm PT on Friday, 11/3**. <span style=\"color: #BC412B\">**The checkpoint is worth 5% of your entire project grade**</span>. After you've submitted the checkpoint, you may still change your project answers before the final project deadline - **only your final submission, to the \"Project 2\" assignment, will be graded for correctness** (including questions from before the checkpoint). You will have some lab time to work on these questions, but we recommend that you start the project before lab and leave time to finish the checkpoint afterward.\n",
    "\n",
    "**Partners.** You may work with one other partner; your partner must be from your assigned lab section. **<span style=\"color: #BC412B\">Only one partner should submit the project notebook to Gradescope.</span> If both partners submit, you will be docked 10% of your project grade. On Gradescope, the person who submits should also designate their partner so that both of you receive credit.** Once you submit, click into your submission, and there will be an option to Add Group Member in the top right corner. You may also reference [this walkthrough video](https://drive.google.com/file/d/1POtij6KECSBjCUeOC_F0Lt3ZmKN7LKIq/view?usp=sharing) on how to add partners on Gradescope.\n",
    "\n",
    "**Rules.** Don't share your code with anybody but your partner. You are welcome to discuss questions with other students, but don't share the answers. The experience of solving the problems in this project will prepare you for exams (and life). If someone asks you for the answer, resist! Instead, you can demonstrate how you would solve a similar problem.\n",
    "\n",
    "**Support.** You are not alone! Come to office hours, post on Ed, and talk to your classmates. If you want to ask about the details of your solution to a problem, make a private Ed post and the staff will respond. If you're ever feeling overwhelmed or don't know how to make progress, email your TA or tutor for help. You can find contact information for the staff on the [course website](https://www.data8.org/fa23/).\n",
    "\n",
    "**Tests.** <span style=\"color: #BC412B\">The tests that are given are **not comprehensive** and passing the tests for a question **does not** mean that you answered the question correctly.</span> Tests usually only check that your table has the correct column labels. However, more tests will be applied to verify the correctness of your submission in order to assign your final score, so be careful and check your work! You might want to create your own checks along the way to see if your answers make sense. Additionally, before you submit, make sure that none of your cells take a very long time to run (several minutes).\n",
    "\n",
    "**Free Response Questions:** Make sure that you put the answers to the written questions in the indicated cell we provide. **Every free response question should include an explanation** that adequately answers the question. Your written work will be uploaded to Gradescope automatically after the project deadline; there is no action required on your part for this. \n",
    "\n",
    "**Advice.** Develop your answers incrementally. To perform a complicated task, break it up into steps, perform each step on a different line, give a new name to each result, and check that each intermediate result is what you expect. You can add any additional names or functions you want to the provided cells. Make sure that you are using distinct and meaningful variable names throughout the notebook. Along that line, **DO NOT** reuse the variable names that we use when we grade your answers. \n",
    "\n",
    "You **never** have to use just one line in this project or any others. Use intermediate variables and multiple lines as much as you would like!\n",
    "\n",
    "All of the concepts necessary for this project are found in the textbook. If you are stuck on a particular problem, reading through the relevant textbook section will often help to clarify concepts.\n",
    "\n",
    "\n",
    "---"
   ]
  },
  {
   "cell_type": "markdown",
   "id": "83ab0657",
   "metadata": {},
   "source": [
    "To get started, load `datascience`, `numpy`, and `matplotlib`. Make sure to also run the first cell of this notebook to load `otter`."
   ]
  },
  {
   "cell_type": "code",
   "execution_count": 243,
   "id": "8aa8ab60",
   "metadata": {},
   "outputs": [],
   "source": [
    "# Run this cell to set up the notebook, but please don't change it.\n",
    "from datascience import *\n",
    "import numpy as np\n",
    "\n",
    "%matplotlib inline\n",
    "import matplotlib.pyplot as plt\n",
    "plt.style.use('fivethirtyeight')\n",
    "np.set_printoptions(legacy='1.13')\n",
    "\n",
    "import warnings\n",
    "warnings.simplefilter('ignore')"
   ]
  },
  {
   "cell_type": "markdown",
   "id": "a61e0fdf",
   "metadata": {},
   "source": [
    "## Part 1: Temperatures"
   ]
  },
  {
   "cell_type": "markdown",
   "id": "405aebf6",
   "metadata": {},
   "source": [
    "In the following analysis, we will investigate one of the 21st century's most prominent issues: climate change. While the details of climate science are beyond the scope of this course, we can start to learn about climate change just by analyzing public records of different cities' temperature and precipitation over time.\n",
    "\n",
    "We will analyze a collection of historical daily temperature and precipitation measurements from weather stations in 210 U.S. cities. The dataset was compiled by Yuchuan Lai and David Dzombak [1]; a description of the data from the original authors and the data itself is available [here](https://kilthub.cmu.edu/articles/dataset/Compiled_daily_temperature_and_precipitation_data_for_the_U_S_cities/7890488). \n",
    "\n",
    "[1] Lai, Yuchuan; Dzombak, David (2019): Compiled historical daily temperature and precipitation data for selected 210 U.S. cities. Carnegie Mellon University. Dataset."
   ]
  },
  {
   "cell_type": "markdown",
   "id": "9b01c437",
   "metadata": {
    "tags": []
   },
   "source": [
    "\n",
    "### Part 1, Section 1: Cities"
   ]
  },
  {
   "cell_type": "markdown",
   "id": "b861259d",
   "metadata": {},
   "source": [
    "\n",
    "\n",
    "Run the following cell to load information about the `cities` and preview the first few rows."
   ]
  },
  {
   "cell_type": "code",
   "execution_count": 244,
   "id": "1b812e6d",
   "metadata": {},
   "outputs": [
    {
     "data": {
      "text/html": [
       "<table border=\"1\" class=\"dataframe\">\n",
       "    <thead>\n",
       "        <tr>\n",
       "            <th>Name</th> <th>ID</th> <th>Lat</th> <th>Lon</th> <th>Stn.Name</th> <th>Stn.stDate</th> <th>Stn.edDate</th>\n",
       "        </tr>\n",
       "    </thead>\n",
       "    <tbody>\n",
       "        <tr>\n",
       "            <td>Lander  </td> <td>USW00024021</td> <td>42.8153</td> <td>-108.726</td> <td>LANDER WBO       </td> <td>1892-01-01</td> <td>1946-05-28</td>\n",
       "        </tr>\n",
       "        <tr>\n",
       "            <td>Lander  </td> <td>USW00024021</td> <td>42.8153</td> <td>-108.726</td> <td>LANDER HUNT FIELD</td> <td>1946-05-29</td> <td>2021-12-31</td>\n",
       "        </tr>\n",
       "        <tr>\n",
       "            <td>Cheyenne</td> <td>USW00024018</td> <td>41.1519</td> <td>-104.806</td> <td>CHEYENNE WBO     </td> <td>1871-01-01</td> <td>1935-08-31</td>\n",
       "        </tr>\n",
       "    </tbody>\n",
       "</table>\n",
       "<p>... (458 rows omitted)</p>"
      ],
      "text/plain": [
       "<IPython.core.display.HTML object>"
      ]
     },
     "metadata": {},
     "output_type": "display_data"
    }
   ],
   "source": [
    "cities = Table.read_table('city_info.csv', index_col=0)\n",
    "cities.show(3)"
   ]
  },
  {
   "cell_type": "markdown",
   "id": "f7098d24",
   "metadata": {},
   "source": [
    "The `cities` table has one row per weather station and the following columns:\n",
    "\n",
    "1. `\"Name\"`: The name of the US city\n",
    "2. `\"ID\"`: The unique identifier for the US city\n",
    "3. `\"Lat\"`: The latitude of the US city (measured in degrees of latitude)\n",
    "4. `\"Lon\"`: The longitude of the US city (measured in degrees of longitude)\n",
    "4. `\"Stn.Name\"`: The name of the weather station in which the data was collected\n",
    "5. `\"Stn.stDate\"`: A string representing the date of the first recording at that particular station\n",
    "6. `\"Stn.edDate\"`: A string representing the date of the last recording at that particular station\n",
    "\n",
    "The data lists the weather stations at which temperature and precipitation data were collected. Note that although some cities have multiple weather stations, only one is collecting data for that city at any given point in time. Thus, we are able to just focus on the cities themselves."
   ]
  },
  {
   "cell_type": "markdown",
   "id": "2e2e6adb",
   "metadata": {},
   "source": [
    "\n",
    "<!-- BEGIN QUESTION -->\n",
    "\n",
    "**Question 1.1.1:** In the cell below, produce a scatter plot that plots the latitude and longitude of every city in the `cities` table so that the result places northern cities at the top and western cities at the left.\n",
    "\n",
    "*Note*: It's okay to plot the same point multiple times!\n",
    "\n",
    "*Hint*: A latitude is the set of horizontal lines that measures distances *north or south* of the equator. A longitude is the set of vertical lines that measures distances *east or west* of the prime meridian.\n"
   ]
  },
  {
   "cell_type": "code",
   "execution_count": 245,
   "id": "6f2a3cce",
   "metadata": {
    "tags": []
   },
   "outputs": [
    {
     "data": {
      "image/png": "[encoded data removed]",
      "text/plain": [
       "<Figure size 500x500 with 1 Axes>"
      ]
     },
     "metadata": {},
     "output_type": "display_data"
    }
   ],
   "source": [
    "cities.scatter('Lon', 'Lat')"
   ]
  },
  {
   "cell_type": "markdown",
   "id": "c1d3a037",
   "metadata": {},
   "source": [
    "<!-- END QUESTION -->\n",
    "\n",
    "These cities are all within the continental U.S., and so the general shape of the U.S. should be visible in your plot. The shape will appear distorted compared to most maps for two reasons: the scatter plot is square even though the U.S. is wider than it is tall, and this scatter plot is an [equirectangular projection](https://en.wikipedia.org/wiki/Equirectangular_projection) of the spherical Earth. A geographical map of the same data uses the common [Pseudo-Mercator projection](https://en.wikipedia.org/wiki/Web_Mercator_projection).\n",
    "\n",
    "> *Note:* If this visualization doesn't load for you, please view a version of it online [here](https://github.jonathanferrari.com/static/city_map.html). "
   ]
  },
  {
   "cell_type": "code",
   "execution_count": null,
   "id": "6fe12501",
   "metadata": {},
   "outputs": [],
   "source": [
    "# Just run this cell\n",
    "Marker.map_table(cities.select('Lat', 'Lon', 'Name').relabeled('Name', 'labels'))"
   ]
  },
  {
   "cell_type": "markdown",
   "id": "2cb16135",
   "metadata": {},
   "source": [
    "<!-- BEGIN QUESTION -->\n",
    "\n",
    "**Question 1.1.2** Does it appear that these city locations are sampled uniformly at random from all the locations in the U.S.? Why or why not?\n"
   ]
  },
  {
   "cell_type": "markdown",
   "id": "005d7deb",
   "metadata": {},
   "source": [
    "No, it does not appear that these city locations are sampled uniformly at random from all the locations in the U.S. I came to this conclusion because majority of the locations of the cities are centered around the left North-East side of the U.S., and there is a very minimal amount of cities on the right West side of the U.S. Usually, in a random sample, the distribution will be placed randomly around the map, however the city locations seem centered around a specific area on the right side of the map."
   ]
  },
  {
   "cell_type": "markdown",
   "id": "f3f77eae",
   "metadata": {},
   "source": [
    "<!-- END QUESTION -->\n",
    "\n",
    "**Question 1.1.3:** Assign `num_unique_cities` to the number of unique cities that appear in the `cities` table.\n"
   ]
  },
  {
   "cell_type": "code",
   "execution_count": 247,
   "id": "b963da7b",
   "metadata": {
    "tags": []
   },
   "outputs": [
    {
     "name": "stdout",
     "output_type": "stream",
     "text": [
      "There are 210 unique cities that appear within our dataset.\n"
     ]
    }
   ],
   "source": [
    "num_unique_cites = cities.group(\"Name\").num_rows\n",
    "\n",
    "# Do not change this line\n",
    "print(f\"There are {num_unique_cites} unique cities that appear within our dataset.\")"
   ]
  },
  {
   "cell_type": "code",
   "execution_count": 248,
   "id": "60b54a3f",
   "metadata": {
    "deletable": false,
    "editable": false
   },
   "outputs": [
    {
     "data": {
      "text/html": [
       "<p><strong><pre style='display: inline;'>q1_1_3</pre></strong> passed! ✨</p>"
      ],
      "text/plain": [
       "q1_1_3 results: All test cases passed!"
      ]
     },
     "execution_count": 248,
     "metadata": {},
     "output_type": "execute_result"
    }
   ],
   "source": [
    "grader.check(\"q1_1_3\")"
   ]
  },
  {
   "cell_type": "markdown",
   "id": "a2c7c78a",
   "metadata": {},
   "source": [
    "In order to investigate further, it will be helpful to determine what region of the United States each city was located in: Northeast, Northwest, Southeast, or Southwest. For our purposes, we will be using the following geographical boundaries:\n",
    "\n",
    "<img src= \"usa_coordinates.png\" alt=\"USA Coordinate Map\" width=\"600\"/>\n",
    "\n",
    "1. A station is located in the `\"Northeast\"` region if its latitude is above or equal to 40 degrees and its longtitude is greater than or equal to -100 degrees.\n",
    "2. A station is located in the `\"Northwest\"` region if its latitude is above or equal to 40 degrees and its longtitude is less than -100 degrees.\n",
    "3. A station is located in the `\"Southeast\"` region if its latitude is below 40 degrees and its longtitude is greater than or equal to -100 degrees.\n",
    "4. A station is located in the `\"Southwest\"` region if its latitude is below 40 degrees and its longtitude is less than -100 degrees."
   ]
  },
  {
   "cell_type": "markdown",
   "id": "9b425ca9",
   "metadata": {},
   "source": [
    "**Question 1.1.4**: Define the `coordinates_to_region` function below. It should take in two arguments, a city's latitude (`lat`) and longitude (`lon`) coordinates, and output a string representing the region it is located in.\n"
   ]
  },
  {
   "cell_type": "code",
   "execution_count": 249,
   "id": "1e11c0ae",
   "metadata": {
    "tags": []
   },
   "outputs": [],
   "source": [
    "def coordinates_to_region(lon, lat):\n",
    "    if lat >= 40:\n",
    "        if lon >= -100:\n",
    "            return \"Northeast\"\n",
    "        elif lon < -100:\n",
    "            return \"Northwest\"\n",
    "    elif lat < 40: \n",
    "        if lon >= -100: \n",
    "            return \"Southeast\"\n",
    "        elif lon < -100:\n",
    "            return \"Southwest\"\n",
    "    "
   ]
  },
  {
   "cell_type": "code",
   "execution_count": 250,
   "id": "76f1de5a",
   "metadata": {
    "deletable": false,
    "editable": false
   },
   "outputs": [
    {
     "data": {
      "text/html": [
       "<p><strong><pre style='display: inline;'>q1_1_4</pre></strong> passed! 🌈</p>"
      ],
      "text/plain": [
       "q1_1_4 results: All test cases passed!"
      ]
     },
     "execution_count": 250,
     "metadata": {},
     "output_type": "execute_result"
    }
   ],
   "source": [
    "grader.check(\"q1_1_4\")"
   ]
  },
  {
   "cell_type": "markdown",
   "id": "11f25f96",
   "metadata": {},
   "source": [
    "**Question 1.1.5**: Add a new column in `cities` labeled `Region` that contains the region in which the city is located. For full credit, you must use the `coordinates_to_region` function you defined rather than reimplementing its logic.\n"
   ]
  },
  {
   "cell_type": "code",
   "execution_count": 251,
   "id": "28e3cdb6",
   "metadata": {
    "tags": []
   },
   "outputs": [
    {
     "data": {
      "text/html": [
       "<table border=\"1\" class=\"dataframe\">\n",
       "    <thead>\n",
       "        <tr>\n",
       "            <th>Name</th> <th>ID</th> <th>Lat</th> <th>Lon</th> <th>Stn.Name</th> <th>Stn.stDate</th> <th>Stn.edDate</th> <th>Region</th>\n",
       "        </tr>\n",
       "    </thead>\n",
       "    <tbody>\n",
       "        <tr>\n",
       "            <td>Lander  </td> <td>USW00024021</td> <td>42.8153</td> <td>-108.726</td> <td>LANDER WBO             </td> <td>1892-01-01</td> <td>1946-05-28</td> <td>Northwest</td>\n",
       "        </tr>\n",
       "        <tr>\n",
       "            <td>Lander  </td> <td>USW00024021</td> <td>42.8153</td> <td>-108.726</td> <td>LANDER HUNT FIELD      </td> <td>1946-05-29</td> <td>2021-12-31</td> <td>Northwest</td>\n",
       "        </tr>\n",
       "        <tr>\n",
       "            <td>Cheyenne</td> <td>USW00024018</td> <td>41.1519</td> <td>-104.806</td> <td>CHEYENNE WBO           </td> <td>1871-01-01</td> <td>1935-08-31</td> <td>Northwest</td>\n",
       "        </tr>\n",
       "        <tr>\n",
       "            <td>Cheyenne</td> <td>USW00024018</td> <td>41.1519</td> <td>-104.806</td> <td>CHEYENNE MUNICIPAL ARPT</td> <td>1935-09-01</td> <td>2021-12-31</td> <td>Northwest</td>\n",
       "        </tr>\n",
       "        <tr>\n",
       "            <td>Wausau  </td> <td>USW00014897</td> <td>44.9258</td> <td>-89.6256</td> <td>Wausau Record Herald   </td> <td>1896-01-01</td> <td>1941-12-31</td> <td>Northeast</td>\n",
       "        </tr>\n",
       "    </tbody>\n",
       "</table>\n",
       "<p>... (456 rows omitted)</p>"
      ],
      "text/plain": [
       "<IPython.core.display.HTML object>"
      ]
     },
     "metadata": {},
     "output_type": "display_data"
    }
   ],
   "source": [
    "regions_array = cities.apply(coordinates_to_region, \"Lon\", \"Lat\")\n",
    "cities = cities.with_column(\"Region\", regions_array)\n",
    "cities.show(5)"
   ]
  },
  {
   "cell_type": "code",
   "execution_count": 252,
   "id": "10bf7c32",
   "metadata": {
    "deletable": false,
    "editable": false
   },
   "outputs": [
    {
     "data": {
      "text/html": [
       "<p><strong><pre style='display: inline;'>q1_1_5</pre></strong> passed! 🚀</p>"
      ],
      "text/plain": [
       "q1_1_5 results: All test cases passed!"
      ]
     },
     "execution_count": 252,
     "metadata": {},
     "output_type": "execute_result"
    }
   ],
   "source": [
    "grader.check(\"q1_1_5\")"
   ]
  },
  {
   "cell_type": "markdown",
   "id": "fd4a3b41",
   "metadata": {},
   "source": [
    "To confirm that you've defined your `coordinates_to_region` function correctly and successfully added the `Region` column to the `cities` table, run the following cell. Each region should have a different color in the result."
   ]
  },
  {
   "cell_type": "code",
   "execution_count": 253,
   "id": "b1ba69f2",
   "metadata": {},
   "outputs": [
    {
     "data": {
      "image/png": "[encoded data removed]",
      "text/plain": [
       "<Figure size 500x500 with 1 Axes>"
      ]
     },
     "metadata": {},
     "output_type": "display_data"
    }
   ],
   "source": [
    "# Just run this cell\n",
    "cities.scatter(\"Lon\", \"Lat\", group=\"Region\")"
   ]
  },
  {
   "cell_type": "markdown",
   "id": "5449cac1",
   "metadata": {},
   "source": [
    "**Challenge Question 1.1.6 <span style=\"color:#BC412B\">(OPTIONAL, ungraded)</span>**: Create a new table called `cities_nearest`. It should contain the same columns as the `cities` table and an additional column called `\"Nearest\"` that contains the **name of the nearest city** that is in a different region from the city described by the row.\n",
    "\n",
    "To approximate the distance between two cities, take the square root of the sum of the squared difference between their latitudes and the square difference between their longitudes. **Don't use a `for` statement; instead, use the `apply` method and array arithmetic.**\n",
    "\n",
    "*Hint*: We have defined a `distance` function for you, which can be called on numbers `lat0` and `lon0` and arrays `lat1` and `lon1`."
   ]
  },
  {
   "cell_type": "code",
   "execution_count": 254,
   "id": "9f9b82ac",
   "metadata": {
    "tags": []
   },
   "outputs": [],
   "source": [
    "def distance(lat0, lon0, lat1, lon1):\n",
    "    \"Approximate the distance between point (lat0, lon0) and (lat1, lon1) pairs in the arrays.\"\n",
    "    return np.sqrt((lat0 - lat1) * (lat0 - lat1) + (lon0 - lon1) * (lon0 - lon1))\n",
    "\n",
    "...\n",
    "\n",
    "cities_nearest = ...\n",
    "# Note: remove the comment(#) on the next line if you choose to do this question\n",
    "#cities_nearest.show(5)"
   ]
  },
  {
   "cell_type": "markdown",
   "id": "d242a134",
   "metadata": {},
   "source": [
    "### Part 1, Section 2: Welcome to Phoenix, Arizona"
   ]
  },
  {
   "cell_type": "markdown",
   "id": "27732b8e",
   "metadata": {},
   "source": [
    "Each city has a different CSV file full of daily temperature and precipitation measurements. The file for Phoenix, Arizona is included with this project as `phoenix.csv`. The files for other cities can be downloaded [here](https://kilthub.cmu.edu/articles/dataset/Compiled_daily_temperature_and_precipitation_data_for_the_U_S_cities/7890488) by matching them to the ID of the city in the `cities` table.\n",
    "\n",
    "Since Phoenix is located on the upper edge of the Sonoran Desert, it has some impressive temperatures.\n",
    "\n",
    "Run the following cell to load in the `phoenix` table. It has one row per day and the following columns:\n",
    "\n",
    "1. `\"Date\"`: The date (a string) representing the date of the recording in **YYYY-MM-DD** format\n",
    "2. `\"tmax\"`: The maximum temperature for the  day (°F)\n",
    "3. `\"tmin\"`: The minimum temperature for the day (°F)\n",
    "4. `\"prcp\"`: The recorded precipitation for the day (inches)"
   ]
  },
  {
   "cell_type": "code",
   "execution_count": 255,
   "id": "730c4c2f",
   "metadata": {},
   "outputs": [
    {
     "data": {
      "text/html": [
       "<table border=\"1\" class=\"dataframe\">\n",
       "    <thead>\n",
       "        <tr>\n",
       "            <th>Date</th> <th>tmax</th> <th>tmin</th> <th>prcp</th>\n",
       "        </tr>\n",
       "    </thead>\n",
       "    <tbody>\n",
       "        <tr>\n",
       "            <td>1896-01-01</td> <td>66  </td> <td>30  </td> <td>0   </td>\n",
       "        </tr>\n",
       "        <tr>\n",
       "            <td>1896-01-02</td> <td>64  </td> <td>30  </td> <td>0   </td>\n",
       "        </tr>\n",
       "        <tr>\n",
       "            <td>1896-01-03</td> <td>68  </td> <td>30  </td> <td>0   </td>\n",
       "        </tr>\n",
       "    </tbody>\n",
       "</table>\n",
       "<p>... (46018 rows omitted)</p>"
      ],
      "text/plain": [
       "<IPython.core.display.HTML object>"
      ]
     },
     "metadata": {},
     "output_type": "display_data"
    }
   ],
   "source": [
    "phoenix = Table.read_table(\"phoenix.csv\", index_col=0)\n",
    "phoenix.show(3)"
   ]
  },
  {
   "cell_type": "markdown",
   "id": "625c3c05",
   "metadata": {},
   "source": [
    "**Question 1.2.1:** Assign the variable `largest_2010_range_date` to the date of the **largest temperature range** in Phoenix, Arizona for any day between January 1st, 2010 and December 31st, 2010. To get started, use the variable `phoenix_with_ranges_2010` to filter the phoenix table to days in 2010 with an additional column corresponding to the temperature range for that day. \n",
    "\n",
    "**Your answer should be a string in the \"YYYY-MM-DD\" format.** Feel free to use as many lines as you need. A temperature range is calculated as the difference between the max and min temperatures for the day.\n",
    "\n",
    "*Hint*: To limit the values in a column to only those that *contain* a certain string, pick the right `are.` predicate from the [Python Reference Sheet](https://www.data8.org/fa23/reference/#tablewhere-predicates).\n",
    "\n",
    "*Note:* Do **not** re-assign the `phoenix` variable; please use the `phoenix_with_ranges_2010` variable instead.\n"
   ]
  },
  {
   "cell_type": "code",
   "execution_count": 258,
   "id": "54438abf",
   "metadata": {
    "tags": []
   },
   "outputs": [
    {
     "data": {
      "text/plain": [
       "'2010-06-24'"
      ]
     },
     "execution_count": 258,
     "metadata": {},
     "output_type": "execute_result"
    }
   ],
   "source": [
    "phoenix_with_ranges_2010 = phoenix.where('Date', are.containing('2010'))\n",
    "range_values = phoenix_with_ranges_2010.column(\"tmax\") - phoenix_with_ranges_2010.column(\"tmin\")\n",
    "updated_column = phoenix_with_ranges_2010.with_columns(\"Range\", range_values)\n",
    "max_range = max(updated_column.column(\"Range\"))\n",
    "largest_2010_range_date = updated_column.where(\"Range\", are.equal_to(max_range)).column(\"Date\").item(0)\n",
    "largest_2010_range_date"
   ]
  },
  {
   "cell_type": "code",
   "execution_count": 259,
   "id": "fcbed251",
   "metadata": {
    "deletable": false,
    "editable": false
   },
   "outputs": [
    {
     "data": {
      "text/html": [
       "<p><strong><pre style='display: inline;'>q1_2_1</pre></strong> passed! 🍀</p>"
      ],
      "text/plain": [
       "q1_2_1 results: All test cases passed!"
      ]
     },
     "execution_count": 259,
     "metadata": {},
     "output_type": "execute_result"
    }
   ],
   "source": [
    "grader.check(\"q1_2_1\")"
   ]
  },
  {
   "cell_type": "markdown",
   "id": "3ae982dc",
   "metadata": {},
   "source": [
    "We can look back to our `phoenix` table to check the temperature readings for our `largest_2010_range_date` to see if anything special is going on. Run the cell below to find the row of the `phoenix` table that corresponds to the date we found above. "
   ]
  },
  {
   "cell_type": "code",
   "execution_count": 260,
   "id": "7c9e7d7e",
   "metadata": {},
   "outputs": [
    {
     "data": {
      "text/html": [
       "<table border=\"1\" class=\"dataframe\">\n",
       "    <thead>\n",
       "        <tr>\n",
       "            <th>Date</th> <th>tmax</th> <th>tmin</th> <th>prcp</th>\n",
       "        </tr>\n",
       "    </thead>\n",
       "    <tbody>\n",
       "        <tr>\n",
       "            <td>2010-06-24</td> <td>113 </td> <td>79  </td> <td>0   </td>\n",
       "        </tr>\n",
       "    </tbody>\n",
       "</table>"
      ],
      "text/plain": [
       "Date       | tmax | tmin | prcp\n",
       "2010-06-24 | 113  | 79   | 0"
      ]
     },
     "execution_count": 260,
     "metadata": {},
     "output_type": "execute_result"
    }
   ],
   "source": [
    "# Just run this cell\n",
    "phoenix.where(\"Date\", largest_2010_range_date)"
   ]
  },
  {
   "cell_type": "markdown",
   "id": "f2bd5f63",
   "metadata": {},
   "source": [
    "ZOO WEE MAMA! Look at the maximum temperature for that day. That's hot."
   ]
  },
  {
   "cell_type": "markdown",
   "id": "7da4e508",
   "metadata": {},
   "source": [
    "The function `extract_year_from_date` takes a date string in the **YYYY-MM-DD** format and returns an integer representing the **year**. The function `extract_month_from_date` takes a date string and returns a string describing the month. Run this cell, but you do not need to understand how this code works or edit it."
   ]
  },
  {
   "cell_type": "code",
   "execution_count": 261,
   "id": "50f76528",
   "metadata": {},
   "outputs": [
    {
     "name": "stdout",
     "output_type": "stream",
     "text": [
      "2022-04-01 has year 2022 and month 04 (Apr)\n"
     ]
    }
   ],
   "source": [
    "# Just run this cell\n",
    "import calendar\n",
    "\n",
    "def extract_year_from_date(date):\n",
    "    \"\"\"Returns an integer corresponding to the year of the input string's date.\"\"\"\n",
    "    return int(date[:4])\n",
    "\n",
    "def extract_month_from_date(date):\n",
    "    \"Return an abbreviation of the name of the month for a string's date.\"\n",
    "    month = date[5:7]\n",
    "    return f'{month} ({calendar.month_abbr[int(date[5:7])]})'\n",
    "\n",
    "\n",
    "# Example\n",
    "print('2022-04-01 has year', extract_year_from_date('2022-04-01'),\n",
    "      'and month', extract_month_from_date('2022-04-01'))"
   ]
  },
  {
   "cell_type": "markdown",
   "id": "1292070b",
   "metadata": {},
   "source": [
    "**Question 1.2.2:** Add two new columns called `Year` and `Month` to the `phoenix` table that contain the year as an **integer** and the month as a **string** (such as `\"04 (Apr)\"`) for each day, respectively. \n",
    "\n",
    "*Note*: The functions above may be helpful!\n"
   ]
  },
  {
   "cell_type": "code",
   "execution_count": 262,
   "id": "a6cda660",
   "metadata": {
    "tags": []
   },
   "outputs": [
    {
     "data": {
      "text/html": [
       "<table border=\"1\" class=\"dataframe\">\n",
       "    <thead>\n",
       "        <tr>\n",
       "            <th>Date</th> <th>tmax</th> <th>tmin</th> <th>prcp</th> <th>Year</th> <th>Month</th>\n",
       "        </tr>\n",
       "    </thead>\n",
       "    <tbody>\n",
       "        <tr>\n",
       "            <td>1896-01-01</td> <td>66  </td> <td>30  </td> <td>0   </td> <td>1896</td> <td>01 (Jan)</td>\n",
       "        </tr>\n",
       "        <tr>\n",
       "            <td>1896-01-02</td> <td>64  </td> <td>30  </td> <td>0   </td> <td>1896</td> <td>01 (Jan)</td>\n",
       "        </tr>\n",
       "        <tr>\n",
       "            <td>1896-01-03</td> <td>68  </td> <td>30  </td> <td>0   </td> <td>1896</td> <td>01 (Jan)</td>\n",
       "        </tr>\n",
       "        <tr>\n",
       "            <td>1896-01-04</td> <td>69  </td> <td>34  </td> <td>0   </td> <td>1896</td> <td>01 (Jan)</td>\n",
       "        </tr>\n",
       "        <tr>\n",
       "            <td>1896-01-05</td> <td>70  </td> <td>46  </td> <td>0   </td> <td>1896</td> <td>01 (Jan)</td>\n",
       "        </tr>\n",
       "    </tbody>\n",
       "</table>\n",
       "<p>... (46016 rows omitted)</p>"
      ],
      "text/plain": [
       "<IPython.core.display.HTML object>"
      ]
     },
     "metadata": {},
     "output_type": "display_data"
    }
   ],
   "source": [
    "years_array = phoenix.apply(extract_year_from_date, \"Date\")\n",
    "months_array = phoenix.apply(extract_month_from_date, \"Date\")\n",
    "phoenix = phoenix.with_columns(\"Year\", years_array, \"Month\", months_array)\n",
    "phoenix.show(5)"
   ]
  },
  {
   "cell_type": "code",
   "execution_count": 263,
   "id": "d7247376",
   "metadata": {
    "deletable": false,
    "editable": false
   },
   "outputs": [
    {
     "data": {
      "text/html": [
       "<p><strong><pre style='display: inline;'>q1_2_2</pre></strong> passed! 🚀</p>"
      ],
      "text/plain": [
       "q1_2_2 results: All test cases passed!"
      ]
     },
     "execution_count": 263,
     "metadata": {},
     "output_type": "execute_result"
    }
   ],
   "source": [
    "grader.check(\"q1_2_2\")"
   ]
  },
  {
   "cell_type": "markdown",
   "id": "75804a6e",
   "metadata": {},
   "source": [
    "<!-- BEGIN QUESTION -->\n",
    "\n",
    "**Question 1.2.3:** Using the `phoenix` table, create an overlaid line plot of the **average maximum temperature** and **average minimum temperature** for each year between 1900 and 2020 (inclusive). \n",
    "\n",
    "*Hint:* To draw a line plot with more than one line, call `plot` on the column label of the x-axis values and all other columns will be treated as y-axis values.\n"
   ]
  },
  {
   "cell_type": "code",
   "execution_count": 265,
   "id": "87541d4c",
   "metadata": {
    "tags": []
   },
   "outputs": [
    {
     "data": {
      "image/png": "[encoded data removed]",
      "text/plain": [
       "<Figure size 600x600 with 1 Axes>"
      ]
     },
     "metadata": {},
     "output_type": "display_data"
    }
   ],
   "source": [
    "phoenix_1900_2020 = phoenix.where(\"Year\", are.between(1900,2020)).group(\"Year\", np.mean)\n",
    "updated = phoenix_1900_2020.select(\"Year\", \"tmax mean\", \"tmin mean\")\n",
    "updated.plot(\"Year\")"
   ]
  },
  {
   "cell_type": "markdown",
   "id": "da6dbf08",
   "metadata": {},
   "source": [
    "<!-- END QUESTION -->\n",
    "\n",
    "<!-- BEGIN QUESTION -->\n",
    "\n",
    "**Question 1.2.4:** Although still hotly debated (pun intended), many climate scientists agree that the effects of climate change began to surface in the early 1960s as a result of elevated levels of greenhouse gas emissions. How does the graph you produced in Question 1.2.3 support the claim that modern-day global warming began in the early 1960s? \n"
   ]
  },
  {
   "cell_type": "markdown",
   "id": "779c666a",
   "metadata": {},
   "source": [
    "The graph we produced in question 1.2.3 supports the claim that modern-day global warming began in the early 1960s. Our graph demonstrates that in the year 1960, the average min temperature was between 55 and 60 degrees, and close to the year 2020 it increased to 65 degrees. As for the average max temperature from 1960 the temperature was near 85 degrees, but close to 2020, it is higher than 85 degrees. Therefore, our graph supports the claim that modern-day global warming began in the early 1960s. "
   ]
  },
  {
   "cell_type": "markdown",
   "id": "a19b68fd",
   "metadata": {},
   "source": [
    "<!-- END QUESTION -->\n",
    "\n",
    "Averaging temperatures across an entire year can obscure some effects of climate change. For example, if summers get hotter but winters get colder, the annual average may not change much. Let's investigate how average **monthly** maximum temperatures have changed over time in Phoenix. "
   ]
  },
  {
   "cell_type": "markdown",
   "id": "df89c547",
   "metadata": {},
   "source": [
    "**Question 1.2.5:** Create a `monthly_increases` table with one row per month and the following four columns in order: \n",
    "1. `\"Month\"`: The month (such as `\"02 (Feb)\"`)\n",
    "2. `\"Past\"`: The average max temperature in that month from 1900-1960 (inclusive)\n",
    "3. `\"Present\"`: The average max temperature in that month from 2019-2021 (inclusive)\n",
    "4. `\"Increase\"`: The difference between the present and past average max temperatures in that month\n",
    "\n",
    "First, make a copy of the `phoenix` table and add a new column containing the corresponding **period** for each row. The period refers to whether the year is in the `\"Past\"`, `\"Present\"`, or `\"Other\"` category. You may find the period function helpful to see which years correspond to each period. Then, use this new table to construct `monthly_increases`. Feel free to use as many lines as you need.\n",
    "\n",
    "*Hint*: What table method can we use to get each **unique value** as its own column? \n",
    "\n",
    "*Note*: Please do **not** re-assign the `phoenix` variable!\n"
   ]
  },
  {
   "cell_type": "code",
   "execution_count": 266,
   "id": "1130eda1",
   "metadata": {
    "tags": []
   },
   "outputs": [
    {
     "data": {
      "text/html": [
       "<table border=\"1\" class=\"dataframe\">\n",
       "    <thead>\n",
       "        <tr>\n",
       "            <th>Month</th> <th>Past</th> <th>Present</th> <th>Increase</th>\n",
       "        </tr>\n",
       "    </thead>\n",
       "    <tbody>\n",
       "        <tr>\n",
       "            <td>01 (Jan)</td> <td>65.0164</td> <td>67.8312</td> <td>2.81479 </td>\n",
       "        </tr>\n",
       "        <tr>\n",
       "            <td>02 (Feb)</td> <td>68.8485</td> <td>69.1859</td> <td>0.337362</td>\n",
       "        </tr>\n",
       "        <tr>\n",
       "            <td>03 (Mar)</td> <td>74.6499</td> <td>75.9796</td> <td>1.32965 </td>\n",
       "        </tr>\n",
       "        <tr>\n",
       "            <td>04 (Apr)</td> <td>82.6421</td> <td>88.4   </td> <td>5.75792 </td>\n",
       "        </tr>\n",
       "        <tr>\n",
       "            <td>05 (May)</td> <td>91.4299</td> <td>94.571 </td> <td>3.14104 </td>\n",
       "        </tr>\n",
       "        <tr>\n",
       "            <td>06 (Jun)</td> <td>101.166</td> <td>105.734</td> <td>4.56832 </td>\n",
       "        </tr>\n",
       "        <tr>\n",
       "            <td>07 (Jul)</td> <td>103.599</td> <td>107.245</td> <td>3.64654 </td>\n",
       "        </tr>\n",
       "        <tr>\n",
       "            <td>08 (Aug)</td> <td>101.416</td> <td>107.384</td> <td>5.96769 </td>\n",
       "        </tr>\n",
       "        <tr>\n",
       "            <td>09 (Sep)</td> <td>97.6874</td> <td>101.238</td> <td>3.55035 </td>\n",
       "        </tr>\n",
       "        <tr>\n",
       "            <td>10 (Oct)</td> <td>86.798 </td> <td>90.1667</td> <td>3.36868 </td>\n",
       "        </tr>\n",
       "        <tr>\n",
       "            <td>11 (Nov)</td> <td>74.6273</td> <td>80.5178</td> <td>5.89046 </td>\n",
       "        </tr>\n",
       "        <tr>\n",
       "            <td>12 (Dec)</td> <td>65.9064</td> <td>67.4548</td> <td>1.54844 </td>\n",
       "        </tr>\n",
       "    </tbody>\n",
       "</table>"
      ],
      "text/plain": [
       "<IPython.core.display.HTML object>"
      ]
     },
     "metadata": {},
     "output_type": "display_data"
    }
   ],
   "source": [
    "def period(year):\n",
    "    \"Output if a year is in the Past, Present, or Other.\"\n",
    "    if 1900 <= year <= 1960:\n",
    "        return \"Past\"\n",
    "    elif 2019 <= year <= 2021:\n",
    "        return \"Present\"\n",
    "    else:\n",
    "        return \"Other\"\n",
    "period_phoenix = phoenix.with_column(\"Period\", phoenix.apply(period, \"Year\"))\n",
    "period_phoenix = period_phoenix.pivot(\"Period\", \"Month\", \"tmax\", np.mean)\n",
    "increase = period_phoenix.column(\"Present\") - period_phoenix.column(\"Past\")\n",
    "monthly_increases = period_phoenix.with_column(\"Increase\", increase).drop(1)\n",
    "monthly_increases\n",
    "monthly_increases.show()"
   ]
  },
  {
   "cell_type": "code",
   "execution_count": 267,
   "id": "02f7df37",
   "metadata": {
    "deletable": false,
    "editable": false
   },
   "outputs": [
    {
     "data": {
      "text/html": [
       "<p><strong><pre style='display: inline;'>q1_2_5</pre></strong> passed! ✨</p>"
      ],
      "text/plain": [
       "q1_2_5 results: All test cases passed!"
      ]
     },
     "execution_count": 267,
     "metadata": {},
     "output_type": "execute_result"
    }
   ],
   "source": [
    "grader.check(\"q1_2_5\")"
   ]
  },
  {
   "cell_type": "markdown",
   "id": "4bd90355",
   "metadata": {},
   "source": [
    "### February in Phoenix"
   ]
  },
  {
   "cell_type": "markdown",
   "id": "fb65b3ba",
   "metadata": {},
   "source": [
    "The `\"Past\"` column values are averaged over many decades, and so they are reliable estimates of the average high temperatures in those months before the effects of modern climate change. However, the `\"Present\"` column is based on only three years of observations. February, the shortest month, has the fewest total observations: only 85 days. Run the following cell to see this."
   ]
  },
  {
   "cell_type": "code",
   "execution_count": 268,
   "id": "15b06e62",
   "metadata": {},
   "outputs": [
    {
     "data": {
      "text/plain": [
       "85"
      ]
     },
     "execution_count": 268,
     "metadata": {},
     "output_type": "execute_result"
    }
   ],
   "source": [
    "# Just run this cell\n",
    "feb_present = phoenix.where('Year', are.between_or_equal_to(2019, 2021)).where('Month', '02 (Feb)')\n",
    "feb_present.num_rows"
   ]
  },
  {
   "cell_type": "markdown",
   "id": "10b3e572",
   "metadata": {},
   "source": [
    "Look back to your `monthly_increases` table. Compared to the other months, the increase for the month of February is quite small; the February difference is very close to zero. Run the following cell to print out our observed difference."
   ]
  },
  {
   "cell_type": "code",
   "execution_count": 269,
   "id": "b320f86e",
   "metadata": {},
   "outputs": [
    {
     "name": "stdout",
     "output_type": "stream",
     "text": [
      "February Difference: 0.3373623297258632\n"
     ]
    }
   ],
   "source": [
    "# Just run this cell\n",
    "print(f\"February Difference: {monthly_increases.row(1).item('Increase')}\")"
   ]
  },
  {
   "cell_type": "markdown",
   "id": "c12dbcc5",
   "metadata": {},
   "source": [
    "Perhaps that small difference is somehow due to chance! To investigate this idea requires a thought experiment.\n",
    "\n",
    "We can observe all of the February maximum temperatures from 2019 to 2021 (the present period), so we have access to the census; there's no random sampling involved. But, we can imagine that if more years pass with the same present-day climate, there would be different but similar maximum temperatures in future February days. From the data we observe, we can try to estimate the **average maximum February temperature** in this imaginary collection of all future February days that would occur in our modern climate, assuming the climate doesn't change any further and many years pass.\n",
    "\n",
    "We can also imagine that the maximum temperature each day is like a **random draw from a distribution of temperatures for that month**. Treating actual observations of natural events as if they were each *randomly* sampled from some unknown distribution is a simplifying assumption. These temperatures were not actually sampled at random—instead they occurred due to the complex interactions of the Earth's climate—but treating them as if they were random abstracts away the details of this naturally occuring process and allows us to carry out statistical inference.  Conclusions are only as valid as the assumptions upon which they rest, but in this case thinking of daily temperatures as random samples from some unknown climate distribution seems at least plausible.\n",
    "\n",
    "If we assume that the **actual temperatures were drawn at random from some large population of possible February days** in our modern climate, then we can not only estimate the population average of this distribution, but also quantify our uncertainty about that estimate using a confidence interval.\n",
    "\n",
    "**We will just compute the lower bound of this confidence interval.**  We intend to compare our confidence interval to the historical average (ie. the `\"Past\"` value in our `monthly_increases` table). In all months, the sample average we will consider (i.e. the `\"Present\"` value in our `monthly_increases` table) is _larger_ than the historical average.  Since we are essentially interested in seeing if the average February temperatures have ***warmed*** since the past, we are only concerned with the lower bound of the confidence interval being higher than the average max temperature of the past. As a result, we know in advance that the upper bound of the confidence interval will be larger as well, and there is no need to compute the upper bound explicitly. (But you can if you wish!) "
   ]
  },
  {
   "cell_type": "markdown",
   "id": "eb6b06a3",
   "metadata": {},
   "source": [
    "**Question 1.2.6.** Complete the implementation of the function `ci_lower`, which takes a one-column table `t` containing sample observations and a confidence `level` percentage such as 95 or 99. It returns the lower bound of a confidence interval for the population mean constructed using 5,000 bootstrap resamples.\n",
    "\n",
    "After defining `ci_lower`, we have provided a line of code that calls `ci_lower` on the present-day February max temperatures to output the lower bound of a 99% confidence interval for the average of daily max temperatures in February. The result should be around 67 degrees.\n"
   ]
  },
  {
   "cell_type": "code",
   "execution_count": 270,
   "id": "6e3216c7",
   "metadata": {
    "tags": []
   },
   "outputs": [
    {
     "data": {
      "text/plain": [
       "66.836470588235272"
      ]
     },
     "execution_count": 270,
     "metadata": {},
     "output_type": "execute_result"
    }
   ],
   "source": [
    "def ci_lower(t, level):\n",
    "    \"\"\"Compute a lower bound of a level% confidence interval of the \n",
    "    average of the population for which column 0 of Table t contains a sample.\n",
    "    \"\"\"\n",
    "    stats = make_array()\n",
    "    for k in np.arange(5000):\n",
    "        resample = t.sample()\n",
    "        stat = np.mean(resample.column(0))\n",
    "        stats = np.append(stats, stat)\n",
    "    lower_bound = percentile((100-level)/2, stats)\n",
    "    return lower_bound\n",
    "\n",
    "# Call ci_lower on the max temperatures in present-day February to find the lower bound of a 99% confidence interval.\n",
    "feb_present_ci = ci_lower(feb_present.select('tmax'), 99)\n",
    "feb_present_ci"
   ]
  },
  {
   "cell_type": "code",
   "execution_count": 271,
   "id": "018e3086",
   "metadata": {
    "deletable": false,
    "editable": false
   },
   "outputs": [
    {
     "data": {
      "text/html": [
       "<p><strong><pre style='display: inline;'>q1_2_6</pre></strong> passed! 💯</p>"
      ],
      "text/plain": [
       "q1_2_6 results: All test cases passed!"
      ]
     },
     "execution_count": 271,
     "metadata": {},
     "output_type": "execute_result"
    }
   ],
   "source": [
    "grader.check(\"q1_2_6\")"
   ]
  },
  {
   "cell_type": "markdown",
   "id": "4bfd3f5c",
   "metadata": {},
   "source": [
    "<!-- BEGIN QUESTION -->\n",
    "\n",
    "**Question 1.2.7** The lower bound of the `feb_present_ci` 99% confidence interval is below the observed past February average maximum temperature of 68.8485 (from the `monthly_increases` table). What conclusion can you draw about the effect of climate change on February maximum temperatures in Phoenix from this information? Use a 1% p-value cutoff.\n",
    "\n",
    "*Note*: If you're stuck on this question, re-reading the paragraphs under the *February* heading (particularly the first few) may be helpful.\n"
   ]
  },
  {
   "cell_type": "markdown",
   "id": "a6e349d4",
   "metadata": {},
   "source": [
    "The conclusion that I can draw is that the effect of climate change on February maximum temperatures in Phoenix will cause temperatures to slowly increase. There will not be much increase in the past and present data of February maximum temperatures because the data we are collecting is relatively smaller than the other months. The other months have a larger increase of temperature average because there is lots of data being taken from those months since they have more days in the month. The maximum temperatures in February will specifically have the fewest observations because it is the shortest month of all of the months. This means that when we calculate the present average maximum temperature and potential future average maximum temperature, there will not be that much of a difference of the values since the range is a lower amount of numbers. Regarding the 1% p-value cutoff, we calculated it above in the 1.2.6 question which represents the average maximum temperature of ~67.17 of the lower bound of the 99% confidence level. Since the cutoff is very close to the original values of 68.8485 (Past) and 69.1859 (Present), we know that the temperature will slowly rise over the years due to climate change. For February specifically, the average maximum temperature increase will be relatively smaller in comparison to the other months because the days in February are shorter, but overall the average maximum temperature will increase."
   ]
  },
  {
   "cell_type": "markdown",
   "id": "188cd20d",
   "metadata": {},
   "source": [
    "<!-- END QUESTION -->\n",
    "\n",
    "### All Months"
   ]
  },
  {
   "cell_type": "markdown",
   "id": "de6e8bfe",
   "metadata": {},
   "source": [
    "**Question 1.2.8.** Repeat the process of comparing the **lower bound of a 99% confidence interval** to the **past average** for each month. For each month, print out the name of the month (e.g., `02 (Feb)`), the observed past average, and the lower bound of a confidence interval for the present average.\n",
    "\n",
    "Use the provided call to `print` in order to format the result as one line per month.\n",
    "\n",
    "*Hint*: Your code should follow the same format as our code from above (i.e. the *February* section).   \n"
   ]
  },
  {
   "cell_type": "code",
   "execution_count": 272,
   "id": "9a3f70cd",
   "metadata": {},
   "outputs": [
    {
     "data": {
      "text/html": [
       "<table border=\"1\" class=\"dataframe\">\n",
       "    <thead>\n",
       "        <tr>\n",
       "            <th>Month</th> <th>Past</th> <th>Present</th> <th>Increase</th>\n",
       "        </tr>\n",
       "    </thead>\n",
       "    <tbody>\n",
       "        <tr>\n",
       "            <td>01 (Jan)</td> <td>65.0164</td> <td>67.8312</td> <td>2.81479 </td>\n",
       "        </tr>\n",
       "        <tr>\n",
       "            <td>02 (Feb)</td> <td>68.8485</td> <td>69.1859</td> <td>0.337362</td>\n",
       "        </tr>\n",
       "        <tr>\n",
       "            <td>03 (Mar)</td> <td>74.6499</td> <td>75.9796</td> <td>1.32965 </td>\n",
       "        </tr>\n",
       "        <tr>\n",
       "            <td>04 (Apr)</td> <td>82.6421</td> <td>88.4   </td> <td>5.75792 </td>\n",
       "        </tr>\n",
       "        <tr>\n",
       "            <td>05 (May)</td> <td>91.4299</td> <td>94.571 </td> <td>3.14104 </td>\n",
       "        </tr>\n",
       "        <tr>\n",
       "            <td>06 (Jun)</td> <td>101.166</td> <td>105.734</td> <td>4.56832 </td>\n",
       "        </tr>\n",
       "        <tr>\n",
       "            <td>07 (Jul)</td> <td>103.599</td> <td>107.245</td> <td>3.64654 </td>\n",
       "        </tr>\n",
       "        <tr>\n",
       "            <td>08 (Aug)</td> <td>101.416</td> <td>107.384</td> <td>5.96769 </td>\n",
       "        </tr>\n",
       "        <tr>\n",
       "            <td>09 (Sep)</td> <td>97.6874</td> <td>101.238</td> <td>3.55035 </td>\n",
       "        </tr>\n",
       "        <tr>\n",
       "            <td>10 (Oct)</td> <td>86.798 </td> <td>90.1667</td> <td>3.36868 </td>\n",
       "        </tr>\n",
       "    </tbody>\n",
       "</table>\n",
       "<p>... (2 rows omitted)</p>"
      ],
      "text/plain": [
       "Month    | Past    | Present | Increase\n",
       "01 (Jan) | 65.0164 | 67.8312 | 2.81479\n",
       "02 (Feb) | 68.8485 | 69.1859 | 0.337362\n",
       "03 (Mar) | 74.6499 | 75.9796 | 1.32965\n",
       "04 (Apr) | 82.6421 | 88.4    | 5.75792\n",
       "05 (May) | 91.4299 | 94.571  | 3.14104\n",
       "06 (Jun) | 101.166 | 105.734 | 4.56832\n",
       "07 (Jul) | 103.599 | 107.245 | 3.64654\n",
       "08 (Aug) | 101.416 | 107.384 | 5.96769\n",
       "09 (Sep) | 97.6874 | 101.238 | 3.55035\n",
       "10 (Oct) | 86.798  | 90.1667 | 3.36868\n",
       "... (2 rows omitted)"
      ]
     },
     "execution_count": 272,
     "metadata": {},
     "output_type": "execute_result"
    }
   ],
   "source": [
    "monthly_increases"
   ]
  },
  {
   "cell_type": "code",
   "execution_count": 273,
   "id": "27a73ace",
   "metadata": {
    "tags": []
   },
   "outputs": [
    {
     "name": "stdout",
     "output_type": "stream",
     "text": [
      "For 01 (Jan) the past avg 65.0 is **below** the lower bound 66.3 of the 99% CI of the present avg. \n",
      "\n",
      "For 02 (Feb) the past avg 68.8 is *above* the lower bound 66.9 of the 99% CI of the present avg. \n",
      "\n",
      "For 03 (Mar) the past avg 74.6 is *above* the lower bound 74.0 of the 99% CI of the present avg. \n",
      "\n",
      "For 04 (Apr) the past avg 82.6 is **below** the lower bound 86.4 of the 99% CI of the present avg. \n",
      "\n",
      "For 05 (May) the past avg 91.4 is **below** the lower bound 92.5 of the 99% CI of the present avg. \n",
      "\n",
      "For 06 (Jun) the past avg 101.2 is **below** the lower bound 104.3 of the 99% CI of the present avg. \n",
      "\n",
      "For 07 (Jul) the past avg 103.6 is **below** the lower bound 105.4 of the 99% CI of the present avg. \n",
      "\n",
      "For 08 (Aug) the past avg 101.4 is **below** the lower bound 105.8 of the 99% CI of the present avg. \n",
      "\n",
      "For 09 (Sep) the past avg 97.7 is **below** the lower bound 99.3 of the 99% CI of the present avg. \n",
      "\n",
      "For 10 (Oct) the past avg 86.8 is **below** the lower bound 87.7 of the 99% CI of the present avg. \n",
      "\n",
      "For 11 (Nov) the past avg 74.6 is **below** the lower bound 78.1 of the 99% CI of the present avg. \n",
      "\n",
      "For 12 (Dec) the past avg 65.9 is *above* the lower bound 65.7 of the 99% CI of the present avg. \n",
      "\n"
     ]
    }
   ],
   "source": [
    "comparisons = make_array()\n",
    "months = monthly_increases.column(0)\n",
    "for month in months:\n",
    "    past_average = monthly_increases.where('Month', month).column('Past').item(0)\n",
    "    present_observations = phoenix.where('Year', are.between_or_equal_to(2019, 2021)).where('Month', month).select('tmax')\n",
    "    present_lower_bound = ci_lower(present_observations, 99)\n",
    "    \n",
    "    # Do not change the code below this line\n",
    "    below = past_average < present_lower_bound\n",
    "    if below:\n",
    "        comparison = '**below**'\n",
    "    else:\n",
    "        comparison = '*above*'\n",
    "    comparisons = np.append(comparisons, comparison)\n",
    "    \n",
    "    print('For', month, 'the past avg', round(past_average, 1), \n",
    "          'is', comparison, \n",
    "          'the lower bound', round(present_lower_bound, 1),\n",
    "          'of the 99% CI of the present avg. \\n')"
   ]
  },
  {
   "cell_type": "code",
   "execution_count": 274,
   "id": "63ffba4e",
   "metadata": {
    "deletable": false,
    "editable": false
   },
   "outputs": [
    {
     "data": {
      "text/html": [
       "<p><strong><pre style='display: inline;'>q1_2_8</pre></strong> passed! 🍀</p>"
      ],
      "text/plain": [
       "q1_2_8 results: All test cases passed!"
      ]
     },
     "execution_count": 274,
     "metadata": {},
     "output_type": "execute_result"
    }
   ],
   "source": [
    "grader.check(\"q1_2_8\")"
   ]
  },
  {
   "cell_type": "markdown",
   "id": "23aa821d",
   "metadata": {},
   "source": [
    "<!-- BEGIN QUESTION -->\n",
    "**Question 1.2.9.** Summarize your findings. After comparing the past average to the 99% confidence interval's lower bound for each month, what conclusions can we make about the monthly average maximum temperature in historical (1900-1960) vs. modern (2019-2021) times in the twelve months? In other words, what null hypothesis should you consider, and for which months would you reject or fail to reject the null hypothesis? Use a 1% p-value cutoff.\n",
    "\n",
    "*Hint*: Do you notice any seasonal patterns?"
   ]
  },
  {
   "cell_type": "markdown",
   "id": "5959a739",
   "metadata": {},
   "source": [
    " In Question 1.2.8, we created a function that determines whether the month is above or below the lower bound of 99 % confidence interval of the present average maximum temperature. When we run the function, we noticed that Janurary, April, May, June, July, August, September, October, and November were below the lower bound of the 99% confidence interval of the present average maximum temperature. The monthly average maximum temperature in the historical time was lower than in the present modern times. On the other hand, February, March, and December we cannot determine if the average maximum temperature is lower in the historical times compared to the modern times because it is above the lower bound confidence interval. "
   ]
  },
  {
   "cell_type": "markdown",
   "id": "710508b7",
   "metadata": {
    "tags": []
   },
   "source": [
    "<!-- END QUESTION -->\n",
    "\n",
    "### Checkpoint (due Friday, 11/3 by 11:00pm PT)\n",
    "\n",
    "<img src=\"bella.jpeg\" alt=\"close-up picture of a golden doodle\" width=\"300\"/>\n",
    "\n",
    "Congrats on reaching the checkpoint! **Bella** is proud of you!\n",
    "\n",
    "**Run the following cells and submit to the <u>Project 2 Checkpoint</u>** Gradescope assignment."
   ]
  },
  {
   "cell_type": "markdown",
   "id": "c5e993d2",
   "metadata": {},
   "source": [
    "--- \n",
    "\n",
    "To earn full credit for this checkpoint, you must pass all the public autograder tests above this cell. The cell below will re-run all of the autograder tests for Part 1 to double check your work."
   ]
  },
  {
   "cell_type": "code",
   "execution_count": 275,
   "id": "e18de26e",
   "metadata": {},
   "outputs": [
    {
     "data": {
      "text/html": [
       "<p><strong><pre style='display: inline;'>q1_1_3</pre></strong> passed! 🚀</p>"
      ],
      "text/plain": [
       "q1_1_3 results: All test cases passed!"
      ]
     },
     "metadata": {},
     "output_type": "display_data"
    },
    {
     "data": {
      "text/html": [
       "<p><strong><pre style='display: inline;'>q1_1_4</pre></strong> passed! 🙌</p>"
      ],
      "text/plain": [
       "q1_1_4 results: All test cases passed!"
      ]
     },
     "metadata": {},
     "output_type": "display_data"
    },
    {
     "data": {
      "text/html": [
       "<p><strong><pre style='display: inline;'>q1_1_5</pre></strong> passed! 🍀</p>"
      ],
      "text/plain": [
       "q1_1_5 results: All test cases passed!"
      ]
     },
     "metadata": {},
     "output_type": "display_data"
    },
    {
     "data": {
      "text/html": [
       "<p><strong><pre style='display: inline;'>q1_2_1</pre></strong> passed! 🚀</p>"
      ],
      "text/plain": [
       "q1_2_1 results: All test cases passed!"
      ]
     },
     "metadata": {},
     "output_type": "display_data"
    },
    {
     "data": {
      "text/html": [
       "<p><strong><pre style='display: inline;'>q1_2_2</pre></strong> passed! ✨</p>"
      ],
      "text/plain": [
       "q1_2_2 results: All test cases passed!"
      ]
     },
     "metadata": {},
     "output_type": "display_data"
    },
    {
     "data": {
      "text/html": [
       "<p><strong><pre style='display: inline;'>q1_2_5</pre></strong> passed! 🎉</p>"
      ],
      "text/plain": [
       "q1_2_5 results: All test cases passed!"
      ]
     },
     "metadata": {},
     "output_type": "display_data"
    },
    {
     "data": {
      "text/html": [
       "<p><strong><pre style='display: inline;'>q1_2_6</pre></strong> passed! ✨</p>"
      ],
      "text/plain": [
       "q1_2_6 results: All test cases passed!"
      ]
     },
     "metadata": {},
     "output_type": "display_data"
    },
    {
     "data": {
      "text/html": [
       "<p><strong><pre style='display: inline;'>q1_2_8</pre></strong> passed! 🙌</p>"
      ],
      "text/plain": [
       "q1_2_8 results: All test cases passed!"
      ]
     },
     "metadata": {},
     "output_type": "display_data"
    }
   ],
   "source": [
    "checkpoint_tests = [\"q1_1_3\", \"q1_1_4\", \"q1_1_5\", \n",
    "                    \"q1_2_1\", \"q1_2_2\", \"q1_2_5\", \"q1_2_6\", \"q1_2_8\"]\n",
    "\n",
    "for test in checkpoint_tests:\n",
    "    display(grader.check(test))"
   ]
  },
  {
   "cell_type": "markdown",
   "id": "53be1226",
   "metadata": {},
   "source": [
    "## Submission\n",
    "\n",
    "Make sure you have run all cells in your notebook in order before running the cell below, so that all images/graphs appear in the output. The cell below will generate a zip file for you to submit. **Please save before exporting!**\n",
    "\n",
    "**Reminders**:\n",
    "\n",
    "- If you worked on Project 2 with a partner, please remember to add your partner to your Gradescope submission. If you resubmit, make sure to re-add your partner, as Gradescope does not save any partner information.\n",
    "- Make sure to wait until the autograder finishes running to ensure that your submission was processed properly and that you submitted to the correct assignment."
   ]
  },
  {
   "cell_type": "code",
   "execution_count": 276,
   "id": "17947ea5",
   "metadata": {},
   "outputs": [
    {
     "data": {
      "text/html": [
       "\n",
       "            <p>Your submission has been exported. Click <a href=\"project2_2023_11_09T21_28_13_014851.zip\" download=\"project2_2023_11_09T21_28_13_014851.zip\" target=\"_blank\">here</a>\n",
       "            to download the zip file.</p>\n",
       "            "
      ],
      "text/plain": [
       "<IPython.core.display.HTML object>"
      ]
     },
     "metadata": {},
     "output_type": "display_data"
    }
   ],
   "source": [
    "# Save your notebook first, then run this cell to export your submission.\n",
    "grader.export(pdf=False)"
   ]
  },
  {
   "cell_type": "code",
   "execution_count": 277,
   "id": "713827c1",
   "metadata": {},
   "outputs": [],
   "source": [
    "\n",
    "# Run this cell to set up the notebook, but please don't change it.\n",
    "from datascience import *\n",
    "import numpy as np\n",
    "\n",
    "%matplotlib inline\n",
    "import matplotlib.pyplot as plt\n",
    "plt.style.use('fivethirtyeight')\n",
    "np.set_printoptions(legacy='1.13')\n",
    " \n",
    "import warnings\n",
    "warnings.simplefilter('ignore')"
   ]
  },
  {
   "cell_type": "markdown",
   "id": "85fae84f",
   "metadata": {
    "tags": []
   },
   "source": [
    "\n",
    "# Part 2: Drought"
   ]
  },
  {
   "cell_type": "markdown",
   "id": "fef79629",
   "metadata": {},
   "source": [
    "\n",
    "According to the [United States Environmental Protection Agency](https://www.epa.gov/climate-indicators/southwest), \"Large portions of the Southwest have experienced drought conditions since weekly Drought Monitor records began in 2000. For extended periods from 2002 to 2005 and from 2012 to 2020, nearly the entire region was abnormally dry or even drier.\" \n",
    "\n",
    "Assessing the impact of drought is challenging with just city-level data because so much of the water that people use is transported from elsewhere, but we'll explore the data we have and see what we can learn.\n",
    "\n",
    "Let's first take a look at the precipitation data in the Southwest region. The `southwest.csv` file contains total annual precipitation for 13 cities in the southwestern United States for each year from 1960 to 2021. This dataset is aggregated from the daily data and includes only the Southwest cities from the original dataset that have consistent precipitation records back to 1960."
   ]
  },
  {
   "cell_type": "code",
   "execution_count": 278,
   "id": "f5e49c5b",
   "metadata": {},
   "outputs": [
    {
     "data": {
      "text/html": [
       "<table border=\"1\" class=\"dataframe\">\n",
       "    <thead>\n",
       "        <tr>\n",
       "            <th>City</th> <th>Year</th> <th>Total Precipitation</th>\n",
       "        </tr>\n",
       "    </thead>\n",
       "    <tbody>\n",
       "        <tr>\n",
       "            <td>Albuquerque</td> <td>1960</td> <td>8.12               </td>\n",
       "        </tr>\n",
       "        <tr>\n",
       "            <td>Albuquerque</td> <td>1961</td> <td>8.87               </td>\n",
       "        </tr>\n",
       "        <tr>\n",
       "            <td>Albuquerque</td> <td>1962</td> <td>5.39               </td>\n",
       "        </tr>\n",
       "        <tr>\n",
       "            <td>Albuquerque</td> <td>1963</td> <td>7.47               </td>\n",
       "        </tr>\n",
       "        <tr>\n",
       "            <td>Albuquerque</td> <td>1964</td> <td>7.44               </td>\n",
       "        </tr>\n",
       "    </tbody>\n",
       "</table>\n",
       "<p>... (788 rows omitted)</p>"
      ],
      "text/plain": [
       "<IPython.core.display.HTML object>"
      ]
     },
     "metadata": {},
     "output_type": "display_data"
    }
   ],
   "source": [
    "southwest = Table.read_table('southwest.csv')\n",
    "southwest.show(5)"
   ]
  },
  {
   "cell_type": "markdown",
   "id": "509a32df",
   "metadata": {},
   "source": [
    "**Question 2.1.** Create a table `totals` that has one row for each year in chronological order. It should contain the following columns:\n",
    "1. `\"Year\"`: The year (a number)\n",
    "2. `\"Precipitation\"`: The total precipitation in all 13 southwestern cities that year\n"
   ]
  },
  {
   "cell_type": "code",
   "execution_count": 279,
   "id": "56792cb8",
   "metadata": {
    "tags": []
   },
   "outputs": [
    {
     "data": {
      "text/html": [
       "<table border=\"1\" class=\"dataframe\">\n",
       "    <thead>\n",
       "        <tr>\n",
       "            <th>Year</th> <th>Precipitation</th>\n",
       "        </tr>\n",
       "    </thead>\n",
       "    <tbody>\n",
       "        <tr>\n",
       "            <td>1960</td> <td>149.58       </td>\n",
       "        </tr>\n",
       "        <tr>\n",
       "            <td>1961</td> <td>134.82       </td>\n",
       "        </tr>\n",
       "        <tr>\n",
       "            <td>1962</td> <td>130.41       </td>\n",
       "        </tr>\n",
       "        <tr>\n",
       "            <td>1963</td> <td>132.18       </td>\n",
       "        </tr>\n",
       "        <tr>\n",
       "            <td>1964</td> <td>123.41       </td>\n",
       "        </tr>\n",
       "        <tr>\n",
       "            <td>1965</td> <td>187.53       </td>\n",
       "        </tr>\n",
       "        <tr>\n",
       "            <td>1966</td> <td>120.27       </td>\n",
       "        </tr>\n",
       "        <tr>\n",
       "            <td>1967</td> <td>179.02       </td>\n",
       "        </tr>\n",
       "        <tr>\n",
       "            <td>1968</td> <td>136.25       </td>\n",
       "        </tr>\n",
       "        <tr>\n",
       "            <td>1969</td> <td>191.72       </td>\n",
       "        </tr>\n",
       "    </tbody>\n",
       "</table>\n",
       "<p>... (51 rows omitted)</p>"
      ],
      "text/plain": [
       "Year | Precipitation\n",
       "1960 | 149.58\n",
       "1961 | 134.82\n",
       "1962 | 130.41\n",
       "1963 | 132.18\n",
       "1964 | 123.41\n",
       "1965 | 187.53\n",
       "1966 | 120.27\n",
       "1967 | 179.02\n",
       "1968 | 136.25\n",
       "1969 | 191.72\n",
       "... (51 rows omitted)"
      ]
     },
     "execution_count": 279,
     "metadata": {},
     "output_type": "execute_result"
    }
   ],
   "source": [
    "totals = southwest.group('Year', sum).relabeled('Total Precipitation sum', 'Precipitation').drop(1)\n",
    "totals"
   ]
  },
  {
   "cell_type": "code",
   "execution_count": 280,
   "id": "7f0c0929",
   "metadata": {
    "deletable": false,
    "editable": false
   },
   "outputs": [
    {
     "data": {
      "text/html": [
       "<p><strong><pre style='display: inline;'>q2_1</pre></strong> passed! ✨</p>"
      ],
      "text/plain": [
       "q2_1 results: All test cases passed!"
      ]
     },
     "execution_count": 280,
     "metadata": {},
     "output_type": "execute_result"
    }
   ],
   "source": [
    "grader.check(\"q2_1\")"
   ]
  },
  {
   "cell_type": "markdown",
   "id": "02baeadc",
   "metadata": {},
   "source": [
    "Run the cell below to plot the total precipitation in these cities over time, so that we can try to spot the drought visually. As a reminder, the drought years given by the EPA were  (2002-2005) and (2012-2020)."
   ]
  },
  {
   "cell_type": "code",
   "execution_count": 281,
   "id": "d289d368",
   "metadata": {},
   "outputs": [
    {
     "data": {
      "image/png": "[encoded data removed]",
      "text/plain": [
       "<Figure size 600x600 with 1 Axes>"
      ]
     },
     "metadata": {},
     "output_type": "display_data"
    }
   ],
   "source": [
    "# Just run this cell\n",
    "totals.plot(\"Year\", \"Precipitation\")"
   ]
  },
  {
   "cell_type": "markdown",
   "id": "4c9fa3e1",
   "metadata": {},
   "source": [
    "This plot isn't very revealing. Each year has a different amount of precipitation, and there is quite a bit of variability across years, as if each year's precipitation is a random draw from a distribution of possible outcomes. \n",
    "\n",
    "Could it be that these so-called \"drought conditions\" from 2002-2005 and 2012-2020 can be explained by chance? In other words, could it be that the annual precipitation amounts in the Southwest for these drought years are like **random draws from the same underlying distribution** as for other years? Perhaps nothing about the Earth's precipitation patterns has really changed, and the Southwest U.S. just happened to experience a few dry years close together. \n",
    "\n",
    "To assess this idea, let's conduct an A/B test in which **each year's total precipitation** is an outcome, and the condition is **whether or not the year is in the EPA's drought period**."
   ]
  },
  {
   "cell_type": "markdown",
   "id": "e0305a15",
   "metadata": {},
   "source": [
    "This `drought_label` function distinguishes between drought years as described in the U.S. EPA statement above (2002-2005 and 2012-2020) and other years. Note that the label \"other\" is perhaps misleading, since there were other droughts before 2000, such as the massive [1988 drought](https://en.wikipedia.org/wiki/1988%E2%80%9390_North_American_drought) that affected much of the U.S. However, if we're interested in whether these modern drought periods (2002-2005 and 2012-2020) are *normal* or *abnormal*, it makes sense to distinguish the years in this way. "
   ]
  },
  {
   "cell_type": "code",
   "execution_count": 282,
   "id": "e22921d7",
   "metadata": {},
   "outputs": [],
   "source": [
    "def drought_label(n):\n",
    "    \"\"\"Return the label for an input year n.\"\"\"\n",
    "    if 2002 <= n <= 2005 or 2012 <= n <= 2020:\n",
    "        return 'drought'\n",
    "    else:\n",
    "        return 'other'"
   ]
  },
  {
   "cell_type": "markdown",
   "id": "7242e269",
   "metadata": {},
   "source": [
    "<!-- BEGIN QUESTION -->\n",
    "\n",
    "**Question 2.2.** Define null and alternative hypotheses for an A/B test that investigates whether drought years are **drier** (have less precipitation) than other years.\n",
    "\n",
    "*Note:* Please format your answer using the following structure.\n",
    "\n",
    "- *Null hypothesis:* ...\n",
    "- *Alternative hypothesis:* ...\n"
   ]
  },
  {
   "cell_type": "markdown",
   "id": "8c8e1c06",
   "metadata": {},
   "source": [
    "- Null Hypothesis: Using the concept from A/B testing, in terms of our project, our cities data, on the distribution of average precipitation is the same for all years (drought years and other years), which is our null hypothesis. \n",
    "- Alternative Hypothesis: Our cities' data on the distribution of average precipitation is that the drought years (2002-2005 and 2012-2020) specified by EPA have lower precipitation compared to other years."
   ]
  },
  {
   "cell_type": "markdown",
   "id": "c2e76967",
   "metadata": {},
   "source": [
    "<!-- END QUESTION -->\n",
    "\n",
    "<!-- BEGIN QUESTION -->\n",
    "\n",
    "**Question 2.3.** First, define the table `drought`. It should contain one row per year and the following two columns:\n",
    "- `\"Label\"`: Denotes if a year is part of a `\"drought\"` year or an `\"other\"` year\n",
    "- `\"Precipitation\"`: The sum of the total precipitation in 13 Southwest cities that year\n",
    "\n",
    "Then, construct an overlaid histogram of two observed distributions: the total precipitation in drought years and the total precipitation in other years. \n",
    "\n",
    "*Note*: Use the provided `bins` when creating your histogram, and do not re-assign the `southwest` table. Feel free to use as many lines as you need!\n",
    "\n",
    "*Hint*: The optional `group` argument in a certain function might be helpful!\n"
   ]
  },
  {
   "cell_type": "code",
   "execution_count": 283,
   "id": "1e52c0d4",
   "metadata": {
    "tags": []
   },
   "outputs": [
    {
     "data": {
      "image/png": "[encoded data removed]",
      "text/plain": [
       "<Figure size 600x400 with 1 Axes>"
      ]
     },
     "metadata": {},
     "output_type": "display_data"
    }
   ],
   "source": [
    "bins = np.arange(85, 215+1, 13)\n",
    "drought_array = totals.apply(drought_label, \"Year\")\n",
    "drought = Table().with_columns(\"Label\",drought_array, \"Precipitation\", totals.column(\"Precipitation\"))\n",
    "drought.hist(\"Precipitation\", bins=bins, group = \"Label\")"
   ]
  },
  {
   "cell_type": "markdown",
   "id": "f5b4e7ef",
   "metadata": {},
   "source": [
    "<!-- END QUESTION -->\n",
    "\n",
    "Before you continue, inspect the histogram you just created and try to guess the conclusion of the A/B test. Building intuition about the result of hypothesis testing from visualizations is quite useful for data science applications. "
   ]
  },
  {
   "cell_type": "markdown",
   "id": "8961f08c",
   "metadata": {},
   "source": [
    "**Question 2.4.** Our next step is to choose a test statistic based on our alternative hypothesis in Question 2.2. Which of the following options are valid choices for the test statistic? Assign `ab_test_stat` to **an array of integers** corresponding to valid choices. Assume averages and totals are taken over the total precipitation sums for each year.\n",
    "\n",
    "1. The difference between the **total** precipitation in **drought** years and the **total** precipitation in **other** years.\n",
    "2. The difference between the **total** precipitation in **others** years and the **total** precipitation in **drought** years.\n",
    "3. The **absolute** difference between the **total** precipitation in others years and the **total** precipitation in drought years.\n",
    "1. The difference between the **average** precipitation in **drought** years and the **average** precipitation in **other** years.\n",
    "2. The difference between the **average** precipitation in **others** years and the **average** precipitation in **drought** years.\n",
    "3. The **absolute** difference between the **average** precipitation in others years and the **average** precipitation in drought years.\n"
   ]
  },
  {
   "cell_type": "code",
   "execution_count": 284,
   "id": "6cc9c1dc",
   "metadata": {
    "tags": []
   },
   "outputs": [],
   "source": [
    "ab_test_stat = make_array(1, 2, 4, 6)"
   ]
  },
  {
   "cell_type": "code",
   "execution_count": 196,
   "id": "de2d31c0",
   "metadata": {
    "deletable": false,
    "editable": false
   },
   "outputs": [
    {
     "data": {
      "text/html": [
       "<p><strong><pre style='display: inline;'>q2_4</pre></strong> passed! 🙌</p>"
      ],
      "text/plain": [
       "q2_4 results: All test cases passed!"
      ]
     },
     "execution_count": 196,
     "metadata": {},
     "output_type": "execute_result"
    }
   ],
   "source": [
    "grader.check(\"q2_4\")"
   ]
  },
  {
   "cell_type": "markdown",
   "id": "e02a4cf3",
   "metadata": {},
   "source": [
    "<!-- BEGIN QUESTION -->\n",
    "\n",
    "**Question 2.5.** Fellow climate scientists Noah and Sarah point out that there are more **other** years than **drought** years, and so measuring the difference between total precipitation will always favor the **other** years. They conclude that all of the options above involving **total** precipitation are invalid test statistic choices. Do you agree with them? Why or why not?\n",
    "\n",
    "> *Hint:* Think about how permutation tests work with imbalanced classes!"
   ]
  },
  {
   "cell_type": "markdown",
   "id": "ab54a99f",
   "metadata": {},
   "source": [
    "By Noah and Sarah believing the observed data of the histogram of the years between non-drought and drought years are similar as in believing in the alternative hypothesis. We do not agree how measuring the difference between the total precipitation will always favor the other years (non-drought years) because we first need to determine a test of hypotheses. When we do a test between two numerical values a method known as A/B testing, which is defined in our textbook as deciding whether two numerical values come from the distribution. Before running our test, we must conclude how our label proportions in other years and drought years do not favor other years before measuring our permutation test, and the distributions in our sample are different due to chance. With A/B testing, we can do a permutation test, a test sampling in random by shuffling our labels, therefore it does not impact the permutation test if the proportions of the labels are different because we are going to resample/reshuffle our labels when performing our test. Once we reshuffle our labels we can derive a function to make on the process of our observed statistic and take the mean and we can repeat this process in a for loop to generate multiple samples, which we can visualize into a histogram. Noah and Sarah can not just assume the bias of our test favoring our other label because we need to perform a permutation test first to analyze multiple reshuffled observed differences."
   ]
  },
  {
   "cell_type": "markdown",
   "id": "20e26fcc",
   "metadata": {},
   "source": [
    "<!-- END QUESTION -->\n",
    "\n",
    "Before going on, check your `drought` table. It should have two columns `Label` and `Precipitation` with 61 rows, 13 of which are for `\"drought\"` years."
   ]
  },
  {
   "cell_type": "code",
   "execution_count": 197,
   "id": "bd3fd096",
   "metadata": {},
   "outputs": [
    {
     "data": {
      "text/html": [
       "<table border=\"1\" class=\"dataframe\">\n",
       "    <thead>\n",
       "        <tr>\n",
       "            <th>Label</th> <th>Precipitation</th>\n",
       "        </tr>\n",
       "    </thead>\n",
       "    <tbody>\n",
       "        <tr>\n",
       "            <td>other</td> <td>149.58       </td>\n",
       "        </tr>\n",
       "        <tr>\n",
       "            <td>other</td> <td>134.82       </td>\n",
       "        </tr>\n",
       "        <tr>\n",
       "            <td>other</td> <td>130.41       </td>\n",
       "        </tr>\n",
       "    </tbody>\n",
       "</table>\n",
       "<p>... (58 rows omitted)</p>"
      ],
      "text/plain": [
       "<IPython.core.display.HTML object>"
      ]
     },
     "metadata": {},
     "output_type": "display_data"
    }
   ],
   "source": [
    "drought.show(3)"
   ]
  },
  {
   "cell_type": "code",
   "execution_count": 198,
   "id": "f8c541ab",
   "metadata": {},
   "outputs": [
    {
     "data": {
      "text/html": [
       "<table border=\"1\" class=\"dataframe\">\n",
       "    <thead>\n",
       "        <tr>\n",
       "            <th>Label</th> <th>count</th>\n",
       "        </tr>\n",
       "    </thead>\n",
       "    <tbody>\n",
       "        <tr>\n",
       "            <td>drought</td> <td>13   </td>\n",
       "        </tr>\n",
       "        <tr>\n",
       "            <td>other  </td> <td>48   </td>\n",
       "        </tr>\n",
       "    </tbody>\n",
       "</table>"
      ],
      "text/plain": [
       "Label   | count\n",
       "drought | 13\n",
       "other   | 48"
      ]
     },
     "execution_count": 198,
     "metadata": {},
     "output_type": "execute_result"
    }
   ],
   "source": [
    "drought.group('Label')"
   ]
  },
  {
   "cell_type": "markdown",
   "id": "1f45c2ca",
   "metadata": {},
   "source": [
    "**Question 2.6.** For our A/B test, we'll use the difference between the average precipitation in drought years and the average precipitation in other years as our test statistic:\n",
    "\n",
    "$$\\text{average precipitation in \"drought\" years} - \\text{average precipitation in \"other\" years}$$\n",
    "\n",
    "First, complete the function `test_statistic`. It should take in a two-column table `t` with one row per year and two columns:\n",
    "- `Label`: the label for that year (either `'drought'` or `'other'`)\n",
    "- `Precipitation`: the total precipitation in the 13 Southwest cities that year. \n",
    "\n",
    "Then, use the function you define to assign `observed_statistic` to the observed test statistic.\n"
   ]
  },
  {
   "cell_type": "code",
   "execution_count": 199,
   "id": "0dad1486",
   "metadata": {
    "tags": []
   },
   "outputs": [
    {
     "data": {
      "text/plain": [
       "-15.856714743589748"
      ]
     },
     "execution_count": 199,
     "metadata": {},
     "output_type": "execute_result"
    }
   ],
   "source": [
    "def test_statistic(t):\n",
    "    drought_mean = t.where('Label', 'drought').group('Label', np.mean).column(1)\n",
    "    other_mean = t.where('Label', 'other').group('Label', np.mean).column(1)\n",
    "    return drought_mean.item(0) - other_mean.item(0)\n",
    "\n",
    "observed_statistic = test_statistic(drought)\n",
    "observed_statistic"
   ]
  },
  {
   "cell_type": "code",
   "execution_count": 200,
   "id": "488997d2",
   "metadata": {
    "deletable": false,
    "editable": false
   },
   "outputs": [
    {
     "data": {
      "text/html": [
       "<p><strong><pre style='display: inline;'>q2_6</pre></strong> passed! 🎉</p>"
      ],
      "text/plain": [
       "q2_6 results: All test cases passed!"
      ]
     },
     "execution_count": 200,
     "metadata": {},
     "output_type": "execute_result"
    }
   ],
   "source": [
    "grader.check(\"q2_6\")"
   ]
  },
  {
   "cell_type": "markdown",
   "id": "2060acff",
   "metadata": {},
   "source": [
    "Now that we have defined our hypotheses and test statistic, we are ready to conduct our hypothesis test. We’ll start by defining a function to simulate the test statistic under the null hypothesis, and then call that function 5,000 times to construct an empirical distribution under the null hypothesis."
   ]
  },
  {
   "cell_type": "markdown",
   "id": "ac3eb04a",
   "metadata": {},
   "source": [
    "**Question 2.7.** Write a function to simulate the test statistic under the null hypothesis. The `simulate_precipitation_null` function should simulate the null hypothesis once (not 5,000 times) and return the value of the test statistic for that simulated sample.\n",
    "\n",
    "*Hint*: Using `t.with_column(...)` with a column name that already exists in a table `t` will replace that column with the newly specified values.\n"
   ]
  },
  {
   "cell_type": "code",
   "execution_count": 203,
   "id": "f4c251f9",
   "metadata": {
    "tags": []
   },
   "outputs": [
    {
     "data": {
      "text/plain": [
       "-5.498445512820496"
      ]
     },
     "execution_count": 203,
     "metadata": {},
     "output_type": "execute_result"
    }
   ],
   "source": [
    "def simulate_precipitation_null():\n",
    "    shuffle_label = drought.sample(with_replacement = False).column(0)\n",
    "    drought_shuffle = drought.with_column('Shuffled Label', shuffle_label)\n",
    "    p_s_only = drought_shuffle.select('Precipitation', 'Shuffled Label')\n",
    "    p_s_mean = p_s_only.group('Shuffled Label', np.mean).column(1)\n",
    "    return p_s_mean.item(0)- p_s_mean.item(1)\n",
    "\n",
    "# Run your function a couple timesto make sure that it works \n",
    "simulate_precipitation_null()"
   ]
  },
  {
   "cell_type": "code",
   "execution_count": 204,
   "id": "10e6eb76",
   "metadata": {
    "deletable": false,
    "editable": false
   },
   "outputs": [
    {
     "data": {
      "text/html": [
       "<p><strong><pre style='display: inline;'>q2_7</pre></strong> passed! 🌟</p>"
      ],
      "text/plain": [
       "q2_7 results: All test cases passed!"
      ]
     },
     "execution_count": 204,
     "metadata": {},
     "output_type": "execute_result"
    }
   ],
   "source": [
    "grader.check(\"q2_7\")"
   ]
  },
  {
   "cell_type": "markdown",
   "id": "2d9de92f",
   "metadata": {},
   "source": [
    "**Question 2.8.** Fill in the blanks below to complete the simulation for the hypothesis test. Your simulation should compute 5,000 values of the test statistic under the null hypothesis and store the result in the array `sampled_stats`.\n",
    "\n",
    "*Hint:* You should use the `simulate_precipitation_null` function you wrote in the previous question!\n",
    "\n",
    "*Note:* Running this cell may take a few seconds. If it takes more than a minute, try to find a different (faster) way to implement your `simulate_precipitation_null` function.\n"
   ]
  },
  {
   "cell_type": "code",
   "execution_count": 205,
   "id": "b4a97410",
   "metadata": {
    "tags": []
   },
   "outputs": [
    {
     "data": {
      "image/png": "[encoded data removed]",
      "text/plain": [
       "<Figure size 600x400 with 1 Axes>"
      ]
     },
     "metadata": {},
     "output_type": "display_data"
    }
   ],
   "source": [
    "sampled_stats = make_array()\n",
    "\n",
    "repetitions = 5000\n",
    "for i in np.arange(repetitions):\n",
    "    test_null = simulate_precipitation_null()\n",
    "    sampled_stats = np.append(sampled_stats, test_null)\n",
    "\n",
    "# Do not change these lines\n",
    "Table().with_column('Difference Between Means', sampled_stats).hist()\n",
    "plt.scatter(observed_statistic, 0, c=\"r\", s=50);\n",
    "plt.ylim(-0.01);"
   ]
  },
  {
   "cell_type": "code",
   "execution_count": 206,
   "id": "5cabd75e",
   "metadata": {
    "deletable": false,
    "editable": false
   },
   "outputs": [
    {
     "data": {
      "text/html": [
       "<p><strong><pre style='display: inline;'>q2_8</pre></strong> passed! ✨</p>"
      ],
      "text/plain": [
       "q2_8 results: All test cases passed!"
      ]
     },
     "execution_count": 206,
     "metadata": {},
     "output_type": "execute_result"
    }
   ],
   "source": [
    "grader.check(\"q2_8\")"
   ]
  },
  {
   "cell_type": "markdown",
   "id": "8a8bc174",
   "metadata": {},
   "source": [
    "**Question 2.9.** Compute the p-value for this hypothesis test, and assign it to the variable `precipitation_p_val`.\n"
   ]
  },
  {
   "cell_type": "code",
   "execution_count": 207,
   "id": "eb5ce61e",
   "metadata": {
    "tags": []
   },
   "outputs": [
    {
     "data": {
      "text/plain": [
       "0.025"
      ]
     },
     "execution_count": 207,
     "metadata": {},
     "output_type": "execute_result"
    }
   ],
   "source": [
    "precipitation_p_val = np.count_nonzero(sampled_stats <= observed_statistic)/ repetitions\n",
    "precipitation_p_val"
   ]
  },
  {
   "cell_type": "code",
   "execution_count": 208,
   "id": "0d3bcd05",
   "metadata": {
    "deletable": false,
    "editable": false
   },
   "outputs": [
    {
     "data": {
      "text/html": [
       "<p><strong><pre style='display: inline;'>q2_9</pre></strong> passed! 🎉</p>"
      ],
      "text/plain": [
       "q2_9 results: All test cases passed!"
      ]
     },
     "execution_count": 208,
     "metadata": {},
     "output_type": "execute_result"
    }
   ],
   "source": [
    "grader.check(\"q2_9\")"
   ]
  },
  {
   "cell_type": "markdown",
   "id": "d19e4b28",
   "metadata": {},
   "source": [
    "<!-- BEGIN QUESTION -->\n",
    "\n",
    "**Question 2.10.** State a conclusion from this test using a p-value cutoff of 5%. What have you learned about the EPA's statement on drought?\n"
   ]
  },
  {
   "cell_type": "markdown",
   "id": "a84f0e58",
   "metadata": {},
   "source": [
    "When we calculated the p-value for the hypothesis test, we computed that the p-value was less than 3%. Since the p-value is less than 5%, we favor the alternative hypothesis and reject the null hypothesis. We reject the null hypothesis claiming that average precipitation distribution is the same for drought years and other years. This means that our alternative statement is favored. Regarding EPA's statement on drought, we learned that the drought years (2022-2005 and 2012-2020) specified by EPA have lower average precipitation compared to other years. Overall, the alternative hypothesis is consistent with the EPA's statement on drought."
   ]
  },
  {
   "cell_type": "markdown",
   "id": "3ed10ef3",
   "metadata": {},
   "source": [
    "<!-- END QUESTION -->\n",
    "\n",
    "<!-- BEGIN QUESTION -->\n",
    "\n",
    "**Question 2.11.** Does your conclusion from Question 2.10 apply to the entire Southwest region of the U.S.? Why or why not?\n",
    "\n",
    "> *Note:* Feel free to do some research into geographical features of this region of the U.S.!"
   ]
  },
  {
   "cell_type": "markdown",
   "id": "c147f14b",
   "metadata": {},
   "source": [
    "The conclusion from Question 2.10 applies to the entire Southwest region of the U.S. because the data that we collected represents the average precipitation data in the Southwest region. The EPA stated that regarding the Southwest region, \"nearly the entire region was abnormally dry or even drier.\" Since we used bootstrap sampling for the Southwest data, we simulated repeated random sampling from a large and random sample. When we inputted the bootstrap data into a function and created a histogram with the average precipitation roughly centered around the 0 (mean) value. Since the precipitation is relatively consistent across the region, we can assume that this observed difference in precipitation is applicable to larger portions such as the entire Southwest region of the U.S."
   ]
  },
  {
   "cell_type": "markdown",
   "id": "0a676eff",
   "metadata": {},
   "source": [
    "<!-- END QUESTION -->\n",
    "\n",
    "# Conclusion"
   ]
  },
  {
   "cell_type": "markdown",
   "id": "0ed07404",
   "metadata": {},
   "source": [
    "Data science plays a central role in climate change research because massive simulations of the Earth's climate are necessary to assess the implications of climate data recorded from weather stations, satellites, and other sensors. [Berkeley Earth](http://berkeleyearth.org/data/) is a common source of data for these kinds of projects.\n",
    "\n",
    "In this project, we found ways to apply our statistical inference technqiues that rely on random sampling even in situations where the data were not generated randomly, but instead by some complicated natural process that appeared random. We made assumptions about randomness and then came to conclusions based on those assumptions. Great care must be taken to choose assumptions that are realistic, so that the resulting conclusions are not misleading. However, making assumptions about data can be productive when doing so allows inference techniques to apply to novel situations."
   ]
  },
  {
   "cell_type": "markdown",
   "id": "d5e19037",
   "metadata": {},
   "source": [
    "<img src=\"sylvester.jpeg\" alt=\"Picture of a tuxedo cat lounging in bed\" width=\"350\"/>\n",
    "\n",
    "**Congratulations -- Sylvester is proud of you for finishing Project 2!**\n"
   ]
  },
  {
   "cell_type": "markdown",
   "id": "3c9d4c02",
   "metadata": {},
   "source": [
    "\n",
    "***Important Reminders:***\n",
    "\n",
    "- If you worked on Project 2 with a partner, please remember to add your partner to your Gradescope submission. If you resubmit, make sure to re-add your partner, as Gradescope does not save any partner information.\n",
    "- Make sure to wait until the autograder finishes running to ensure that your submission was processed properly and that you submitted to the correct assignment."
   ]
  },
  {
   "cell_type": "markdown",
   "id": "f3432dba",
   "metadata": {
    "deletable": false,
    "editable": false
   },
   "source": [
    "## Submission\n",
    "\n",
    "Make sure you have run all cells in your notebook in order before running the cell below, so that all images/graphs appear in the output. The cell below will generate a zip file for you to submit. **Please save before exporting!**"
   ]
  },
  {
   "cell_type": "code",
   "execution_count": null,
   "id": "f042e8b5",
   "metadata": {
    "deletable": false,
    "editable": false
   },
   "outputs": [],
   "source": [
    "# Save your notebook first, then run this cell to export your submission.\n",
    "grader.export(pdf=False, run_tests=True)"
   ]
  },
  {
   "cell_type": "markdown",
   "id": "810acdf1",
   "metadata": {},
   "source": [
    " "
   ]
  }
 ],
 "metadata": {
  "kernelspec": {
   "display_name": "Python 3 (ipykernel)",
   "language": "python",
   "name": "python3"
  },
  "language_info": {
   "codemirror_mode": {
    "name": "ipython",
    "version": 3
   },
   "file_extension": ".py",
   "mimetype": "text/x-python",
   "name": "python",
   "nbconvert_exporter": "python",
   "pygments_lexer": "ipython3",
   "version": "3.9.15"
  },
  "otter": {
   "OK_FORMAT": true,
   "tests": {
    "q1_1_3": {
     "name": "q1_1_3",
     "points": [
      0,
      0
     ],
     "suites": [
      {
       "cases": [
        {
         "code": ">>> type(num_unique_cites) in set([int, np.int32, np.int64])\nTrue",
         "hidden": false,
         "locked": false
        },
        {
         "code": ">>> # Make sure that num_unique_cities is greater than zero!\n>>> num_unique_cites > 0\nTrue",
         "hidden": false,
         "locked": false
        }
       ],
       "scored": true,
       "setup": "",
       "teardown": "",
       "type": "doctest"
      }
     ]
    },
    "q1_1_4": {
     "name": "q1_1_4",
     "points": [
      1
     ],
     "suites": [
      {
       "cases": [
        {
         "code": ">>> # Make sure the function outputs a string!\n>>> type(coordinates_to_region(50, 100)) == str\nTrue",
         "hidden": false,
         "locked": false
        }
       ],
       "scored": true,
       "setup": "",
       "teardown": "",
       "type": "doctest"
      }
     ]
    },
    "q1_1_5": {
     "name": "q1_1_5",
     "points": [
      0,
      0,
      1
     ],
     "suites": [
      {
       "cases": [
        {
         "code": ">>> len(cities.labels) == 8\nTrue",
         "hidden": false,
         "locked": false
        },
        {
         "code": ">>> cities.labels[-1] == \"Region\"\nTrue",
         "hidden": false,
         "locked": false
        },
        {
         "code": ">>> cities.row(0).item('Region') == 'Northwest'\nTrue",
         "hidden": false,
         "locked": false
        }
       ],
       "scored": true,
       "setup": "",
       "teardown": "",
       "type": "doctest"
      }
     ]
    },
    "q1_2_1": {
     "name": "q1_2_1",
     "points": [
      0
     ],
     "suites": [
      {
       "cases": [
        {
         "code": ">>> type(largest_2010_range_date) == str\nTrue",
         "hidden": false,
         "locked": false
        }
       ],
       "scored": true,
       "setup": "",
       "teardown": "",
       "type": "doctest"
      }
     ]
    },
    "q1_2_2": {
     "name": "q1_2_2",
     "points": [
      0,
      0,
      1
     ],
     "suites": [
      {
       "cases": [
        {
         "code": ">>> phoenix.num_rows == 46021\nTrue",
         "hidden": false,
         "locked": false
        },
        {
         "code": ">>> len(phoenix.labels) == 6\nTrue",
         "hidden": false,
         "locked": false
        },
        {
         "code": ">>> phoenix.labels == ('Date', 'tmax', 'tmin', 'prcp', 'Year', 'Month')\nTrue",
         "hidden": false,
         "locked": false
        }
       ],
       "scored": true,
       "setup": "",
       "teardown": "",
       "type": "doctest"
      }
     ]
    },
    "q1_2_5": {
     "name": "q1_2_5",
     "points": [
      0,
      1,
      1
     ],
     "suites": [
      {
       "cases": [
        {
         "code": ">>> monthly_increases.num_rows == 12\nTrue",
         "hidden": false,
         "locked": false
        },
        {
         "code": ">>> monthly_increases.labels == ('Month', 'Past', 'Present', 'Increase')\nTrue",
         "hidden": false,
         "locked": false
        },
        {
         "code": ">>> # Make sure your table is sorted from January to December.\n>>> monthly_increases.row(2).item('Month') == '03 (Mar)'\nTrue",
         "hidden": false,
         "locked": false
        }
       ],
       "scored": true,
       "setup": "",
       "teardown": "",
       "type": "doctest"
      }
     ]
    },
    "q1_2_6": {
     "name": "q1_2_6",
     "points": [
      5
     ],
     "suites": [
      {
       "cases": [
        {
         "code": ">>> 66.6 <= feb_present_ci <= 67.3\nTrue",
         "hidden": false,
         "locked": false
        }
       ],
       "scored": true,
       "setup": "",
       "teardown": "",
       "type": "doctest"
      }
     ]
    },
    "q1_2_8": {
     "name": "q1_2_8",
     "points": [
      1
     ],
     "suites": [
      {
       "cases": [
        {
         "code": ">>> type(months) == np.ndarray\nTrue",
         "hidden": false,
         "locked": false
        }
       ],
       "scored": true,
       "setup": "",
       "teardown": "",
       "type": "doctest"
      }
     ]
    },
    "q2_1": {
     "name": "q2_1",
     "points": [
      0,
      1
     ],
     "suites": [
      {
       "cases": [
        {
         "code": ">>> totals.num_rows == 61\nTrue",
         "hidden": false,
         "locked": false
        },
        {
         "code": ">>> totals.labels == ('Year', 'Precipitation')\nTrue",
         "hidden": false,
         "locked": false
        }
       ],
       "scored": true,
       "setup": "",
       "teardown": "",
       "type": "doctest"
      }
     ]
    },
    "q2_4": {
     "name": "q2_4",
     "points": [
      0,
      0,
      2
     ],
     "suites": [
      {
       "cases": [
        {
         "code": ">>> type(ab_test_stat) == np.ndarray\nTrue",
         "hidden": false,
         "locked": false
        },
        {
         "code": ">>> all([1 <= option <= 6 for option in ab_test_stat])\nTrue",
         "hidden": false,
         "locked": false
        },
        {
         "code": ">>> all([type(option) in set([np.int64, np.int32, int]) for option in list(ab_test_stat)])\nTrue",
         "hidden": false,
         "locked": false
        }
       ],
       "scored": true,
       "setup": "",
       "teardown": "",
       "type": "doctest"
      }
     ]
    },
    "q2_6": {
     "name": "q2_6",
     "points": [
      1
     ],
     "suites": [
      {
       "cases": [
        {
         "code": ">>> observed_statistic < 0\nTrue",
         "hidden": false,
         "locked": false
        }
       ],
       "scored": true,
       "setup": "",
       "teardown": "",
       "type": "doctest"
      }
     ]
    },
    "q2_7": {
     "name": "q2_7",
     "points": [
      1
     ],
     "suites": [
      {
       "cases": [
        {
         "code": ">>> -50 < simulate_precipitation_null() < 50\nTrue",
         "hidden": false,
         "locked": false
        }
       ],
       "scored": true,
       "setup": "",
       "teardown": "",
       "type": "doctest"
      }
     ]
    },
    "q2_8": {
     "name": "q2_8",
     "points": [
      0,
      0
     ],
     "suites": [
      {
       "cases": [
        {
         "code": ">>> len(sampled_stats) == 5000\nTrue",
         "hidden": false,
         "locked": false
        },
        {
         "code": ">>> np.std(sampled_stats) > 0\nTrue",
         "hidden": false,
         "locked": false
        }
       ],
       "scored": true,
       "setup": "",
       "teardown": "",
       "type": "doctest"
      }
     ]
    },
    "q2_9": {
     "name": "q2_9",
     "points": [
      0,
      1
     ],
     "suites": [
      {
       "cases": [
        {
         "code": ">>> type(precipitation_p_val) in set([float, np.float32, np.float64])\nTrue",
         "hidden": false,
         "locked": false
        },
        {
         "code": ">>> 0 <= precipitation_p_val <= 1\nTrue",
         "hidden": false,
         "locked": false
        }
       ],
       "scored": true,
       "setup": "",
       "teardown": "",
       "type": "doctest"
      }
     ]
    }
   }
  }
 },
 "nbformat": 4,
 "nbformat_minor": 5
}
